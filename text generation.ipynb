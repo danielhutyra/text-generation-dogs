{
  "nbformat": 4,
  "nbformat_minor": 0,
  "metadata": {
    "colab": {
      "name": "Daniel_Hutyra_generowanie_tekstu.ipynb",
      "provenance": [],
      "collapsed_sections": [],
      "toc_visible": true
    },
    "kernelspec": {
      "display_name": "Python 3",
      "language": "python",
      "name": "python3"
    },
    "accelerator": "GPU"
  },
  "cells": [
    {
      "cell_type": "markdown",
      "metadata": {
        "id": "iVsYe7S5XM5G"
      },
      "source": [
        "![](https://i.imgur.com/eBRPvWB.png)\n",
        "\n",
        "##**Generowanie poezji za pomocą RNN i PyTorch sylabami**\n",
        "\n",
        "[W tutorialu na rozgrzewkę](https://github.com/spro/practical-pytorch/blob/master/char-rnn-classification/char-rnn-classification.ipynb) użyliśmy RNN, aby sklasyfikować nazwiska znak po znaku. Tym razem wygenerujemy tekst sylaba po sylabie.\n",
        "```\n",
        "Litwo! Ojczyzno moja! ty jesteś klucz wyziemu, \n",
        "To opugo cząciły tak lasu czeleta. \n",
        "Choć nie będzie mowę świeci się za tém, \n",
        "A Dozgon++ na Litwę przerzucił w okolicy, \n",
        "Dosyć się opicie przyciągnąć w pałacu; \n",
        "\n",
        "Tamdzini nawet mimo osobnych ogórki. \n",
        "Choć zwyciętunia, mimo pukle wyślą, \n",
        "Odemknął, wbiegł wyszedł, pewnie miłośnik łowił. \n",
        "Bo przekorza, i skrobiąc nabój do Warszawy. \n",
        "Dość co oddało plecie tak fawował, \n",
        "A tam się cukier wytaczać na nich wybująca. \n",
        "\n",
        "```\n",
        "\n",
        "Ok, możesz zadać sobie pytanie, czy ten tutorial jest rzeczywiście praktyczny? Czemu nie? Modele generatywne tego typu stanowią fundament tłumaczenia maszynowego, opisywania obrazów, generowania odpowiedzi na pytania i wielu innych zastowań.\n",
        "\n",
        "Zobacz [Sequence to Sequence Translation tutorial](https://github.com/spro/practical-pytorch/blob/master/seq2seq-translation/seq2seq-translation.ipynb) żeby nauczyć się więcej w tym temacie."
      ]
    },
    {
      "cell_type": "markdown",
      "metadata": {
        "id": "WamMk47AXM5I"
      },
      "source": [
        "## Polecana lektura\n",
        "\n",
        "Zakładam, że jest już zainstalowany PyTorch, znasz Python'a, oraz znasz pojęcie Tensor'ów:\n",
        "\n",
        "* http://pytorch.org/ - instalacja PyTorch\n",
        "* [Deep Learning with PyTorch: A 60-minute Blitz](http://pytorch.org/tutorials/beginner/deep_learning_60min_blitz.html) - Podstawy PyTorch\n",
        "* [jcjohnson's PyTorch examples](https://github.com/jcjohnson/pytorch-examples) przykłady wykorzystania PyTorch\n",
        "* [Introduction to PyTorch for former Torchies](https://github.com/pytorch/tutorials/blob/master/Introduction%20to%20PyTorch%20for%20former%20Torchies.ipynb) jeżeli znasz Lua Torch\n",
        "\n",
        "Trochę wiedzy o RNN:\n",
        "\n",
        "* [The Unreasonable Effectiveness of Recurrent Neural Networks](http://karpathy.github.io/2015/05/21/rnn-effectiveness/) przykłady z życia wzięte\n",
        "* [Understanding LSTM Networks](http://colah.github.io/posts/2015-08-Understanding-LSTMs/) RNN i LSTM w pigułce\n",
        "\n",
        "Zobacz także podobne tutoriale z serii:\n",
        "\n",
        "* [Classifying Names with a Character-Level RNN](https://github.com/spro/practical-pytorch/blob/master/char-rnn-classification/char-rnn-classification.ipynb) używa RNN do klasyfikacji\n",
        "* [Generating Names with a Conditional Character-Level RNN](https://github.com/spro/practical-pytorch/blob/master/conditional-char-rnn/conditional-char-rnn.ipynb) opierając się na tym modelu, dodaje kategorię jako dane wejściowe"
      ]
    },
    {
      "cell_type": "markdown",
      "metadata": {
        "id": "CH3K-upNE28D"
      },
      "source": [
        "# Ustawianie środowiska pod syllable-RNN"
      ]
    },
    {
      "cell_type": "markdown",
      "metadata": {
        "id": "71gU7PngExlh"
      },
      "source": [
        "## Instalacja PyTorch"
      ]
    },
    {
      "cell_type": "code",
      "metadata": {
        "id": "NTQYNZFKG_a5"
      },
      "source": [
        "# # http://pytorch.org/\n",
        "# from os import path\n",
        "# # from wheel.pep425tags import get_abbr_impl, get_impl_ver, get_abi_tag\n",
        "# platform = '{}{}-{}'.format(get_abbr_impl(), get_impl_ver(), get_abi_tag())\n",
        "\n",
        "# accelerator = 'cu80' if path.exists('/opt/bin/nvidia-smi') else 'cpu'\n",
        "\n",
        "# !pip install -q http://download.pytorch.org/whl/{accelerator}/torch-0.4.0-{platform}-linux_x86_64.whl torchvision"
      ],
      "execution_count": null,
      "outputs": []
    },
    {
      "cell_type": "markdown",
      "metadata": {
        "id": "cdLsetH6JBes"
      },
      "source": [
        "## Instalacja bibliotek"
      ]
    },
    {
      "cell_type": "code",
      "metadata": {
        "id": "BwgguLvnGG9m",
        "colab": {
          "base_uri": "https://localhost:8080/"
        },
        "outputId": "4062c112-f591-4d77-dbd8-9e9133886b98"
      },
      "source": [
        "!pip install -q scipy --upgrade"
      ],
      "execution_count": 1,
      "outputs": [
        {
          "output_type": "stream",
          "text": [
            "\u001b[K     |████████████████████████████████| 25.9MB 122kB/s \n",
            "\u001b[31mERROR: tensorflow 2.3.0 has requirement scipy==1.4.1, but you'll have scipy 1.5.4 which is incompatible.\u001b[0m\n",
            "\u001b[31mERROR: albumentations 0.1.12 has requirement imgaug<0.2.7,>=0.2.5, but you'll have imgaug 0.2.9 which is incompatible.\u001b[0m\n",
            "\u001b[?25h"
          ],
          "name": "stdout"
        }
      ]
    },
    {
      "cell_type": "code",
      "metadata": {
        "id": "HNwsxvdnJDw5",
        "colab": {
          "base_uri": "https://localhost:8080/"
        },
        "outputId": "e630565c-a2f8-454c-b8e4-a95a9d754ac5"
      },
      "source": [
        "!pip install -q unidecode tqdm dill pysmi visdom"
      ],
      "execution_count": 2,
      "outputs": [
        {
          "output_type": "stream",
          "text": [
            "\u001b[K     |████████████████████████████████| 245kB 8.5MB/s \n",
            "\u001b[K     |████████████████████████████████| 81kB 8.4MB/s \n",
            "\u001b[K     |████████████████████████████████| 686kB 14.5MB/s \n",
            "\u001b[K     |████████████████████████████████| 51kB 7.7MB/s \n",
            "\u001b[K     |████████████████████████████████| 204kB 23.6MB/s \n",
            "\u001b[?25h  Building wheel for visdom (setup.py) ... \u001b[?25l\u001b[?25hdone\n",
            "  Building wheel for torchfile (setup.py) ... \u001b[?25l\u001b[?25hdone\n"
          ],
          "name": "stdout"
        }
      ]
    },
    {
      "cell_type": "markdown",
      "metadata": {
        "id": "1Kk5FdvHFDeu"
      },
      "source": [
        "## Instalacja biblioteki PyDrive i wrappera"
      ]
    },
    {
      "cell_type": "code",
      "metadata": {
        "id": "AmbL-sxAFERR"
      },
      "source": [
        "# This only needs to be done once per notebook.\n",
        "!pip install -U -q PyDrive\n",
        "\n",
        "from pydrive.auth import GoogleAuth\n",
        "from pydrive.drive import GoogleDrive\n",
        "from google.colab import auth\n",
        "from oauth2client.client import GoogleCredentials\n",
        "\n",
        "# Authenticate and create the PyDrive client.\n",
        "# This only needs to be done once per notebook.\n",
        "auth.authenticate_user()\n",
        "gauth = GoogleAuth()\n",
        "gauth.credentials = GoogleCredentials.get_application_default()\n",
        "drive = GoogleDrive(gauth)\n",
        "\n",
        "from pathlib import Path\n",
        "import os\n",
        "\n",
        "def download_and_save(file_name, file_id):\n",
        "  downloaded = drive.CreateFile({'id': file_id})\n",
        "  # fetch file\n",
        "  downloaded.FetchContent()\n",
        "  # write file\n",
        "  with open(file_name,'wb') as f:\n",
        "       f.write(downloaded.content.read())\n",
        "      \n",
        "  print(f'Saved {file_name}')\n",
        "  \n",
        "FILE_NAME, FILE_ID = ['file_name', 'file_id']"
      ],
      "execution_count": 18,
      "outputs": []
    },
    {
      "cell_type": "markdown",
      "metadata": {
        "id": "mzZIXB-0zkmK"
      },
      "source": [
        "## Pobranie i instalacja stemmera"
      ]
    },
    {
      "cell_type": "markdown",
      "metadata": {
        "id": "N5EUv-Nb2gO9"
      },
      "source": [
        "!dpkg --add-architecture i386\n",
        "!apt-get -qq update\n",
        "!apt-get -qq install libc6:i386 libncurses5:i386 libstdc++6:i386"
      ]
    },
    {
      "cell_type": "code",
      "metadata": {
        "id": "o2rxvMo0znS1",
        "colab": {
          "base_uri": "https://localhost:8080/"
        },
        "outputId": "661017fc-9357-4310-9035-3231ed154925"
      },
      "source": [
        "# stemmer-2.0.3.tgz, https://drive.google.com/file/d/1PxS-e6tzXa7u4N9A2r9XWLUpvSKqJIrZ\n",
        "stemmer = {FILE_NAME: 'stemmer-2.0.3.tgz', FILE_ID: '1PxS-e6tzXa7u4N9A2r9XWLUpvSKqJIrZ'}\n",
        "stemmer_path = Path('./') / stemmer[FILE_NAME]\n",
        "download_and_save(stemmer_path, stemmer[FILE_ID])"
      ],
      "execution_count": 19,
      "outputs": [
        {
          "output_type": "stream",
          "text": [
            "Saved stemmer-2.0.3.tgz\n"
          ],
          "name": "stdout"
        }
      ]
    },
    {
      "cell_type": "code",
      "metadata": {
        "id": "Izipt8nMz3D5"
      },
      "source": [
        "!tar xzf $stemmer_path"
      ],
      "execution_count": 20,
      "outputs": []
    },
    {
      "cell_type": "code",
      "metadata": {
        "id": "seaZ-GIZ0HR3",
        "colab": {
          "base_uri": "https://localhost:8080/"
        },
        "outputId": "aff14989-5767-4f49-e072-5b3872a531f3"
      },
      "source": [
        "ls -lah bin"
      ],
      "execution_count": 21,
      "outputs": [
        {
          "output_type": "stream",
          "text": [
            "total 8.2M\n",
            "drwxr-xr-x 2  501 staff 4.0K Apr 30  2018 \u001b[0m\u001b[01;34m.\u001b[0m/\n",
            "drwxr-xr-x 1 root root  4.0K Nov 28 17:09 \u001b[01;34m..\u001b[0m/\n",
            "-rw-r--r-- 1  501 staff 1.2K Apr 19  2018 changelog.txt\n",
            "-rwxr-xr-x 1  501 staff  629 Jan  2  2018 \u001b[01;32mdestem.sh\u001b[0m*\n",
            "-rw-r--r-- 1  501 staff 858K Nov 22  2017 stemmer2.dic\n",
            "-rwxrwxr-x 1  501 staff 3.7M Apr 19  2018 \u001b[01;32mstemmer.linux\u001b[0m*\n",
            "-rwxr-xr-x 1  501 staff 3.6M Apr 30  2018 \u001b[01;32mstemmer.macos\u001b[0m*\n"
          ],
          "name": "stdout"
        }
      ]
    },
    {
      "cell_type": "markdown",
      "metadata": {
        "id": "6a-q1f8LFI5y"
      },
      "source": [
        "# Pobranie danych"
      ]
    },
    {
      "cell_type": "code",
      "metadata": {
        "id": "YLHSxEQmFe_u",
        "colab": {
          "base_uri": "https://localhost:8080/"
        },
        "outputId": "bdda1d91-deb4-437c-b63a-5e82c1425a24"
      },
      "source": [
        "from pathlib import Path\n",
        "dataset_path = Path('/content/data/rnn_generator'); dataset_path\n",
        "!mkdir -p $dataset_path\n",
        "!ls -la $dataset_path/\n",
        "tmp_path = dataset_path / 'tmp/'\n",
        "!mkdir -p $tmp_path"
      ],
      "execution_count": null,
      "outputs": [
        {
          "output_type": "stream",
          "text": [
            "total 8\n",
            "drwxr-xr-x 2 root root 4096 Nov 27 14:48 .\n",
            "drwxr-xr-x 3 root root 4096 Nov 27 14:48 ..\n"
          ],
          "name": "stdout"
        }
      ]
    },
    {
      "cell_type": "markdown",
      "metadata": {
        "id": "ihRsb3C_FeG0"
      },
      "source": [
        "## Pobranie datasetu Pan Tadeusz"
      ]
    },
    {
      "cell_type": "code",
      "metadata": {
        "id": "-IXYs88WJaNo",
        "colab": {
          "base_uri": "https://localhost:8080/"
        },
        "outputId": "e1c44d24-5c7d-49b4-d6de-9b1d6d28f8ec"
      },
      "source": [
        "# pan_tadeusz, https://drive.google.com/open?id=1l8KGrqUsrGOlXVp7Frgyku8w75X_WA8h\n",
        "pan_tadeusz = {FILE_NAME: 'pan_tadeusz.txt', FILE_ID: '1l8KGrqUsrGOlXVp7Frgyku8w75X_WA8h'}\n",
        "\n",
        "download_and_save(dataset_path / pan_tadeusz[FILE_NAME], pan_tadeusz[FILE_ID])"
      ],
      "execution_count": null,
      "outputs": [
        {
          "output_type": "stream",
          "text": [
            "Saved /content/data/rnn_generator/pan_tadeusz.txt\n"
          ],
          "name": "stdout"
        }
      ]
    },
    {
      "cell_type": "code",
      "metadata": {
        "id": "dTub80ZevI8Q",
        "colab": {
          "base_uri": "https://localhost:8080/"
        },
        "outputId": "7f9e8a54-b83c-483d-d4ee-58f3cac1882f"
      },
      "source": [
        "ls -la $dataset_path/"
      ],
      "execution_count": null,
      "outputs": [
        {
          "output_type": "stream",
          "text": [
            "total 232\n",
            "drwxr-xr-x 3 root root   4096 Nov 27 14:48 \u001b[0m\u001b[01;34m.\u001b[0m/\n",
            "drwxr-xr-x 3 root root   4096 Nov 27 14:48 \u001b[01;34m..\u001b[0m/\n",
            "-rw-r--r-- 1 root root 223706 Nov 27 14:48 pan_tadeusz.txt\n",
            "drwxr-xr-x 2 root root   4096 Nov 27 14:48 \u001b[01;34mtmp\u001b[0m/\n"
          ],
          "name": "stdout"
        }
      ]
    },
    {
      "cell_type": "markdown",
      "metadata": {
        "id": "Xq3ig75WrNDt"
      },
      "source": [
        "# Opcjonalne"
      ]
    },
    {
      "cell_type": "markdown",
      "metadata": {
        "id": "zoKLKM4tqfcI"
      },
      "source": [
        "## Opcjonalne pobranie innych datasetów"
      ]
    },
    {
      "cell_type": "code",
      "metadata": {
        "id": "Zl_zASTIF9KN",
        "colab": {
          "base_uri": "https://localhost:8080/"
        },
        "outputId": "2fe87918-d29e-4f2c-a70e-9dbf22804b41"
      },
      "source": [
        "# witkacy_szewcy, https://drive.google.com/open?id=1NOWTocYwv93GibItaNBxTJobjTukQmRP\n",
        "witkacy = {FILE_NAME: 'witkacy_szewcy.txt', FILE_ID: '1NOWTocYwv93GibItaNBxTJobjTukQmRP'}\n",
        "\n",
        "download_and_save(dataset_path / witkacy[FILE_NAME], witkacy[FILE_ID])"
      ],
      "execution_count": null,
      "outputs": [
        {
          "output_type": "stream",
          "text": [
            "Saved /content/data/rnn_generator/witkacy_szewcy.txt\n"
          ],
          "name": "stdout"
        }
      ]
    },
    {
      "cell_type": "code",
      "metadata": {
        "id": "JV9IqMEfHdur",
        "colab": {
          "base_uri": "https://localhost:8080/"
        },
        "outputId": "38d1e058-b992-4fe1-c889-32dca504610d"
      },
      "source": [
        "# mickiewicz, https://drive.google.com/open?id=1otbOB7GjKEVPjaPShaaTnYQnv-whwNWP\n",
        "mickiewicz = {FILE_NAME: 'mickiewicz.txt', FILE_ID: '1otbOB7GjKEVPjaPShaaTnYQnv-whwNWP'}\n",
        "\n",
        "download_and_save(dataset_path / mickiewicz[FILE_NAME], mickiewicz[FILE_ID])"
      ],
      "execution_count": null,
      "outputs": [
        {
          "output_type": "stream",
          "text": [
            "Saved /content/data/rnn_generator/mickiewicz.txt\n"
          ],
          "name": "stdout"
        }
      ]
    },
    {
      "cell_type": "code",
      "metadata": {
        "id": "LBjvOVCPmWwn",
        "colab": {
          "base_uri": "https://localhost:8080/"
        },
        "outputId": "42668d82-637e-48e5-e375-27d9526ed6fe"
      },
      "source": [
        "!ls -la $dataset_path/"
      ],
      "execution_count": null,
      "outputs": [
        {
          "output_type": "stream",
          "text": [
            "total 1088\n",
            "drwxr-xr-x 3 root root   4096 Nov 27 14:50 .\n",
            "drwxr-xr-x 3 root root   4096 Nov 27 14:48 ..\n",
            "-rw-r--r-- 1 root root 725495 Nov 27 14:50 mickiewicz.txt\n",
            "-rw-r--r-- 1 root root 223706 Nov 27 14:48 pan_tadeusz.txt\n",
            "drwxr-xr-x 2 root root   4096 Nov 27 14:48 tmp\n",
            "-rw-r--r-- 1 root root 145132 Nov 27 14:50 witkacy_szewcy.txt\n"
          ],
          "name": "stdout"
        }
      ]
    },
    {
      "cell_type": "markdown",
      "metadata": {
        "id": "FELZcVUlv-se"
      },
      "source": [
        "## Opcjonalne pobranie przetrenowanego modelu"
      ]
    },
    {
      "cell_type": "code",
      "metadata": {
        "id": "SJf17A1QwJBN",
        "colab": {
          "base_uri": "https://localhost:8080/"
        },
        "outputId": "ded5c628-2761-4849-8352-17e650fb7c77"
      },
      "source": [
        "# all_tokens.n5059.pan_tadeusz.p, https://drive.google.com/open?id=14AxyK--ifqyzwThw712jHid7NVaLqAC3\n",
        "# pan_tadeusz.h500.l3.20.gpu.torch, https://drive.google.com/open?id=1NF-bmLgsAC6l_Fdlr7xZ1_i3e_5EgIYG\n",
        "ALLTOKS, MODEL = ['all_tokens', 'model']\n",
        "fn_pan_tadeusz = {ALLTOKS: 'all_tokens.n5059.pan_tadeusz.p', MODEL: 'pan_tadeusz.h500.l3.e20.gpu.torch'}\n",
        "ids_pan_tadeusz = {ALLTOKS: '14AxyK--ifqyzwThw712jHid7NVaLqAC3', MODEL: '1NF-bmLgsAC6l_Fdlr7xZ1_i3e_5EgIYG'}\n",
        "download_and_save(tmp_path / fn_pan_tadeusz[ALLTOKS], ids_pan_tadeusz[ALLTOKS])\n",
        "download_and_save(tmp_path / fn_pan_tadeusz[MODEL], ids_pan_tadeusz[MODEL])"
      ],
      "execution_count": null,
      "outputs": [
        {
          "output_type": "stream",
          "text": [
            "Saved /content/data/rnn_generator/tmp/all_tokens.n5059.pan_tadeusz.p\n",
            "Saved /content/data/rnn_generator/tmp/pan_tadeusz.h500.l3.e20.gpu.torch\n"
          ],
          "name": "stdout"
        }
      ]
    },
    {
      "cell_type": "code",
      "metadata": {
        "id": "6t7XqlMH9c9p",
        "colab": {
          "base_uri": "https://localhost:8080/"
        },
        "outputId": "bc13a879-e707-43a0-d85c-4c0a3eb14ce4"
      },
      "source": [
        "# all_tokens.n4064.witkacy_szewcy.p, https://drive.google.com/open?id=1hXWaH1vwciJqDh4mRA9R1B6ePapORCTc\n",
        "# witkacy_szewcy.h500.l3.e11.gpu.torch, https://drive.google.com/open?id=1DegovTSmaNEyFM3AS8JZZnp7STO49IRp\n",
        "ALLTOKS, MODEL = ['all_tokens', 'model']\n",
        "fn_pan_tadeusz = {ALLTOKS: 'all_tokens.n4064.witkacy_szewcy.p', MODEL: 'witkacy_szewcy.h500.l3.e11.gpu.torch'}\n",
        "ids_pan_tadeusz = {ALLTOKS: '1hXWaH1vwciJqDh4mRA9R1B6ePapORCTc', MODEL: '1DegovTSmaNEyFM3AS8JZZnp7STO49IRp'}\n",
        "download_and_save(tmp_path / fn_pan_tadeusz[ALLTOKS], ids_pan_tadeusz[ALLTOKS])\n",
        "download_and_save(tmp_path / fn_pan_tadeusz[MODEL], ids_pan_tadeusz[MODEL])"
      ],
      "execution_count": null,
      "outputs": [
        {
          "output_type": "stream",
          "text": [
            "Saved /content/data/rnn_generator/tmp/all_tokens.n4064.witkacy_szewcy.p\n",
            "Saved /content/data/rnn_generator/tmp/witkacy_szewcy.h500.l3.e11.gpu.torch\n"
          ],
          "name": "stdout"
        }
      ]
    },
    {
      "cell_type": "code",
      "metadata": {
        "id": "95RfwakByIiE",
        "colab": {
          "base_uri": "https://localhost:8080/"
        },
        "outputId": "b5bb5187-0866-4a22-e311-49ff266e6090"
      },
      "source": [
        "ls -lah $tmp_path"
      ],
      "execution_count": null,
      "outputs": [
        {
          "output_type": "stream",
          "text": [
            "total 2.8M\n",
            "drwxr-xr-x 1 root root  4.0K Nov 27 17:55 \u001b[0m\u001b[01;34m.\u001b[0m/\n",
            "drwxr-xr-x 1 root root  4.0K Nov 27 17:53 \u001b[01;34m..\u001b[0m/\n",
            "-rw-r--r-- 1 root root   720 Nov 27 17:54 adc.json\n",
            "drwxr-xr-x 2  501 staff 4.0K Apr 30  2018 \u001b[01;34mbin\u001b[0m/\n",
            "drwxr-xr-x 1 root root  4.0K Nov 27 17:54 \u001b[01;34m.config\u001b[0m/\n",
            "drwxr-xr-x 2 root root  4.0K Nov 27 17:55 \u001b[01;34m.ipynb_checkpoints\u001b[0m/\n",
            "drwxr-xr-x 4 root root  4.0K Nov 27 17:55 \u001b[01;34mrnn_generator\u001b[0m/\n",
            "drwxr-xr-x 1 root root  4.0K Nov 13 17:33 \u001b[01;34msample_data\u001b[0m/\n",
            "-rw-r--r-- 1 root root  2.7M Nov 27 17:54 stemmer-2.0.3.tgz\n"
          ],
          "name": "stdout"
        }
      ]
    },
    {
      "cell_type": "markdown",
      "metadata": {
        "id": "USMDLfIuo6Fd"
      },
      "source": [
        "# Monitorowanie maszyny wirtualnej"
      ]
    },
    {
      "cell_type": "code",
      "metadata": {
        "id": "fPB9Yk66qHtz",
        "colab": {
          "base_uri": "https://localhost:8080/"
        },
        "outputId": "e19428ba-ef46-4e00-f0e0-1123c09239ef"
      },
      "source": [
        "!uptime\n",
        "!nvidia-smi"
      ],
      "execution_count": null,
      "outputs": [
        {
          "output_type": "stream",
          "text": [
            " 17:55:59 up 3 min,  0 users,  load average: 0.08, 0.15, 0.07\n",
            "Fri Nov 27 17:55:59 2020       \n",
            "+-----------------------------------------------------------------------------+\n",
            "| NVIDIA-SMI 455.38       Driver Version: 418.67       CUDA Version: 10.1     |\n",
            "|-------------------------------+----------------------+----------------------+\n",
            "| GPU  Name        Persistence-M| Bus-Id        Disp.A | Volatile Uncorr. ECC |\n",
            "| Fan  Temp  Perf  Pwr:Usage/Cap|         Memory-Usage | GPU-Util  Compute M. |\n",
            "|                               |                      |               MIG M. |\n",
            "|===============================+======================+======================|\n",
            "|   0  Tesla T4            Off  | 00000000:00:04.0 Off |                    0 |\n",
            "| N/A   48C    P8     9W /  70W |      0MiB / 15079MiB |      0%      Default |\n",
            "|                               |                      |                 ERR! |\n",
            "+-------------------------------+----------------------+----------------------+\n",
            "                                                                               \n",
            "+-----------------------------------------------------------------------------+\n",
            "| Processes:                                                                  |\n",
            "|  GPU   GI   CI        PID   Type   Process name                  GPU Memory |\n",
            "|        ID   ID                                                   Usage      |\n",
            "|=============================================================================|\n",
            "|  No running processes found                                                 |\n",
            "+-----------------------------------------------------------------------------+\n"
          ],
          "name": "stdout"
        }
      ]
    },
    {
      "cell_type": "markdown",
      "metadata": {
        "id": "E7PwzxO-hBJe"
      },
      "source": [
        "## Załadowanie bibliotek"
      ]
    },
    {
      "cell_type": "code",
      "metadata": {
        "id": "WMhhgYDig_7G",
        "colab": {
          "base_uri": "https://localhost:8080/"
        },
        "outputId": "cab8f057-11ca-4e4a-e9bc-eee3db32aa3f"
      },
      "source": [
        "!pip install torch==1.3.0\n",
        "from pathlib import Path\n",
        "import platform\n",
        "import string\n",
        "import random\n",
        "import re\n",
        "from IPython.core.display import display, HTML\n",
        "import os\n",
        "import psutil\n",
        "import pickle\n",
        "import warnings\n",
        "import torch\n",
        "import torch.nn as nn\n",
        "from torch.autograd import Variable\n",
        "import time, math\n",
        "import numpy as np\n",
        "from tqdm import tqdm\n",
        "\n",
        "import matplotlib.pyplot as plt\n",
        "import matplotlib.ticker as ticker\n",
        "%matplotlib inline\n",
        "\n",
        "import matplotlib as mpl\n",
        "mpl.style.use('default')\n",
        "mpl.style.use('bmh')\n"
      ],
      "execution_count": 3,
      "outputs": [
        {
          "output_type": "stream",
          "text": [
            "Collecting torch==1.3.0\n",
            "\u001b[?25l  Downloading https://files.pythonhosted.org/packages/ae/05/50a05de5337f7a924bb8bd70c6936230642233e424d6a9747ef1cfbde353/torch-1.3.0-cp36-cp36m-manylinux1_x86_64.whl (773.1MB)\n",
            "\u001b[K     |████████████████████████████████| 773.1MB 22kB/s \n",
            "\u001b[?25hRequirement already satisfied: numpy in /usr/local/lib/python3.6/dist-packages (from torch==1.3.0) (1.18.5)\n",
            "\u001b[31mERROR: torchvision 0.8.1+cu101 has requirement torch==1.7.0, but you'll have torch 1.3.0 which is incompatible.\u001b[0m\n",
            "Installing collected packages: torch\n",
            "  Found existing installation: torch 1.7.0+cu101\n",
            "    Uninstalling torch-1.7.0+cu101:\n",
            "      Successfully uninstalled torch-1.7.0+cu101\n",
            "Successfully installed torch-1.3.0\n"
          ],
          "name": "stdout"
        }
      ]
    },
    {
      "cell_type": "markdown",
      "metadata": {
        "id": "g8KbaMvrXM5J"
      },
      "source": [
        "## Preprocessing korpusu"
      ]
    },
    {
      "cell_type": "code",
      "metadata": {
        "id": "80ZjgATAXsVn"
      },
      "source": [
        "dataset_path = Path('data/rnn_generator'); dataset_path\n",
        "tmp_path = dataset_path / 'tmp/'\n",
        "!mkdir -p $tmp_path"
      ],
      "execution_count": 4,
      "outputs": []
    },
    {
      "cell_type": "code",
      "metadata": {
        "id": "CPFXCZguyyXA",
        "colab": {
          "base_uri": "https://localhost:8080/"
        },
        "outputId": "8a8511c3-54fb-430f-ffbc-61bc3074c960"
      },
      "source": [
        "ls -lah $dataset_path/"
      ],
      "execution_count": 6,
      "outputs": [
        {
          "output_type": "stream",
          "text": [
            "total 544K\n",
            "drwxr-xr-x 3 root root 4.0K Nov 28 17:06 \u001b[0m\u001b[01;34m.\u001b[0m/\n",
            "drwxr-xr-x 3 root root 4.0K Nov 28 17:00 \u001b[01;34m..\u001b[0m/\n",
            "drwxr-xr-x 2 root root 4.0K Nov 28 17:00 \u001b[01;34mtmp\u001b[0m/\n",
            "-rw-r--r-- 1 root root 529K Nov 28 17:06 zwyczajne-zycie.txt\n"
          ],
          "name": "stdout"
        }
      ]
    },
    {
      "cell_type": "code",
      "metadata": {
        "id": "9eTRgNsMyyXD"
      },
      "source": [
        "fn_corpus_char = dataset_path/'zwyczajne-zycie.txt'\n",
        "fn_corpus_caps = dataset_path/'zwyczajne-zycie.caps1.txt'\n",
        "fn_corpus_syl = dataset_path/'zwyczajne-zycie.syl1.txt'"
      ],
      "execution_count": 7,
      "outputs": []
    },
    {
      "cell_type": "markdown",
      "metadata": {
        "id": "9wuZu6mE057C"
      },
      "source": [
        "Plik wejściowy (korpus) to duży plik tekstowy. "
      ]
    },
    {
      "cell_type": "code",
      "metadata": {
        "id": "aaV5Ly3R_tzj",
        "colab": {
          "base_uri": "https://localhost:8080/"
        },
        "outputId": "13d85501-00a1-4a89-e162-925eb00c8900"
      },
      "source": [
        "!head -n 21 $fn_corpus_char"
      ],
      "execution_count": 8,
      "outputs": [
        {
          "output_type": "stream",
          "text": [
            "\r\n",
            "Joanna Chmielewska\r\n",
            "\r\n",
            "\r\n",
            "Zwyczajne życie\r\n",
            "\r\n",
            "\r\n",
            "W dość wczesnych godzinach sierpniowego, cichego, niedzielnego popołudnia Tereska Kępińska siedziała przy biurku w swoim pokoju i patrzyła w okno oczami pełnymi rozpaczy. Za oknem, w sennym upale, trwały nieruchomo zalane słońcem lipy, słoneczniki zwieszały swoje ciężkie, dojrzałe łby, świat wydawał się nasycony latem, spokojny, zadowolony z życia, i posępna rozpacz w oczach Tereski nieprzyjemnie kontrastowała z tą rozleniwioną, słoneczną pogodą.\r\n",
            "\r\n",
            "Wnętrze pokoju kontrastowało z nią również. Na biurku, krzesłach i podłodze trwał w bezruchu potężny śmietnik, składający się w największej mierze z wytworów przemysłu papierniczego. Puste szuflady biurka były z jednej strony wysunięte, z drugiej całkowicie powyjmowane; stojący pod ścianą tapczan nieforemnym stosem pokrywały zdjęte z regału książki i rozsypane odbitki fotograficzne, z półki regału malowniczo zwisała imponujących rozmiarów ścierka od kurzu, na środku podłogi zaś stała wielka miednica z wodą, na której smętnie kiwały się dwie gąbki. Całość przywodziła na myśl lęgnący się z chaosu świat, który zatrzymał się w połowie tworzenia.\r\n",
            "\r\n",
            "Twórczyni tego obrazu siedziała przy biurku z brodą opartą na rękach i patrzyła w okno. Wypełniające jej serce i duszę uczucia nie miały nic wspólnego z rozpoczętymi przed południem generalnymi porządkami, a nawet pozostawały z nimi w wyraźnej sprzeczności. W wojnie. Generalne porządki zostały podjęte specjalnie po to, żeby zagłuszyć uczucia i zaabsorbować myśl, ale nie spełniły zadania. Przegrały haniebnie.\r\n",
            "\r\n",
            "Tereska poddała się i porzuciła niewdzięczne zajęcie. Siedziała przy niewidocznym niemal spod śmietnika biurku i wzrokiem pełnym udręki patrzyła w okno. Czekała. Czekała tak już trzeci tydzień. Wytrwale, niecierpliwie, wśród zwątpienia i nadziei, w napięciu, zdenerwowaniu i bez przerwy.\r\n",
            "\r\n",
            "Tereska Kępińska miała szesnaście lat i była śmiertelnie, beznadziejnie, rozpaczliwie zakochana…\r\n",
            "\r\n",
            "Wielka miłość spadła na nią jak grom z jasnego nieba na samym początku wakacji. Było to w jej życiu pierwsze naprawdę poważne uczucie, przy którym wszystkie dotychczasowe całkowicie przestały się liczyć. Wydawało się odwzajemnione, trochę jednak, jej zdaniem, jakby niewyraźnie. Pewne symptomy wskazywały na tak, inne przeczyły im i kazały wątpić we wzajemność, wszystko razem zaś stwarzało atmosferę niepewności i doprowadzało do całkowitego rozstroju nerwowego. Od blisko trzech tygodni czekała na przyobiecaną w chwili rozstania wizytę przedmiotu uczuć, z nadzieją, że bezpośredni kontakt coś wreszcie wyjaśni. O dwa tygodnie skróciła pobyt w górach, wywalczywszy sobie w krwawej wojnie rodzinnej prawo powrotu do domu i zyskawszy opinię młodej osoby niezwykle rozgrymaszonej i źle wychowanej. Z wypiekami na twarzy zdenerwowana pani Marta Kępińska broniła córki, sama usiłując bezskutecznie znaleźć jakikolwiek sensowny powód jej uporu i osobliwej niechęci do górskiego powietrza, i tyle na tym zyskała, że cała rodzina postawiła pod znakiem zapytania jakość jej działalności pedagogicznej. Część osób nawet poobrażała się na siebie wzajemnie.\r\n",
            "\r\n",
            "Do Tereski dodatkowe aspekty sprawy w ogóle nie docierały. Wielka miłość była jej wielką tajemnicą i za nic w świecie nie przyznałaby się do niej nikomu. Wracała do domu ogarnięta panicznym lękiem, że uwielbiony mógł już przyjść z tą wizytą i jej nie zastać. Mógł przyjść drugi raz i też nie zastać. Mógł się zniechęcić! Nie mówiąc już o tym, ileż by wtedy straciła…\r\n",
            "\r\n"
          ],
          "name": "stdout"
        }
      ]
    },
    {
      "cell_type": "markdown",
      "metadata": {
        "id": "IKPynzs-yyW-"
      },
      "source": [
        "### Tokenizacja wielkich liter"
      ]
    },
    {
      "cell_type": "markdown",
      "metadata": {
        "id": "enPpQXzj_oj6"
      },
      "source": [
        "Zamieniamy duże litery na małe dodając tokeny `_up_` (dla wyrazów pisanych wielkimi literami) lub `_cap_` (dla wyrazów pisanych z wielkiej litery)."
      ]
    },
    {
      "cell_type": "code",
      "metadata": {
        "id": "UJtiF_yZiA-z"
      },
      "source": [
        "def do_caps(ss):\n",
        "  TOK_UP,TOK_CAP = ' _up_ ', ' _cap_ '\n",
        "  res = []\n",
        "  re_word = re.compile('\\w')\n",
        "  for s in re.findall(r'\\w+|\\W+', ss):\n",
        "      res += ([TOK_UP,s.lower()] if (s.isupper() and (len(s)>2))\n",
        "              else [TOK_CAP,s.lower()] if s.istitle()\n",
        "              else [s.lower()])\n",
        "  return ''.join(res)"
      ],
      "execution_count": 9,
      "outputs": []
    },
    {
      "cell_type": "code",
      "metadata": {
        "id": "b5cAVEtNiC9X",
        "colab": {
          "base_uri": "https://localhost:8080/"
        },
        "outputId": "0f098758-d4d4-463a-9216-23740f51c6c1"
      },
      "source": [
        "corpus_tmp = fn_corpus_char.open('r').read()\n",
        "corpus_tmp = do_caps(corpus_tmp)\n",
        "fn_corpus_caps.open('w').write(corpus_tmp)"
      ],
      "execution_count": 10,
      "outputs": [
        {
          "output_type": "execute_result",
          "data": {
            "text/plain": [
              "557353"
            ]
          },
          "metadata": {
            "tags": []
          },
          "execution_count": 10
        }
      ]
    },
    {
      "cell_type": "code",
      "metadata": {
        "id": "JJlxNo8q-quJ",
        "colab": {
          "base_uri": "https://localhost:8080/"
        },
        "outputId": "4f3a97c3-4a35-4c46-f767-2b43249dea56"
      },
      "source": [
        "!head -n 21 $fn_corpus_caps"
      ],
      "execution_count": 11,
      "outputs": [
        {
          "output_type": "stream",
          "text": [
            "\n",
            " _cap_ joanna  _cap_ chmielewska\n",
            "\n",
            "\n",
            " _cap_ zwyczajne życie\n",
            "\n",
            "\n",
            " _cap_ w dość wczesnych godzinach sierpniowego, cichego, niedzielnego popołudnia  _cap_ tereska  _cap_ kępińska siedziała przy biurku w swoim pokoju i patrzyła w okno oczami pełnymi rozpaczy.  _cap_ za oknem, w sennym upale, trwały nieruchomo zalane słońcem lipy, słoneczniki zwieszały swoje ciężkie, dojrzałe łby, świat wydawał się nasycony latem, spokojny, zadowolony z życia, i posępna rozpacz w oczach  _cap_ tereski nieprzyjemnie kontrastowała z tą rozleniwioną, słoneczną pogodą.\n",
            "\n",
            " _cap_ wnętrze pokoju kontrastowało z nią również.  _cap_ na biurku, krzesłach i podłodze trwał w bezruchu potężny śmietnik, składający się w największej mierze z wytworów przemysłu papierniczego.  _cap_ puste szuflady biurka były z jednej strony wysunięte, z drugiej całkowicie powyjmowane; stojący pod ścianą tapczan nieforemnym stosem pokrywały zdjęte z regału książki i rozsypane odbitki fotograficzne, z półki regału malowniczo zwisała imponujących rozmiarów ścierka od kurzu, na środku podłogi zaś stała wielka miednica z wodą, na której smętnie kiwały się dwie gąbki.  _cap_ całość przywodziła na myśl lęgnący się z chaosu świat, który zatrzymał się w połowie tworzenia.\n",
            "\n",
            " _cap_ twórczyni tego obrazu siedziała przy biurku z brodą opartą na rękach i patrzyła w okno.  _cap_ wypełniające jej serce i duszę uczucia nie miały nic wspólnego z rozpoczętymi przed południem generalnymi porządkami, a nawet pozostawały z nimi w wyraźnej sprzeczności.  _cap_ w wojnie.  _cap_ generalne porządki zostały podjęte specjalnie po to, żeby zagłuszyć uczucia i zaabsorbować myśl, ale nie spełniły zadania.  _cap_ przegrały haniebnie.\n",
            "\n",
            " _cap_ tereska poddała się i porzuciła niewdzięczne zajęcie.  _cap_ siedziała przy niewidocznym niemal spod śmietnika biurku i wzrokiem pełnym udręki patrzyła w okno.  _cap_ czekała.  _cap_ czekała tak już trzeci tydzień.  _cap_ wytrwale, niecierpliwie, wśród zwątpienia i nadziei, w napięciu, zdenerwowaniu i bez przerwy.\n",
            "\n",
            " _cap_ tereska  _cap_ kępińska miała szesnaście lat i była śmiertelnie, beznadziejnie, rozpaczliwie zakochana…\n",
            "\n",
            " _cap_ wielka miłość spadła na nią jak grom z jasnego nieba na samym początku wakacji.  _cap_ było to w jej życiu pierwsze naprawdę poważne uczucie, przy którym wszystkie dotychczasowe całkowicie przestały się liczyć.  _cap_ wydawało się odwzajemnione, trochę jednak, jej zdaniem, jakby niewyraźnie.  _cap_ pewne symptomy wskazywały na tak, inne przeczyły im i kazały wątpić we wzajemność, wszystko razem zaś stwarzało atmosferę niepewności i doprowadzało do całkowitego rozstroju nerwowego.  _cap_ od blisko trzech tygodni czekała na przyobiecaną w chwili rozstania wizytę przedmiotu uczuć, z nadzieją, że bezpośredni kontakt coś wreszcie wyjaśni.  _cap_ o dwa tygodnie skróciła pobyt w górach, wywalczywszy sobie w krwawej wojnie rodzinnej prawo powrotu do domu i zyskawszy opinię młodej osoby niezwykle rozgrymaszonej i źle wychowanej.  _cap_ z wypiekami na twarzy zdenerwowana pani  _cap_ marta  _cap_ kępińska broniła córki, sama usiłując bezskutecznie znaleźć jakikolwiek sensowny powód jej uporu i osobliwej niechęci do górskiego powietrza, i tyle na tym zyskała, że cała rodzina postawiła pod znakiem zapytania jakość jej działalności pedagogicznej.  _cap_ część osób nawet poobrażała się na siebie wzajemnie.\n",
            "\n",
            " _cap_ do  _cap_ tereski dodatkowe aspekty sprawy w ogóle nie docierały.  _cap_ wielka miłość była jej wielką tajemnicą i za nic w świecie nie przyznałaby się do niej nikomu.  _cap_ wracała do domu ogarnięta panicznym lękiem, że uwielbiony mógł już przyjść z tą wizytą i jej nie zastać.  _cap_ mógł przyjść drugi raz i też nie zastać.  _cap_ mógł się zniechęcić!  _cap_ nie mówiąc już o tym, ileż by wtedy straciła…\n",
            "\n"
          ],
          "name": "stdout"
        }
      ]
    },
    {
      "cell_type": "markdown",
      "metadata": {
        "id": "lbMBLa_nxp2b"
      },
      "source": [
        "### Podział korpusu na sylaby"
      ]
    },
    {
      "cell_type": "markdown",
      "metadata": {
        "id": "OONrdDyb-mS6"
      },
      "source": [
        "Dzielimy korpus na sylaby programem `stemmer`."
      ]
    },
    {
      "cell_type": "code",
      "metadata": {
        "id": "efaGn-TLyyXG"
      },
      "source": [
        "platform_suffixes = {'Linux': 'linux', 'Darwin': 'macos'}\n",
        "platform_suffix = platform_suffixes[platform.system()]\n",
        "stemmer_bin = f'LD_PRELOAD=\"\" bin/stemmer.{platform_suffix}'"
      ],
      "execution_count": 22,
      "outputs": []
    },
    {
      "cell_type": "code",
      "metadata": {
        "id": "w3qYJ20EyyXI",
        "colab": {
          "base_uri": "https://localhost:8080/"
        },
        "outputId": "c1063233-0e7a-4407-e346-b0afb6d50cd2"
      },
      "source": [
        "!$stemmer_bin --help\n"
      ],
      "execution_count": 23,
      "outputs": [
        {
          "output_type": "stream",
          "text": [
            "Stemmer 2.0.3 2018-04-19 (Linux i386)\n",
            "For Korrida database, spellchecker and hyphenator copyright (C) 1993-2018 Wojciech Czarnowski\n",
            "For Stemmer copyright (C) 2018 Krzysztof Wolk and Wojciech Czarnowski\n",
            "Wojciech Czarnowski: wojtek.czarnowski@gmail.com, +48(608)202-272\n",
            "Krzysztof Wolk: krz.wolk@gmail.com, +48(606)918-623\n",
            "\n",
            "Usage: stemmer options\n",
            "\n",
            "Options:\n",
            "-v, --verbose\n",
            "--version\n",
            "-s number, --stem=number\n",
            "-d file or --dict=<file.dic>\n",
            "-i file or --file_in=<file>\n",
            "-o file or --file_out=<file>\n",
            "-l file or --log=<file>\n",
            "-e file or --exclude=<file>\n",
            "--stem_delim=\"string\"\n",
            "--code_delim=\"string\"\n",
            "--divide_after=number\n",
            "\n",
            "Stemming options:\n",
            "  1 stem \"nie\" prefix\n",
            "  2 stem extra prefixes\n",
            "  4 stem prefixes in root\n",
            "  8 stem in suffix\n",
            "\n",
            "POS options:\n",
            " 16 output POS and inflection group\n",
            " 32 output additional POS info\n",
            "\n",
            "Output Korrida codes:\n",
            " 64 group code\n",
            "128 base suffix codes\n",
            "256 suffix code\n",
            "\n",
            "Division options:\n",
            " 512 divide words\n",
            "1024 divide with dictionary\n",
            "2048 divide algorithmically\n",
            "4096 divide unknown words\n",
            "\n",
            "Using 512 division option turns off stemming.\n",
            "\n",
            "Defaults:\n",
            "- stem delimiter: \"++ --\"\n",
            "- code delimiter: \"@@\"\n",
            "- options: 1+2\n",
            "- divide after 1 character\n",
            "\n",
            "Sample sets of options:\n",
            "3=1+2          (stem more words)\n",
            "15=1+2+3+4+8   (stem more words and in roots and suffixes)\n",
            "320=64+256     (output old Korrida codes)\n",
            "195=1+2+64+128 (stem more words, output new Korrida codes)\n",
            "147=1+2+16+128 (stem more words, output POS and base suffix codes)\n",
            "7683=1+2+512+1024+2048+4096 (divide (more) words with dictionary, then algorithmically and also unknown words)\n"
          ],
          "name": "stdout"
        }
      ]
    },
    {
      "cell_type": "code",
      "metadata": {
        "id": "xGbQYAUYyyXK",
        "colab": {
          "base_uri": "https://localhost:8080/"
        },
        "outputId": "c68d6ae8-0696-479d-fa57-3ccc7467b514"
      },
      "source": [
        "!$stemmer_bin -s 7683 -v -d bin/stemmer2.dic -i $fn_corpus_caps -o $fn_corpus_syl"
      ],
      "execution_count": 24,
      "outputs": [
        {
          "output_type": "stream",
          "text": [
            "Stemmer 2.0.3 2018-04-19 (Linux i386)\n",
            "For Korrida database, spellchecker and hyphenator copyright (C) 1993-2018 Wojciech Czarnowski\n",
            "For Stemmer copyright (C) 2018 Krzysztof Wolk and Wojciech Czarnowski\n",
            "Wojciech Czarnowski: wojtek.czarnowski@gmail.com, +48(608)202-272\n",
            "Krzysztof Wolk: krz.wolk@gmail.com, +48(606)918-623\n",
            "\n",
            "Dictionary: \"bin/stemmer2.dic\"\n",
            "Input file: \"data/rnn_generator/zwyczajne-zycie.caps1.txt\"\n",
            "Output file: \"data/rnn_generator/zwyczajne-zycie.syl1.txt\"\n",
            "Stem number: \"7683\"\n",
            "\n",
            "Stemming options:\n",
            "  StemNiePrefix     : Yes\n",
            "  StemExtraPrefixes : Yes\n",
            "  StemPrefixesInRoot: No\n",
            "\n",
            "Syllable division options:\n",
            "  DivideWords          : Yes\n",
            "  DivideWithDictionary : Yes\n",
            "  DivideAlgorithmically: Yes\n",
            "  DivideUknkownWords   : Yes\n",
            "  divideAfterChar      : 1\n",
            "\n",
            "Stemming formatting options:\n",
            "  StemInSuffix       : No\n",
            "  ShowPOSInfo        : No\n",
            "  ShowExtraPOSInfo   : No\n",
            "\n",
            "  ShowGroupCode      : No\n",
            "  ShowBaseSuffixCodes: No\n",
            "  ShowSuffixCode     : No\n",
            "\n",
            "  stemDelimiterStr   : \"++ --\"\n",
            "  codeDelimiterStr   : \"@@\"\n",
            "\n",
            "StemFile(fileInPath: \"data/rnn_generator/zwyczajne-zycie.caps1.txt\", fileOutPath: \"data/rnn_generator/zwyczajne-zycie.syl1.txt\")\n",
            "Finished.\n"
          ],
          "name": "stdout"
        }
      ]
    },
    {
      "cell_type": "code",
      "metadata": {
        "id": "rurUv5wf_135",
        "colab": {
          "base_uri": "https://localhost:8080/"
        },
        "outputId": "7e1362d8-f812-438e-d65c-922168d9a761"
      },
      "source": [
        "!head -n 21 $fn_corpus_syl"
      ],
      "execution_count": 25,
      "outputs": [
        {
          "output_type": "stream",
          "text": [
            "\n",
            " _cap_ joan++ --na  _cap_ chmie++ --lew++ --ska\n",
            "\n",
            "\n",
            " _cap_ zwy++ --czaj++ --ne ży++ --cie\n",
            "\n",
            "\n",
            " _cap_ w dość wczes++ --nych go++ --dzi++ --nach sier++ --pnio++ --we++ --go, ci++ --che++ --go, nie++ --dziel++ --ne++ --go po++ --po++ --łu++ --dnia  _cap_ te++ --res++ --ka  _cap_ kę++ --piń++ --ska sie++ --dzia++ --ła przy biur++ --ku w swoim po++ --ko++ --ju i pa++ --trzy++ --ła w ok++ --no o++ --cza++ --mi peł++ --ny++ --mi roz++ --pa++ --czy.  _cap_ za ok++ --nem, w sen++ --nym u++ --pa++ --le, trwa++ --ły nie++ --ru++ --cho++ --mo za++ --la++ --ne słoń++ --cem li++ --py, sło++ --ne++ --cz++ --ni++ --ki zwie++ --sza++ --ły swo++ --je cięż++ --kie, do++ --jrza++ --łe łby, świat wy++ --da++ --wał się na++ --sy++ --co++ --ny la++ --tem, spo++ --koj++ --ny, za++ --do++ --wo++ --lo++ --ny z ży++ --cia, i po++ --sęp++ --na roz++ --pacz w o++ --czach  _cap_ te++ --res++ --ki nie++ --przy++ --jem++ --nie kon++ --tra++ --sto++ --wa++ --ła z tą roz++ --le++ --ni++ --wio++ --ną, sło++ --ne++ --cz++ --ną po++ --go++ --dą.\n",
            "\n",
            " _cap_ wnę++ --trze po++ --ko++ --ju kon++ --tra++ --sto++ --wa++ --ło z nią ró++ --w++ --nież.  _cap_ na biur++ --ku, krzes++ --łach i pod++ --ło++ --dze trwał w bez++ --ru++ --chu po++ --tęż++ --ny śmiet++ --nik, skła++ --da++ --ją++ --cy się w naj++ --wię++ --k++ --szej mie++ --rze z wy++ --two++ --rów prze++ --mys++ --łu pa++ --pier++ --ni++ --cze++ --go.  _cap_ pu++ --ste szuf++ --la++ --dy biur++ --ka by++ --ły z je++ --d++ --nej stro++ --ny wy++ --su++ --nię++ --te, z dru++ --giej cał++ --ko++ --wi++ --cie po++ --wy++ --j++ --mo++ --wa++ --ne; sto++ --ją++ --cy pod ścia++ --ną tap++ --czan nie++ --fo++ --rem++ --nym sto++ --sem po++ --kry++ --wa++ --ły zdję++ --te z re++ --ga++ --łu książ++ --ki i roz++ --sy++ --pa++ --ne od++ --bit++ --ki fo++ --to++ --gra++ --fi++ --cz++ --ne, z pół++ --ki re++ --ga++ --łu ma++ --lo++ --wni++ --czo zwi++ --sa++ --ła im++ --po++ --nu++ --ją++ --cych roz++ --mia++ --rów ścier++ --ka od ku++ --rzu, na środ++ --ku pod++ --ło++ --gi zaś sta++ --ła wiel++ --ka mie++ --dni++ --ca z wo++ --dą, na któ++ --rej smęt++ --nie ki++ --wa++ --ły się dwie gąb++ --ki.  _cap_ ca++ --łość przy++ --wo++ --dzi++ --ła na myśl lęg++ --ną++ --cy się z chao++ --su świat, któ++ --ry za++ --trzy++ --mał się w po++ --ło++ --wie two++ --rze++ --nia.\n",
            "\n",
            " _cap_ twór++ --czy++ --ni te++ --go ob++ --ra++ --zu sie++ --dzia++ --ła przy biur++ --ku z bro++ --dą o++ --par++ --tą na rę++ --kach i pa++ --trzy++ --ła w ok++ --no.  _cap_ wy++ --peł++ --nia++ --ją++ --ce jej ser++ --ce i du++ --szę u++ --czu++ --cia nie mia++ --ły nic wspól++ --ne++ --go z roz++ --po++ --czę++ --ty++ --mi przed po++ --łu++ --dniem ge++ --ne++ --ral++ --ny++ --mi po++ --rząd++ --ka++ --mi, a na++ --wet po++ --zo++ --sta++ --wa++ --ły z ni++ --mi w wy++ --raź++ --nej sprze++ --cz++ --no++ --ści.  _cap_ w woj++ --nie.  _cap_ ge++ --ne++ --ral++ --ne po++ --rząd++ --ki zo++ --sta++ --ły pod++ --ję++ --te spe++ --c++ --jal++ --nie po to, że++ --by za++ --głu++ --szyć u++ --czu++ --cia i za++ --ab++ --sor++ --bo++ --wać myśl, ale nie speł++ --ni++ --ły za++ --da++ --nia.  _cap_ prze++ --gra++ --ły ha++ --nieb++ --nie.\n",
            "\n",
            " _cap_ te++ --res++ --ka pod++ --da++ --ła się i po++ --rzu++ --ci++ --ła nie++ --wdzię++ --cz++ --ne za++ --ję++ --cie.  _cap_ sie++ --dzia++ --ła przy nie++ --wi++ --do++ --cz++ --nym nie++ --mal spod śmiet++ --ni++ --ka biur++ --ku i wzro++ --kiem peł++ --nym u++ --drę++ --ki pa++ --trzy++ --ła w ok++ --no.  _cap_ cze++ --ka++ --ła.  _cap_ cze++ --ka++ --ła tak już trze++ --ci ty++ --dzień.  _cap_ wy++ --trwa++ --le, nie++ --cier++ --pli++ --wie, wśród zwąt++ --pie++ --nia i na++ --dziei, w na++ --pię++ --ciu, zde++ --ner++ --wo++ --wa++ --niu i bez prze++ --rwy.\n",
            "\n",
            " _cap_ te++ --res++ --ka  _cap_ kę++ --piń++ --ska mia++ --ła szes++ --na++ --ście lat i by++ --ła śmier++ --tel++ --nie, bez++ --na++ --dziej++ --nie, roz++ --pa++ --czli++ --wie za++ --ko++ --cha++ --na…\n",
            "\n",
            " _cap_ wiel++ --ka mi++ --łość spad++ --ła na nią jak grom z ja++ --s++ --ne++ --go nie++ --ba na sa++ --mym po++ --cząt++ --ku wa++ --ka++ --cji.  _cap_ by++ --ło to w jej ży++ --ciu pier++ --w++ --sze na++ --praw++ --dę po++ --waż++ --ne u++ --czu++ --cie, przy któ++ --rym wszy++ --s++ --t++ --kie do++ --tych++ --cza++ --so++ --we cał++ --ko++ --wi++ --cie prze++ --sta++ --ły się li++ --czyć.  _cap_ wy++ --da++ --wa++ --ło się od++ --wza++ --jem++ --nio++ --ne, tro++ --chę je++ --dnak, jej zda++ --niem, jak++ --by nie++ --wy++ --raź++ --nie.  _cap_ pe++ --w++ --ne sym++ --pto++ --my wska++ --zy++ --wa++ --ły na tak, in++ --ne prze++ --czy++ --ły im i ka++ --za++ --ły wąt++ --pić we wza++ --jem++ --ność, wszy++ --s++ --t++ --ko ra++ --zem zaś stwa++ --rza++ --ło at++ --mo++ --sfe++ --rę nie++ --pe++ --w++ --no++ --ści i do++ --pro++ --wa++ --dza++ --ło do cał++ --ko++ --wi++ --te++ --go roz++ --stro++ --ju ner++ --wo++ --we++ --go.  _cap_ od blis++ --ko trzech ty++ --go++ --dni cze++ --ka++ --ła na przy++ --o++ --bie++ --ca++ --ną w chwi++ --li roz++ --sta++ --nia wi++ --zy++ --tę przed++ --mio++ --tu u++ --czuć, z na++ --dzie++ --ją, że bez++ --po++ --śre++ --dni kon++ --takt coś wre++ --sz++ --cie wy++ --jaś++ --ni.  _cap_ o dwa ty++ --go++ --dnie skró++ --ci++ --ła po++ --byt w gó++ --rach, wy++ --wal++ --czyw++ --szy so++ --bie w krwa++ --wej woj++ --nie ro++ --dzin++ --nej pra++ --wo po++ --wro++ --tu do do++ --mu i zy++ --s++ --kaw++ --szy o++ --pi++ --nię mło++ --dej o++ --so++ --by nie++ --zwyk++ --le roz++ --gry++ --ma++ --szo++ --nej i źle wy++ --cho++ --wa++ --nej.  _cap_ z wy++ --pie++ --ka++ --mi na twa++ --rzy zde++ --ner++ --wo++ --wa++ --na pa++ --ni  _cap_ mar++ --ta  _cap_ kę++ --piń++ --ska bro++ --ni++ --ła cór++ --ki, sa++ --ma u++ --si++ --łu++ --jąc bez++ --sku++ --te++ --cz++ --nie zna++ --leźć ja++ --ki++ --kol++ --wiek sen++ --so++ --wny po++ --wód jej u++ --po++ --ru i o++ --sob++ --li++ --wej nie++ --chę++ --ci do gór++ --skie++ --go po++ --wie++ --trza, i ty++ --le na tym zy++ --s++ --ka++ --ła, że ca++ --ła ro++ --dzi++ --na po++ --sta++ --wi++ --ła pod zna++ --kiem za++ --py++ --ta++ --nia ja++ --kość jej dzia++ --łal++ --no++ --ści pe++ --da++ --go++ --gi++ --cz++ --nej.  _cap_ część o++ --sób na++ --wet po++ --ob++ --ra++ --ża++ --ła się na sie++ --bie wza++ --jem++ --nie.\n",
            "\n",
            " _cap_ do  _cap_ te++ --res++ --ki do++ --dat++ --ko++ --we a++ --spek++ --ty spra++ --wy w o++ --gó++ --le nie do++ --cie++ --ra++ --ły.  _cap_ wiel++ --ka mi++ --łość by++ --ła jej wiel++ --ką ta++ --jem++ --ni++ --cą i za nic w świe++ --cie nie przy++ --zna++ --ła++ --by się do niej ni++ --ko++ --mu.  _cap_ wra++ --ca++ --ła do do++ --mu o++ --gar++ --nię++ --ta pa++ --ni++ --cz++ --nym lę++ --kiem, że u++ --wiel++ --bio++ --ny mógł już przyjść z tą wi++ --zy++ --tą i jej nie za++ --stać.  _cap_ mógł przyjść dru++ --gi raz i też nie za++ --stać.  _cap_ mógł się znie++ --chę++ --cić!  _cap_ nie mó++ --wiąc już o tym, i++ --leż by wte++ --dy stra++ --ci++ --ła…\n",
            "\n"
          ],
          "name": "stdout"
        }
      ]
    },
    {
      "cell_type": "markdown",
      "metadata": {
        "id": "vpf6QibJyyXL"
      },
      "source": [
        "### Załadowanie do pamięci i tokenizacja"
      ]
    },
    {
      "cell_type": "markdown",
      "metadata": {
        "id": "OSyGzgVD057R"
      },
      "source": [
        "Ładujemy korpus do pamięci i tokenizujemy. Tworzymy też listę wszystkich tokenów `all_tokens`. Mamy już specjalne tokeny `_cap_` i `_up_`, zamieniamy znaki końca lini na token `_eol_` i dodajemy token `_unk_` na wypadek, gdybyśmy użyli sylaby (tokena), który nie wystąpił wcześniej w korpusie."
      ]
    },
    {
      "cell_type": "code",
      "metadata": {
        "id": "g9H83p3sXM5L",
        "colab": {
          "base_uri": "https://localhost:8080/"
        },
        "outputId": "e043db17-45aa-4fff-a8e8-21d286533f10"
      },
      "source": [
        "file = open(fn_corpus_syl).read()\n",
        "file_len = len(file)\n",
        "print('file_len =', file_len)"
      ],
      "execution_count": 26,
      "outputs": [
        {
          "output_type": "stream",
          "text": [
            "file_len = 959853\n"
          ],
          "name": "stdout"
        }
      ]
    },
    {
      "cell_type": "code",
      "metadata": {
        "colab": {
          "base_uri": "https://localhost:8080/",
          "height": 36
        },
        "id": "eC6R3jUKWVHR",
        "outputId": "ee541f78-5112-4b32-ab68-2f46bf934b88"
      },
      "source": [
        "file[0:100]"
      ],
      "execution_count": 27,
      "outputs": [
        {
          "output_type": "execute_result",
          "data": {
            "application/vnd.google.colaboratory.intrinsic+json": {
              "type": "string"
            },
            "text/plain": [
              "'\\n _cap_ joan++ --na  _cap_ chmie++ --lew++ --ska\\n\\n\\n _cap_ zwy++ --czaj++ --ne ży++ --cie\\n\\n\\n _cap_ w '"
            ]
          },
          "metadata": {
            "tags": []
          },
          "execution_count": 27
        }
      ]
    },
    {
      "cell_type": "code",
      "metadata": {
        "id": "maVrQMtZyyXU",
        "colab": {
          "base_uri": "https://localhost:8080/"
        },
        "outputId": "1fad6a59-3446-4a23-d627-607554aa8423"
      },
      "source": [
        "# taken from fastai/text.py\n",
        "\n",
        "# remove +,- chars from punctuation set to keep syllables e.g.'--PO++' intact\n",
        "# remove _ char to keep tokens intact\n",
        "punctuation=re.sub('[_\\+-]', '', string.punctuation)\n",
        "re_tok = re.compile(f'([{punctuation}“”¨«»®´·º½¾¿¡§£₤‘’])')\n",
        "\n",
        "def tokenize(s, repl_unk=True): \n",
        "  strings = re_tok.sub(r' \\1 ', s).replace('\\n', ' _eol_ ').split()\n",
        "  if repl_unk:\n",
        "    strings = [str2tok(s) for s in strings]\n",
        "  return strings\n",
        "\n",
        "file_tok = tokenize(file, repl_unk=False); len(file_tok), file_tok[:8]\n",
        "file_tok_len = len(file_tok)\n",
        "\n",
        "spec_tokens = ['_unk_', '_eol_', '_cap_', '_up_']\n",
        "\n",
        "all_tokens = []\n",
        "all_tokens.extend(spec_tokens)\n",
        "all_tokens.extend(sorted(list(set(file_tok))))\n",
        "n_tokens = len(all_tokens); print(n_tokens, all_tokens[:50])\n",
        "\n",
        "tok2idx_dict = {tok: idx for (idx, tok) in enumerate(all_tokens)}\n",
        "\n",
        "def str2tok(str) -> int:\n",
        "  return str if tok2idx_dict.get(str, 0) else all_tokens[0]\n",
        "\n",
        "def tok2idx(tok) -> int:\n",
        "  return tok2idx_dict.get(tok, 0)"
      ],
      "execution_count": 28,
      "outputs": [
        {
          "output_type": "stream",
          "text": [
            "5125 ['_unk_', '_eol_', '_cap_', '_up_', '!', '*', ',', '-', '--a++', '--ab++', '--ak++', '--al++', '--am…', '--ap++', '--ar++', '--ać…', '--ał…', '--a…', '--b++', '--ba', '--ba++', '--bach', '--bacz', '--baj', '--bam', '--ban', '--bar++', '--basz', '--bat', '--baw', '--bać', '--bał', '--ba…', '--be++', '--bec', '--bej', '--bek', '--bel', '--bem', '--bez++', '--beł++', '--bi', '--bi++', '--bia', '--bia++', '--biad', '--biam', '--biaz++', '--biać', '--biał']\n"
          ],
          "name": "stdout"
        }
      ]
    },
    {
      "cell_type": "markdown",
      "metadata": {
        "id": "zaNxdcoMADVS"
      },
      "source": [
        "Przyda nam się funkcja do zakodowania dowolnego tekstu na listę zsylabizowanych tokenów:"
      ]
    },
    {
      "cell_type": "code",
      "metadata": {
        "id": "rDQqpRYzxT4L"
      },
      "source": [
        "def str2syl2tok(text):  \n",
        "  fn_tmp_text_caps = Path(tmp_path / 'tmp_text_caps1.txt')\n",
        "  fn_tmp_text_syl = Path(tmp_path / 'tmp_text_syl1.txt')\n",
        "  \n",
        "  text = do_caps(text)\n",
        "  fn_tmp_text_caps.open('w').write(text)\n",
        "  \n",
        "  !$stemmer_bin -s 7683 -d bin/stemmer2.dic -i $fn_tmp_text_caps -o $fn_tmp_text_syl\n",
        "  \n",
        "  text_syl = fn_tmp_text_syl.open('r').read()\n",
        "  \n",
        "  # kill last \\n eol char possibly added by stemmer\n",
        "  if text_syl[-1] == '\\n':\n",
        "    text_syl = text_syl[:-1]\n",
        "\n",
        "  text_tok = tokenize(text_syl, repl_unk=True)\n",
        "    \n",
        "  return text_tok"
      ],
      "execution_count": 29,
      "outputs": []
    },
    {
      "cell_type": "code",
      "metadata": {
        "id": "gwnDdj75paVP",
        "colab": {
          "base_uri": "https://localhost:8080/"
        },
        "outputId": "5fd3de46-7f63-44d1-e4ca-9708c8128d55"
      },
      "source": [
        "tekst = 'W dość wczesnych godzinach sierpniowego, cichego, niedzielnego popołudnia Tereska Kępińska siedziała przy biurku w swoim pokoju '\n",
        "tekst_tok = str2syl2tok(tekst); print(tekst_tok)"
      ],
      "execution_count": 30,
      "outputs": [
        {
          "output_type": "stream",
          "text": [
            "['_cap_', 'w', 'dość', 'wczes++', '--nych', 'go++', '--dzi++', '--nach', 'sier++', '--pnio++', '--we++', '--go', ',', 'ci++', '--che++', '--go', ',', 'nie++', '--dziel++', '--ne++', '--go', 'po++', '--po++', '--łu++', '--dnia', '_cap_', 'te++', '--res++', '--ka', '_cap_', 'kę++', '--piń++', '--ska', 'sie++', '--dzia++', '--ła', 'przy', 'biur++', '--ku', 'w', 'swoim', 'po++', '--ko++', '--ju']\n"
          ],
          "name": "stdout"
        }
      ]
    },
    {
      "cell_type": "markdown",
      "metadata": {
        "id": "bAUKI80V6CvK"
      },
      "source": [
        "Funkcje pomocnicze do zdekodowania listy tokenów na tekst:"
      ]
    },
    {
      "cell_type": "code",
      "metadata": {
        "id": "JzAAi_95yyXq",
        "colab": {
          "base_uri": "https://localhost:8080/"
        },
        "outputId": "c56466cd-c655-4319-de8a-7249d2f394b7"
      },
      "source": [
        "def syl2str(a_list, delim='/'): \n",
        "  s = ' '.join(a_list)\n",
        "  \n",
        "  repl_list = [\n",
        "      ('++ --', delim), \n",
        "  ]\n",
        "  for repl in repl_list:\n",
        "    s = s.replace(repl[0], repl[1])\n",
        "  \n",
        "  return s\n",
        "\n",
        "print(syl2str(tekst_tok))"
      ],
      "execution_count": 31,
      "outputs": [
        {
          "output_type": "stream",
          "text": [
            "_cap_ w dość wczes/nych go/dzi/nach sier/pnio/we/go , ci/che/go , nie/dziel/ne/go po/po/łu/dnia _cap_ te/res/ka _cap_ kę/piń/ska sie/dzia/ła przy biur/ku w swoim po/ko/ju\n"
          ],
          "name": "stdout"
        }
      ]
    },
    {
      "cell_type": "code",
      "metadata": {
        "id": "pUs-bnu5q2FF",
        "colab": {
          "base_uri": "https://localhost:8080/"
        },
        "outputId": "88132e8f-6cfd-4c3a-bab0-a5ad9b52699b"
      },
      "source": [
        "def decode_tokens(e_str):\n",
        "  # decode _eol_, _cap_ and _up_\n",
        "  # leave _unk_ token alone\n",
        "  e_syl = e_str.split(' ')\n",
        "  e_syl2 = []\n",
        "\n",
        "  cap = False; up = False\n",
        "\n",
        "  for syl in e_syl:\n",
        "    if syl == '_eol_': syl = '\\n'\n",
        "\n",
        "    if syl not in ['_cap_', '_up_']:\n",
        "      if cap == True: syl = syl.title(); cap = False\n",
        "      if up == True: syl = syl.upper(); up = False        \n",
        "      e_syl2.append(syl)\n",
        "\n",
        "    if syl == '_cap_': cap = True\n",
        "    if syl == '_up_': up = True\n",
        "\n",
        "  return ' '.join(e_syl2)\n",
        "\n",
        "print(decode_tokens(syl2str(tekst_tok, delim=''))[:300])"
      ],
      "execution_count": 32,
      "outputs": [
        {
          "output_type": "stream",
          "text": [
            "W dość wczesnych godzinach sierpniowego , cichego , niedzielnego popołudnia Tereska Kępińska siedziała przy biurku w swoim pokoju\n"
          ],
          "name": "stdout"
        }
      ]
    },
    {
      "cell_type": "code",
      "metadata": {
        "id": "pqbQLawfrV-n",
        "colab": {
          "base_uri": "https://localhost:8080/"
        },
        "outputId": "76eff94a-99f8-4820-88c6-b1ee4972f098"
      },
      "source": [
        "def fix_punctuation(s): \n",
        "  repl_list = [\n",
        "      ('\\n ', '\\n'), \n",
        "      (' ,', ','),\n",
        "      (' .', '.'),\n",
        "      (' !', '!'),\n",
        "      (' ?', '?'),\n",
        "      (' ;', ';'),\n",
        "      ('( ', '('),\n",
        "      (' )', ')'),\n",
        "      (' «', '«'),\n",
        "      ('» ', '»'),\n",
        "      (' :', ':')\n",
        "  ]\n",
        "  \n",
        "  for repl in repl_list:\n",
        "    s = s.replace(repl[0], repl[1])\n",
        "  \n",
        "  return s\n",
        "\n",
        "print(fix_punctuation(decode_tokens(syl2str(tekst_tok, delim='')))[:300])"
      ],
      "execution_count": 33,
      "outputs": [
        {
          "output_type": "stream",
          "text": [
            "W dość wczesnych godzinach sierpniowego, cichego, niedzielnego popołudnia Tereska Kępińska siedziała przy biurku w swoim pokoju\n"
          ],
          "name": "stdout"
        }
      ]
    },
    {
      "cell_type": "markdown",
      "metadata": {
        "id": "v2VJHqQmCyuT"
      },
      "source": [
        "Sformatujmy zdekodowany tekst w HTML i zaznaczmy na czerwono sylaby, z których nie dało się skleić słów."
      ]
    },
    {
      "cell_type": "code",
      "metadata": {
        "id": "WFj5nGp5yyYI",
        "colab": {
          "base_uri": "https://localhost:8080/",
          "height": 34
        },
        "outputId": "fd68576e-dd8e-4279-96b7-7104c74a644e"
      },
      "source": [
        "class X(str):\n",
        "    def rpl(self, p, c='lightgray'):\n",
        "        return X(self.replace(p, f'<font color=\"{c}\">{p}</font>'))\n",
        "    def rpl2(self, p, p2):\n",
        "        return X(self.replace(p, p2))\n",
        "      \n",
        "def format_html(e_str):\n",
        "  return X(e_str).rpl('/').rpl('--', c='red').rpl('++', c='red').rpl2('\\n', '\\n<br/>')\n",
        "\n",
        "e_str = fix_punctuation(decode_tokens(syl2str(tekst_tok, delim='')))[:400]\n",
        "e_html = format_html(e_str); display(HTML(e_html))"
      ],
      "execution_count": 34,
      "outputs": [
        {
          "output_type": "display_data",
          "data": {
            "text/html": [
              "W dość wczesnych godzinach sierpniowego, cichego, niedzielnego popołudnia Tereska Kępińska siedziała przy biurku w swoim pokoju"
            ],
            "text/plain": [
              "<IPython.core.display.HTML object>"
            ]
          },
          "metadata": {
            "tags": []
          }
        }
      ]
    },
    {
      "cell_type": "markdown",
      "metadata": {
        "id": "nnmXGTva5nw-"
      },
      "source": [
        "## Przygotowanie treningu"
      ]
    },
    {
      "cell_type": "markdown",
      "metadata": {
        "id": "2cIY0S4g0gZo"
      },
      "source": [
        "### GPU?"
      ]
    },
    {
      "cell_type": "code",
      "metadata": {
        "id": "2hTjsshick9K",
        "colab": {
          "base_uri": "https://localhost:8080/"
        },
        "outputId": "85c3a9c7-b1e1-4389-b392-5c740bc37fe8"
      },
      "source": [
        "USE_GPU = torch.cuda.is_available(); \n",
        "# USE_GPU = False; \n",
        "\n",
        "print(f'USE_GPU={USE_GPU}')\n",
        "\n",
        "def to_gpu(x, *args, **kwargs):\n",
        "    return x.cuda(*args, **kwargs) if USE_GPU else x"
      ],
      "execution_count": 35,
      "outputs": [
        {
          "output_type": "stream",
          "text": [
            "USE_GPU=True\n"
          ],
          "name": "stdout"
        }
      ]
    },
    {
      "cell_type": "markdown",
      "metadata": {
        "id": "X5cFLx6WXM5X"
      },
      "source": [
        "### Budowa sieci rekurencyjnej\n",
        "\n",
        "Ten model przyjmie jako wejściie token dla kroku $ t _ {- 1} $ i ma wyprowadzić następny token $ t $. Istnieją trzy warstwy - jedna warstwa liniowa, która koduje znak wejściowy do stanu wewnętrznego, jedna warstwa GRU (która może sama mieć wiele warstw), która działa na tym stanie wewnętrznym i stanie ukrytym, oraz warstwa dekodera, która wyprowadza rozkład prawdopodobieństwa."
      ]
    },
    {
      "cell_type": "code",
      "metadata": {
        "id": "tZ8chQcVXM5X"
      },
      "source": [
        "class RNN(nn.Module):\n",
        "    def __init__(self, input_size, hidden_size, output_size, n_layers=1):\n",
        "        super(RNN, self).__init__()\n",
        "        self.input_size = input_size\n",
        "        self.hidden_size = hidden_size\n",
        "        self.output_size = output_size\n",
        "        self.n_layers = n_layers\n",
        "        \n",
        "        self.encoder = nn.Embedding(input_size, hidden_size)\n",
        "        self.gru = nn.GRU(hidden_size, hidden_size, n_layers)\n",
        "        self.decoder = nn.Linear(hidden_size, output_size)\n",
        "    \n",
        "    def forward(self, input, hidden):\n",
        "        input = self.encoder(input.view(1, -1))\n",
        "        output, hidden = self.gru(input.view(1, 1, -1), hidden)\n",
        "        output = self.decoder(output.view(1, -1))\n",
        "        return output, hidden\n",
        "\n",
        "    def init_hidden(self):\n",
        "        return Variable(to_gpu(torch.zeros(self.n_layers, 1, self.hidden_size)))"
      ],
      "execution_count": 36,
      "outputs": []
    },
    {
      "cell_type": "markdown",
      "metadata": {
        "id": "62XSRFgkXM5Z"
      },
      "source": [
        "### Tensory wejściowe i docelowe"
      ]
    },
    {
      "cell_type": "markdown",
      "metadata": {
        "id": "lL_XOG-fXM5T"
      },
      "source": [
        "Aby stworzyć 'wejścia' z tego dużego ciągu danych, podzielimy go na kawałki po 400 sylab:"
      ]
    },
    {
      "cell_type": "code",
      "metadata": {
        "id": "_zwmRSAHXM5T",
        "colab": {
          "base_uri": "https://localhost:8080/"
        },
        "outputId": "c4a73317-7ede-4a86-c50b-e6a890a39e8d"
      },
      "source": [
        "chunk_len = 400\n",
        "\n",
        "def random_chunk():\n",
        "    start_index = random.randint(0, file_tok_len - chunk_len -1)\n",
        "    end_index = start_index + chunk_len + 1\n",
        "    return file_tok[start_index:end_index]\n",
        "  \n",
        "n_samples = file_tok_len // chunk_len; n_samples, file_tok_len"
      ],
      "execution_count": 37,
      "outputs": [
        {
          "output_type": "execute_result",
          "data": {
            "text/plain": [
              "(466, 186486)"
            ]
          },
          "metadata": {
            "tags": []
          },
          "execution_count": 37
        }
      ]
    },
    {
      "cell_type": "markdown",
      "metadata": {
        "id": "UaOPvn0rXM5Z"
      },
      "source": [
        "Każdy 'kawałek' zostanie przekształcony w tensor, a dokładnie w `LongTensor` (używany do wartości całkowitych), poprzez przepuszczenie wszystkich tokenów ciągu i wyszukiwanie indeksu każdej sylaby w `all_tokens`."
      ]
    },
    {
      "cell_type": "code",
      "metadata": {
        "id": "q0H2nwMMXM5a"
      },
      "source": [
        "# Turn token list into list of longs\n",
        "def tok_tensor(token_list):\n",
        "    tensor = torch.zeros(len(token_list)).long()\n",
        "    for c in range(len(token_list)):\n",
        "        tensor[c] = tok2idx(token_list[c])\n",
        "    \n",
        "    return Variable(to_gpu(tensor))"
      ],
      "execution_count": 38,
      "outputs": []
    },
    {
      "cell_type": "code",
      "metadata": {
        "id": "zrTEI7EjyyX2",
        "colab": {
          "base_uri": "https://localhost:8080/"
        },
        "outputId": "fdd4cb18-9549-4f3c-cfe9-8cf1ae726d2f"
      },
      "source": [
        "tekst = 'W dość wczesnych godzinach sierpniowego, cichego, niedzielnego popołudnia Tereska Kępińska siedziała przy biurku w swoim pokoju '\n",
        "tekst_tok = str2syl2tok(tekst)\n",
        "print(tekst_tok)\n",
        "print(tok_tensor(tekst_tok))"
      ],
      "execution_count": 39,
      "outputs": [
        {
          "output_type": "stream",
          "text": [
            "['_cap_', 'w', 'dość', 'wczes++', '--nych', 'go++', '--dzi++', '--nach', 'sier++', '--pnio++', '--we++', '--go', ',', 'ci++', '--che++', '--go', ',', 'nie++', '--dziel++', '--ne++', '--go', 'po++', '--po++', '--łu++', '--dnia', '_cap_', 'te++', '--res++', '--ka', '_cap_', 'kę++', '--piń++', '--ska', 'sie++', '--dzia++', '--ła', 'przy', 'biur++', '--ku', 'w', 'swoim', 'po++', '--ko++', '--ju']\n",
            "tensor([3087, 4616, 3389, 4638, 1630, 3537,  670, 1504, 4240, 1748, 2606,  872,\n",
            "           6, 3282,  215,  872,    6, 3943,  685, 1521,  872, 4081, 1754, 2936,\n",
            "         564, 3087, 4511, 1857, 1034, 3087, 3771, 1737, 2069, 4237,  672, 2895,\n",
            "        4113, 3143, 1180, 4616, 4404, 4081, 1114, 1010], device='cuda:0')\n"
          ],
          "name": "stdout"
        }
      ]
    },
    {
      "cell_type": "markdown",
      "metadata": {
        "id": "0Su49JvFXM5d"
      },
      "source": [
        "Wreszcie możemy zmontować parę tensorów wejściowych i docelowych do treningu, z losowego kawałka. Wejściem zostaną wszystkie tokeny * aż do przedostatniego*, a celem (targetem) będą wszystkie tokeny * od drugiego*. Jeśli więc nasz kawałek to \"abc\", wejście będzie odpowiadać \"ab\", podczas gdy cel to \"bc\"."
      ]
    },
    {
      "cell_type": "code",
      "metadata": {
        "id": "mLzzsbTRXM5d",
        "colab": {
          "base_uri": "https://localhost:8080/"
        },
        "outputId": "38c843b0-2b78-4072-dac8-298293fd7cc5"
      },
      "source": [
        "def random_training_set():  \n",
        "    chunk = random_chunk()\n",
        "    inp = tok_tensor(chunk[:-1])\n",
        "    target = tok_tensor(chunk[1:])\n",
        "    return inp, target\n",
        "  \n",
        "inp, target = random_training_set(); inp[:9], target[:9]"
      ],
      "execution_count": 40,
      "outputs": [
        {
          "output_type": "execute_result",
          "data": {
            "text/plain": [
              "(tensor([3088, 3088, 5109, 3087, 4092, 2630, 3981, 4081,  470], device='cuda:0'),\n",
              " tensor([3088, 5109, 3087, 4092, 2630, 3981, 4081,  470, 1180], device='cuda:0'))"
            ]
          },
          "metadata": {
            "tags": []
          },
          "execution_count": 40
        }
      ]
    },
    {
      "cell_type": "markdown",
      "metadata": {
        "id": "vSJ_szQTXM5f"
      },
      "source": [
        "### Ewaluacja wyników\n",
        "\n",
        "Aby ocenić sieć, będziemy podawać po jednym tokenie na raz, wykorzystywać wyjścia sieci jako rozkład prawdopodobieństwa dla następnego znaku i powtarzać. Aby rozpocząć generowanie, przekazujemy ciąg wstępny, aby rozpocząć budowanie stanu ukrytego, z którego następnie generujemy po jednym tokenie na raz."
      ]
    },
    {
      "cell_type": "code",
      "metadata": {
        "id": "2ecqC4rWXM5f"
      },
      "source": [
        "def evaluate(prime_tokl=[all_tokens[1]], predict_len=100, temperature=0.8):\n",
        "    hidden = decoder.init_hidden()\n",
        "    prime_input = tok_tensor(prime_tokl)\n",
        "    predicted = list(prime_tokl)  # need a copy of the list\n",
        "\n",
        "    # Use priming token list to \"build up\" hidden state\n",
        "    for p in range(len(prime_tokl) - 1):\n",
        "        _, hidden = decoder(prime_input[p], hidden)\n",
        "    inp = prime_input[-1]\n",
        "    \n",
        "    for p in range(predict_len):\n",
        "        output, hidden = decoder(inp, hidden)\n",
        "        \n",
        "        # Sample from the network as a multinomial distribution\n",
        "        output_dist = output.data.view(-1).div(temperature).exp()\n",
        "        \n",
        "        # in pytorch 0.4.0 max, min fail if there are Infs or nans\n",
        "        # https://github.com/pytorch/pytorch/issues/6996\n",
        "        # in all pytorch versions multinomial fails if there are Infs or nans\n",
        "        # https://github.com/pytorch/pytorch/issues/871\n",
        "        # temp fix, kill Infs and nans\n",
        "        # https://discuss.pytorch.org/t/how-to-set-inf-in-tensor-variable-to-0/10235\n",
        "        output_dist[output_dist == float(\"Inf\")] = 0\n",
        "        output_dist[output_dist == float(\"nan\")] = 0\n",
        "        \n",
        "        top_i = torch.multinomial(output_dist, 1)[0].item()\n",
        "        \n",
        "        # Add predicted token to the list and use as next input\n",
        "        predicted_token = all_tokens[top_i]\n",
        "        predicted.append(predicted_token)\n",
        "        inp = tok_tensor([predicted_token])\n",
        "\n",
        "    return predicted"
      ],
      "execution_count": 41,
      "outputs": []
    },
    {
      "cell_type": "markdown",
      "metadata": {
        "id": "lZY0fPgEXM5h"
      },
      "source": [
        "## Trening sieci"
      ]
    },
    {
      "cell_type": "markdown",
      "metadata": {
        "id": "-pM5T97tXM5h"
      },
      "source": [
        "Funkcja pomocnicza do wydrukowania upływającego czasu:"
      ]
    },
    {
      "cell_type": "code",
      "metadata": {
        "id": "hQnLeX-TXM5h"
      },
      "source": [
        "def time_since(since):\n",
        "    s = time.time() - since\n",
        "    m = math.floor(s / 60)\n",
        "    s -= m * 60\n",
        "    return '%dm %ds' % (m, s)"
      ],
      "execution_count": 42,
      "outputs": []
    },
    {
      "cell_type": "markdown",
      "metadata": {
        "id": "0pntPTWEXM5i"
      },
      "source": [
        "Główna funkcja treningowa:"
      ]
    },
    {
      "cell_type": "code",
      "metadata": {
        "id": "QKb7-MeXXM5j"
      },
      "source": [
        "def train(inp, target):\n",
        "    hidden = decoder.init_hidden()\n",
        "    decoder.zero_grad()\n",
        "    loss = 0\n",
        "\n",
        "    for c in range(chunk_len):\n",
        "        output, hidden = decoder(inp[c], hidden)\n",
        "        loss += criterion(output, target[c].expand(1))\n",
        "\n",
        "    loss.backward()\n",
        "    decoder_optimizer.step()\n",
        "\n",
        "    return loss.item() / chunk_len"
      ],
      "execution_count": 43,
      "outputs": []
    },
    {
      "cell_type": "markdown",
      "metadata": {
        "id": "2EiZtEsA0571"
      },
      "source": [
        "Opcjonalny monitoring postępu treningu:"
      ]
    },
    {
      "cell_type": "code",
      "metadata": {
        "id": "HpYR9j3qyyYF"
      },
      "source": [
        "USE_VISDOM = False\n",
        "\n",
        "vis = None\n",
        "if USE_VISDOM:\n",
        "    import visdom\n",
        "    vis = visdom.Visdom(port=8890)\n",
        "\n",
        "def vis_update_line_chart(vis, name, x, y, first_step):\n",
        "    if not USE_VISDOM: return\n",
        "    vis.line(Y=np.array([y]), X=np.array([x]), win=name, opts=dict(title=name),\n",
        "             update=None if first_step else 'append')\n",
        "\n",
        "def vis_update_text_win(vis, name, text):\n",
        "    if not USE_VISDOM: return\n",
        "    vis.text(text, win=name, opts=dict(title=name), append=False)"
      ],
      "execution_count": 44,
      "outputs": []
    },
    {
      "cell_type": "markdown",
      "metadata": {
        "id": "5sjJFcYJDzZ2"
      },
      "source": [
        "Wskaźnik liczby sylab, z których nie dało się skleić słów:"
      ]
    },
    {
      "cell_type": "code",
      "metadata": {
        "id": "tY2U1vt4yyYK"
      },
      "source": [
        "def bad_words(e_syl): e_str = syl2str(e_syl); return (e_str.count('++') + e_str.count('--')) / len(e_syl)"
      ],
      "execution_count": 45,
      "outputs": []
    },
    {
      "cell_type": "markdown",
      "metadata": {
        "id": "tyo69fakXM5k"
      },
      "source": [
        "Następnie definiujemy parametry treningowe i rozpoczynamy trening:"
      ]
    },
    {
      "cell_type": "markdown",
      "metadata": {
        "id": "Yil4dzzz44dH"
      },
      "source": [
        "1. Sieć ta sama jak w przykładzie z tymi samymi parametrami\n",
        "\n"
      ]
    },
    {
      "cell_type": "code",
      "metadata": {
        "colab": {
          "base_uri": "https://localhost:8080/",
          "height": 1000
        },
        "id": "qJwS_G7Z43m4",
        "outputId": "aa715903-857c-4cfb-e7d6-f39903725f31"
      },
      "source": [
        "n_epochs = 1\n",
        "n_iters = n_epochs * n_samples\n",
        "print_every = n_samples // 2\n",
        "plot_every = n_samples // 4\n",
        "hidden_size = 500\n",
        "n_layers = 3\n",
        "lr = 0.001\n",
        "\n",
        "decoder = RNN(n_tokens, hidden_size, n_tokens, n_layers)\n",
        "if USE_GPU:\n",
        "    decoder.cuda()\n",
        "print(decoder, flush=True)\n",
        "\n",
        "decoder_optimizer = torch.optim.Adam(decoder.parameters(), lr=lr)\n",
        "criterion = nn.CrossEntropyLoss()\n",
        "if USE_GPU:\n",
        "    criterion.cuda()\n",
        "\n",
        "all_losses = []\n",
        "loss_avg = 0\n",
        "all_bw = []\n",
        "bw_avg = 0\n",
        "\n",
        "iterable = range(1, n_iters + 1)\n",
        "tqdm_ = tqdm(iterable, '', leave=False, dynamic_ncols=True, mininterval=1.0, ascii=True, miniters=1)\n",
        "first_step = True\n",
        "\n",
        "prime_tok = str2syl2tok('Nauka psa czystości – jak sprawnie nauczyć psa załatwiać się na dworze?')\n",
        "\n",
        "start = time.time()\n",
        "\n",
        "for it in tqdm_:\n",
        "    epoch = 1 + it // n_samples\n",
        "    loss = train(*random_training_set())       \n",
        "    loss_avg += loss\n",
        "\n",
        "    # current loss chart\n",
        "    vis_update_line_chart(vis, 'loss', it, loss, it == 1)\n",
        "\n",
        "    # bad words    \n",
        "    bw = bad_words(evaluate(prime_tok, 100))\n",
        "    bw_avg += bw\n",
        "\n",
        "    # current bad words chart\n",
        "    vis_update_line_chart(vis, 'bad_words', it, bw, it == 1)\n",
        "    \n",
        "    # progress_bar\n",
        "    tqdm_.set_postfix({'epoch': f'{epoch}/{n_epochs}', 'loss': loss, 'bw': bw})\n",
        "    text = f'&nbsp;<font color=\"red\">{tqdm_}</font>'\n",
        "    vis_update_text_win(vis, 'progress_bar', text)\n",
        "\n",
        "    if it % print_every == 0:\n",
        "        e_syl = evaluate(prime_tok, 1000)\n",
        "        e_bw = bad_words(e_syl)\n",
        "        stats_str = '\\n[%s (%d %d %d%%) loss=%.4f bw=%.4f]' % (time_since(start), epoch, it, it / n_iters * 100, loss, e_bw)\n",
        "        print(stats_str)\n",
        "        \n",
        "        e_str = fix_punctuation(decode_tokens(syl2str(e_syl, delim='')))\n",
        "        e_html = format_html(e_str); display(HTML(e_html))\n",
        "        print(flush=True)        \n",
        "        \n",
        "        text = f'<b>{stats_str}</b><br />{e_html}'\n",
        "        vis_update_text_win(vis, 'evaluation', text)\n",
        "        \n",
        "        e_syl_path = tmp_path / 'e_syl.txt'\n",
        "        e_syl_path.open('w').write(' '.join(e_syl))\n",
        "\n",
        "    if it % plot_every == 0:\n",
        "        vis_update_line_chart(vis, 'loss_avg', it, loss_avg / plot_every, first_step)\n",
        "        vis_update_line_chart(vis, 'bad_words_avg', it, bw_avg / plot_every, first_step)\n",
        "        all_bw.append(bw)\n",
        "        bw_avg = 0\n",
        "        first_step = False\n",
        "        all_losses.append(loss_avg / plot_every)\n",
        "        loss_avg = 0\n",
        "\n",
        "plt.figure()\n",
        "plt.plot(all_losses)\n",
        "\n",
        "ALLTOKS, MODEL = ['all_tokens', 'model']\n",
        "fn_zwyczajne_zycie1 = {ALLTOKS: f'all_tokens.n{n_tokens}.zwyczajne-zycie1.p', \n",
        "                  MODEL: f'zwyczajne-zycie1.h{hidden_size}.l{n_layers}.e{n_epochs}.gpu.torch'}\n",
        "fn_dict = fn_zwyczajne_zycie1; fn_dict\n",
        "\n",
        "# save all_tokens\n",
        "all_tokens_path = tmp_path / fn_dict[ALLTOKS]\n",
        "pickle.dump(all_tokens, open(all_tokens_path, 'wb'))\n",
        "\n",
        "warnings.filterwarnings('ignore')\n",
        "\n",
        "# save model\n",
        "model_path = tmp_path / fn_dict[MODEL]\n",
        "torch.save(decoder, model_path)"
      ],
      "execution_count": 50,
      "outputs": [
        {
          "output_type": "stream",
          "text": [
            "RNN(\n",
            "  (encoder): Embedding(5125, 500)\n",
            "  (gru): GRU(500, 500, num_layers=3)\n",
            "  (decoder): Linear(in_features=500, out_features=5125, bias=True)\n",
            ")\n"
          ],
          "name": "stdout"
        },
        {
          "output_type": "stream",
          "text": [
            " 50%|####9     | 231/466 [03:05<03:04,  1.27it/s, epoch=1/1, loss=6.19, bw=0.368]"
          ],
          "name": "stderr"
        },
        {
          "output_type": "stream",
          "text": [
            "\n",
            "[3m 5s (1 233 50%) loss=6.1899 bw=0.4078]\n"
          ],
          "name": "stdout"
        },
        {
          "output_type": "display_data",
          "data": {
            "text/html": [
              "Nauka psa czystości – jak sprawnie nauczyć psa załatwiać się na dworze? –. Potej drobsza<font color=\"red\">++</font> ochętchęt<font color=\"red\">++</font> i <font color=\"red\">--</font>le <font color=\"red\">--</font>nie spo<font color=\"red\">++</font> pilnął <font color=\"red\">--</font>ni<font color=\"red\">++</font>, <font color=\"red\">--</font>ment związki, <font color=\"red\">--</font>no <font color=\"red\">--</font>dem <font color=\"red\">--</font>ła <font color=\"red\">--</font>nie <font color=\"red\">--</font>wu<font color=\"red\">++</font> – zaniu bez <font color=\"red\">--</font>jetoka <font color=\"red\">--</font>tem runa <font color=\"red\">--</font>tem roz<font color=\"red\">++</font>, <font color=\"red\">--</font>sgo<font color=\"red\">++</font> teką <font color=\"red\">--</font>dzy skarło się <font color=\"red\">--</font>bie. <font color=\"red\">--</font>Res<font color=\"red\">++</font>. Po<font color=\"red\">++</font> pa<font color=\"red\">++</font> gamie. – \n",
              "<br/>\n",
              "<br/>Barda<font color=\"red\">++</font> zbyt <font color=\"red\">--</font>wę pro<font color=\"red\">++</font> skrę<font color=\"red\">++</font> była <font color=\"red\">--</font>bie. Wybrzyd<font color=\"red\">++</font> Wławile <font color=\"red\">--</font>ka <font color=\"red\">--</font>ka <font color=\"red\">--</font>bie na<font color=\"red\">++</font> i się po <font color=\"red\">--</font>na <font color=\"red\">--</font>wąt<font color=\"red\">++</font> So<font color=\"red\">++</font> i w nie i zaka, <font color=\"red\">--</font>dzie się, <font color=\"red\">--</font>pom<font color=\"red\">++</font> kło<font color=\"red\">++</font> nie <font color=\"red\">--</font>dzi, <font color=\"red\">--</font>ła ocy dwa nie, i ale <font color=\"red\">--</font>ła. – Się w mrukcze <font color=\"red\">--</font>wie<font color=\"red\">++</font> dokiem <font color=\"red\">--</font>cha<font color=\"red\">++</font>. \n",
              "<br/>\n",
              "<br/><font color=\"red\">--</font>Wa<font color=\"red\">++</font> za<font color=\"red\">++</font> wra<font color=\"red\">++</font>. Gdzie zgo<font color=\"red\">++</font> do się <font color=\"red\">--</font>ło <font color=\"red\">--</font>ło powró<font color=\"red\">++</font>! O <font color=\"red\">--</font>ży<font color=\"red\">++</font> wy<font color=\"red\">++</font> się <font color=\"red\">--</font>fa Na mo<font color=\"red\">++</font> dzi<font color=\"red\">++</font> po<font color=\"red\">++</font>, <font color=\"red\">--</font>raz po<font color=\"red\">++</font> na<font color=\"red\">++</font> u<font color=\"red\">++</font> te<font color=\"red\">++</font> i <font color=\"red\">--</font>ba<font color=\"red\">++</font> poni<font color=\"red\">++</font>. \n",
              "<br/>\n",
              "<br/>\n",
              "<br/>\n",
              "<br/>\n",
              "<br/>Pokim <font color=\"red\">--</font>reswo<font color=\"red\">++</font> z <font color=\"red\">--</font>Ła <font color=\"red\">--</font>ka. <font color=\"red\">--</font>Cho<font color=\"red\">++</font> przy<font color=\"red\">++</font> – <font color=\"red\">--</font>wają <font color=\"red\">--</font>ła <font color=\"red\">--</font>dział się <font color=\"red\">--</font>chasz<font color=\"red\">++</font> zro<font color=\"red\">++</font>, pororesrat ra<font color=\"red\">++</font> przy. \n",
              "<br/>– by<font color=\"red\">++</font> to onych ta w, <font color=\"red\">--</font>dzin po<font color=\"red\">++</font> się za<font color=\"red\">++</font> tyl<font color=\"red\">++</font> nie, – ją <font color=\"red\">--</font>je do<font color=\"red\">++</font> z. – Nie<font color=\"red\">++</font>! Wiby prze<font color=\"red\">++</font> tak, nie <font color=\"red\">--</font>co<font color=\"red\">++</font>, bę<font color=\"red\">++</font> pu<font color=\"red\">++</font> co sa<font color=\"red\">++</font> <font color=\"red\">--</font>Bie <font color=\"red\">--</font>te<font color=\"red\">++</font> cykłana <font color=\"red\">--</font>ś<font color=\"red\">++</font> na <font color=\"red\">--</font>Wi<font color=\"red\">++</font> na ciąsza<font color=\"red\">++</font> tam stoi. <font color=\"red\">--</font>Po<font color=\"red\">++</font> wszy<font color=\"red\">++</font> się <font color=\"red\">--</font>ra<font color=\"red\">++</font> ru<font color=\"red\">++</font> <font color=\"red\">--</font>Wie<font color=\"red\">++</font> Ją u <font color=\"red\">--</font>ka <font color=\"red\">--</font>tem działreres<font color=\"red\">++</font> tu się kró<font color=\"red\">++</font>? \n",
              "<br/>Przez jak <font color=\"red\">--</font>pa<font color=\"red\">++</font>, <font color=\"red\">--</font>do<font color=\"red\">++</font>, prze<font color=\"red\">++</font> uwako <font color=\"red\">--</font>nires<font color=\"red\">++</font> się Ogo ten a <font color=\"red\">--</font>no<font color=\"red\">++</font> że wydoter<font color=\"red\">++</font> do<font color=\"red\">++</font> welament po<font color=\"red\">++</font> się, <font color=\"red\">--</font>ła <font color=\"red\">--</font>ka<font color=\"red\">++</font> spe<font color=\"red\">++</font> i poez<font color=\"red\">++</font> był sa<font color=\"red\">++</font> nie pu<font color=\"red\">++</font> wie<font color=\"red\">++</font>! – poła <font color=\"red\">--</font>li. Się pała <font color=\"red\">--</font>res<font color=\"red\">++</font>, <font color=\"red\">--</font>ły znów <font color=\"red\">--</font>ki jale <font color=\"red\">--</font>bigo<font color=\"red\">++</font> i <font color=\"red\">--</font>ta pa<font color=\"red\">++</font>! <font color=\"red\">--</font>Jścia zro<font color=\"red\">++</font> pokoił się, <font color=\"red\">--</font>kać pobiepijąc nie <font color=\"red\">--</font>łanieirzę <font color=\"red\">--</font>mała stra<font color=\"red\">++</font> poju <font color=\"red\">--</font>ni <font color=\"red\">--</font>poresście. \n",
              "<br/>Coś <font color=\"red\">--</font>lę bra<font color=\"red\">++</font> za<font color=\"red\">++</font> ski<font color=\"red\">++</font>, <font color=\"red\">--</font>na raz się <font color=\"red\">--</font>ją<font color=\"red\">++</font> po<font color=\"red\">++</font> \n",
              "<br/>\n",
              "<br/>\n",
              "<br/><font color=\"red\">--</font>Mu gło<font color=\"red\">++</font>, po<font color=\"red\">++</font> na się <font color=\"red\">--</font>bił. <font color=\"red\">--</font>Ru. \n",
              "<br/>– <font color=\"red\">--</font>Tro się marwachoną jak <font color=\"red\">--</font>ne peł<font color=\"red\">++</font> w przy<font color=\"red\">++</font> odni<font color=\"red\">++</font> z caszli <font color=\"red\">--</font>sięmu<font color=\"red\">++</font> paje<font color=\"red\">++</font> się <font color=\"red\">--</font>ła nas po<font color=\"red\">++</font> ma<font color=\"red\">++</font> ra<font color=\"red\">++</font> nie<font color=\"red\">++</font> by<font color=\"red\">++</font>! \n",
              "<br/><font color=\"red\">--</font>Szyra<font color=\"red\">++</font> poka, <font color=\"red\">--</font>mu <font color=\"red\">--</font>po<font color=\"red\">++</font> z wy<font color=\"red\">++</font> rozrożcje <font color=\"red\">--</font>nie <font color=\"red\">--</font>rzy by<font color=\"red\">++</font>, się że, zdziła <font color=\"red\">--</font>kiem <font color=\"red\">--</font>ło ta<font color=\"red\">++</font> z. \n",
              "<br/>– Wiem – <font color=\"red\">--</font>jdzie <font color=\"red\">--</font>wać. Wy<font color=\"red\">++</font> co <font color=\"red\">--</font>gu<font color=\"red\">++</font> i <font color=\"red\">--</font>co<font color=\"red\">++</font> moż<font color=\"red\">++</font> się! Po teba war<font color=\"red\">++</font> tyda <font color=\"red\">--</font>je w! \n",
              "<br/>A u<font color=\"red\">++</font> ponej zała <font color=\"red\">--</font>by <font color=\"red\">--</font>mi <font color=\"red\">--</font>bo<font color=\"red\">++</font> doka. Ze, <font color=\"red\">--</font>spek<font color=\"red\">++</font>. <font color=\"red\">--</font>niazie. <font color=\"red\">--</font>Strzegł że je<font color=\"red\">++</font> i<font color=\"red\">++</font> \n",
              "<br/>– Pocho<font color=\"red\">++</font> dzielbodu <font color=\"red\">--</font>totgę wy<font color=\"red\">++</font> pre<font color=\"red\">++</font> że na<font color=\"red\">++</font>,. <font color=\"red\">--</font>Re<font color=\"red\">++</font> co <font color=\"red\">--</font>wa <font color=\"red\">--</font>do<font color=\"red\">++</font>, się ży<font color=\"red\">++</font>. – <font color=\"red\">--</font>Ka ta<font color=\"red\">++</font> do nie <font color=\"red\">--</font>wie<font color=\"red\">++</font> się bę<font color=\"red\">++</font> jak sym<font color=\"red\">++</font> unia. \n",
              "<br/>\n",
              "<br/>\n",
              "<br/><font color=\"red\">--</font>Ła że <font color=\"red\">--</font>jąc <font color=\"red\">--</font>brnę <font color=\"red\">--</font>jąc się w ten oni i jeni Wszę<font color=\"red\">++</font> się się ro<font color=\"red\">++</font> po za<font color=\"red\">++</font> takój <font color=\"red\">--</font>jąc się <font color=\"red\">--</font>mi z <font color=\"red\">--</font>oś<font color=\"red\">++</font> o \n",
              "<br/>W co za<font color=\"red\">++</font> Szkokieś roz<font color=\"red\">++</font> i się wła<font color=\"red\">++</font> Na międ<font color=\"red\">++</font> się., \n",
              "<br/>\n",
              "<br/>W ob<font color=\"red\">++</font> go<font color=\"red\">++</font>? \n",
              "<br/>– – chyżeszył i. <font color=\"red\">--</font>Ła <font color=\"red\">--</font>wa<font color=\"red\">++</font> mam <font color=\"red\">--</font>wiam, moso<font color=\"red\">++</font>. – Ores<font color=\"red\">++</font>. Mu<font color=\"red\">++</font> wszelła <font color=\"red\">--</font>ja<font color=\"red\">++</font> po<font color=\"red\">++</font> by<font color=\"red\">++</font> te<font color=\"red\">++</font> mo<font color=\"red\">++</font> paczmo<font color=\"red\">++</font> się ga<font color=\"red\">++</font>. <font color=\"red\">--</font>Ki w nie<font color=\"red\">++</font>, <font color=\"red\">--</font>Żesz nieznała te<font color=\"red\">++</font> przytych<font color=\"red\">++</font> ale I, poła to<font color=\"red\">++</font> wyniej raz <font color=\"red\">--</font>res<font color=\"red\">++</font> pie<font color=\"red\">++</font> nie<font color=\"red\">++</font>. Z. \n",
              "<br/>O<font color=\"red\">++</font> od<font color=\"red\">++</font> wra<font color=\"red\">++</font> wspię<font color=\"red\">++</font>, <font color=\"red\">--</font>nej ga<font color=\"red\">++</font> nie. \n",
              "<br/>\n",
              "<br/><font color=\"red\">--</font>Czcić <font color=\"red\">--</font>łaś, łup nic bezgu<font color=\"red\">++</font> bracji <font color=\"red\">--</font>łam <font color=\"red\">--</font>nej <font color=\"red\">--</font>kiem <font color=\"red\">--</font>stoli<font color=\"red\">++</font> posi <font color=\"red\">--</font>ła <font color=\"red\">--</font>ną się do <font color=\"red\">--</font>nia<font color=\"red\">++</font> po że \n",
              "<br/>\n",
              "<br/>\n",
              "<br/><font color=\"red\">--</font>Nicią zadu <font color=\"red\">--</font>jdźmy nacz<font color=\"red\">++</font>. – – – po<font color=\"red\">++</font>, <font color=\"red\">--</font>runko <font color=\"red\">--</font>Jąc. Nie tro<font color=\"red\">++</font> do <font color=\"red\">--</font>kać <font color=\"red\">--</font>t<font color=\"red\">++</font> i \n",
              "<br/><font color=\"red\">--</font>Ła <font color=\"red\">--</font>ław<font color=\"red\">++</font>, tym rozbietdzia<font color=\"red\">++</font>, <font color=\"red\">--</font>dem z gaką <font color=\"red\">--</font>ku. Spo<font color=\"red\">++</font> po<font color=\"red\">++</font> fa<font color=\"red\">++</font>, na <font color=\"red\">--</font>wsze, – <font color=\"red\">--</font>lidu <font color=\"red\">--</font>go <font color=\"red\">--</font>wac<font color=\"red\">++</font>, <font color=\"red\">--</font>nął. <font color=\"red\">--</font>Mo<font color=\"red\">++</font> to a mani \n",
              "<br/><font color=\"red\">--</font>Ści <font color=\"red\">--</font>żo <font color=\"red\">--</font>koj<font color=\"red\">++</font> nie<font color=\"red\">++</font> się <font color=\"red\">--</font>stoo<font color=\"red\">++</font> się <font color=\"red\">--</font>ła po motej zaś nie <font color=\"red\">--</font>monie <font color=\"red\">--</font>mi<font color=\"red\">++</font>, po<font color=\"red\">++</font> na za<font color=\"red\">++</font>? \n",
              "<br/>\n",
              "<br/><font color=\"red\">--</font>Cyły <font color=\"red\">--</font>kiem nie <font color=\"red\">--</font>sz<font color=\"red\">++</font> ures<font color=\"red\">++</font> się przemie <font color=\"red\">--</font>kich i <font color=\"red\">--</font>cą wró<font color=\"red\">++</font> ma <font color=\"red\">--</font>du, <font color=\"red\">--</font>Niu <font color=\"red\">--</font>doczkich <font color=\"red\">--</font>nie <font color=\"red\">--</font>tworła <font color=\"red\">--</font>ła i <font color=\"red\">--</font>szydnak<font color=\"red\">++</font> po<font color=\"red\">++</font> i <font color=\"red\">--</font>lo<font color=\"red\">++</font> nie <font color=\"red\">--</font>sy <font color=\"red\">--</font>nic do <font color=\"red\">--</font>ny <font color=\"red\">--</font>nych skrę<font color=\"red\">++</font> u<font color=\"red\">++</font> jedy nie przetrzę! \n",
              "<br/>– jak dla<font color=\"red\">++</font> się,, <font color=\"red\">--</font>res<font color=\"red\">++</font> śmierki swo<font color=\"red\">++</font> nie po<font color=\"red\">++</font> ca<font color=\"red\">++</font> zyg<font color=\"red\">++</font>, czym nabo<font color=\"red\">++</font> Od<font color=\"red\">++</font>, że <font color=\"red\">--</font>ni<font color=\"red\">++</font>, <font color=\"red\">--</font>Cy, <font color=\"red\">--</font>skie<font color=\"red\">++</font> nie już. Znów ki<font color=\"red\">++</font> pory, <font color=\"red\">--</font>wa<font color=\"red\">++</font> pomie<font color=\"red\">++</font>, <font color=\"red\">--</font>mi. <font color=\"red\">--</font>Tawa<font color=\"red\">++</font> wszy<font color=\"red\">++</font> przez <font color=\"red\">--</font>we, <font color=\"red\">--</font>sta<font color=\"red\">++</font> się Mu<font color=\"red\">++</font> mubretednaknusto<font color=\"red\">++</font> się po<font color=\"red\">++</font>, <font color=\"red\">--</font>ni \n",
              "<br/>\n",
              "<br/>Pof<font color=\"red\">++</font>, <font color=\"red\">--</font>raskaka <font color=\"red\">--</font>wi<font color=\"red\">++</font> przy<font color=\"red\">++</font> po<font color=\"red\">++</font> nie jest <font color=\"red\">--</font>szanych <font color=\"red\">--</font>dzy, <font color=\"red\">--</font>nięki do<font color=\"red\">++</font> ko<font color=\"red\">++</font> pala<font color=\"red\">++</font>. Pajacy <font color=\"red\">--</font>tem na iste<font color=\"red\">++</font>, <font color=\"red\">--</font>ła <font color=\"red\">--</font>pra<font color=\"red\">++</font> pa<font color=\"red\">++</font>, <font color=\"red\">--</font>sób <font color=\"red\">--</font>roż<font color=\"red\">++</font> poonu<font color=\"red\">++</font>, <font color=\"red\">--</font>sie <font color=\"red\">--</font>gómiemokludzior mikoił <font color=\"red\">--</font>ka opowy <font color=\"red\">--</font>go.? <font color=\"red\">--</font>Ła ciem<font color=\"red\">++</font> poki. Bynia"
            ],
            "text/plain": [
              "<IPython.core.display.HTML object>"
            ]
          },
          "metadata": {
            "tags": []
          }
        },
        {
          "output_type": "stream",
          "text": [
            "\n"
          ],
          "name": "stdout"
        },
        {
          "output_type": "stream",
          "text": [
            "100%|#########9| 465/466 [06:11<00:00,  1.26it/s, epoch=2/1, loss=5.8, bw=0.184] "
          ],
          "name": "stderr"
        },
        {
          "output_type": "stream",
          "text": [
            "\n",
            "[6m 11s (2 466 100%) loss=5.8011 bw=0.2468]\n"
          ],
          "name": "stdout"
        },
        {
          "output_type": "display_data",
          "data": {
            "text/html": [
              "Nauka psa czystości – jak sprawnie nauczyć psa załatwiać się na dworze? \n",
              "<br/>– Ożynie. Te<font color=\"red\">++</font> bę<font color=\"red\">++</font> i <font color=\"red\">--</font>dział o<font color=\"red\">++</font> przepła<font color=\"red\">++</font> drugana i że <font color=\"red\">--</font>Mej. \n",
              "<br/>\n",
              "<br/>–, padziej, zno<font color=\"red\">++</font> <font color=\"red\">--</font>Cki <font color=\"red\">--</font>cie, po<font color=\"red\">++</font> o<font color=\"red\">++</font> lazł wy<font color=\"red\">++</font> jak <font color=\"red\">--</font>koj<font color=\"red\">++</font>, <font color=\"red\">--</font>remi <font color=\"red\">--</font>sobdnijąszżewe ją. Tetady tych i pod<font color=\"red\">++</font> oko<font color=\"red\">++</font> nony. – Owie<font color=\"red\">++</font> \n",
              "<br/>\n",
              "<br/>\n",
              "<br/>\n",
              "<br/>A gło<font color=\"red\">++</font> i a <font color=\"red\">--</font>działo, <font color=\"red\">--</font>żykiem o<font color=\"red\">++</font> nic <font color=\"red\">--</font>lę bar<font color=\"red\">++</font> popadł <font color=\"red\">--</font>ninie gwałła <font color=\"red\">--</font>lę. <font color=\"red\">--</font>Krętszcia <font color=\"red\">--</font>stana pa<font color=\"red\">++</font> prę<font color=\"red\">++</font> – tu<font color=\"red\">++</font>, <font color=\"red\">--</font>Stanpiał, jeły. – Bez<font color=\"red\">++</font> a<font color=\"red\">++</font>. \n",
              "<br/>\n",
              "<br/>– I, wszy<font color=\"red\">++</font>. \n",
              "<br/>– <font color=\"red\">--</font>Kręt<font color=\"red\">++</font> do po<font color=\"red\">++</font> wiem, nie o<font color=\"red\">++</font>, poreswy się wraczeciaż. \n",
              "<br/>\n",
              "<br/>–, zającie, <font color=\"red\">--</font>binie <font color=\"red\">--</font>nym \n",
              "<br/>– <font color=\"red\">--</font>Dem <font color=\"red\">--</font>szły mnie. <font color=\"red\">--</font>Nowy. Bar<font color=\"red\">++</font> nic co? \n",
              "<br/>O<font color=\"red\">++</font> – mówwawy. \n",
              "<br/>\n",
              "<br/>– <font color=\"red\">--</font>Tak<font color=\"red\">++</font> – u<font color=\"red\">++</font> nie że da<font color=\"red\">++</font> by<font color=\"red\">++</font> i w krzykwo wrają<font color=\"red\">++</font> ja<font color=\"red\">++</font>. \n",
              "<br/>\n",
              "<br/><font color=\"red\">--</font>Cież dziraz, – poc<font color=\"red\">++</font> ob<font color=\"red\">++</font>. – <font color=\"red\">--</font>Krętczraz jak <font color=\"red\">--</font>jąć, że okie <font color=\"red\">--</font>cze okrętła. <font color=\"red\">--</font>Wiedziesz duchu łajeresła członych. Nie wy<font color=\"red\">++</font> faka. Jeła Ja w, po<font color=\"red\">++</font> <font color=\"red\">--</font>Ry Kieki. Magwał. \n",
              "<br/>– Go? – z co dzi<font color=\"red\">++</font> z <font color=\"red\">--</font>Guś <font color=\"red\">--</font>żyw<font color=\"red\">++</font>, się <font color=\"red\">--</font>ne nonie, sła<font color=\"red\">++</font> Z odmen<font color=\"red\">++</font>. <font color=\"red\">--</font>Kiej, co <font color=\"red\">--</font>sta<font color=\"red\">++</font> się. – Młod<font color=\"red\">++</font> linmo<font color=\"red\">++</font> u<font color=\"red\">++</font> tadaresły na <font color=\"red\">--</font>Cha do<font color=\"red\">++</font> spo<font color=\"red\">++</font> wiel<font color=\"red\">++</font> z to Na o<font color=\"red\">++</font> co <font color=\"red\">--</font>uniu, jej ni<font color=\"red\">++</font> pokrętły Osika \n",
              "<br/>– Tu tu <font color=\"red\">--</font>mięcze<font color=\"red\">++</font> jej. Wśród <font color=\"red\">--</font>nercia. <font color=\"red\">--</font>Czajjąc <font color=\"red\">--</font>łu przy<font color=\"red\">++</font>, <font color=\"red\">--</font>zuły trzykim. \n",
              "<br/>U<font color=\"red\">++</font> ro<font color=\"red\">++</font> ty <font color=\"red\">--</font>niaka mysz <font color=\"red\">--</font>kiem <font color=\"red\">--</font>t<font color=\"red\">++</font> je, bez abła się oła peraz z tak od <font color=\"red\">--</font>bie<font color=\"red\">++</font> i Doraz \n",
              "<br/>– Prze<font color=\"red\">++</font> tena, za<font color=\"red\">++</font> on po<font color=\"red\">++</font> jeka za<font color=\"red\">++</font> i <font color=\"red\">--</font>bolanie za<font color=\"red\">++</font> pół<font color=\"red\">++</font>. <font color=\"red\">--</font>Dzej! \n",
              "<br/>– – Pocze<font color=\"red\">++</font> sfo<font color=\"red\">++</font> i <font color=\"red\">--</font>ko <font color=\"red\">--</font>ko \n",
              "<br/>\n",
              "<br/>– Ozyg<font color=\"red\">++</font>., – jeka bar<font color=\"red\">++</font> się się. Pan skie<font color=\"red\">++</font> się A ro<font color=\"red\">++</font> cię – <font color=\"red\">--</font>wrowi<font color=\"red\">++</font>. <font color=\"red\">--</font>Raźrał <font color=\"red\">--</font>dział. – Ko<font color=\"red\">++</font>. \n",
              "<br/>\n",
              "<br/>– Fanigo jeka zaświad<font color=\"red\">++</font> poba<font color=\"red\">++</font> i, czy odziała W <font color=\"red\">--</font>krętnie <font color=\"red\">--</font>lgą, teła Do<font color=\"red\">++</font>. Po<font color=\"red\">++</font> że po<font color=\"red\">++</font> jarym go<font color=\"red\">++</font> niką <font color=\"red\">--</font>kry<font color=\"red\">++</font> po<font color=\"red\">++</font> tę, nie u<font color=\"red\">++</font> zjeż<font color=\"red\">++</font>. <font color=\"red\">--</font>Brawwresła,! \n",
              "<br/>– Prze<font color=\"red\">++</font> iry dość, spydniły. – Nie de<font color=\"red\">++</font> się, już podziate<font color=\"red\">++</font>. Wywacześci? Mieć wiem niech <font color=\"red\">--</font>wie<font color=\"red\">++</font> w kieła <font color=\"red\">--</font>kie wyczu<font color=\"red\">++</font>. \n",
              "<br/>\n",
              "<br/>– Koniejba <font color=\"red\">--</font>dział, bo <font color=\"red\">--</font>ba <font color=\"red\">--</font>ły, to poszył. Ponych bu<font color=\"red\">++</font> trzeną <font color=\"red\">--</font>wie<font color=\"red\">++</font> zmarciu <font color=\"red\">--</font>ka, czy – <font color=\"red\">--</font>dzie Teniu Po<font color=\"red\">++</font> o<font color=\"red\">++</font> z w <font color=\"red\">--</font>teraz na już <font color=\"red\">--</font>cho fiz<font color=\"red\">++</font>, nie tenem napęły. \n",
              "<br/>\n",
              "<br/>– Wie<font color=\"red\">++</font> rą<font color=\"red\">++</font> cho<font color=\"red\">++</font>?, pudchał. <font color=\"red\">--</font>Ciaż nie utowba do moka od przy po<font color=\"red\">++</font> już przy <font color=\"red\">--</font>gólgo <font color=\"red\">--</font>parł in<font color=\"red\">++</font>, zociądem! – <font color=\"red\">--</font>jrzały tu<font color=\"red\">++</font> stoło, po<font color=\"red\">++</font> przewła do<font color=\"red\">++</font> ko<font color=\"red\">++</font>. \n",
              "<br/>\n",
              "<br/>– Nie o <font color=\"red\">--</font>Mapieła, porwał <font color=\"red\">--</font>łe ogiej – U<font color=\"red\">++</font> ruki się chwi<font color=\"red\">++</font>. <font color=\"red\">--</font>sku na <font color=\"red\">--</font>Maiwjąły <font color=\"red\">--</font>ła! <font color=\"red\">--</font>Jrzago się, <font color=\"red\">--</font>sob<font color=\"red\">++</font> serresła Nidziechać do bęły <font color=\"red\">--</font>chy<font color=\"red\">++</font> na <font color=\"red\">--</font>Choną sona. \n",
              "<br/>\n",
              "<br/>– <font color=\"red\">--</font>Liły chy<font color=\"red\">++</font> O<font color=\"red\">++</font> oddzień <font color=\"red\">--</font>ły wy<font color=\"red\">++</font> i Jak kiewy <font color=\"red\">--</font>ce. \n",
              "<br/>\n",
              "<br/>– <font color=\"red\">--</font>Wnie <font color=\"red\">--</font>dział ko<font color=\"red\">++</font>, <font color=\"red\">--</font>nucy<font color=\"red\">++</font> zbro<font color=\"red\">++</font> w ale <font color=\"red\">--</font>że<font color=\"red\">++</font> zie<font color=\"red\">++</font>. \n",
              "<br/>\n",
              "<br/>– – Wes<font color=\"red\">++</font> oda<font color=\"red\">++</font>? – wy<font color=\"red\">++</font> zgoła kona możnę. – – Co prze<font color=\"red\">++</font> Że – poniło kodzie<font color=\"red\">++</font>. \n",
              "<br/>\n",
              "<br/>– Raz <font color=\"red\">--</font>lił z tanęno – za<font color=\"red\">++</font> fizdo<font color=\"red\">++</font> pu<font color=\"red\">++</font>. \n",
              "<br/>\n",
              "<br/>Odmu i i się ro<font color=\"red\">++</font> przycząć, u<font color=\"red\">++</font> wi<font color=\"red\">++</font> od<font color=\"red\">++</font> wyzawacze któpidzeły. poliła? Proszę chwinie <font color=\"red\">--</font>szutenie – krzy<font color=\"red\">++</font> czas dan<font color=\"red\">++</font> wy<font color=\"red\">++</font> tewała <font color=\"red\">--</font>Guś <font color=\"red\">--</font>nęt<font color=\"red\">++</font> w teres<font color=\"red\">++</font> dzilu<font color=\"red\">++</font>, pleła i Nie wienie! \n",
              "<br/>– Miewy nic. <font color=\"red\">--</font>Krętła ty moż<font color=\"red\">++</font>. U<font color=\"red\">++</font> że <font color=\"red\">--</font>kie u<font color=\"red\">++</font> pojędnie. \n",
              "<br/>\n",
              "<br/>– do <font color=\"red\">--</font>Czej wy<font color=\"red\">++</font> nie. <font color=\"red\">--</font>Ni<font color=\"red\">++</font> za tewka, bywła <font color=\"red\">--</font>kie, <font color=\"red\">--</font>sta<font color=\"red\">++</font> od <font color=\"red\">--</font>krętci<font color=\"red\">++</font>. Teo<font color=\"red\">++</font> kiele się u<font color=\"red\">++</font> dwie dzine ro<font color=\"red\">++</font> księ<font color=\"red\">++</font>? – po<font color=\"red\">++</font> zo<font color=\"red\">++</font> z nie nie ranęcz<font color=\"red\">++</font>. – Miero o<font color=\"red\">++</font> wy<font color=\"red\">++</font>, że tece nie dozie cegwała. – Powiekrętw<font color=\"red\">++</font>? O<font color=\"red\">++</font> a żewiecia<font color=\"red\">++</font> gwałło<font color=\"red\">++</font> nie znaresła, O<font color=\"red\">++</font> przewił. \n",
              "<br/>\n",
              "<br/>O<font color=\"red\">++</font> pękli, od<font color=\"red\">++</font> się <font color=\"red\">--</font>ko nie i <font color=\"red\">--</font>wie<font color=\"red\">++</font> w z pena, ale <font color=\"red\">--</font>ry nie po<font color=\"red\">++</font> w to stawać, <font color=\"red\">--</font>kę"
            ],
            "text/plain": [
              "<IPython.core.display.HTML object>"
            ]
          },
          "metadata": {
            "tags": []
          }
        },
        {
          "output_type": "stream",
          "text": [
            "\n"
          ],
          "name": "stdout"
        },
        {
          "output_type": "stream",
          "text": [
            ""
          ],
          "name": "stderr"
        },
        {
          "output_type": "display_data",
          "data": {
            "image/png": "[encoded data removed]",
            "text/plain": [
              "<Figure size 640x480 with 1 Axes>"
            ]
          },
          "metadata": {
            "tags": []
          }
        }
      ]
    },
    {
      "cell_type": "markdown",
      "metadata": {
        "id": "vBDf97gh4Q3V"
      },
      "source": [
        "2. Ta sama sieć, zmienione hiperparametry:\n",
        "n_layers z 3 -> 6\n",
        "n_epochs z 1 -> 5"
      ]
    },
    {
      "cell_type": "code",
      "metadata": {
        "id": "ILThkaRPXM5k",
        "colab": {
          "base_uri": "https://localhost:8080/",
          "height": 1000
        },
        "outputId": "a319b48a-4ad6-4c8e-effe-d330b4fcc4be"
      },
      "source": [
        "n_epochs = 5\n",
        "n_iters = n_epochs * n_samples\n",
        "print_every = n_samples // 2\n",
        "plot_every = n_samples // 4\n",
        "hidden_size = 500\n",
        "n_layers = 6\n",
        "lr = 0.001\n",
        "\n",
        "decoder = RNN(n_tokens, hidden_size, n_tokens, n_layers)\n",
        "if USE_GPU:\n",
        "    decoder.cuda()\n",
        "print(decoder, flush=True)\n",
        "\n",
        "decoder_optimizer = torch.optim.Adam(decoder.parameters(), lr=lr)\n",
        "criterion = nn.CrossEntropyLoss()\n",
        "if USE_GPU:\n",
        "    criterion.cuda()\n",
        "\n",
        "all_losses = []\n",
        "loss_avg = 0\n",
        "all_bw = []\n",
        "bw_avg = 0\n",
        "\n",
        "iterable = range(1, n_iters + 1)\n",
        "tqdm_ = tqdm(iterable, '', leave=False, dynamic_ncols=True, mininterval=1.0, ascii=True, miniters=1)\n",
        "first_step = True\n",
        "\n",
        "prime_tok = str2syl2tok('Nauka psa czystości – jak sprawnie nauczyć psa załatwiać się na dworze?')\n",
        "\n",
        "start = time.time()\n",
        "\n",
        "for it in tqdm_:\n",
        "    epoch = 1 + it // n_samples\n",
        "    loss = train(*random_training_set())       \n",
        "    loss_avg += loss\n",
        "\n",
        "    # current loss chart\n",
        "    vis_update_line_chart(vis, 'loss', it, loss, it == 1)\n",
        "\n",
        "    # bad words    \n",
        "    bw = bad_words(evaluate(prime_tok, 100))\n",
        "    bw_avg += bw\n",
        "\n",
        "    # current bad words chart\n",
        "    vis_update_line_chart(vis, 'bad_words', it, bw, it == 1)\n",
        "    \n",
        "    # progress_bar\n",
        "    tqdm_.set_postfix({'epoch': f'{epoch}/{n_epochs}', 'loss': loss, 'bw': bw})\n",
        "    text = f'&nbsp;<font color=\"red\">{tqdm_}</font>'\n",
        "    vis_update_text_win(vis, 'progress_bar', text)\n",
        "\n",
        "    if it % print_every == 0:\n",
        "        e_syl = evaluate(prime_tok, 1000)\n",
        "        e_bw = bad_words(e_syl)\n",
        "        stats_str = '\\n[%s (%d %d %d%%) loss=%.4f bw=%.4f]' % (time_since(start), epoch, it, it / n_iters * 100, loss, e_bw)\n",
        "        print(stats_str)\n",
        "        \n",
        "        e_str = fix_punctuation(decode_tokens(syl2str(e_syl, delim='')))\n",
        "        e_html = format_html(e_str); display(HTML(e_html))\n",
        "        print(flush=True)        \n",
        "        \n",
        "        text = f'<b>{stats_str}</b><br />{e_html}'\n",
        "        vis_update_text_win(vis, 'evaluation', text)\n",
        "        \n",
        "        e_syl_path = tmp_path / 'e_syl.txt'\n",
        "        e_syl_path.open('w').write(' '.join(e_syl))\n",
        "\n",
        "    if it % plot_every == 0:\n",
        "        vis_update_line_chart(vis, 'loss_avg', it, loss_avg / plot_every, first_step)\n",
        "        vis_update_line_chart(vis, 'bad_words_avg', it, bw_avg / plot_every, first_step)\n",
        "        all_bw.append(bw)\n",
        "        bw_avg = 0\n",
        "        first_step = False\n",
        "        all_losses.append(loss_avg / plot_every)\n",
        "        loss_avg = 0\n",
        "\n",
        "plt.figure()\n",
        "plt.plot(all_losses)\n",
        "\n",
        "\n",
        "ALLTOKS, MODEL = ['all_tokens', 'model']\n",
        "fn_zwyczajne_zycie2 = {ALLTOKS: f'all_tokens.n{n_tokens}.zwyczajne-zycie2.p', \n",
        "                  MODEL: f'zwyczajne-zycie2.h{hidden_size}.l{n_layers}.e{n_epochs}.gpu.torch'}\n",
        "fn_dict = fn_zwyczajne_zycie2; fn_dict\n",
        "\n",
        "# save all_tokens\n",
        "all_tokens_path = tmp_path / fn_dict[ALLTOKS]\n",
        "pickle.dump(all_tokens, open(all_tokens_path, 'wb'))\n",
        "\n",
        "warnings.filterwarnings('ignore')\n",
        "\n",
        "# save model\n",
        "model_path = tmp_path / fn_dict[MODEL]\n",
        "torch.save(decoder, model_path)"
      ],
      "execution_count": 51,
      "outputs": [
        {
          "output_type": "stream",
          "text": [
            "RNN(\n",
            "  (encoder): Embedding(5125, 500)\n",
            "  (gru): GRU(500, 500, num_layers=6)\n",
            "  (decoder): Linear(in_features=500, out_features=5125, bias=True)\n",
            ")\n"
          ],
          "name": "stdout"
        },
        {
          "output_type": "stream",
          "text": [
            " 10%|9         | 232/2330 [04:41<41:41,  1.19s/it, epoch=1/5, loss=6.39, bw=0.4]  "
          ],
          "name": "stderr"
        },
        {
          "output_type": "stream",
          "text": [
            "\n",
            "[4m 41s (1 233 10%) loss=6.3906 bw=0.4683]\n"
          ],
          "name": "stdout"
        },
        {
          "output_type": "display_data",
          "data": {
            "text/html": [
              "Nauka psa czystości – jak sprawnie nauczyć psa załatwiać się na dworze? <font color=\"red\">--</font>noca<font color=\"red\">++</font> nie <font color=\"red\">--</font>mysmy <font color=\"red\">--</font>łat<font color=\"red\">++</font> z wy<font color=\"red\">++</font> wyko<font color=\"red\">++</font> już na te<font color=\"red\">++</font>, u<font color=\"red\">++</font> dał u<font color=\"red\">++</font> chy<font color=\"red\">++</font> krzyłat<font color=\"red\">++</font>. przy <font color=\"red\">--</font>pore<font color=\"red\">++</font> z po<font color=\"red\">++</font> zno<font color=\"red\">++</font> W du<font color=\"red\">++</font> czesowne <font color=\"red\">--</font>Jściem <font color=\"red\">--</font>jmu<font color=\"red\">++</font> \n",
              "<br/>, <font color=\"red\">--</font>sa<font color=\"red\">++</font> nim <font color=\"red\">--</font>wią <font color=\"red\">--</font>pa<font color=\"red\">++</font> przy<font color=\"red\">++</font>, <font color=\"red\">--</font>nie po<font color=\"red\">++</font> po<font color=\"red\">++</font>, <font color=\"red\">--</font>ra<font color=\"red\">++</font> – <font color=\"red\">--</font>by nie nie<font color=\"red\">++</font> na i góła \n",
              "<br/><font color=\"red\">--</font>my bę<font color=\"red\">++</font> z z i jej Ja<font color=\"red\">++</font> w i z \n",
              "<br/>bu<font color=\"red\">++</font> ich <font color=\"red\">--</font>ją<font color=\"red\">++</font> poka <font color=\"red\">--</font>ba <font color=\"red\">--</font>ta <font color=\"red\">--</font>żyka<font color=\"red\">++</font> za<font color=\"red\">++</font> – no <font color=\"red\">--</font>wa do<font color=\"red\">++</font> to <font color=\"red\">--</font>li<font color=\"red\">++</font> chło<font color=\"red\">++</font> na, <font color=\"red\">--</font>sago <font color=\"red\">--</font>nie. <font color=\"red\">--</font>data<font color=\"red\">++</font> nas to<font color=\"red\">++</font>? <font color=\"red\">--</font>no paka, <font color=\"red\">--</font>bę <font color=\"red\">--</font>cz<font color=\"red\">++</font>, nienia, <font color=\"red\">--</font>dni<font color=\"red\">++</font>, i uczniem zło<font color=\"red\">++</font> te<font color=\"red\">++</font> u<font color=\"red\">++</font>, <font color=\"red\">--</font>wogo nie rozni<font color=\"red\">++</font> i <font color=\"red\">--</font>czegę wy<font color=\"red\">++</font> z <font color=\"red\">--</font>nie <font color=\"red\">--</font>du<font color=\"red\">++</font> po<font color=\"red\">++</font> z z <font color=\"red\">--</font>bija<font color=\"red\">++</font> głuczyć <font color=\"red\">--</font>ło <font color=\"red\">--</font>gół nieść – pra<font color=\"red\">++</font> \n",
              "<br/>i <font color=\"red\">--</font>ro <font color=\"red\">--</font>zus. <font color=\"red\">--</font>rię roz<font color=\"red\">++</font> mo<font color=\"red\">++</font> pu<font color=\"red\">++</font> nie <font color=\"red\">--</font>kiet \n",
              "<br/>i <font color=\"red\">--</font>kie<font color=\"red\">++</font>,., do <font color=\"red\">--</font>ty <font color=\"red\">--</font>my To<font color=\"red\">++</font> i <font color=\"red\">--</font>że<font color=\"red\">++</font> Pędzi<font color=\"red\">++</font>! \n",
              "<br/>ty \n",
              "<br/><font color=\"red\">--</font>łem, ok<font color=\"red\">++</font> po<font color=\"red\">++</font> Przenie <font color=\"red\">--</font>koją<font color=\"red\">++</font> go u<font color=\"red\">++</font> na a <font color=\"red\">--</font>go <font color=\"red\">--</font>cho<font color=\"red\">++</font> i te<font color=\"red\">++</font>, <font color=\"red\">--</font>go <font color=\"red\">--</font>świad<font color=\"red\">++</font> oły spo<font color=\"red\">++</font> nie ro<font color=\"red\">++</font>? <font color=\"red\">--</font>wać miot<font color=\"red\">++</font> <font color=\"red\">--</font>Ki stąd poli<font color=\"red\">++</font> mu<font color=\"red\">++</font> byłochoka <font color=\"red\">--</font>ma kimś wte<font color=\"red\">++</font>,, <font color=\"red\">--</font>sz<font color=\"red\">++</font>, ju<font color=\"red\">++</font> żo<font color=\"red\">++</font> nie<font color=\"red\">++</font> też <font color=\"red\">--</font>nia <font color=\"red\">--</font>ło <font color=\"red\">--</font>kie<font color=\"red\">++</font> opli<font color=\"red\">++</font> przy <font color=\"red\">--</font>Tów jaś<font color=\"red\">++</font> wie<font color=\"red\">++</font> \n",
              "<br/><font color=\"red\">--</font>upad<font color=\"red\">++</font> raz e<font color=\"red\">++</font>, na, \n",
              "<br/>i <font color=\"red\">--</font>dzie <font color=\"red\">--</font>ska <font color=\"red\">--</font>ność <font color=\"red\">--</font>ne<font color=\"red\">++</font>. <font color=\"red\">--</font>ła <font color=\"red\">--</font>koją<font color=\"red\">++</font> i nie przejść <font color=\"red\">--</font>cić <font color=\"red\">--</font>rą \n",
              "<br/><font color=\"red\">--</font>pie<font color=\"red\">++</font> po<font color=\"red\">++</font> <font color=\"red\">--</font>Szar<font color=\"red\">++</font> i w <font color=\"red\">--</font>ła się się do <font color=\"red\">--</font>go nie <font color=\"red\">--</font>nia o<font color=\"red\">++</font> \n",
              "<br/><font color=\"red\">--</font>Jakę, <font color=\"red\">--</font>Nił popapad<font color=\"red\">++</font> tej, <font color=\"red\">--</font>kokę dzinia się <font color=\"red\">--</font>Mio<font color=\"red\">++</font>. to a jest <font color=\"red\">--</font>mi <font color=\"red\">--</font>ce <font color=\"red\">--</font>resny <font color=\"red\">--</font>go <font color=\"red\">--</font>cia swoto<font color=\"red\">++</font>, z złade<font color=\"red\">++</font> <font color=\"red\">--</font>Bił to \n",
              "<br/>skąd po i w pody pra<font color=\"red\">++</font> nie – peł<font color=\"red\">++</font> I od<font color=\"red\">++</font>. <font color=\"red\">--</font>dba <font color=\"red\">--</font>Poka po<font color=\"red\">++</font> w \n",
              "<br/>, się <font color=\"red\">--</font>dzie<font color=\"red\">++</font> jak ktoś dzi<font color=\"red\">++</font> nie<font color=\"red\">++</font> \n",
              "<br/>z, <font color=\"red\">--</font>go <font color=\"red\">--</font>waż Świe<font color=\"red\">++</font> wbrew <font color=\"red\">--</font>dni<font color=\"red\">++</font> ” w wy<font color=\"red\">++</font> nie ar<font color=\"red\">++</font>, sta<font color=\"red\">++</font> <font color=\"red\">--</font>Ny <font color=\"red\">--</font>re spó<font color=\"red\">++</font>, \n",
              "<br/><font color=\"red\">--</font>my <font color=\"red\">--</font>bie <font color=\"red\">--</font>na u<font color=\"red\">++</font> się mu<font color=\"red\">++</font>, i po<font color=\"red\">++</font> i <font color=\"red\">--</font>nych. <font color=\"red\">--</font>nie <font color=\"red\">--</font>wie bęgo brzo<font color=\"red\">++</font> przy jest, bu<font color=\"red\">++</font> oczy co – <font color=\"red\">--</font>my <font color=\"red\">--</font>ja<font color=\"red\">++</font>, te<font color=\"red\">++</font> zanie. <font color=\"red\">--</font>żą to kur<font color=\"red\">++</font> to <font color=\"red\">--</font>czsz<font color=\"red\">++</font> ten <font color=\"red\">--</font>stanie <font color=\"red\">--</font>tysu<font color=\"red\">++</font> Spra<font color=\"red\">++</font> I <font color=\"red\">--</font>wie, <font color=\"red\">--</font>u<font color=\"red\">++</font> <font color=\"red\">--</font>So<font color=\"red\">++</font>. <font color=\"red\">--</font>ła <font color=\"red\">--</font>mietem. <font color=\"red\">--</font>ca<font color=\"red\">++</font>. <font color=\"red\">--</font>pie <font color=\"red\">--</font>ranie trana co to jest <font color=\"red\">--</font>wiek <font color=\"red\">--</font>czdział do<font color=\"red\">++</font> z po<font color=\"red\">++</font> za<font color=\"red\">++</font> załat<font color=\"red\">++</font> sa<font color=\"red\">++</font>! Się do<font color=\"red\">++</font> Z <font color=\"red\">--</font>so<font color=\"red\">++</font> wie<font color=\"red\">++</font> \n",
              "<br/>ka<font color=\"red\">++</font> po<font color=\"red\">++</font> – <font color=\"red\">--</font>ady Ciącz<font color=\"red\">++</font> Sym<font color=\"red\">++</font>, <font color=\"red\">--</font>jąc! nie o<font color=\"red\">++</font> wipa<font color=\"red\">++</font> to w <font color=\"red\">--</font>śpie<font color=\"red\">++</font> do<font color=\"red\">++</font> u<font color=\"red\">++</font> mo<font color=\"red\">++</font> pale <font color=\"red\">--</font>nie z <font color=\"red\">--</font>dnię Spoce <font color=\"red\">--</font>go <font color=\"red\">--</font>ło. <font color=\"red\">--</font>dzciu tak, – \n",
              "<br/>że ro<font color=\"red\">++</font> tym <font color=\"red\">--</font>łat<font color=\"red\">++</font> pły<font color=\"red\">++</font> Na o<font color=\"red\">++</font> \n",
              "<br/>\n",
              "<br/>, <font color=\"red\">--</font>Go <font color=\"red\">--</font>ła na<font color=\"red\">++</font> koń<font color=\"red\">++</font> z <font color=\"red\">--</font>nia <font color=\"red\">--</font>sz<font color=\"red\">++</font> w <font color=\"red\">--</font>cio<font color=\"red\">++</font>. <font color=\"red\">--</font>sły<font color=\"red\">++</font> Myśl <font color=\"red\">--</font>cę <font color=\"red\">--</font>wia<font color=\"red\">++</font> gmenia po<font color=\"red\">++</font> \n",
              "<br/>to w <font color=\"red\">--</font>sza po <font color=\"red\">--</font>Wni<font color=\"red\">++</font>, <font color=\"red\">--</font>ko<font color=\"red\">++</font> do nie <font color=\"red\">--</font>wać do<font color=\"red\">++</font> Nie doby <font color=\"red\">--</font>tóż <font color=\"red\">--</font>pierw <font color=\"red\">--</font>cy<font color=\"red\">++</font> bar<font color=\"red\">++</font> z <font color=\"red\">--</font>ta. po<font color=\"red\">++</font> ta po<font color=\"red\">++</font> w <font color=\"red\">--</font>daczno<font color=\"red\">++</font>,, <font color=\"red\">--</font>go w <font color=\"red\">--</font>g<font color=\"red\">++</font> \n",
              "<br/>łu<font color=\"red\">++</font> słów. \n",
              "<br/><font color=\"red\">--</font>cę bar<font color=\"red\">++</font> po<font color=\"red\">++</font>, <font color=\"red\">--</font>Zu<font color=\"red\">++</font> roki poczowiek <font color=\"red\">--</font>czął \n",
              "<br/><font color=\"red\">--</font>szę na <font color=\"red\">--</font>wie te <font color=\"red\">--</font>no<font color=\"red\">++</font> ki<font color=\"red\">++</font> do, się <font color=\"red\">--</font>szy<font color=\"red\">++</font> u<font color=\"red\">++</font>, po<font color=\"red\">++</font> te<font color=\"red\">++</font> bo<font color=\"red\">++</font> już na nie teto<font color=\"red\">++</font>, <font color=\"red\">--</font>pa<font color=\"red\">++</font>, nie bo<font color=\"red\">++</font> jest <font color=\"red\">--</font>Mio<font color=\"red\">++</font> ro<font color=\"red\">++</font>. <font color=\"red\">--</font>dziasza<font color=\"red\">++</font>! ab<font color=\"red\">++</font> <font color=\"red\">--</font>Bił <font color=\"red\">--</font>ło <font color=\"red\">--</font>ła Ropie.. ro<font color=\"red\">++</font> nie<font color=\"red\">++</font> – że i <font color=\"red\">--</font>ka \n",
              "<br/><font color=\"red\">--</font>ku <font color=\"red\">--</font>miu \n",
              "<br/>po<font color=\"red\">++</font> nie <font color=\"red\">--</font>zien<font color=\"red\">++</font>. z <font color=\"red\">--</font>dzień <font color=\"red\">--</font>nuny <font color=\"red\">--</font>ży, trzece <font color=\"red\">--</font>czas – Ja<font color=\"red\">++</font>, dogo <font color=\"red\">--</font>jąkie<font color=\"red\">++</font> ale, <font color=\"red\">--</font>nie du<font color=\"red\">++</font> cany nie <font color=\"red\">--</font>nie by<font color=\"red\">++</font>,,, <font color=\"red\">--</font>cenie po for<font color=\"red\">++</font> czy za<font color=\"red\">++</font> mie<font color=\"red\">++</font> a<font color=\"red\">++</font> – wławał <font color=\"red\">--</font>kie I <font color=\"red\">--</font>rąsgo <font color=\"red\">--</font>go wy<font color=\"red\">++</font>, <font color=\"red\">--</font>koj<font color=\"red\">++</font> międra<font color=\"red\">++</font> z <font color=\"red\">--</font>li<font color=\"red\">++</font> i i <font color=\"red\">--</font>ła hidzie<font color=\"red\">++</font> –. w <font color=\"red\">--</font>sz<font color=\"red\">++</font> i na<font color=\"red\">++</font> za<font color=\"red\">++</font> ra<font color=\"red\">++</font>, <font color=\"red\">--</font>liwie czło<font color=\"red\">++</font> byna kło<font color=\"red\">++</font> że <font color=\"red\">--</font>ną \n",
              "<br/>kółkę <font color=\"red\">--</font>trzy<font color=\"red\">++</font> u<font color=\"red\">++</font> odzo <font color=\"red\">--</font>le<font color=\"red\">++</font> ze <font color=\"red\">--</font>wużyć <font color=\"red\">--</font>czo <font color=\"red\">--</font>piej się nie \n",
              "<br/>una? czy <font color=\"red\">--</font>rzył <font color=\"red\">--</font>ły <font color=\"red\">--</font>nie że <font color=\"red\">--</font>chu. się <font color=\"red\">--</font>Nie <font color=\"red\">--</font>nią <font color=\"red\">--</font>wać <font color=\"red\">--</font>dzić ob<font color=\"red\">++</font> pol<font color=\"red\">++</font> raz nie<font color=\"red\">++</font> z obie<font color=\"red\">++</font>. <font color=\"red\">--</font>kie<font color=\"red\">++</font>, dwóch, jena Ezał \n",
              "<br/>. z Chciają<font color=\"red\">++</font>. pany <font color=\"red\">--</font>czędo<font color=\"red\">++</font> zadzie u<font color=\"red\">++</font> – <font color=\"red\">--</font>ją<font color=\"red\">++</font> to wraki <font color=\"red\">--</font>ły <font color=\"red\">--</font>trzeb<font color=\"red\">++</font> W <font color=\"red\">--</font>go, <font color=\"red\">--</font>Ka po<font color=\"red\">++</font> po<font color=\"red\">++</font> nie z – <font color=\"red\">--</font>lisoraże., <font color=\"red\">--</font>kaceko <font color=\"red\">--</font>go <font color=\"red\">--</font>Nie, <font color=\"red\">--</font>soły bu<font color=\"red\">++</font> poła <font color=\"red\">--</font>du <font color=\"red\">--</font>sająła <font color=\"red\">--</font>bi<font color=\"red\">++</font> sieli<font color=\"red\">++</font>, <font color=\"red\">--</font>cu. wy<font color=\"red\">++</font> Przy<font color=\"red\">++</font> i <font color=\"red\">--</font>czękrętryna<font color=\"red\">++</font>. <font color=\"red\">--</font>sznie w dwie rę<font color=\"red\">++</font>, Nikt wepa<font color=\"red\">++</font> Się ra<font color=\"red\">++</font> – Złaszczy <font color=\"red\">--</font>nia, po<font color=\"red\">++</font>. <font color=\"red\">--</font>Cu <font color=\"red\">--</font>Tymo z \n",
              "<br/>tym <font color=\"red\">--</font>ja<font color=\"red\">++</font> na <font color=\"red\">--</font>cu zrodejść nie barła \n",
              "<br/><font color=\"red\">--</font>ją<font color=\"red\">++</font>, u<font color=\"red\">++</font>, <font color=\"red\">--</font>da<font color=\"red\">++</font> ta<font color=\"red\">++</font>, <font color=\"red\">--</font>tapogo<font color=\"red\">++</font> w <font color=\"red\">--</font>ną wy<font color=\"red\">++</font> po ze i nie – <font color=\"red\">--</font>ny <font color=\"red\">--</font>ne<font color=\"red\">++</font>, <font color=\"red\">--</font>czy te<font color=\"red\">++</font> marny <font color=\"red\">--</font>res<font color=\"red\">++</font> za <font color=\"red\">--</font>bo<font color=\"red\">++</font> ca<font color=\"red\">++</font> po<font color=\"red\">++</font>. niej <font color=\"red\">--</font>ła się na o<font color=\"red\">++</font> się <font color=\"red\">--</font>ła<font color=\"red\">++</font> po<font color=\"red\">++</font> co,, że<font color=\"red\">++</font>. <font color=\"red\">--</font>pe<font color=\"red\">++</font> i z że miej<font color=\"red\">++</font>. <font color=\"red\">--</font>stał <font color=\"red\">--</font>Nie się <font color=\"red\">--</font>ła u<font color=\"red\">++</font> w po<font color=\"red\">++</font> <font color=\"red\">--</font>Czas o<font color=\"red\">++</font>, z <font color=\"red\">--</font>go. się gdzie, <font color=\"red\">--</font>kręt<font color=\"red\">++</font> ugo się – <font color=\"red\">--</font>wie na <font color=\"red\">--</font>Chorozły <font color=\"red\">--</font>ła ten ru<font color=\"red\">++</font> tym nie ci<font color=\"red\">++</font> I podać praty<font color=\"red\">++</font>, <font color=\"red\">--</font>by nie<font color=\"red\">++</font> \n",
              "<br/>wy<font color=\"red\">++</font> w w niego to <font color=\"red\">--</font>kato<font color=\"red\">++</font> \n",
              "<br/>janie o<font color=\"red\">++</font> za<font color=\"red\">++</font> ona pe<font color=\"red\">++</font>, co o,! <font color=\"red\">--</font>szs<font color=\"red\">++</font>, chy<font color=\"red\">++</font> z,"
            ],
            "text/plain": [
              "<IPython.core.display.HTML object>"
            ]
          },
          "metadata": {
            "tags": []
          }
        },
        {
          "output_type": "stream",
          "text": [
            "\n"
          ],
          "name": "stdout"
        },
        {
          "output_type": "stream",
          "text": [
            " 20%|#9        | 465/2330 [09:25<37:23,  1.20s/it, epoch=2/5, loss=6.49, bw=0.344]"
          ],
          "name": "stderr"
        },
        {
          "output_type": "stream",
          "text": [
            "\n",
            "[9m 25s (2 466 20%) loss=6.4851 bw=0.4088]\n"
          ],
          "name": "stdout"
        },
        {
          "output_type": "display_data",
          "data": {
            "text/html": [
              "Nauka psa czystości – jak sprawnie nauczyć psa załatwiać się na dworze? \n",
              "<br/>I, nie, <font color=\"red\">--</font>rę scho<font color=\"red\">++</font> o<font color=\"red\">++</font> po<font color=\"red\">++</font> da<font color=\"red\">++</font>! <font color=\"red\">--</font>ku się <font color=\"red\">--</font>To<font color=\"red\">++</font>! – ra<font color=\"red\">++</font> Nie \n",
              "<br/>ze<font color=\"red\">++</font>, Świa<font color=\"red\">++</font> Mowiecia. <font color=\"red\">--</font>je i sa<font color=\"red\">++</font> je<font color=\"red\">++</font>! <font color=\"red\">--</font>mi o<font color=\"red\">++</font> o<font color=\"red\">++</font> <font color=\"red\">--</font>Cze<font color=\"red\">++</font> Stro<font color=\"red\">++</font> bym <font color=\"red\">--</font>tość <font color=\"red\">--</font>Kodne wi<font color=\"red\">++</font> oni <font color=\"red\">--</font>ka się <font color=\"red\">--</font>skie. <font color=\"red\">--</font>zem \n",
              "<br/><font color=\"red\">--</font>nym <font color=\"red\">--</font>ne do<font color=\"red\">++</font> \n",
              "<br/>u<font color=\"red\">++</font> nie \n",
              "<br/>o<font color=\"red\">++</font> głowy <font color=\"red\">--</font>badal <font color=\"red\">--</font>res<font color=\"red\">++</font>., trzy <font color=\"red\">--</font>ją <font color=\"red\">--</font>Kiem Bennie zdeni <font color=\"red\">--</font>ko na <font color=\"red\">--</font>ła zacho<font color=\"red\">++</font> chęć <font color=\"red\">--</font>krętga<font color=\"red\">++</font> W \n",
              "<br/>mó<font color=\"red\">++</font> <font color=\"red\">--</font>Ce <font color=\"red\">--</font>ba<font color=\"red\">++</font> nie co <font color=\"red\">--</font>cho<font color=\"red\">++</font> za<font color=\"red\">++</font> nie \n",
              "<br/>. <font color=\"red\">--</font>stwa <font color=\"red\">--</font>me<font color=\"red\">++</font> <font color=\"red\">--</font>Mi \n",
              "<br/>do<font color=\"red\">++</font>, – głu<font color=\"red\">++</font> te <font color=\"red\">--</font>czuć <font color=\"red\">--</font>wej na \n",
              "<br/><font color=\"red\">--</font>czuły bę<font color=\"red\">++</font> mog<font color=\"red\">++</font> Dzi<font color=\"red\">++</font> w <font color=\"red\">--</font>p<font color=\"red\">++</font>. <font color=\"red\">--</font>gląd <font color=\"red\">--</font>lić po<font color=\"red\">++</font> \n",
              "<br/><font color=\"red\">--</font>zwo<font color=\"red\">++</font> –, <font color=\"red\">--</font>Rem na <font color=\"red\">--</font>du, przeresgo, <font color=\"red\">--</font>nę<font color=\"red\">++</font> – <font color=\"red\">--</font>go Był te<font color=\"red\">++</font> pa<font color=\"red\">++</font> wy<font color=\"red\">++</font> je<font color=\"red\">++</font> drze<font color=\"red\">++</font> – nietła \n",
              "<br/>te<font color=\"red\">++</font> – z nie <font color=\"red\">--</font>tyń<font color=\"red\">++</font> \n",
              "<br/>, cią<font color=\"red\">++</font> – <font color=\"red\">--</font>jeż<font color=\"red\">++</font> z nie okolku nie wilę \n",
              "<br/>\n",
              "<br/><font color=\"red\">--</font>ją głoszność te<font color=\"red\">++</font>, <font color=\"red\">--</font>dy \n",
              "<br/>słup nie tena <font color=\"red\">--</font>dzie o<font color=\"red\">++</font> <font color=\"red\">--</font>Mi.! zro<font color=\"red\">++</font> te<font color=\"red\">++</font> bos<font color=\"red\">++</font> te<font color=\"red\">++</font> po dziel<font color=\"red\">++</font>, miej<font color=\"red\">++</font> za<font color=\"red\">++</font> to i <font color=\"red\">--</font>rak<font color=\"red\">++</font> – <font color=\"red\">--</font>ła<font color=\"red\">++</font> \n",
              "<br/>– \n",
              "<br/>ku<font color=\"red\">++</font> mu<font color=\"red\">++</font> to dzie<font color=\"red\">++</font> – kra<font color=\"red\">++</font> \n",
              "<br/><font color=\"red\">--</font>by dradą \n",
              "<br/><font color=\"red\">--</font>Tła na <font color=\"red\">--</font>go wre<font color=\"red\">++</font>, \n",
              "<br/>nie I – \n",
              "<br/>świń<font color=\"red\">++</font> o<font color=\"red\">++</font>, już <font color=\"red\">--</font>szo<font color=\"red\">++</font>. – tedą o<font color=\"red\">++</font>. – <font color=\"red\">--</font>ła makać <font color=\"red\">--</font>Cia \n",
              "<br/><font color=\"red\">--</font>ka <font color=\"red\">--</font>bi u<font color=\"red\">++</font> Moko jaszynęniej że \n",
              "<br/>, się – roz<font color=\"red\">++</font> u<font color=\"red\">++</font> niecie – \n",
              "<br/>niedzieka ro<font color=\"red\">++</font> \n",
              "<br/>uku <font color=\"red\">--</font>By – – <font color=\"red\">--</font>ca Tam – <font color=\"red\">--</font>na<font color=\"red\">++</font> na sało \n",
              "<br/><font color=\"red\">--</font>Ra<font color=\"red\">++</font> \n",
              "<br/><font color=\"red\">--</font>mę <font color=\"red\">--</font>ła na<font color=\"red\">++</font> skrzy<font color=\"red\">++</font> z I, Ciżej. \n",
              "<br/><font color=\"red\">--</font>mi,. już \n",
              "<br/>mie<font color=\"red\">++</font>, o<font color=\"red\">++</font>! \n",
              "<br/>– <font color=\"red\">--</font>no \n",
              "<br/>wra<font color=\"red\">++</font>. ja<font color=\"red\">++</font> na<font color=\"red\">++</font> – <font color=\"red\">--</font>Je, naj<font color=\"red\">++</font>. się – wy<font color=\"red\">++</font>. <font color=\"red\">--</font>ce <font color=\"red\">--</font>ną… nas \n",
              "<br/>o<font color=\"red\">++</font> o<font color=\"red\">++</font> się <font color=\"red\">--</font>nę<font color=\"red\">++</font> roz<font color=\"red\">++</font> marcia te<font color=\"red\">++</font> Się <font color=\"red\">--</font>rona<font color=\"red\">++</font> ogo i Za <font color=\"red\">--</font>wnie <font color=\"red\">--</font>zu<font color=\"red\">++</font>, <font color=\"red\">--</font>nych, na – \n",
              "<br/>odzci – <font color=\"red\">--</font>łu<font color=\"red\">++</font> \n",
              "<br/>Teko<font color=\"red\">++</font> a cze<font color=\"red\">++</font> \n",
              "<br/><font color=\"red\">--</font>by <font color=\"red\">--</font>go –? masz <font color=\"red\">--</font>Stępna się <font color=\"red\">--</font>że na<font color=\"red\">++</font> \n",
              "<br/>niech. <font color=\"red\">--</font>strożkry<font color=\"red\">++</font>, <font color=\"red\">--</font>na \n",
              "<br/>te<font color=\"red\">++</font> tam \n",
              "<br/>po<font color=\"red\">++</font> \n",
              "<br/><font color=\"red\">--</font>mi mle<font color=\"red\">++</font> głu<font color=\"red\">++</font> – – <font color=\"red\">--</font>cho<font color=\"red\">++</font>? <font color=\"red\">--</font>je w <font color=\"red\">--</font>sta<font color=\"red\">++</font> za<font color=\"red\">++</font> za<font color=\"red\">++</font> wie<font color=\"red\">++</font> <font color=\"red\">--</font>Run<font color=\"red\">++</font> chwika<font color=\"red\">++</font> nie, – <font color=\"red\">--</font>ko <font color=\"red\">--</font>na<font color=\"red\">++</font>. za<font color=\"red\">++</font> sa<font color=\"red\">++</font> część \n",
              "<br/>. <font color=\"red\">--</font>niu <font color=\"red\">--</font>ka <font color=\"red\">--</font>łam za<font color=\"red\">++</font> któczu<font color=\"red\">++</font> mo<font color=\"red\">++</font> \n",
              "<br/><font color=\"red\">--</font>Cić Na <font color=\"red\">--</font>na<font color=\"red\">++</font> przez za. <font color=\"red\">--</font>t<font color=\"red\">++</font> donich –, <font color=\"red\">--</font>nie <font color=\"red\">--</font>now<font color=\"red\">++</font> \n",
              "<br/>– wia<font color=\"red\">++</font> Bel<font color=\"red\">++</font>, dowa nie? u<font color=\"red\">++</font> wogo <font color=\"red\">--</font>cz<font color=\"red\">++</font> ony <font color=\"red\">--</font>wet <font color=\"red\">--</font>szą 5 <font color=\"red\">--</font>niem <font color=\"red\">--</font>Ło<font color=\"red\">++</font> – <font color=\"red\">--</font>łat<font color=\"red\">++</font>. nie – czy wi<font color=\"red\">++</font> oki <font color=\"red\">--</font>ka. On i wra<font color=\"red\">++</font> schouwić \n",
              "<br/><font color=\"red\">--</font>casz,! \n",
              "<br/>\n",
              "<br/><font color=\"red\">--</font>ny,, <font color=\"red\">--</font>tą. <font color=\"red\">--</font>Dach nie.. prze<font color=\"red\">++</font> sieby no bę<font color=\"red\">++</font> \n",
              "<br/>mienie <font color=\"red\">--</font>ła <font color=\"red\">--</font>rzy za<font color=\"red\">++</font> jego się i <font color=\"red\">--</font>My <font color=\"red\">--</font>dzi<font color=\"red\">++</font> o<font color=\"red\">++</font>, <font color=\"red\">--</font>flek<font color=\"red\">++</font> ra<font color=\"red\">++</font> się ma <font color=\"red\">--</font>giem na <font color=\"red\">--</font>ją, część \n",
              "<br/><font color=\"red\">--</font>glą<font color=\"red\">++</font> kró<font color=\"red\">++</font> bar<font color=\"red\">++</font>. <font color=\"red\">--</font>wać – sa<font color=\"red\">++</font> <font color=\"red\">--</font>Li na Temo<font color=\"red\">++</font>. a <font color=\"red\">--</font>żyl<font color=\"red\">++</font> gdzieś wy<font color=\"red\">++</font> niech poler<font color=\"red\">++</font> – <font color=\"red\">--</font>sa. <font color=\"red\">--</font>mo<font color=\"red\">++</font> <font color=\"red\">--</font>Dy. za z <font color=\"red\">--</font>łą te<font color=\"red\">++</font> ma<font color=\"red\">++</font>, – nie. \n",
              "<br/>by<font color=\"red\">++</font>, \n",
              "<br/>,, <font color=\"red\">--</font>Dyn<font color=\"red\">++</font>! <font color=\"red\">--</font>sia – o<font color=\"red\">++</font> – te<font color=\"red\">++</font> na<font color=\"red\">++</font> O<font color=\"red\">++</font> i <font color=\"red\">--</font>głoli na – na<font color=\"red\">++</font> \n",
              "<br/>wo<font color=\"red\">++</font> jak<font color=\"red\">++</font>, nie <font color=\"red\">--</font>tygle oni \n",
              "<br/>\n",
              "<br/>\n",
              "<br/>– że tam! odnie. <font color=\"red\">--</font>ko Pod<font color=\"red\">++</font> nie <font color=\"red\">--</font>nie <font color=\"red\">--</font>nie <font color=\"red\">--</font>ły. <font color=\"red\">--</font>go się, wy<font color=\"red\">++</font> \n",
              "<br/>I myśwar<font color=\"red\">++</font> się <font color=\"red\">--</font>nie o<font color=\"red\">++</font> <font color=\"red\">--</font>Giem – a \n",
              "<br/>żą<font color=\"red\">++</font>, \n",
              "<br/><font color=\"red\">--</font>res<font color=\"red\">++</font> na. już,, <font color=\"red\">--</font>tunkę są tam Noże ogi, <font color=\"red\">--</font>to<font color=\"red\">++</font> – <font color=\"red\">--</font>wincho<font color=\"red\">++</font> – \n",
              "<br/>nie pow<font color=\"red\">++</font> – wo<font color=\"red\">++</font>. sto<font color=\"red\">++</font> się, <font color=\"red\">--</font>warwinio – <font color=\"red\">--</font>win<font color=\"red\">++</font>. ma. \n",
              "<br/>sa<font color=\"red\">++</font> Mugo wiem <font color=\"red\">--</font>zy, \n",
              "<br/>owek,? Jeź<font color=\"red\">++</font> star<font color=\"red\">++</font> żeli<font color=\"red\">++</font>, <font color=\"red\">--</font>dziesz <font color=\"red\">--</font>te<font color=\"red\">++</font>. <font color=\"red\">--</font>Szła <font color=\"red\">--</font>li<font color=\"red\">++</font> Te<font color=\"red\">++</font>, <font color=\"red\">--</font>jąt<font color=\"red\">++</font> \n",
              "<br/>mi, \n",
              "<br/><font color=\"red\">--</font>ka <font color=\"red\">--</font>gięnia <font color=\"red\">--</font>ła, – \n",
              "<br/>przy<font color=\"red\">++</font> <font color=\"red\">--</font>Dzia<font color=\"red\">++</font> \n",
              "<br/>. ro<font color=\"red\">++</font>, nie<font color=\"red\">++</font> by<font color=\"red\">++</font> ka<font color=\"red\">++</font>. <font color=\"red\">--</font>go i <font color=\"red\">--</font>krętdu <font color=\"red\">--</font>wio<font color=\"red\">++</font> się, – im <font color=\"red\">--</font>kręt<font color=\"red\">++</font> \n",
              "<br/>jak<font color=\"red\">++</font> <font color=\"red\">--</font>S<font color=\"red\">++</font> się, Nie <font color=\"red\">--</font>ły I – – <font color=\"red\">--</font>ni <font color=\"red\">--</font>sali<font color=\"red\">++</font> Się \n",
              "<br/>by<font color=\"red\">++</font> na<font color=\"red\">++</font> u<font color=\"red\">++</font> \n",
              "<br/>że <font color=\"red\">--</font>tgo nie potonięda<font color=\"red\">++</font> <font color=\"red\">--</font>Tość <font color=\"red\">--</font>byś to nie? – \n",
              "<br/>i –,. mło<font color=\"red\">++</font> –. tobo się i <font color=\"red\">--</font>dzi<font color=\"red\">++</font> \n",
              "<br/>się – się <font color=\"red\">--</font>czu<font color=\"red\">++</font> nie o<font color=\"red\">++</font> za<font color=\"red\">++</font> nie cze<font color=\"red\">++</font> –? po<font color=\"red\">++</font> i wszy<font color=\"red\">++</font>., się to <font color=\"red\">--</font>by <font color=\"red\">--</font>dy <font color=\"red\">--</font>lę <font color=\"red\">--</font>dzia<font color=\"red\">++</font>. sawy – – <font color=\"red\">--</font>ta <font color=\"red\">--</font>cie<font color=\"red\">++</font> – u<font color=\"red\">++</font> i <font color=\"red\">--</font>kiś <font color=\"red\">--</font>kieki<font color=\"red\">++</font> z za<font color=\"red\">++</font> \n",
              "<br/>– \n",
              "<br/>, <font color=\"red\">--</font>kręt<font color=\"red\">++</font> – wora<font color=\"red\">++</font>, <font color=\"red\">--</font>ob<font color=\"red\">++</font> ja<font color=\"red\">++</font>, jeź<font color=\"red\">++</font> jenym.! <font color=\"red\">--</font>ko<font color=\"red\">++</font>, – <font color=\"red\">--</font>ła<font color=\"red\">++</font> się po że <font color=\"red\">--</font>kręt<font color=\"red\">++</font>,.. scen<font color=\"red\">++</font>, Pa<font color=\"red\">++</font>, uta<font color=\"red\">++</font> \n",
              "<br/><font color=\"red\">--</font>moka sły<font color=\"red\">++</font> <font color=\"red\">--</font>Ski o<font color=\"red\">++</font> chwi<font color=\"red\">++</font> <font color=\"red\">--</font>Czy<font color=\"red\">++</font> <font color=\"red\">--</font>Nęgo doła., aż <font color=\"red\">--</font>je nie <font color=\"red\">--</font>Wadżać <font color=\"red\">--</font>res<font color=\"red\">++</font> gło<font color=\"red\">++</font>! <font color=\"red\">--</font>wy. po<font color=\"red\">++</font>. <font color=\"red\">--</font>by gło<font color=\"red\">++</font> \n",
              "<br/><font color=\"red\">--</font>kry<font color=\"red\">++</font>., <font color=\"red\">--</font>tą <font color=\"red\">--</font>Rzu<font color=\"red\">++</font> to \n",
              "<br/>. <font color=\"red\">--</font>zanokój za \n",
              "<br/><font color=\"red\">--</font>ją \n",
              "<br/>–, <font color=\"red\">--</font>ły nad <font color=\"red\">--</font>si<font color=\"red\">++</font> <font color=\"red\">--</font>Zyns<font color=\"red\">++</font> na się wa<font color=\"red\">++</font> ot<font color=\"red\">++</font> Jadnerapo<font color=\"red\">++</font> wi<font color=\"red\">++</font> podzie <font color=\"red\">--</font>łu <font color=\"red\">--</font>tomca <font color=\"red\">--</font>rów w <font color=\"red\">--</font>rym – <font color=\"red\">--</font>dził! \n",
              "<br/>\n",
              "<br/><font color=\"red\">--</font>sta<font color=\"red\">++</font> \n",
              "<br/>Z sa<font color=\"red\">++</font> roz<font color=\"red\">++</font> – po<font color=\"red\">++</font> ja<font color=\"red\">++</font> do \n",
              "<br/>,,"
            ],
            "text/plain": [
              "<IPython.core.display.HTML object>"
            ]
          },
          "metadata": {
            "tags": []
          }
        },
        {
          "output_type": "stream",
          "text": [
            "\n"
          ],
          "name": "stdout"
        },
        {
          "output_type": "stream",
          "text": [
            " 30%|##9       | 698/2330 [14:10<32:52,  1.21s/it, epoch=2/5, loss=6.43, bw=0.352]"
          ],
          "name": "stderr"
        },
        {
          "output_type": "stream",
          "text": [
            "\n",
            "[14m 10s (2 699 30%) loss=6.4342 bw=0.4273]\n"
          ],
          "name": "stdout"
        },
        {
          "output_type": "display_data",
          "data": {
            "text/html": [
              "Nauka psa czystości – jak sprawnie nauczyć psa załatwiać się na dworze? ty <font color=\"red\">--</font>wy <font color=\"red\">--</font>ne <font color=\"red\">--</font>ła, <font color=\"red\">--</font>ta, Się <font color=\"red\">--</font>ła uku <font color=\"red\">--</font>piej <font color=\"red\">--</font>tłu<font color=\"red\">++</font>, do<font color=\"red\">++</font> z po<font color=\"red\">++</font>. drze<font color=\"red\">++</font> jasza<font color=\"red\">++</font> – Staję<font color=\"red\">++</font>. <font color=\"red\">--</font>łaś <font color=\"red\">--</font>wie<font color=\"red\">++</font> cało a <font color=\"red\">--</font>Ło, <font color=\"red\">--</font>na<font color=\"red\">++</font> za <font color=\"red\">--</font>my u<font color=\"red\">++</font> <font color=\"red\">--</font>Locha<font color=\"red\">++</font> bę<font color=\"red\">++</font>. prze<font color=\"red\">++</font> namy po<font color=\"red\">++</font> jej nas <font color=\"red\">--</font>jo <font color=\"red\">--</font>nar<font color=\"red\">++</font> mnie! ucz<font color=\"red\">++</font> ponokgo <font color=\"red\">--</font>ła <font color=\"red\">--</font>bo, <font color=\"red\">--</font>ny – a, chwinie <font color=\"red\">--</font>waparczki, <font color=\"red\">--</font>ką –. <font color=\"red\">--</font>lut<font color=\"red\">++</font> już, <font color=\"red\">--</font>szy z. <font color=\"red\">--</font>Lut<font color=\"red\">++</font> <font color=\"red\">--</font>Wiki nie te<font color=\"red\">++</font> <font color=\"red\">--</font>Zafi<font color=\"red\">++</font>, <font color=\"red\">--</font>Ła – nie <font color=\"red\">--</font>jąc!. <font color=\"red\">--</font>Ciel<font color=\"red\">++</font> gło<font color=\"red\">++</font> się go<font color=\"red\">++</font> jak O<font color=\"red\">++</font> rogim <font color=\"red\">--</font>dem. za<font color=\"red\">++</font>? na że <font color=\"red\">--</font>cze <font color=\"red\">--</font>wie<font color=\"red\">++</font> z o<font color=\"red\">++</font> <font color=\"red\">--</font>Cz<font color=\"red\">++</font> za<font color=\"red\">++</font> U<font color=\"red\">++</font> spo<font color=\"red\">++</font>, po<font color=\"red\">++</font> <font color=\"red\">--</font>Niła ja<font color=\"red\">++</font> sieka żni<font color=\"red\">++</font> nie się są na <font color=\"red\">--</font>wa<font color=\"red\">++</font>, <font color=\"red\">--</font>t<font color=\"red\">++</font> \n",
              "<br/><font color=\"red\">--</font>pu<font color=\"red\">++</font>. <font color=\"red\">--</font>ko<font color=\"red\">++</font>. sta<font color=\"red\">++</font> myś<font color=\"red\">++</font> Wła<font color=\"red\">++</font> w <font color=\"red\">--</font>go, ja<font color=\"red\">++</font> Dla<font color=\"red\">++</font> \n",
              "<br/><font color=\"red\">--</font>nie do<font color=\"red\">++</font> \n",
              "<br/>nie <font color=\"red\">--</font>mo <font color=\"red\">--</font>ły <font color=\"red\">--</font>nie?! się szys<font color=\"red\">++</font> znam czym <font color=\"red\">--</font>cznie! nie, przeres<font color=\"red\">++</font>. <font color=\"red\">--</font>ło <font color=\"red\">--</font>cie nie \n",
              "<br/>owi<font color=\"red\">++</font>,. poskiej <font color=\"red\">--</font>laz<font color=\"red\">++</font>. <font color=\"red\">--</font>trząc po<font color=\"red\">++</font> <font color=\"red\">--</font>Rwa<font color=\"red\">++</font> Przed <font color=\"red\">--</font>Dy<font color=\"red\">++</font> Już ży<font color=\"red\">++</font> a <font color=\"red\">--</font>Wiele <font color=\"red\">--</font>s<font color=\"red\">++</font> <font color=\"red\">--</font>Madu<font color=\"red\">++</font> Rozszli<font color=\"red\">++</font> \n",
              "<br/>, normi <font color=\"red\">--</font>wiety<font color=\"red\">++</font> <font color=\"red\">--</font>Sosko<font color=\"red\">++</font> \n",
              "<br/>zda<font color=\"red\">++</font>, stra<font color=\"red\">++</font> za<font color=\"red\">++</font>,. <font color=\"red\">--</font>go <font color=\"red\">--</font>Niu <font color=\"red\">--</font>Nia <font color=\"red\">--</font>No, <font color=\"red\">--</font>winie <font color=\"red\">--</font>mi <font color=\"red\">--</font>tu<font color=\"red\">++</font> za<font color=\"red\">++</font> u<font color=\"red\">++</font> i<font color=\"red\">++</font> <font color=\"red\">--</font>Szy, się po<font color=\"red\">++</font>. <font color=\"red\">--</font>Te<font color=\"red\">++</font> Jej <font color=\"red\">--</font>nia z \n",
              "<br/>. nikt \n",
              "<br/>, nasięć <font color=\"red\">--</font>go <font color=\"red\">--</font>niu <font color=\"red\">--</font>ły je<font color=\"red\">++</font> po<font color=\"red\">++</font> chcę \n",
              "<br/>osić <font color=\"red\">--</font>wtó<font color=\"red\">++</font> prze<font color=\"red\">++</font> \n",
              "<br/>, <font color=\"red\">--</font>ać… \n",
              "<br/>na<font color=\"red\">++</font> krzy<font color=\"red\">++</font>, <font color=\"red\">--</font>lisz, <font color=\"red\">--</font>go <font color=\"red\">--</font>szo<font color=\"red\">++</font> w,. Mógł Nie Co <font color=\"red\">--</font>wno<font color=\"red\">++</font> <font color=\"red\">--</font>Siem<font color=\"red\">++</font> \n",
              "<br/>. <font color=\"red\">--</font>ły, <font color=\"red\">--</font>ła <font color=\"red\">--</font>Ły <font color=\"red\">--</font>Ła przy<font color=\"red\">++</font> pier<font color=\"red\">++</font> cho<font color=\"red\">++</font> Te<font color=\"red\">++</font> – <font color=\"red\">--</font>ło do<font color=\"red\">++</font>, <font color=\"red\">--</font>rzu. <font color=\"red\">--</font>go wiem <font color=\"red\">--</font>gle i,, <font color=\"red\">--</font>dyła,, <font color=\"red\">--</font>Ziogo <font color=\"red\">--</font>wowa któszy <font color=\"red\">--</font>ła Jały z <font color=\"red\">--</font>wify sawno<font color=\"red\">++</font> a <font color=\"red\">--</font>tem <font color=\"red\">--</font>wiego na<font color=\"red\">++</font> ale ich <font color=\"red\">--</font>nie <font color=\"red\">--</font>li<font color=\"red\">++</font> \n",
              "<br/>po<font color=\"red\">++</font> \n",
              "<br/>\n",
              "<br/><font color=\"red\">--</font>nia<font color=\"red\">++</font> pocecze osia nie ceg<font color=\"red\">++</font>, <font color=\"red\">--</font>szły fa<font color=\"red\">++</font> ja że \n",
              "<br/>\n",
              "<br/>Że! <font color=\"red\">--</font>czrzy <font color=\"red\">--</font>ła. to że, ją. <font color=\"red\">--</font>nie <font color=\"red\">--</font>res<font color=\"red\">++</font> Mil<font color=\"red\">++</font> – <font color=\"red\">--</font>dzi uresła kla<font color=\"red\">++</font>, się w? <font color=\"red\">--</font>ły <font color=\"red\">--</font>ja<font color=\"red\">++</font> I na <font color=\"red\">--</font>Go męła <font color=\"red\">--</font>gar<font color=\"red\">++</font> \n",
              "<br/><font color=\"red\">--</font>ne<font color=\"red\">++</font> \n",
              "<br/><font color=\"red\">--</font>Czy<font color=\"red\">++</font> jej. <font color=\"red\">--</font>mu zro<font color=\"red\">++</font> wcano<font color=\"red\">++</font> i <font color=\"red\">--</font>Dział \n",
              "<br/><font color=\"red\">--</font>szła! <font color=\"red\">--</font>dnie <font color=\"red\">--</font>cej <font color=\"red\">--</font>ne. <font color=\"red\">--</font>cho<font color=\"red\">++</font> my <font color=\"red\">--</font>le sakim że <font color=\"red\">--</font>Nia, <font color=\"red\">--</font>par<font color=\"red\">++</font> sodzie<font color=\"red\">++</font>, <font color=\"red\">--</font>czyć <font color=\"red\">--</font>fu poła <font color=\"red\">--</font>ki <font color=\"red\">--</font>ka rogo \n",
              "<br/>Za<font color=\"red\">++</font> z z <font color=\"red\">--</font>ło bo<font color=\"red\">++</font> – <font color=\"red\">--</font>mio<font color=\"red\">++</font> We<font color=\"red\">++</font> mia<font color=\"red\">++</font> \n",
              "<br/>bę<font color=\"red\">++</font> temo <font color=\"red\">--</font>res<font color=\"red\">++</font>, Za<font color=\"red\">++</font> – \n",
              "<br/><font color=\"red\">--</font>dzi<font color=\"red\">++</font> je<font color=\"red\">++</font> –, ni<font color=\"red\">++</font> <font color=\"red\">--</font>Ły <font color=\"red\">--</font>ci<font color=\"red\">++</font> po<font color=\"red\">++</font> że, <font color=\"red\">--</font>nia<font color=\"red\">++</font> że \n",
              "<br/>\n",
              "<br/>a <font color=\"red\">--</font>szą na <font color=\"red\">--</font>ła nikt Szcze<font color=\"red\">++</font> w <font color=\"red\">--</font>dzi a <font color=\"red\">--</font>czy – że! o<font color=\"red\">++</font> \n",
              "<br/>. <font color=\"red\">--</font>szczykiem <font color=\"red\">--</font>la<font color=\"red\">++</font> i<font color=\"red\">++</font> te<font color=\"red\">++</font> \n",
              "<br/><font color=\"red\">--</font>go <font color=\"red\">--</font>Ła w <font color=\"red\">--</font>za<font color=\"red\">++</font>?! poko <font color=\"red\">--</font>Ła <font color=\"red\">--</font>te<font color=\"red\">++</font>. <font color=\"red\">--</font>rzy<font color=\"red\">++</font> przy<font color=\"red\">++</font>. dodą do<font color=\"red\">++</font> jeło <font color=\"red\">--</font>oję, <font color=\"red\">--</font>ka<font color=\"red\">++</font> <font color=\"red\">--</font>Nym to <font color=\"red\">--</font>nie w o<font color=\"red\">++</font> <font color=\"red\">--</font>Nie <font color=\"red\">--</font>ne Jej <font color=\"red\">--</font>ne<font color=\"red\">++</font> To <font color=\"red\">--</font>doła hamie<font color=\"red\">++</font> \n",
              "<br/>tekosu Się <font color=\"red\">--</font>jrzał a <font color=\"red\">--</font>sić się – <font color=\"red\">--</font>cer<font color=\"red\">++</font> sie<font color=\"red\">++</font>, <font color=\"red\">--</font>stęczgo – nie <font color=\"red\">--</font>ławła <font color=\"red\">--</font>pie<font color=\"red\">++</font> \n",
              "<br/>nawie<font color=\"red\">++</font> \n",
              "<br/>z z Poce goszły na się, sto<font color=\"red\">++</font> wiem <font color=\"red\">--</font>Ła – <font color=\"red\">--</font>Majero <font color=\"red\">--</font>mal<font color=\"red\">++</font> wziął <font color=\"red\">--</font>Cha<font color=\"red\">++</font> Myś<font color=\"red\">++</font> się doczy U<font color=\"red\">++</font> sane<font color=\"red\">++</font> Ro<font color=\"red\">++</font> <font color=\"red\">--</font>Ju <font color=\"red\">--</font>dzi to. jała <font color=\"red\">--</font>wo<font color=\"red\">++</font> o<font color=\"red\">++</font> nich co <font color=\"red\">--</font>kę – \n",
              "<br/>banwęcha<font color=\"red\">++</font> tych bo jak <font color=\"red\">--</font>den<font color=\"red\">++</font> Tym \n",
              "<br/>że <font color=\"red\">--</font>giej In<font color=\"red\">++</font>. Krzysztof,.. w <font color=\"red\">--</font>go –. <font color=\"red\">--</font>jego <font color=\"red\">--</font>sły<font color=\"red\">++</font> teczyć <font color=\"red\">--</font>ła z <font color=\"red\">--</font>ny <font color=\"red\">--</font>dy ryzna<font color=\"red\">++</font> a, <font color=\"red\">--</font>Wi<font color=\"red\">++</font> niej odpu<font color=\"red\">++</font> nie ty<font color=\"red\">++</font>. <font color=\"red\">--</font>parło. \n",
              "<br/><font color=\"red\">--</font>nie poła jak, \n",
              "<br/>się <font color=\"red\">--</font>ny – Z nie <font color=\"red\">--</font>czy<font color=\"red\">++</font> \n",
              "<br/><font color=\"red\">--</font>na \n",
              "<br/>nich <font color=\"red\">--</font>ki…, <font color=\"red\">--</font>dyn przez i,. <font color=\"red\">--</font>łam \n",
              "<br/>dzień \n",
              "<br/>.. pa<font color=\"red\">++</font> z <font color=\"red\">--</font>Łyś<font color=\"red\">++</font> <font color=\"red\">--</font>Ło, <font color=\"red\">--</font>szcie \n",
              "<br/>, <font color=\"red\">--</font>te bęrzeń<font color=\"red\">++</font> wszy<font color=\"red\">++</font>. A <font color=\"red\">--</font>ci dwóch admych czai… moka na no<font color=\"red\">++</font>, <font color=\"red\">--</font>łym przypieło niew<font color=\"red\">++</font> to i <font color=\"red\">--</font>mie<font color=\"red\">++</font> <font color=\"red\">--</font>Go nie \n",
              "<br/>że czuć coś, <font color=\"red\">--</font>małeś <font color=\"red\">--</font>ta te<font color=\"red\">++</font>, niż <font color=\"red\">--</font>trze<font color=\"red\">++</font> nie kie<font color=\"red\">++</font>. gło<font color=\"red\">++</font>,. bez <font color=\"red\">--</font>cisle <font color=\"red\">--</font>zą nie <font color=\"red\">--</font>rzy czy oła <font color=\"red\">--</font>ła zanie,, \n",
              "<br/>ze<font color=\"red\">++</font>, <font color=\"red\">--</font>Ko zdu<font color=\"red\">++</font>. się się wienik <font color=\"red\">--</font>mie<font color=\"red\">++</font> po<font color=\"red\">++</font> Po<font color=\"red\">++</font> \n",
              "<br/>\n",
              "<br/>! ją <font color=\"red\">--</font>ców ja<font color=\"red\">++</font> z, <font color=\"red\">--</font>cia nistkę – wi<font color=\"red\">++</font>, \n",
              "<br/><font color=\"red\">--</font>ła<font color=\"red\">++</font> i <font color=\"red\">--</font>szłeś. do<font color=\"red\">++</font> młonie. <font color=\"red\">--</font>miomy tyl<font color=\"red\">++</font> wie<font color=\"red\">++</font> – tam <font color=\"red\">--</font>wa o<font color=\"red\">++</font> do<font color=\"red\">++</font> tak z się? <font color=\"red\">--</font>Wie<font color=\"red\">++</font> ures<font color=\"red\">++</font> sa<font color=\"red\">++</font> wrab<font color=\"red\">++</font> w <font color=\"red\">--</font>My <font color=\"red\">--</font>ba, Ja<font color=\"red\">++</font> Schodjempeć <font color=\"red\">--</font>Le<font color=\"red\">++</font> po<font color=\"red\">++</font> za<font color=\"red\">++</font>, u<font color=\"red\">++</font> sobro<font color=\"red\">++</font> przy \n",
              "<br/><font color=\"red\">--</font>nie<font color=\"red\">++</font> sie<font color=\"red\">++</font>, też <font color=\"red\">--</font>ję tu <font color=\"red\">--</font>ru zda<font color=\"red\">++</font> po<font color=\"red\">++</font> u<font color=\"red\">++</font>, <font color=\"red\">--</font>tania <font color=\"red\">--</font>ki te<font color=\"red\">++</font> nie po<font color=\"red\">++</font> mo<font color=\"red\">++</font> je<font color=\"red\">++</font> –. <font color=\"red\">--</font>jękłastu \n",
              "<br/>. <font color=\"red\">--</font>za<font color=\"red\">++</font> tra<font color=\"red\">++</font>, z <font color=\"red\">--</font>go <font color=\"red\">--</font>taliła się <font color=\"red\">--</font>s<font color=\"red\">++</font> so<font color=\"red\">++</font> grób przy <font color=\"red\">--</font>padja<font color=\"red\">++</font> <font color=\"red\">--</font>Ła czaił ja<font color=\"red\">++</font> mój <font color=\"red\">--</font>szłam poła. <font color=\"red\">--</font>wa<font color=\"red\">++</font> Po<font color=\"red\">++</font> mia<font color=\"red\">++</font> iły o<font color=\"red\">++</font> nieki <font color=\"red\">--</font>ki byki sadziadzia<font color=\"red\">++</font> na <font color=\"red\">--</font>gle ni<font color=\"red\">++</font> i <font color=\"red\">--</font>cza<font color=\"red\">++</font>., \n",
              "<br/>na <font color=\"red\">--</font>nie <font color=\"red\">--</font>ły <font color=\"red\">--</font>ka, kra<font color=\"red\">++</font> z, <font color=\"red\">--</font>udnak… <font color=\"red\">--</font>mami <font color=\"red\">--</font>czy<font color=\"red\">++</font> cho<font color=\"red\">++</font> o<font color=\"red\">++</font> na<font color=\"red\">++</font>. udzia<font color=\"red\">++</font> zbrowiać! <font color=\"red\">--</font>Ła cięła nieda<font color=\"red\">++</font> \n",
              "<br/>chce chukół"
            ],
            "text/plain": [
              "<IPython.core.display.HTML object>"
            ]
          },
          "metadata": {
            "tags": []
          }
        },
        {
          "output_type": "stream",
          "text": [
            "\n"
          ],
          "name": "stdout"
        },
        {
          "output_type": "stream",
          "text": [
            " 40%|###9      | 931/2330 [18:57<28:40,  1.23s/it, epoch=3/5, loss=6.77, bw=0.328]"
          ],
          "name": "stderr"
        },
        {
          "output_type": "stream",
          "text": [
            "\n",
            "[18m 57s (3 932 40%) loss=6.7679 bw=0.4595]\n"
          ],
          "name": "stdout"
        },
        {
          "output_type": "display_data",
          "data": {
            "text/html": [
              "Nauka psa czystości – jak sprawnie nauczyć psa załatwiać się na dworze? <font color=\"red\">--</font>ły <font color=\"red\">--</font>zwyk<font color=\"red\">++</font>, pochać mu. – <font color=\"red\">--</font>na <font color=\"red\">--</font>ba <font color=\"red\">--</font>daw<font color=\"red\">++</font> zu<font color=\"red\">++</font> dziel<font color=\"red\">++</font> za – ja<font color=\"red\">++</font>. – zawa<font color=\"red\">++</font> i <font color=\"red\">--</font>ciół<font color=\"red\">++</font> jak Za <font color=\"red\">--</font>j<font color=\"red\">++</font> Noła? <font color=\"red\">--</font>na <font color=\"red\">--</font>wieliją jełyś<font color=\"red\">++</font> bó<font color=\"red\">++</font> Na<font color=\"red\">++</font> powiać zała <font color=\"red\">--</font>na się niełą – <font color=\"red\">--</font>zuła <font color=\"red\">--</font>kow<font color=\"red\">++</font> to <font color=\"red\">--</font>kro nie te<font color=\"red\">++</font> mo<font color=\"red\">++</font> Ale. \n",
              "<br/><font color=\"red\">--</font>nie <font color=\"red\">--</font>sta<font color=\"red\">++</font> zdo<font color=\"red\">++</font> za <font color=\"red\">--</font>kiem w <font color=\"red\">--</font>wie <font color=\"red\">--</font>chem <font color=\"red\">--</font>cza<font color=\"red\">++</font> \n",
              "<br/><font color=\"red\">--</font>nych <font color=\"red\">--</font>wonął <font color=\"red\">--</font>ła odnierz da<font color=\"red\">++</font> \n",
              "<br/>ni<font color=\"red\">++</font> nie <font color=\"red\">--</font>pą <font color=\"red\">--</font>ko<font color=\"red\">++</font> je <font color=\"red\">--</font>go? się najło no<font color=\"red\">++</font> po<font color=\"red\">++</font> się <font color=\"red\">--</font>raz nas. <font color=\"red\">--</font>ko<font color=\"red\">++</font> zacie myś<font color=\"red\">++</font>. <font color=\"red\">--</font>miar <font color=\"red\">--</font>koje<font color=\"red\">++</font> że i, <font color=\"red\">--</font>ba <font color=\"red\">--</font>la<font color=\"red\">++</font> nie<font color=\"red\">++</font> nasułyśwet <font color=\"red\">--</font>kie <font color=\"red\">--</font>szy<font color=\"red\">++</font> to <font color=\"red\">--</font>res<font color=\"red\">++</font>, wes<font color=\"red\">++</font> po<font color=\"red\">++</font> ra<font color=\"red\">++</font> brwi, owo<font color=\"red\">++</font>, – \n",
              "<br/>. Że bo<font color=\"red\">++</font> pod<font color=\"red\">++</font> nie u<font color=\"red\">++</font> dzi<font color=\"red\">++</font> zanie się <font color=\"red\">--</font>wa<font color=\"red\">++</font> z <font color=\"red\">--</font>co<font color=\"red\">++</font> się.??, i <font color=\"red\">--</font>leście Ceg<font color=\"red\">++</font> faczcie po<font color=\"red\">++</font> spad<font color=\"red\">++</font> zro<font color=\"red\">++</font> te<font color=\"red\">++</font> <font color=\"red\">--</font>Biwała po<font color=\"red\">++</font> <font color=\"red\">--</font>Że<font color=\"red\">++</font> to. \n",
              "<br/>Za<font color=\"red\">++</font> po<font color=\"red\">++</font> wysłu<font color=\"red\">++</font> i <font color=\"red\">--</font>ment i <font color=\"red\">--</font>wie<font color=\"red\">++</font>.,. za<font color=\"red\">++</font> nie \n",
              "<br/><font color=\"red\">--</font>Mi na <font color=\"red\">--</font>dzi<font color=\"red\">++</font>. <font color=\"red\">--</font>dzia<font color=\"red\">++</font> Nie ra<font color=\"red\">++</font> <font color=\"red\">--</font>Ni<font color=\"red\">++</font> lo<font color=\"red\">++</font> co <font color=\"red\">--</font>me<font color=\"red\">++</font> je<font color=\"red\">++</font> raty <font color=\"red\">--</font>Ren<font color=\"red\">++</font> \n",
              "<br/>. <font color=\"red\">--</font>da<font color=\"red\">++</font> <font color=\"red\">--</font>Resczna nie <font color=\"red\">--</font>ła <font color=\"red\">--</font>nie <font color=\"red\">--</font>Ko<font color=\"red\">++</font> że <font color=\"red\">--</font>du nie <font color=\"red\">--</font>kiegą, To za<font color=\"red\">++</font> że <font color=\"red\">--</font>ła., <font color=\"red\">--</font>we <font color=\"red\">--</font>ga nie<font color=\"red\">++</font> że <font color=\"red\">--</font>cze<font color=\"red\">++</font> na bruku \n",
              "<br/>– ręty O<font color=\"red\">++</font> spo<font color=\"red\">++</font> Wyla <font color=\"red\">--</font>go <font color=\"red\">--</font>ki <font color=\"red\">--</font>Ła skup <font color=\"red\">--</font>ka <font color=\"red\">--</font>ka <font color=\"red\">--</font>nie <font color=\"red\">--</font>cz<font color=\"red\">++</font> tekąś <font color=\"red\">--</font>nych <font color=\"red\">--</font>ry<font color=\"red\">++</font> Podgo jupo<font color=\"red\">++</font> na<font color=\"red\">++</font> zdody i <font color=\"red\">--</font>ju <font color=\"red\">--</font>Leń<font color=\"red\">++</font> wkro<font color=\"red\">++</font> Teprzą<font color=\"red\">++</font> ona <font color=\"red\">--</font>Kręt<font color=\"red\">++</font> rasuzała <font color=\"red\">--</font>ła drocy <font color=\"red\">--</font>mu <font color=\"red\">--</font>wie<font color=\"red\">++</font>. <font color=\"red\">--</font>skachę na<font color=\"red\">++</font> za<font color=\"red\">++</font> \n",
              "<br/>. <font color=\"red\">--</font>na <font color=\"red\">--</font>wa<font color=\"red\">++</font> Po<font color=\"red\">++</font> \n",
              "<br/><font color=\"red\">--</font>be<font color=\"red\">++</font> od. <font color=\"red\">--</font>ła <font color=\"red\">--</font>li<font color=\"red\">++</font> po<font color=\"red\">++</font> co <font color=\"red\">--</font>rok i <font color=\"red\">--</font>ko Z szko<font color=\"red\">++</font> na<font color=\"red\">++</font>, <font color=\"red\">--</font>Co<font color=\"red\">++</font> się tam – w <font color=\"red\">--</font>mie Nie śle<font color=\"red\">++</font> z <font color=\"red\">--</font>go <font color=\"red\">--</font>Lo piękdzie<font color=\"red\">++</font> jej się na oni zdą<font color=\"red\">++</font> z \n",
              "<br/>\n",
              "<br/>– się, <font color=\"red\">--</font>res<font color=\"red\">++</font> się na <font color=\"red\">--</font>ku nie \n",
              "<br/><font color=\"red\">--</font>Ny środ<font color=\"red\">++</font> te<font color=\"red\">++</font> szko<font color=\"red\">++</font> po<font color=\"red\">++</font>. oka w by<font color=\"red\">++</font> W rópadwopać Mnó<font color=\"red\">++</font> – Się. <font color=\"red\">--</font>ścia <font color=\"red\">--</font>cha <font color=\"red\">--</font>dzi<font color=\"red\">++</font> \n",
              "<br/>Pod<font color=\"red\">++</font> \n",
              "<br/>nie<font color=\"red\">++</font> \n",
              "<br/><font color=\"red\">--</font>ko<font color=\"red\">++</font> <font color=\"red\">--</font>Da też <font color=\"red\">--</font>le pomi<font color=\"red\">++</font> \n",
              "<br/>, po<font color=\"red\">++</font> <font color=\"red\">--</font>Ku \n",
              "<br/>.... <font color=\"red\">--</font>na <font color=\"red\">--</font>ko<font color=\"red\">++</font> a \n",
              "<br/><font color=\"red\">--</font>tych z. żaba O<font color=\"red\">++</font> i. <font color=\"red\">--</font>ta <font color=\"red\">--</font>we <font color=\"red\">--</font>ła <font color=\"red\">--</font>na przez drze<font color=\"red\">++</font> dotąd <font color=\"red\">--</font>rzy co aha <font color=\"red\">--</font>raj nie po \n",
              "<br/>kół<font color=\"red\">++</font> Za<font color=\"red\">++</font> zdeła ty<font color=\"red\">++</font> po<font color=\"red\">++</font> w <font color=\"red\">--</font>deal<font color=\"red\">++</font> że <font color=\"red\">--</font>czo! i, <font color=\"red\">--</font>nu <font color=\"red\">--</font>ło, <font color=\"red\">--</font>ja <font color=\"red\">--</font>nires<font color=\"red\">++</font> – <font color=\"red\">--</font>cze<font color=\"red\">++</font> nie <font color=\"red\">--</font>ła ceg<font color=\"red\">++</font> <font color=\"red\">--</font>Ki <font color=\"red\">--</font>ła po<font color=\"red\">++</font> Się, <font color=\"red\">--</font>czę<font color=\"red\">++</font> Moż<font color=\"red\">++</font> <font color=\"red\">--</font>Wie <font color=\"red\">--</font>li<font color=\"red\">++</font> Ja<font color=\"red\">++</font> krzy<font color=\"red\">++</font> do <font color=\"red\">--</font>ła <font color=\"red\">--</font>try <font color=\"red\">--</font>ko od<font color=\"red\">++</font> nie jej temo<font color=\"red\">++</font> za<font color=\"red\">++</font> klażenie <font color=\"red\">--</font>go kawa<font color=\"red\">++</font> \n",
              "<br/><font color=\"red\">--</font>ki <font color=\"red\">--</font>wno<font color=\"red\">++</font> cegbio<font color=\"red\">++</font> się je<font color=\"red\">++</font>? <font color=\"red\">--</font>Walą<font color=\"red\">++</font> rógo poceny po<font color=\"red\">++</font> po<font color=\"red\">++</font>, <font color=\"red\">--</font>nyse<font color=\"red\">++</font> muczy Nic o<font color=\"red\">++</font> na na za<font color=\"red\">++</font> <font color=\"red\">--</font>Nę<font color=\"red\">++</font> to jest mo<font color=\"red\">++</font> się się.. <font color=\"red\">--</font>de<font color=\"red\">++</font> \n",
              "<br/><font color=\"red\">--</font>tu <font color=\"red\">--</font>Ki jak <font color=\"red\">--</font>ka i ta<font color=\"red\">++</font> <font color=\"red\">--</font>Ka,, się. i <font color=\"red\">--</font>ca<font color=\"red\">++</font> Za<font color=\"red\">++</font> pry<font color=\"red\">++</font> \n",
              "<br/>co <font color=\"red\">--</font>pę <font color=\"red\">--</font>bre<font color=\"red\">++</font>. Oły jej \n",
              "<br/>, <font color=\"red\">--</font>jąt<font color=\"red\">++</font> <font color=\"red\">--</font>Wa<font color=\"red\">++</font>,, na <font color=\"red\">--</font>Na ta po<font color=\"red\">++</font> pota<font color=\"red\">++</font> to<font color=\"red\">++</font>. \n",
              "<br/>pocze <font color=\"red\">--</font>no<font color=\"red\">++</font> \n",
              "<br/>w, się z przybio<font color=\"red\">++</font> i myśwał do<font color=\"red\">++</font> nie <font color=\"red\">--</font>ta co <font color=\"red\">--</font>ła <font color=\"red\">--</font>ło pogo <font color=\"red\">--</font>dzi krzy<font color=\"red\">++</font> \n",
              "<br/>co <font color=\"red\">--</font>wa<font color=\"red\">++</font> ja<font color=\"red\">++</font> Być <font color=\"red\">--</font>gra<font color=\"red\">++</font> Nie<font color=\"red\">++</font> oma <font color=\"red\">--</font>gi <font color=\"red\">--</font>wi <font color=\"red\">--</font>go <font color=\"red\">--</font>Ła \n",
              "<br/><font color=\"red\">--</font>wne <font color=\"red\">--</font>sać \n",
              "<br/><font color=\"red\">--</font>la<font color=\"red\">++</font> ró<font color=\"red\">++</font> że <font color=\"red\">--</font>Nia <font color=\"red\">--</font>szczy<font color=\"red\">++</font> i \n",
              "<br/><font color=\"red\">--</font>mie <font color=\"red\">--</font>go do<font color=\"red\">++</font>. odją po<font color=\"red\">++</font> Je<font color=\"red\">++</font> to po<font color=\"red\">++</font>, rago \n",
              "<br/><font color=\"red\">--</font>Co<font color=\"red\">++</font> \n",
              "<br/><font color=\"red\">--</font>la<font color=\"red\">++</font> po<font color=\"red\">++</font> nie<font color=\"red\">++</font> \n",
              "<br/>z powy na ciem<font color=\"red\">++</font> – <font color=\"red\">--</font>ła <font color=\"red\">--</font>ła wróbreła \n",
              "<br/>. <font color=\"red\">--</font>ła,. w by<font color=\"red\">++</font> bru<font color=\"red\">++</font> Do<font color=\"red\">++</font> szonąć \n",
              "<br/>– mo<font color=\"red\">++</font> na, <font color=\"red\">--</font>na <font color=\"red\">--</font>la<font color=\"red\">++</font> dłu<font color=\"red\">++</font>. ja<font color=\"red\">++</font> – <font color=\"red\">--</font>go u<font color=\"red\">++</font> na<font color=\"red\">++</font>, <font color=\"red\">--</font>mo<font color=\"red\">++</font>, wi<font color=\"red\">++</font> Ciąg<font color=\"red\">++</font> \n",
              "<br/>przez <font color=\"red\">--</font>sy ka<font color=\"red\">++</font>, <font color=\"red\">--</font>ła, bo się roz<font color=\"red\">++</font>. po<font color=\"red\">++</font>. i du<font color=\"red\">++</font> Wiem po<font color=\"red\">++</font> gor<font color=\"red\">++</font>., mo<font color=\"red\">++</font> oła odty<font color=\"red\">++</font> \n",
              "<br/>, <font color=\"red\">--</font>cz<font color=\"red\">++</font> lek<font color=\"red\">++</font> się poca przez zała dodoni, <font color=\"red\">--</font>stęp<font color=\"red\">++</font> i<font color=\"red\">++</font> miaco<font color=\"red\">++</font> jest i \n",
              "<br/>nie po<font color=\"red\">++</font> dla<font color=\"red\">++</font> \n",
              "<br/><font color=\"red\">--</font>mo<font color=\"red\">++</font>! <font color=\"red\">--</font>ju <font color=\"red\">--</font>go <font color=\"red\">--</font>ło na i \n",
              "<br/><font color=\"red\">--</font>łu<font color=\"red\">++</font> i <font color=\"red\">--</font>sy wło<font color=\"red\">++</font> \n",
              "<br/>i wi<font color=\"red\">++</font>, okę pod<font color=\"red\">++</font> się <font color=\"red\">--</font>la<font color=\"red\">++</font> – na wcho<font color=\"red\">++</font> się za<font color=\"red\">++</font> że, nogo nie do<font color=\"red\">++</font> Na <font color=\"red\">--</font>dział – <font color=\"red\">--</font>ści <font color=\"red\">--</font>wy <font color=\"red\">--</font>nę<font color=\"red\">++</font> o<font color=\"red\">++</font> Pogo nic Po<font color=\"red\">++</font>,. kęnie Cho<font color=\"red\">++</font> zrzu<font color=\"red\">++</font>. <font color=\"red\">--</font>tem się co <font color=\"red\">--</font>Cze<font color=\"red\">++</font> któ<font color=\"red\">++</font> Bra<font color=\"red\">++</font>, ale – u<font color=\"red\">++</font>, ma<font color=\"red\">++</font> za<font color=\"red\">++</font> siejąc <font color=\"red\">--</font>go za<font color=\"red\">++</font> nie, unie. po<font color=\"red\">++</font> W ze<font color=\"red\">++</font> je<font color=\"red\">++</font> \n",
              "<br/><font color=\"red\">--</font>dy, <font color=\"red\">--</font>by po<font color=\"red\">++</font> mar<font color=\"red\">++</font> \n",
              "<br/>\n",
              "<br/>da<font color=\"red\">++</font> niesłula<font color=\"red\">++</font> u<font color=\"red\">++</font> Poła <font color=\"red\">--</font>Ła <font color=\"red\">--</font>ła <font color=\"red\">--</font>sy <font color=\"red\">--</font>wy, się <font color=\"red\">--</font>mo<font color=\"red\">++</font> prze<font color=\"red\">++</font> tyłam <font color=\"red\">--</font>la<font color=\"red\">++</font> \n",
              "<br/>.. <font color=\"red\">--</font>ła – i <font color=\"red\">--</font>kąś. Or<font color=\"red\">++</font> na <font color=\"red\">--</font>ty środ<font color=\"red\">++</font> krzy<font color=\"red\">++</font> jak <font color=\"red\">--</font>ście <font color=\"red\">--</font>pierw na – <font color=\"red\">--</font>ło? \n",
              "<br/>z <font color=\"red\">--</font>ta <font color=\"red\">--</font>nie <font color=\"red\">--</font>Cze. <font color=\"red\">--</font>nie, nie i ze<font color=\"red\">++</font> roz<font color=\"red\">++</font> tej Krzy<font color=\"red\">++</font> z oka <font color=\"red\">--</font>ki nie, jej, naj<font color=\"red\">++</font> to, <font color=\"red\">--</font>ce<font color=\"red\">++</font> się <font color=\"red\">--</font>Za<font color=\"red\">++</font>, z bycym <font color=\"red\">--</font>zykaw za<font color=\"red\">++</font> o<font color=\"red\">++</font> \n",
              "<br/>wyniem <font color=\"red\">--</font>raz <font color=\"red\">--</font>ne \n",
              "<br/><font color=\"red\">--</font>świadnej za<font color=\"red\">++</font> Bo<font color=\"red\">++</font>? <font color=\"red\">--</font>ny <font color=\"red\">--</font>łe,. <font color=\"red\">--</font>na o<font color=\"red\">++</font> nie<font color=\"red\">++</font> te<font color=\"red\">++</font> \n",
              "<br/>. zała \n",
              "<br/><font color=\"red\">--</font>mo <font color=\"red\">--</font>Cz<font color=\"red\">++</font> Bez się Sen<font color=\"red\">++</font> na <font color=\"red\">--</font>Cogo Poniem \n",
              "<br/>prze<font color=\"red\">++</font> od<font color=\"red\">++</font>, się ro<font color=\"red\">++</font> <font color=\"red\">--</font>Li<font color=\"red\">++</font> rozcz<font color=\"red\">++</font> to Mu \n",
              "<br/>\n",
              "<br/><font color=\"red\">--</font>cy <font color=\"red\">--</font>res<font color=\"red\">++</font> jej i <font color=\"red\">--</font>Ła po<font color=\"red\">++</font> sta<font color=\"red\">++</font> nie, <font color=\"red\">--</font>ka <font color=\"red\">--</font>dzi<font color=\"red\">++</font> poki po<font color=\"red\">++</font> o<font color=\"red\">++</font>"
            ],
            "text/plain": [
              "<IPython.core.display.HTML object>"
            ]
          },
          "metadata": {
            "tags": []
          }
        },
        {
          "output_type": "stream",
          "text": [
            "\n"
          ],
          "name": "stdout"
        },
        {
          "output_type": "stream",
          "text": [
            " 50%|####9     | 1164/2330 [23:44<24:03,  1.24s/it, epoch=3/5, loss=6.39, bw=0.344]"
          ],
          "name": "stderr"
        },
        {
          "output_type": "stream",
          "text": [
            "\n",
            "[23m 45s (3 1165 50%) loss=6.3900 bw=0.4429]\n"
          ],
          "name": "stdout"
        },
        {
          "output_type": "display_data",
          "data": {
            "text/html": [
              "Nauka psa czystości – jak sprawnie nauczyć psa załatwiać się na dworze?. za<font color=\"red\">++</font> <font color=\"red\">--</font>Ka<font color=\"red\">++</font> ra<font color=\"red\">++</font> <font color=\"red\">--</font>Szość <font color=\"red\">--</font>my. Niej <font color=\"red\">--</font>wa<font color=\"red\">++</font> czy się, <font color=\"red\">--</font>sić <font color=\"red\">--</font>Wiła <font color=\"red\">--</font>ła z <font color=\"red\">--</font>szek <font color=\"red\">--</font>dę ra<font color=\"red\">++</font>,! <font color=\"red\">--</font>ka <font color=\"red\">--</font>wać <font color=\"red\">--</font>ła<font color=\"red\">++</font>?, <font color=\"red\">--</font>ką, <font color=\"red\">--</font>na <font color=\"red\">--</font>Ję<font color=\"red\">++</font> od<font color=\"red\">++</font> mnie <font color=\"red\">--</font>te<font color=\"red\">++</font> i bo<font color=\"red\">++</font> ku<font color=\"red\">++</font>. <font color=\"red\">--</font>no<font color=\"red\">++</font> wy<font color=\"red\">++</font>. – doby Na, te<font color=\"red\">++</font> – ma po<font color=\"red\">++</font> ojąc!! <font color=\"red\">--</font>no we do <font color=\"red\">--</font>dę że <font color=\"red\">--</font>ła <font color=\"red\">--</font>de<font color=\"red\">++</font> te<font color=\"red\">++</font> – <font color=\"red\">--</font>dogębna że<font color=\"red\">++</font> \n",
              "<br/><font color=\"red\">--</font>śsto<font color=\"red\">++</font> krzy<font color=\"red\">++</font>. \n",
              "<br/>du<font color=\"red\">++</font> jak ten na pomy do nie <font color=\"red\">--</font>ła. <font color=\"red\">--</font>b<font color=\"red\">++</font> nie trzy renę? że <font color=\"red\">--</font>ście – <font color=\"red\">--</font>cie is<font color=\"red\">++</font> te<font color=\"red\">++</font>! <font color=\"red\">--</font>niawa<font color=\"red\">++</font>, –. je<font color=\"red\">++</font>,,. <font color=\"red\">--</font>ta <font color=\"red\">--</font>res<font color=\"red\">++</font> ki<font color=\"red\">++</font> skąd dru<font color=\"red\">++</font>,. <font color=\"red\">--</font>dla<font color=\"red\">++</font> nie \n",
              "<br/><font color=\"red\">--</font>go <font color=\"red\">--</font>mie <font color=\"red\">--</font>ło –. – cie<font color=\"red\">++</font> pół<font color=\"red\">++</font> za<font color=\"red\">++</font> <font color=\"red\">--</font>Że uste <font color=\"red\">--</font>tchnę<font color=\"red\">++</font>, <font color=\"red\">--</font>nej <font color=\"red\">--</font>kiś <font color=\"red\">--</font>rzy., po na <font color=\"red\">--</font>kim <font color=\"red\">--</font>że, <font color=\"red\">--</font>labra<font color=\"red\">++</font>, <font color=\"red\">--</font>w<font color=\"red\">++</font> mu ja<font color=\"red\">++</font>., – tewo<font color=\"red\">++</font> bę<font color=\"red\">++</font>. <font color=\"red\">--</font>ło z <font color=\"red\">--</font>Ciółteż ja<font color=\"red\">++</font> bę<font color=\"red\">++</font> zęwał <font color=\"red\">--</font>ła ca<font color=\"red\">++</font>,, \n",
              "<br/><font color=\"red\">--</font>ny scho<font color=\"red\">++</font> nie <font color=\"red\">--</font>wą Pa<font color=\"red\">++</font>! \n",
              "<br/>na <font color=\"red\">--</font>ła trud<font color=\"red\">++</font> – wymi <font color=\"red\">--</font>my <font color=\"red\">--</font>ka<font color=\"red\">++</font> za<font color=\"red\">++</font> to <font color=\"red\">--</font>ka., \n",
              "<br/><font color=\"red\">--</font>ła sły<font color=\"red\">++</font> –. <font color=\"red\">--</font>ka <font color=\"red\">--</font>dził <font color=\"red\">--</font>kim za<font color=\"red\">++</font> nane<font color=\"red\">++</font> tę! \n",
              "<br/><font color=\"red\">--</font>czy<font color=\"red\">++</font> <font color=\"red\">--</font>Rze<font color=\"red\">++</font> ko<font color=\"red\">++</font> omy mu<font color=\"red\">++</font> po<font color=\"red\">++</font> ok<font color=\"red\">++</font> do<font color=\"red\">++</font> jesko<font color=\"red\">++</font> – na <font color=\"red\">--</font>mu <font color=\"red\">--</font>Dzi <font color=\"red\">--</font>łam bo <font color=\"red\">--</font>wi<font color=\"red\">++</font> Od<font color=\"red\">++</font> i, uła <font color=\"red\">--</font>wych zro<font color=\"red\">++</font> \n",
              "<br/>\n",
              "<br/>\n",
              "<br/>, z <font color=\"red\">--</font>szła wie<font color=\"red\">++</font> <font color=\"red\">--</font>Dzi się do<font color=\"red\">++</font>. \n",
              "<br/><font color=\"red\">--</font>ne o<font color=\"red\">++</font> sucę <font color=\"red\">--</font>dzie za<font color=\"red\">++</font> <font color=\"red\">--</font>Ła <font color=\"red\">--</font>cemi <font color=\"red\">--</font>jął <font color=\"red\">--</font>bie <font color=\"red\">--</font>wał <font color=\"red\">--</font>chone ry<font color=\"red\">++</font> teła <font color=\"red\">--</font>te<font color=\"red\">++</font>! dla wreła \n",
              "<br/><font color=\"red\">--</font>nie <font color=\"red\">--</font>Kastrze<font color=\"red\">++</font>, – <font color=\"red\">--</font>Cy u<font color=\"red\">++</font>,, <font color=\"red\">--</font>niaczy<font color=\"red\">++</font>, <font color=\"red\">--</font>go <font color=\"red\">--</font>tał co <font color=\"red\">--</font>cie na mie<font color=\"red\">++</font> <font color=\"red\">--</font>Go<font color=\"red\">++</font> Jak <font color=\"red\">--</font>resste. jest <font color=\"red\">--</font>res<font color=\"red\">++</font> co<font color=\"red\">++</font>, na cie<font color=\"red\">++</font> – gdy<font color=\"red\">++</font> Ja <font color=\"red\">--</font>ba <font color=\"red\">--</font>gę o<font color=\"red\">++</font> <font color=\"red\">--</font>Ze <font color=\"red\">--</font>dzie <font color=\"red\">--</font>kło<font color=\"red\">++</font>.. – zane no bę<font color=\"red\">++</font> u<font color=\"red\">++</font> o <font color=\"red\">--</font>dy <font color=\"red\">--</font>nym <font color=\"red\">--</font>res<font color=\"red\">++</font> na przowa<font color=\"red\">++</font> Mago wy<font color=\"red\">++</font> A chęć I <font color=\"red\">--</font>żki <font color=\"red\">--</font>parżekę <font color=\"red\">--</font>s<font color=\"red\">++</font>.. nie <font color=\"red\">--</font>ko <font color=\"red\">--</font>Sokiej na \n",
              "<br/>czewo<font color=\"red\">++</font> \n",
              "<br/>na <font color=\"red\">--</font>wró<font color=\"red\">++</font> \n",
              "<br/>ten te<font color=\"red\">++</font>. <font color=\"red\">--</font>ki<font color=\"red\">++</font> wy<font color=\"red\">++</font> – Zani<font color=\"red\">++</font> ta<font color=\"red\">++</font> Poże<font color=\"red\">++</font> – <font color=\"red\">--</font>lę. bę<font color=\"red\">++</font>, <font color=\"red\">--</font>wao<font color=\"red\">++</font> \n",
              "<br/>. \n",
              "<br/>pra<font color=\"red\">++</font> – <font color=\"red\">--</font>stać oła <font color=\"red\">--</font>ne<font color=\"red\">++</font> fur<font color=\"red\">++</font> Nic <font color=\"red\">--</font>sztof nie na tu wymy <font color=\"red\">--</font>ni<font color=\"red\">++</font> o<font color=\"red\">++</font>, o <font color=\"red\">--</font>my <font color=\"red\">--</font>Jęku. <font color=\"red\">--</font>rej., <font color=\"red\">--</font>że<font color=\"red\">++</font>.,, byka pro<font color=\"red\">++</font> <font color=\"red\">--</font>Nien Ro<font color=\"red\">++</font>., z – ja<font color=\"red\">++</font> – mago. za<font color=\"red\">++</font> – <font color=\"red\">--</font>róba drzwiach <font color=\"red\">--</font>tawał pibne<font color=\"red\">++</font> \n",
              "<br/>– niech ja <font color=\"red\">--</font>Chać przy po! \n",
              "<br/>teła zro<font color=\"red\">++</font> któ<font color=\"red\">++</font> i. pięku a – na <font color=\"red\">--</font>ła przy roz<font color=\"red\">++</font> za<font color=\"red\">++</font> w się. za<font color=\"red\">++</font> zonie <font color=\"red\">--</font>czcie \n",
              "<br/>o<font color=\"red\">++</font>.. to <font color=\"red\">--</font>ną <font color=\"red\">--</font>reniu je<font color=\"red\">++</font> na <font color=\"red\">--</font>nia<font color=\"red\">++</font>, <font color=\"red\">--</font>ją<font color=\"red\">++</font> gona… <font color=\"red\">--</font>ją się,. <font color=\"red\">--</font>ka. bawa<font color=\"red\">++</font> Na<font color=\"red\">++</font> do. Po<font color=\"red\">++</font> wyjść <font color=\"red\">--</font>dnet<font color=\"red\">++</font> <font color=\"red\">--</font>Kręt<font color=\"red\">++</font>, \n",
              "<br/><font color=\"red\">--</font>szłym \n",
              "<br/><font color=\"red\">--</font>mal to <font color=\"red\">--</font>nia mnie, \n",
              "<br/>by<font color=\"red\">++</font> z. <font color=\"red\">--</font>cia, nie. <font color=\"red\">--</font>woży<font color=\"red\">++</font> nim \n",
              "<br/>\n",
              "<br/>, u<font color=\"red\">++</font> <font color=\"red\">--</font>Pnę<font color=\"red\">++</font> posudzie <font color=\"red\">--</font>ją<font color=\"red\">++</font> ry<font color=\"red\">++</font>, kuchód, – <font color=\"red\">--</font>wró<font color=\"red\">++</font> wyko. mosło <font color=\"red\">--</font>Ży<font color=\"red\">++</font> \n",
              "<br/><font color=\"red\">--</font>ka <font color=\"red\">--</font>ka<font color=\"red\">++</font> się na na ten <font color=\"red\">--</font>ny krzyci<font color=\"red\">++</font> ten że <font color=\"red\">--</font>ni <font color=\"red\">--</font>wa<font color=\"red\">++</font>. \n",
              "<br/>po<font color=\"red\">++</font> za o<font color=\"red\">++</font>. <font color=\"red\">--</font>ka <font color=\"red\">--</font>ka <font color=\"red\">--</font>sifiją<font color=\"red\">++</font> Prze<font color=\"red\">++</font> się nu<font color=\"red\">++</font>. wczołe i, – <font color=\"red\">--</font>le <font color=\"red\">--</font>le te<font color=\"red\">++</font> ko<font color=\"red\">++</font> \n",
              "<br/>– <font color=\"red\">--</font>raź<font color=\"red\">++</font> \n",
              "<br/>fimyś<font color=\"red\">++</font> chwika <font color=\"red\">--</font>na <font color=\"red\">--</font>sze, te<font color=\"red\">++</font>. \n",
              "<br/><font color=\"red\">--</font>dę <font color=\"red\">--</font>czojadzie te<font color=\"red\">++</font>? <font color=\"red\">--</font>pa<font color=\"red\">++</font> do \n",
              "<br/><font color=\"red\">--</font>wieli zmar<font color=\"red\">++</font> \n",
              "<br/><font color=\"red\">--</font>blewie<font color=\"red\">++</font> <font color=\"red\">--</font>Ni nie <font color=\"red\">--</font>Dzieć \n",
              "<br/>\n",
              "<br/>– naka Po<font color=\"red\">++</font> kos<font color=\"red\">++</font> – przełaś \n",
              "<br/><font color=\"red\">--</font>ła.. to zgłu<font color=\"red\">++</font> Mieć – <font color=\"red\">--</font>de<font color=\"red\">++</font> unia<font color=\"red\">++</font>. <font color=\"red\">--</font>ła schores<font color=\"red\">++</font> daj na \n",
              "<br/>mo<font color=\"red\">++</font> ko<font color=\"red\">++</font>. wy<font color=\"red\">++</font>, <font color=\"red\">--</font>ście. \n",
              "<br/>się dares<font color=\"red\">++</font> <font color=\"red\">--</font>Łares<font color=\"red\">++</font>, <font color=\"red\">--</font>doca., po <font color=\"red\">--</font>ta <font color=\"red\">--</font>bra<font color=\"red\">++</font> o <font color=\"red\">--</font>cę te<font color=\"red\">++</font> <font color=\"red\">--</font>Menien <font color=\"red\">--</font>my <font color=\"red\">--</font>wać <font color=\"red\">--</font>ne z <font color=\"red\">--</font>tek <font color=\"red\">--</font>rzy<font color=\"red\">++</font> go <font color=\"red\">--</font>ki <font color=\"red\">--</font>nie \n",
              "<br/>i stro<font color=\"red\">++</font> \n",
              "<br/><font color=\"red\">--</font>dy sympli<font color=\"red\">++</font> to przecie, <font color=\"red\">--</font>Mi Zakim <font color=\"red\">--</font>na za<font color=\"red\">++</font> scze<font color=\"red\">++</font> – <font color=\"red\">--</font>ska – <font color=\"red\">--</font>chać. \n",
              "<br/><font color=\"red\">--</font>ku stono<font color=\"red\">++</font> i miejwawać sires<font color=\"red\">++</font> tu prze<font color=\"red\">++</font> u<font color=\"red\">++</font> Sam po<font color=\"red\">++</font> \n",
              "<br/><font color=\"red\">--</font>gim <font color=\"red\">--</font>wa<font color=\"red\">++</font> do <font color=\"red\">--</font>dziach <font color=\"red\">--</font>na <font color=\"red\">--</font>niu <font color=\"red\">--</font>nii to <font color=\"red\">--</font>nie <font color=\"red\">--</font>ne<font color=\"red\">++</font> nie <font color=\"red\">--</font>Le<font color=\"red\">++</font>, <font color=\"red\">--</font>nę<font color=\"red\">++</font> nie<font color=\"red\">++</font> szef je<font color=\"red\">++</font> \n",
              "<br/>wy<font color=\"red\">++</font> zamo o<font color=\"red\">++</font> – <font color=\"red\">--</font>ka \n",
              "<br/>\n",
              "<br/><font color=\"red\">--</font>ka nie po<font color=\"red\">++</font>, się <font color=\"red\">--</font>wa<font color=\"red\">++</font> zde<font color=\"red\">++</font> Nie, <font color=\"red\">--</font>zu<font color=\"red\">++</font> się – wy<font color=\"red\">++</font> wy<font color=\"red\">++</font> \n",
              "<br/>to <font color=\"red\">--</font>ła. <font color=\"red\">--</font>ta <font color=\"red\">--</font>le ner<font color=\"red\">++</font> o<font color=\"red\">++</font> pocz<font color=\"red\">++</font> na.. Poju <font color=\"red\">--</font>brała i <font color=\"red\">--</font>wido<font color=\"red\">++</font> w w czwar<font color=\"red\">++</font> to – <font color=\"red\">--</font>na <font color=\"red\">--</font>ła się <font color=\"red\">--</font>mi<font color=\"red\">++</font> po<font color=\"red\">++</font> os<font color=\"red\">++</font> tych Na? <font color=\"red\">--</font>ry prze<font color=\"red\">++</font> nie ale ro<font color=\"red\">++</font>. <font color=\"red\">--</font>Dzić – <font color=\"red\">--</font>dziej <font color=\"red\">--</font>mer i wy<font color=\"red\">++</font> je<font color=\"red\">++</font> na! przepli<font color=\"red\">++</font> i Po in<font color=\"red\">++</font> na<font color=\"red\">++</font> poka, na – <font color=\"red\">--</font>ną o<font color=\"red\">++</font> a pa<font color=\"red\">++</font> a <font color=\"red\">--</font>ny, ty<font color=\"red\">++</font> i na<font color=\"red\">++</font> kiczał pobo <font color=\"red\">--</font>ką <font color=\"red\">--</font>ki <font color=\"red\">--</font>łam \n",
              "<br/>. <font color=\"red\">--</font>le <font color=\"red\">--</font>ta do<font color=\"red\">++</font> in<font color=\"red\">++</font> we<font color=\"red\">++</font> – – <font color=\"red\">--</font>ło <font color=\"red\">--</font>te<font color=\"red\">++</font> wy<font color=\"red\">++</font> nie \n",
              "<br/>ma<font color=\"red\">++</font>, –, co <font color=\"red\">--</font>kach o<font color=\"red\">++</font> \n",
              "<br/>. <font color=\"red\">--</font>Na <font color=\"red\">--</font>Wa<font color=\"red\">++</font> ugona <font color=\"red\">--</font>nym odzie <font color=\"red\">--</font>ny \n",
              "<br/>ko<font color=\"red\">++</font> zacia, <font color=\"red\">--</font>wał nili<font color=\"red\">++</font> na \n",
              "<br/><font color=\"red\">--</font>li je<font color=\"red\">++</font> jak za<font color=\"red\">++</font> te<font color=\"red\">++</font> ma<font color=\"red\">++</font>, <font color=\"red\">--</font>wej <font color=\"red\">--</font>de<font color=\"red\">++</font> drzwia<font color=\"red\">++</font>, się <font color=\"red\">--</font>cknął. od<font color=\"red\">++</font> – wywał od<font color=\"red\">++</font> ją w O<font color=\"red\">++</font> nie., po<font color=\"red\">++</font> po<font color=\"red\">++</font> przo<font color=\"red\">++</font> \n",
              "<br/><font color=\"red\">--</font>bę, poda<font color=\"red\">++</font> i <font color=\"red\">--</font>ni<font color=\"red\">++</font> maki,. mu sie<font color=\"red\">++</font> \n",
              "<br/>, <font color=\"red\">--</font>zać te<font color=\"red\">++</font> Niże<font color=\"red\">++</font> koli<font color=\"red\">++</font> \n",
              "<br/><font color=\"red\">--</font>nia na bę<font color=\"red\">++</font> w. na te<font color=\"red\">++</font>"
            ],
            "text/plain": [
              "<IPython.core.display.HTML object>"
            ]
          },
          "metadata": {
            "tags": []
          }
        },
        {
          "output_type": "stream",
          "text": [
            "\n"
          ],
          "name": "stdout"
        },
        {
          "output_type": "stream",
          "text": [
            " 60%|#####9    | 1397/2330 [28:32<19:05,  1.23s/it, epoch=4/5, loss=6.57, bw=0.432]"
          ],
          "name": "stderr"
        },
        {
          "output_type": "stream",
          "text": [
            "\n",
            "[28m 32s (4 1398 60%) loss=6.5685 bw=0.4215]\n"
          ],
          "name": "stdout"
        },
        {
          "output_type": "display_data",
          "data": {
            "text/html": [
              "Nauka psa czystości – jak sprawnie nauczyć psa załatwiać się na dworze? – Chywiek możko <font color=\"red\">--</font>mio<font color=\"red\">++</font> sam,,. <font color=\"red\">--</font>cie, <font color=\"red\">--</font>ką gdzie jej do<font color=\"red\">++</font> na Nie. <font color=\"red\">--</font>by <font color=\"red\">--</font>Nie <font color=\"red\">--</font>Wny w <font color=\"red\">--</font>ty<font color=\"red\">++</font> i<font color=\"red\">++</font> <font color=\"red\">--</font>Ła <font color=\"red\">--</font>mi <font color=\"red\">--</font>wa<font color=\"red\">++</font> \n",
              "<br/>, – o<font color=\"red\">++</font> O<font color=\"red\">++</font>, że <font color=\"red\">--</font>cz<font color=\"red\">++</font> \n",
              "<br/><font color=\"red\">--</font>kiem za<font color=\"red\">++</font> i <font color=\"red\">--</font>ta <font color=\"red\">--</font>szazet nie te<font color=\"red\">++</font>,!., Rozci<font color=\"red\">++</font> \n",
              "<br/><font color=\"red\">--</font>kro ze<font color=\"red\">++</font> Tak,, –, zda<font color=\"red\">++</font> – Gło<font color=\"red\">++</font> da<font color=\"red\">++</font> jej. <font color=\"red\">--</font>ła <font color=\"red\">--</font>nie. – <font color=\"red\">--</font>ło Za<font color=\"red\">++</font>, ró<font color=\"red\">++</font>,. Bezwie<font color=\"red\">++</font> do w gonie <font color=\"red\">--</font>Ni <font color=\"red\">--</font>je<font color=\"red\">++</font>,. <font color=\"red\">--</font>ka Mo<font color=\"red\">++</font> I młoła się! <font color=\"red\">--</font>kie<font color=\"red\">++</font> nie<font color=\"red\">++</font> się, <font color=\"red\">--</font>dach ma<font color=\"red\">++</font> war<font color=\"red\">++</font> –. <font color=\"red\">--</font>kojąc <font color=\"red\">--</font>zu \n",
              "<br/>goła <font color=\"red\">--</font>gcha<font color=\"red\">++</font>, o<font color=\"red\">++</font> Ko<font color=\"red\">++</font> za<font color=\"red\">++</font>, <font color=\"red\">--</font>na – po<font color=\"red\">++</font> jak \n",
              "<br/><font color=\"red\">--</font>nych, Jak o<font color=\"red\">++</font> – <font color=\"red\">--</font>my, <font color=\"red\">--</font>ły. nie <font color=\"red\">--</font>ku \n",
              "<br/>jęk<font color=\"red\">++</font> po<font color=\"red\">++</font> <font color=\"red\">--</font>Ła jak <font color=\"red\">--</font>Ró<font color=\"red\">++</font> nie<font color=\"red\">++</font> <font color=\"red\">--</font>Go <font color=\"red\">--</font>ła, o<font color=\"red\">++</font> o<font color=\"red\">++</font> <font color=\"red\">--</font>Ka <font color=\"red\">--</font>kiem <font color=\"red\">--</font>winie \n",
              "<br/><font color=\"red\">--</font>tecie <font color=\"red\">--</font>sz<font color=\"red\">++</font> Prze<font color=\"red\">++</font> z al<font color=\"red\">++</font>, <font color=\"red\">--</font>sogrzewją <font color=\"red\">--</font>ły – nakiem <font color=\"red\">--</font>ści włakrop<font color=\"red\">++</font>. \n",
              "<br/>bygać <font color=\"red\">--</font>dzieją<font color=\"red\">++</font> gar<font color=\"red\">++</font> tam Starsem <font color=\"red\">--</font>co w <font color=\"red\">--</font>wiktery <font color=\"red\">--</font>cych czano<font color=\"red\">++</font> i <font color=\"red\">--</font>Czy,, <font color=\"red\">--</font>kiezaniu <font color=\"red\">--</font>wjaśjeżma kierescią<font color=\"red\">++</font> \n",
              "<br/>, po<font color=\"red\">++</font> za<font color=\"red\">++</font> \n",
              "<br/>u<font color=\"red\">++</font>, o<font color=\"red\">++</font> \n",
              "<br/>ciężwnie <font color=\"red\">--</font>wio<font color=\"red\">++</font> nie, –. \n",
              "<br/>– Po<font color=\"red\">++</font> na <font color=\"red\">--</font>ję<font color=\"red\">++</font> nie i z w <font color=\"red\">--</font>ję <font color=\"red\">--</font>wy \n",
              "<br/><font color=\"red\">--</font>bie tu góści dzięne – no<font color=\"red\">++</font>, Cze<font color=\"red\">++</font> <font color=\"red\">--</font>Cym <font color=\"red\">--</font>my na <font color=\"red\">--</font>men<font color=\"red\">++</font> \n",
              "<br/>nie – <font color=\"red\">--</font>ra<font color=\"red\">++</font> tak <font color=\"red\">--</font>wa<font color=\"red\">++</font>, –,. ty <font color=\"red\">--</font>Sem <font color=\"red\">--</font>t<font color=\"red\">++</font> Je<font color=\"red\">++</font>. te<font color=\"red\">++</font> Nie Nie przeczą<font color=\"red\">++</font>,, to – <font color=\"red\">--</font>krętczygać <font color=\"red\">--</font>ści i<font color=\"red\">++</font> rócie <font color=\"red\">--</font>ło! miej<font color=\"red\">++</font> – ocz<font color=\"red\">++</font> ża<font color=\"red\">++</font> – <font color=\"red\">--</font>ła<font color=\"red\">++</font> do <font color=\"red\">--</font>na <font color=\"red\">--</font>ła nieła <font color=\"red\">--</font>parnie –, na <font color=\"red\">--</font>ka. <font color=\"red\">--</font>dziej <font color=\"red\">--</font>go Gonie pła<font color=\"red\">++</font> przy<font color=\"red\">++</font> <font color=\"red\">--</font>Ła tej <font color=\"red\">--</font>siąc <font color=\"red\">--</font>ka po<font color=\"red\">++</font> znik<font color=\"red\">++</font> się in<font color=\"red\">++</font>, wszy<font color=\"red\">++</font> – poko <font color=\"red\">--</font>Kaznę<font color=\"red\">++</font> za<font color=\"red\">++</font> te<font color=\"red\">++</font>, skra<font color=\"red\">++</font>, <font color=\"red\">--</font>k<font color=\"red\">++</font>, <font color=\"red\">--</font>ra, <font color=\"red\">--</font>ką tedzę wy<font color=\"red\">++</font> na być <font color=\"red\">--</font>ka<font color=\"red\">++</font>, na <font color=\"red\">--</font>dki <font color=\"red\">--</font>gą na \n",
              "<br/>– <font color=\"red\">--</font>myśro sa<font color=\"red\">++</font> <font color=\"red\">--</font>Rą<font color=\"red\">++</font> Pod<font color=\"red\">++</font> ka<font color=\"red\">++</font> <font color=\"red\">--</font>Dzi<font color=\"red\">++</font> za<font color=\"red\">++</font> Za <font color=\"red\">--</font>na <font color=\"red\">--</font>krętni a<font color=\"red\">++</font> to, – ale po<font color=\"red\">++</font> Ko<font color=\"red\">++</font> wyty<font color=\"red\">++</font> \n",
              "<br/>Na <font color=\"red\">--</font>ni<font color=\"red\">++</font> Od<font color=\"red\">++</font> drwią<font color=\"red\">++</font> wil<font color=\"red\">++</font> tym mia<font color=\"red\">++</font> Krzy<font color=\"red\">++</font> i, mewy gar<font color=\"red\">++</font> wyka <font color=\"red\">--</font>nej <font color=\"red\">--</font>tka<font color=\"red\">++</font> <font color=\"red\">--</font>Li <font color=\"red\">--</font>Ka \n",
              "<br/>z <font color=\"red\">--</font>daczy<font color=\"red\">++</font> <font color=\"red\">--</font>Dzić \n",
              "<br/><font color=\"red\">--</font>ła, <font color=\"red\">--</font>ny jakoś <font color=\"red\">--</font>Go wiem <font color=\"red\">--</font>to<font color=\"red\">++</font> do <font color=\"red\">--</font>laku. \n",
              "<br/><font color=\"red\">--</font>dy zbiedział <font color=\"red\">--</font>maby <font color=\"red\">--</font>ka, <font color=\"red\">--</font>res<font color=\"red\">++</font> ży<font color=\"red\">++</font>, <font color=\"red\">--</font>wą, <font color=\"red\">--</font>nia zani <font color=\"red\">--</font>Cu \n",
              "<br/><font color=\"red\">--</font>ka \n",
              "<br/><font color=\"red\">--</font>za mu <font color=\"red\">--</font>Ła <font color=\"red\">--</font>ją,! \n",
              "<br/>rze<font color=\"red\">++</font> z <font color=\"red\">--</font>Je, w <font color=\"red\">--</font>dy \n",
              "<br/><font color=\"red\">--</font>ska<font color=\"red\">++</font> somieg<font color=\"red\">++</font> o<font color=\"red\">++</font> je<font color=\"red\">++</font> prze<font color=\"red\">++</font>, opo<font color=\"red\">++</font>, <font color=\"red\">--</font>Ło <font color=\"red\">--</font>ner<font color=\"red\">++</font> już <font color=\"red\">--</font>mores<font color=\"red\">++</font> star<font color=\"red\">++</font> drze<font color=\"red\">++</font> za<font color=\"red\">++</font> i że <font color=\"red\">--</font>dzie… <font color=\"red\">--</font>wno<font color=\"red\">++</font> to – <font color=\"red\">--</font>pa<font color=\"red\">++</font>,. żenianity, tełym za<font color=\"red\">++</font>,, <font color=\"red\">--</font>lę się. <font color=\"red\">--</font>ła <font color=\"red\">--</font>paka <font color=\"red\">--</font>miem W py<font color=\"red\">++</font> by<font color=\"red\">++</font>, <font color=\"red\">--</font>Wnie – <font color=\"red\">--</font>jąc nie się miej<font color=\"red\">++</font>, masz. \n",
              "<br/>pawna <font color=\"red\">--</font>ły <font color=\"red\">--</font>Ła Tru<font color=\"red\">++</font> aż <font color=\"red\">--</font>Tyło <font color=\"red\">--</font>wał <font color=\"red\">--</font>mu. <font color=\"red\">--</font>kie<font color=\"red\">++</font> <font color=\"red\">--</font>Pie<font color=\"red\">++</font>,. od<font color=\"red\">++</font> ten się <font color=\"red\">--</font>ną dziew<font color=\"red\">++</font> roz<font color=\"red\">++</font>, jeście <font color=\"red\">--</font>ci <font color=\"red\">--</font>we Ma<font color=\"red\">++</font>,. ta<font color=\"red\">++</font> –, odnak <font color=\"red\">--</font>go. <font color=\"red\">--</font>Pał co I <font color=\"red\">--</font>ka <font color=\"red\">--</font>ra <font color=\"red\">--</font>kich z <font color=\"red\">--</font>mo<font color=\"red\">++</font> \n",
              "<br/>\n",
              "<br/><font color=\"red\">--</font>dy – zaczy<font color=\"red\">++</font> – wypar<font color=\"red\">++</font>, \n",
              "<br/><font color=\"red\">--</font>cy Żaczukrętko<font color=\"red\">++</font>. zasied<font color=\"red\">++</font> goczam <font color=\"red\">--</font>Ba naj<font color=\"red\">++</font> po<font color=\"red\">++</font> testa<font color=\"red\">++</font> dziew<font color=\"red\">++</font> owę <font color=\"red\">--</font>ka <font color=\"red\">--</font>my miała <font color=\"red\">--</font>sza<font color=\"red\">++</font> Po \n",
              "<br/><font color=\"red\">--</font>ciel<font color=\"red\">++</font> Na <font color=\"red\">--</font>biła Metę te<font color=\"red\">++</font> ko<font color=\"red\">++</font> <font color=\"red\">--</font>Cho<font color=\"red\">++</font> pal<font color=\"red\">++</font> – \n",
              "<br/>\n",
              "<br/><font color=\"red\">--</font>rej, za<font color=\"red\">++</font> mia<font color=\"red\">++</font>,, <font color=\"red\">--</font>ła,, o<font color=\"red\">++</font>, <font color=\"red\">--</font>trzy<font color=\"red\">++</font> po<font color=\"red\">++</font> \n",
              "<br/><font color=\"red\">--</font>cz<font color=\"red\">++</font> zagoja<font color=\"red\">++</font> Pojesz <font color=\"red\">--</font>pełgać o<font color=\"red\">++</font>. <font color=\"red\">--</font>Wie<font color=\"red\">++</font> Tak i<font color=\"red\">++</font> nie swoim <font color=\"red\">--</font>Wa<font color=\"red\">++</font> u<font color=\"red\">++</font>, jak <font color=\"red\">--</font>res<font color=\"red\">++</font> przed do<font color=\"red\">++</font>!, <font color=\"red\">--</font>s<font color=\"red\">++</font> Mno<font color=\"red\">++</font>, tedzą <font color=\"red\">--</font>Ki<font color=\"red\">++</font> od <font color=\"red\">--</font>wie<font color=\"red\">++</font> <font color=\"red\">--</font>Ni w <font color=\"red\">--</font>bę<font color=\"red\">++</font> –. u<font color=\"red\">++</font> chwinie <font color=\"red\">--</font>czy<font color=\"red\">++</font> pokrętli on o<font color=\"red\">++</font> \n",
              "<br/>\n",
              "<br/><font color=\"red\">--</font>ni<font color=\"red\">++</font>, \n",
              "<br/>się <font color=\"red\">--</font>ła o<font color=\"red\">++</font> da<font color=\"red\">++</font> się. Mu,,, wytat<font color=\"red\">++</font> Bu<font color=\"red\">++</font> się Zakręt<font color=\"red\">++</font>. <font color=\"red\">--</font>ła Mu – \n",
              "<br/>te<font color=\"red\">++</font> o<font color=\"red\">++</font> w nie <font color=\"red\">--</font>łym <font color=\"red\">--</font>bił na Wyki <font color=\"red\">--</font>no<font color=\"red\">++</font>. się odej <font color=\"red\">--</font>my! <font color=\"red\">--</font>ny. <font color=\"red\">--</font>lawnie o<font color=\"red\">++</font>, <font color=\"red\">--</font>sta<font color=\"red\">++</font>! <font color=\"red\">--</font>ła <font color=\"red\">--</font>ciem Mała \n",
              "<br/>złe<font color=\"red\">++</font> że <font color=\"red\">--</font>ją<font color=\"red\">++</font> mnie. Naj<font color=\"red\">++</font> <font color=\"red\">--</font>Ła <font color=\"red\">--</font>dzie plik. <font color=\"red\">--</font>ka <font color=\"red\">--</font>li – \n",
              "<br/>co wła<font color=\"red\">++</font> na<font color=\"red\">++</font> \n",
              "<br/>Co, \n",
              "<br/>po tak, <font color=\"red\">--</font>li zener<font color=\"red\">++</font> na <font color=\"red\">--</font>cie i. <font color=\"red\">--</font>cie po<font color=\"red\">++</font> <font color=\"red\">--</font>Ło, <font color=\"red\">--</font>ka,. <font color=\"red\">--</font>jeres<font color=\"red\">++</font>, Teka <font color=\"red\">--</font>ną na<font color=\"red\">++</font> <font color=\"red\">--</font>Że, jak ty <font color=\"red\">--</font>liła <font color=\"red\">--</font>sz<font color=\"red\">++</font> – się Do<font color=\"red\">++</font> i Widkacz<font color=\"red\">++</font> Wcho<font color=\"red\">++</font> a<font color=\"red\">++</font> teni <font color=\"red\">--</font>szedł <font color=\"red\">--</font>No <font color=\"red\">--</font>jeżcję \n",
              "<br/><font color=\"red\">--</font>dzieny Jest prze<font color=\"red\">++</font>, <font color=\"red\">--</font>na<font color=\"red\">++</font> jękła to., <font color=\"red\">--</font>nie o<font color=\"red\">++</font>. \n",
              "<br/><font color=\"red\">--</font>Cz<font color=\"red\">++</font> <font color=\"red\">--</font>Cy \n",
              "<br/>prolejwa<font color=\"red\">++</font> nie <font color=\"red\">--</font>ka \n",
              "<br/><font color=\"red\">--</font>to<font color=\"red\">++</font> po<font color=\"red\">++</font> – za <font color=\"red\">--</font>nie <font color=\"red\">--</font>Ty <font color=\"red\">--</font>wać. nich ani <font color=\"red\">--</font>śku. <font color=\"red\">--</font>ła <font color=\"red\">--</font>nie. u<font color=\"red\">++</font> Za<font color=\"red\">++</font>. <font color=\"red\">--</font>nę by<font color=\"red\">++</font> te<font color=\"red\">++</font> Nie<font color=\"red\">++</font> a sły<font color=\"red\">++</font> zde<font color=\"red\">++</font> jej <font color=\"red\">--</font>kako<font color=\"red\">++</font> \n",
              "<br/>– <font color=\"red\">--</font>wiła <font color=\"red\">--</font>Jąc z <font color=\"red\">--</font>pad<font color=\"red\">++</font> pan <font color=\"red\">--</font>te<font color=\"red\">++</font> proka od – <font color=\"red\">--</font>nęwnątrz ten po Wiła <font color=\"red\">--</font>guś <font color=\"red\">--</font>do<font color=\"red\">++</font> go<font color=\"red\">++</font> <font color=\"red\">--</font>Ka okać głu<font color=\"red\">++</font>, to <font color=\"red\">--</font>ka wró<font color=\"red\">++</font> \n",
              "<br/>miane<font color=\"red\">++</font> o<font color=\"red\">++</font> o<font color=\"red\">++</font> Ze<font color=\"red\">++</font> gopa<font color=\"red\">++</font>, nich"
            ],
            "text/plain": [
              "<IPython.core.display.HTML object>"
            ]
          },
          "metadata": {
            "tags": []
          }
        },
        {
          "output_type": "stream",
          "text": [
            "\n"
          ],
          "name": "stdout"
        },
        {
          "output_type": "stream",
          "text": [
            " 70%|######9   | 1630/2330 [33:19<14:15,  1.22s/it, epoch=4/5, loss=6.4, bw=0.36]  "
          ],
          "name": "stderr"
        },
        {
          "output_type": "stream",
          "text": [
            "\n",
            "[33m 19s (4 1631 70%) loss=6.4021 bw=0.4215]\n"
          ],
          "name": "stdout"
        },
        {
          "output_type": "display_data",
          "data": {
            "text/html": [
              "Nauka psa czystości – jak sprawnie nauczyć psa załatwiać się na dworze? <font color=\"red\">--</font>tała na, <font color=\"red\">--</font>ce przez u<font color=\"red\">++</font> \n",
              "<br/>\n",
              "<br/>– <font color=\"red\">--</font>wabego wspa<font color=\"red\">++</font> ja<font color=\"red\">++</font> wręcz go<font color=\"red\">++</font> scho<font color=\"red\">++</font> – dony <font color=\"red\">--</font>trze <font color=\"red\">--</font>pchnąć \n",
              "<br/><font color=\"red\">--</font>sz<font color=\"red\">++</font> po<font color=\"red\">++</font> ale jawo<font color=\"red\">++</font> i <font color=\"red\">--</font>na<font color=\"red\">++</font> co wyji co! – <font color=\"red\">--</font>sz<font color=\"red\">++</font> je<font color=\"red\">++</font> krzy<font color=\"red\">++</font> uczeka,? zna<font color=\"red\">++</font> ale <font color=\"red\">--</font>sdodzita<font color=\"red\">++</font> ja <font color=\"red\">--</font>ła zo<font color=\"red\">++</font> \n",
              "<br/>się <font color=\"red\">--</font>Ła za<font color=\"red\">++</font> \n",
              "<br/>\n",
              "<br/>od<font color=\"red\">++</font> <font color=\"red\">--</font>Ły <font color=\"red\">--</font>chro<font color=\"red\">++</font> za <font color=\"red\">--</font>cie, <font color=\"red\">--</font>ce <font color=\"red\">--</font>wa<font color=\"red\">++</font> i <font color=\"red\">--</font>szy o<font color=\"red\">++</font> się <font color=\"red\">--</font>ją<font color=\"red\">++</font> poka <font color=\"red\">--</font>stej <font color=\"red\">--</font>bie a<font color=\"red\">++</font>, <font color=\"red\">--</font>rząwadzasz przed <font color=\"red\">--</font>ka du<font color=\"red\">++</font>, <font color=\"red\">--</font>nie <font color=\"red\">--</font>go<font color=\"red\">++</font> \n",
              "<br/>i pół<font color=\"red\">++</font> <font color=\"red\">--</font>Cie i na \n",
              "<br/>i. <font color=\"red\">--</font>wa<font color=\"red\">++</font> i powy wf <font color=\"red\">--</font>no <font color=\"red\">--</font>trzo<font color=\"red\">++</font> i <font color=\"red\">--</font>ki i <font color=\"red\">--</font>co<font color=\"red\">++</font> du<font color=\"red\">++</font> w w <font color=\"red\">--</font>wiesiem <font color=\"red\">--</font>cyrzyła ku<font color=\"red\">++</font> końję<font color=\"red\">++</font> \n",
              "<br/>wyna<font color=\"red\">++</font> uczę<font color=\"red\">++</font>! już, że i z zgo<font color=\"red\">++</font> – <font color=\"red\">--</font>ła – <font color=\"red\">--</font>ka ” \n",
              "<br/>teła, ma i cie<font color=\"red\">++</font> naj<font color=\"red\">++</font> I <font color=\"red\">--</font>nie <font color=\"red\">--</font>ły \n",
              "<br/>Przez w Przez <font color=\"red\">--</font>łe<font color=\"red\">++</font> <font color=\"red\">--</font>Nie od \n",
              "<br/><font color=\"red\">--</font>Sdziw <font color=\"red\">--</font>miar się Przego je<font color=\"red\">++</font> aż tak ka<font color=\"red\">++</font> oły, pa<font color=\"red\">++</font>. <font color=\"red\">--</font>rzunią za nie <font color=\"red\">--</font>gą. swozem piątgódzić <font color=\"red\">--</font>ła bę<font color=\"red\">++</font> <font color=\"red\">--</font>Ni<font color=\"red\">++</font>,, <font color=\"red\">--</font>cja<font color=\"red\">++</font>, przekaka w się <font color=\"red\">--</font>wnym – <font color=\"red\">--</font>czy <font color=\"red\">--</font>ś<font color=\"red\">++</font> kwia<font color=\"red\">++</font> \n",
              "<br/>mu<font color=\"red\">++</font> \n",
              "<br/>jawanił moż<font color=\"red\">++</font> bo<font color=\"red\">++</font>, <font color=\"red\">--</font>że się że się po<font color=\"red\">++</font> jeżo w i <font color=\"red\">--</font>ła <font color=\"red\">--</font>Ła na<font color=\"red\">++</font> – roz<font color=\"red\">++</font>, <font color=\"red\">--</font>ka Ro<font color=\"red\">++</font> mia<font color=\"red\">++</font>, o<font color=\"red\">++</font> rosta<font color=\"red\">++</font> al<font color=\"red\">++</font> \n",
              "<br/>, i <font color=\"red\">--</font>nia Oczytem \n",
              "<br/><font color=\"red\">--</font>d<font color=\"red\">++</font> <font color=\"red\">--</font>Jąc \n",
              "<br/>że <font color=\"red\">--</font>nia <font color=\"red\">--</font>ła <font color=\"red\">--</font>cze <font color=\"red\">--</font>czne <font color=\"red\">--</font>s<font color=\"red\">++</font> szep<font color=\"red\">++</font> u <font color=\"red\">--</font>czu<font color=\"red\">++</font> wzgar<font color=\"red\">++</font>, <font color=\"red\">--</font>zy<font color=\"red\">++</font> wy<font color=\"red\">++</font> Kla<font color=\"red\">++</font>,, \n",
              "<br/><font color=\"red\">--</font>jeż<font color=\"red\">++</font> \n",
              "<br/>ja<font color=\"red\">++</font> i i zaleć <font color=\"red\">--</font>nie <font color=\"red\">--</font>ła u<font color=\"red\">++</font>, zna<font color=\"red\">++</font>, <font color=\"red\">--</font>pi<font color=\"red\">++</font> Jeko<font color=\"red\">++</font> \n",
              "<br/>od koń<font color=\"red\">++</font> przy <font color=\"red\">--</font>nia <font color=\"red\">--</font>ku <font color=\"red\">--</font>ro<font color=\"red\">++</font>. <font color=\"red\">--</font>toniem <font color=\"red\">--</font>ka – <font color=\"red\">--</font>stwa i <font color=\"red\">--</font>ne <font color=\"red\">--</font>pę<font color=\"red\">++</font> to – i i <font color=\"red\">--</font>Wa<font color=\"red\">++</font> przy <font color=\"red\">--</font>ci <font color=\"red\">--</font>Ła, <font color=\"red\">--</font>ny <font color=\"red\">--</font>ta dzia<font color=\"red\">++</font>., nie \n",
              "<br/>jak się <font color=\"red\">--</font>ka – <font color=\"red\">--</font>niem i <font color=\"red\">--</font>gą, <font color=\"red\">--</font>ła. dźwięk. łgał jej! z. \n",
              "<br/>przy, Jest oję<font color=\"red\">++</font> tym<font color=\"red\">++</font> nie, aha <font color=\"red\">--</font>kien przy \n",
              "<br/>,,. o<font color=\"red\">++</font> Prze<font color=\"red\">++</font> gło<font color=\"red\">++</font> <font color=\"red\">--</font>Nę<font color=\"red\">++</font>, po<font color=\"red\">++</font> te<font color=\"red\">++</font> <font color=\"red\">--</font>Wa spo<font color=\"red\">++</font> koda., \n",
              "<br/>\n",
              "<br/>\n",
              "<br/>Zacz<font color=\"red\">++</font>, <font color=\"red\">--</font>ka <font color=\"red\">--</font>Na <font color=\"red\">--</font>ciodal <font color=\"red\">--</font>ły <font color=\"red\">--</font>nia, poła <font color=\"red\">--</font>tem ością! i to<font color=\"red\">++</font> ślaka Wy<font color=\"red\">++</font>, in<font color=\"red\">++</font>. <font color=\"red\">--</font>ka <font color=\"red\">--</font>wnie \n",
              "<br/>za za<font color=\"red\">++</font> \n",
              "<br/>zado<font color=\"red\">++</font> się je<font color=\"red\">++</font> Od <font color=\"red\">--</font>ku \n",
              "<br/><font color=\"red\">--</font>ka <font color=\"red\">--</font>Dzedzia<font color=\"red\">++</font>. <font color=\"red\">--</font>ka a <font color=\"red\">--</font>cze<font color=\"red\">++</font> mo<font color=\"red\">++</font> posta<font color=\"red\">++</font> Jest stały oka <font color=\"red\">--</font>wyła –, \n",
              "<br/><font color=\"red\">--</font>rze<font color=\"red\">++</font> <font color=\"red\">--</font>Ła <font color=\"red\">--</font>nie <font color=\"red\">--</font>Sob<font color=\"red\">++</font> na o<font color=\"red\">++</font> w przy<font color=\"red\">++</font> <font color=\"red\">--</font>Nia i Tewać <font color=\"red\">--</font>wę <font color=\"red\">--</font>nie <font color=\"red\">--</font>rzu<font color=\"red\">++</font> \n",
              "<br/><font color=\"red\">--</font>wpagą <font color=\"red\">--</font>dzon<font color=\"red\">++</font> Odsz<font color=\"red\">++</font> do Rozni. Znał przy<font color=\"red\">++</font> jak.,, wła<font color=\"red\">++</font> \n",
              "<br/>, by<font color=\"red\">++</font> o<font color=\"red\">++</font> z <font color=\"red\">--</font>kręt<font color=\"red\">++</font> jeś<font color=\"red\">++</font> dresza<font color=\"red\">++</font> –. \n",
              "<br/><font color=\"red\">--</font>na za<font color=\"red\">++</font>. <font color=\"red\">--</font>ło – i. <font color=\"red\">--</font>ła <font color=\"red\">--</font>wie<font color=\"red\">++</font>, przyce szepła <font color=\"red\">--</font>stych to pie<font color=\"red\">++</font> że <font color=\"red\">--</font>si <font color=\"red\">--</font>ka <font color=\"red\">--</font>ką i <font color=\"red\">--</font>ne, a<font color=\"red\">++</font> czy <font color=\"red\">--</font>nym – się <font color=\"red\">--</font>dzianie – \n",
              "<br/>szy<font color=\"red\">++</font> te<font color=\"red\">++</font> być <font color=\"red\">--</font>wet Ty,, <font color=\"red\">--</font>kę i jelenęde<font color=\"red\">++</font> zawieła <font color=\"red\">--</font>zy<font color=\"red\">++</font>,, <font color=\"red\">--</font>u<font color=\"red\">++</font> O<font color=\"red\">++</font>., na przyda<font color=\"red\">++</font> osta<font color=\"red\">++</font> się je<font color=\"red\">++</font> czym za<font color=\"red\">++</font>, <font color=\"red\">--</font>nąć <font color=\"red\">--</font>niawie <font color=\"red\">--</font>dy na nie z <font color=\"red\">--</font>wał maprzy<font color=\"red\">++</font>, \n",
              "<br/><font color=\"red\">--</font>kręt<font color=\"red\">++</font> po<font color=\"red\">++</font> pa<font color=\"red\">++</font> się w <font color=\"red\">--</font>trą<font color=\"red\">++</font> dowaka od<font color=\"red\">++</font> się – <font color=\"red\">--</font>ję <font color=\"red\">--</font>żatem te<font color=\"red\">++</font> roz<font color=\"red\">++</font> i <font color=\"red\">--</font>bi<font color=\"red\">++</font> na <font color=\"red\">--</font>koś <font color=\"red\">--</font>działa <font color=\"red\">--</font>leon <font color=\"red\">--</font>Tą <font color=\"red\">--</font>szchać <font color=\"red\">--</font>ła Klo<font color=\"red\">++</font> – <font color=\"red\">--</font>sta<font color=\"red\">++</font> po<font color=\"red\">++</font> po<font color=\"red\">++</font> wszy<font color=\"red\">++</font> <font color=\"red\">--</font>Ty nie. <font color=\"red\">--</font>zna<font color=\"red\">++</font> uła. <font color=\"red\">--</font>Ka… <font color=\"red\">--</font>cie <font color=\"red\">--</font>ła ta<font color=\"red\">++</font> i i jej <font color=\"red\">--</font>stakim koń<font color=\"red\">++</font> Ale \n",
              "<br/>\n",
              "<br/>by<font color=\"red\">++</font>, głoła \n",
              "<br/><font color=\"red\">--</font>go, i –, <font color=\"red\">--</font>sz<font color=\"red\">++</font> A Nała środnie <font color=\"red\">--</font>nę<font color=\"red\">++</font> Gdzie mie<font color=\"red\">++</font> że <font color=\"red\">--</font>ści teła czy <font color=\"red\">--</font>wie. <font color=\"red\">--</font>ła <font color=\"red\">--</font>ka <font color=\"red\">--</font>buj. <font color=\"red\">--</font>żwo tenie O<font color=\"red\">++</font>, się do. \n",
              "<br/>do<font color=\"red\">++</font> kwia<font color=\"red\">++</font> do<font color=\"red\">++</font> po ten <font color=\"red\">--</font>wia<font color=\"red\">++</font>! dona – i <font color=\"red\">--</font>da <font color=\"red\">--</font>co<font color=\"red\">++</font> go ja<font color=\"red\">++</font> – zastanę<font color=\"red\">++</font> je<font color=\"red\">++</font> teki. je<font color=\"red\">++</font> \n",
              "<br/><font color=\"red\">--</font>pa<font color=\"red\">++</font>, <font color=\"red\">--</font>pa<font color=\"red\">++</font> ja <font color=\"red\">--</font>ci<font color=\"red\">++</font> la<font color=\"red\">++</font>, <font color=\"red\">--</font>wie<font color=\"red\">++</font> ale <font color=\"red\">--</font>Bny, \n",
              "<br/><font color=\"red\">--</font>by <font color=\"red\">--</font>nie \n",
              "<br/>py<font color=\"red\">++</font>. <font color=\"red\">--</font>nie – i <font color=\"red\">--</font>kim <font color=\"red\">--</font>Koła <font color=\"red\">--</font>sta<font color=\"red\">++</font> synie o<font color=\"red\">++</font> zda<font color=\"red\">++</font> – płas<font color=\"red\">++</font>, \n",
              "<br/>dojęłe i <font color=\"red\">--</font>nie <font color=\"red\">--</font>nie \n",
              "<br/>\n",
              "<br/><font color=\"red\">--</font>to<font color=\"red\">++</font> \n",
              "<br/>je<font color=\"red\">++</font> u<font color=\"red\">++</font> się <font color=\"red\">--</font>go. <font color=\"red\">--</font>ją<font color=\"red\">++</font> – naj<font color=\"red\">++</font> po<font color=\"red\">++</font>, Że<font color=\"red\">++</font> za ro<font color=\"red\">++</font> to<font color=\"red\">++</font>, – <font color=\"red\">--</font>ma<font color=\"red\">++</font> i,. na wy<font color=\"red\">++</font> \n",
              "<br/>. <font color=\"red\">--</font>waso<font color=\"red\">++</font> i <font color=\"red\">--</font>ła <font color=\"red\">--</font>wić <font color=\"red\">--</font>wa<font color=\"red\">++</font> – <font color=\"red\">--</font>go <font color=\"red\">--</font>la<font color=\"red\">++</font> <font color=\"red\">--</font>Dzie<font color=\"red\">++</font> \n",
              "<br/>je<font color=\"red\">++</font> \n",
              "<br/>, <font color=\"red\">--</font>fiło ją i \n",
              "<br/>na na <font color=\"red\">--</font>Wie nada \n",
              "<br/>\n",
              "<br/>na <font color=\"red\">--</font>nie drzwi za<font color=\"red\">++</font> roz<font color=\"red\">++</font> tak <font color=\"red\">--</font>ko – roz<font color=\"red\">++</font> Bo<font color=\"red\">++</font>. pięćla<font color=\"red\">++</font>. niej się Wy<font color=\"red\">++</font> i poczy<font color=\"red\">++</font> i <font color=\"red\">--</font>mupie<font color=\"red\">++</font> <font color=\"red\">--</font>Nia <font color=\"red\">--</font>nie naj<font color=\"red\">++</font> <font color=\"red\">--</font>Ny <font color=\"red\">--</font>śle<font color=\"red\">++</font> \n",
              "<br/>. \n",
              "<br/>\n",
              "<br/>– \n",
              "<br/><font color=\"red\">--</font>Mą <font color=\"red\">--</font>ju czy \n",
              "<br/>lot <font color=\"red\">--</font>tę <font color=\"red\">--</font>ka po<font color=\"red\">++</font> na Się <font color=\"red\">--</font>wić co <font color=\"red\">--</font>ła<font color=\"red\">++</font> dość <font color=\"red\">--</font>go, je<font color=\"red\">++</font> O<font color=\"red\">++</font>, <font color=\"red\">--</font>tem <font color=\"red\">--</font>ne <font color=\"red\">--</font>de<font color=\"red\">++</font> po., \n",
              "<br/>tym <font color=\"red\">--</font>stasz<font color=\"red\">++</font> I <font color=\"red\">--</font>ta się. <font color=\"red\">--</font>ni<font color=\"red\">++</font> w ro<font color=\"red\">++</font>, nieka za<font color=\"red\">++</font> ucią<font color=\"red\">++</font> co, mo<font color=\"red\">++</font>. <font color=\"red\">--</font>rzuka \n",
              "<br/>\n",
              "<br/>. \n",
              "<br/>je<font color=\"red\">++</font> \n",
              "<br/>i przy <font color=\"red\">--</font>Nych, na <font color=\"red\">--</font>ka<font color=\"red\">++</font>,,. –. <font color=\"red\">--</font>dze<font color=\"red\">++</font> \n",
              "<br/>– <font color=\"red\">--</font>coby <font color=\"red\">--</font>bę bo<font color=\"red\">++</font> się <font color=\"red\">--</font>nie <font color=\"red\">--</font>zu<font color=\"red\">++</font>, kry<font color=\"red\">++</font> się – z za<font color=\"red\">++</font>. <font color=\"red\">--</font>Wa<font color=\"red\">++</font>, róż<font color=\"red\">++</font> dla z <font color=\"red\">--</font>szy tru<font color=\"red\">++</font> się ho<font color=\"red\">++</font> pała. po<font color=\"red\">++</font> za \n",
              "<br/>u<font color=\"red\">++</font> \n",
              "<br/>., \n",
              "<br/>był <font color=\"red\">--</font>łe się twaczalka<font color=\"red\">++</font>,"
            ],
            "text/plain": [
              "<IPython.core.display.HTML object>"
            ]
          },
          "metadata": {
            "tags": []
          }
        },
        {
          "output_type": "stream",
          "text": [
            "\n"
          ],
          "name": "stdout"
        },
        {
          "output_type": "stream",
          "text": [
            " 80%|#######9  | 1863/2330 [38:05<09:28,  1.22s/it, epoch=5/5, loss=6.42, bw=0.384]"
          ],
          "name": "stderr"
        },
        {
          "output_type": "stream",
          "text": [
            "\n",
            "[38m 5s (5 1864 80%) loss=6.4241 bw=0.4449]\n"
          ],
          "name": "stdout"
        },
        {
          "output_type": "display_data",
          "data": {
            "text/html": [
              "Nauka psa czystości – jak sprawnie nauczyć psa załatwiać się na dworze? za<font color=\"red\">++</font> u<font color=\"red\">++</font> zbyt <font color=\"red\">--</font>ba., <font color=\"red\">--</font>wi<font color=\"red\">++</font> wykoś muko<font color=\"red\">++</font> * <font color=\"red\">--</font>siwa<font color=\"red\">++</font> pier<font color=\"red\">++</font> \n",
              "<br/>czy <font color=\"red\">--</font>Ry <font color=\"red\">--</font>ka sa<font color=\"red\">++</font> o <font color=\"red\">--</font>nia. <font color=\"red\">--</font>na z wziął \n",
              "<br/>a<font color=\"red\">++</font> obści. się go wcześ<font color=\"red\">++</font> – poprzej<font color=\"red\">++</font> – ina Hi<font color=\"red\">++</font> ze <font color=\"red\">--</font>ku w <font color=\"red\">--</font>ło <font color=\"red\">--</font>niu i <font color=\"red\">--</font>czy<font color=\"red\">++</font> znago <font color=\"red\">--</font>ła – <font color=\"red\">--</font>le <font color=\"red\">--</font>ca Po<font color=\"red\">++</font> W? wy<font color=\"red\">++</font> \n",
              "<br/><font color=\"red\">--</font>ło 71 się <font color=\"red\">--</font>ła, <font color=\"red\">--</font>ka prze<font color=\"red\">++</font> \n",
              "<br/>., i co sakanie <font color=\"red\">--</font>ci<font color=\"red\">++</font> nie <font color=\"red\">--</font>lę <font color=\"red\">--</font>ła na, o<font color=\"red\">++</font> się,,! <font color=\"red\">--</font>la<font color=\"red\">++</font> i postki <font color=\"red\">--</font>koj<font color=\"red\">++</font> świt Któ<font color=\"red\">++</font> daszej <font color=\"red\">--</font>nia jej, jak na<font color=\"red\">++</font> wykę że <font color=\"red\">--</font>ży<font color=\"red\">++</font>. w <font color=\"red\">--</font>ki <font color=\"red\">--</font>Ła na<font color=\"red\">++</font> u<font color=\"red\">++</font>, –,, Zbro<font color=\"red\">++</font>. <font color=\"red\">--</font>do<font color=\"red\">++</font> przy<font color=\"red\">++</font>., <font color=\"red\">--</font>dział <font color=\"red\">--</font>ne \n",
              "<br/>. <font color=\"red\">--</font>wie<font color=\"red\">++</font> – <font color=\"red\">--</font>nie <font color=\"red\">--</font>T<font color=\"red\">++</font> ojlu… <font color=\"red\">--</font>Ki <font color=\"red\">--</font>ni <font color=\"red\">--</font>ko<font color=\"red\">++</font> spo<font color=\"red\">++</font> – ma<font color=\"red\">++</font> w <font color=\"red\">--</font>wno pan <font color=\"red\">--</font>ła <font color=\"red\">--</font>wate<font color=\"red\">++</font> o<font color=\"red\">++</font> jest <font color=\"red\">--</font>su pody bar<font color=\"red\">++</font> o<font color=\"red\">++</font> sieła w <font color=\"red\">--</font>trzyła \n",
              "<br/><font color=\"red\">--</font>ne A<font color=\"red\">++</font> No<font color=\"red\">++</font> jak <font color=\"red\">--</font>ne <font color=\"red\">--</font>łek <font color=\"red\">--</font>nym jakę sieniej<font color=\"red\">++</font> koraz na. i <font color=\"red\">--</font>we, nie prze<font color=\"red\">++</font> bycie <font color=\"red\">--</font>den z –, je<font color=\"red\">++</font>! w <font color=\"red\">--</font>kiem <font color=\"red\">--</font>sją<font color=\"red\">++</font> \n",
              "<br/><font color=\"red\">--</font>ły. \n",
              "<br/>, \n",
              "<br/>w <font color=\"red\">--</font>nę <font color=\"red\">--</font>wy <font color=\"red\">--</font>po<font color=\"red\">++</font> po bęli nie tem<font color=\"red\">++</font> ra<font color=\"red\">++</font> ży<font color=\"red\">++</font> po<font color=\"red\">++</font> się w. u<font color=\"red\">++</font> ży<font color=\"red\">++</font> praku <font color=\"red\">--</font>ciem na <font color=\"red\">--</font>Strzec <font color=\"red\">--</font>ka <font color=\"red\">--</font>ła tej <font color=\"red\">--</font>dninia za<font color=\"red\">++</font> na<font color=\"red\">++</font> chcia<font color=\"red\">++</font> \n",
              "<br/><font color=\"red\">--</font>ki tym <font color=\"red\">--</font>Ka <font color=\"red\">--</font>Nie <font color=\"red\">--</font>ry ma<font color=\"red\">++</font>, Fia<font color=\"red\">++</font> dro<font color=\"red\">++</font> to na, <font color=\"red\">--</font>resszę że w ona <font color=\"red\">--</font>łory <font color=\"red\">--</font>Dziecze<font color=\"red\">++</font> spo<font color=\"red\">++</font> jaś<font color=\"red\">++</font>! <font color=\"red\">--</font>kaś <font color=\"red\">--</font>ło<font color=\"red\">++</font> o<font color=\"red\">++</font> wy<font color=\"red\">++</font>. <font color=\"red\">--</font>ży<font color=\"red\">++</font> w <font color=\"red\">--</font>ne<font color=\"red\">++</font> – <font color=\"red\">--</font>bie \n",
              "<br/>. ko<font color=\"red\">++</font> wy<font color=\"red\">++</font> rozki <font color=\"red\">--</font>ło. to nie <font color=\"red\">--</font>wa<font color=\"red\">++</font> jej <font color=\"red\">--</font>res<font color=\"red\">++</font> \n",
              "<br/>wiro<font color=\"red\">++</font> – haka <font color=\"red\">--</font>ła \n",
              "<br/>namo<font color=\"red\">++</font> prze<font color=\"red\">++</font> głocząka <font color=\"red\">--</font>kę <font color=\"red\">--</font>ka, dni dziace. pry<font color=\"red\">++</font> jak to owią, i <font color=\"red\">--</font>go \n",
              "<br/><font color=\"red\">--</font>ła za <font color=\"red\">--</font>li<font color=\"red\">++</font> O<font color=\"red\">++</font> Dokachał, –, <font color=\"red\">--</font>piła ko<font color=\"red\">++</font> po nie <font color=\"red\">--</font>dzi <font color=\"red\">--</font>kaszniejś<font color=\"red\">++</font>. <font color=\"red\">--</font>mie<font color=\"red\">++</font>.., <font color=\"red\">--</font>Dnie <font color=\"red\">--</font>wa<font color=\"red\">++</font> je<font color=\"red\">++</font> <font color=\"red\">--</font>Trzeb<font color=\"red\">++</font> \n",
              "<br/><font color=\"red\">--</font>Ner<font color=\"red\">++</font> <font color=\"red\">--</font>Dzio Za wyła zawi<font color=\"red\">++</font>, tewiać tro<font color=\"red\">++</font> \n",
              "<br/>to <font color=\"red\">--</font>kręt<font color=\"red\">++</font> <font color=\"red\">--</font>Ku dzi<font color=\"red\">++</font> i <font color=\"red\">--</font>nie <font color=\"red\">--</font>jnia – wstrządbawie przez <font color=\"red\">--</font>jągó<font color=\"red\">++</font>. <font color=\"red\">--</font>wa<font color=\"red\">++</font> ra<font color=\"red\">++</font> nadę są<font color=\"red\">++</font> obzy<font color=\"red\">++</font> Je<font color=\"red\">++</font> do. <font color=\"red\">--</font>kim na <font color=\"red\">--</font>li <font color=\"red\">--</font>ście <font color=\"red\">--</font>cy – nie, <font color=\"red\">--</font>dne<font color=\"red\">++</font> <font color=\"red\">--</font>Ła <font color=\"red\">--</font>Ła <font color=\"red\">--</font>cze <font color=\"red\">--</font>sz<font color=\"red\">++</font> że \n",
              "<br/>na<font color=\"red\">++</font>, go wy<font color=\"red\">++</font> i <font color=\"red\">--</font>go Śle<font color=\"red\">++</font> ma<font color=\"red\">++</font> ucz<font color=\"red\">++</font> pil<font color=\"red\">++</font> – – <font color=\"red\">--</font>ły <font color=\"red\">--</font>ło. <font color=\"red\">--</font>by nic. – bęka, mnie <font color=\"red\">--</font>uma<font color=\"red\">++</font> temysne <font color=\"red\">--</font>Ne<font color=\"red\">++</font> coś u<font color=\"red\">++</font> \n",
              "<br/>.. <font color=\"red\">--</font>dna<font color=\"red\">++</font> i \n",
              "<br/><font color=\"red\">--</font>co <font color=\"red\">--</font>tu<font color=\"red\">++</font> dzieka przy Wy<font color=\"red\">++</font> bo<font color=\"red\">++</font>. ok<font color=\"red\">++</font> nie. <font color=\"red\">--</font>le –, tę o<font color=\"red\">++</font> w <font color=\"red\">--</font>nie <font color=\"red\">--</font>pyczywnotaj <font color=\"red\">--</font>ła po<font color=\"red\">++</font> po<font color=\"red\">++</font> o<font color=\"red\">++</font> szep<font color=\"red\">++</font> innie i <font color=\"red\">--</font>lą stoi na<font color=\"red\">++</font> kil<font color=\"red\">++</font> byreskie <font color=\"red\">--</font>ny kla<font color=\"red\">++</font> * pcha<font color=\"red\">++</font> na<font color=\"red\">++</font> te<font color=\"red\">++</font> ciergo i o<font color=\"red\">++</font> e<font color=\"red\">++</font>,, <font color=\"red\">--</font>nej <font color=\"red\">--</font>wić zmiebi, <font color=\"red\">--</font>szyć <font color=\"red\">--</font>ła re<font color=\"red\">++</font> W przynej <font color=\"red\">--</font>nu<font color=\"red\">++</font> te<font color=\"red\">++</font> w <font color=\"red\">--</font>ni<font color=\"red\">++</font> I \n",
              "<br/>. – <font color=\"red\">--</font>ni<font color=\"red\">++</font>. <font color=\"red\">--</font>ły do <font color=\"red\">--</font>le <font color=\"red\">--</font>ko że szu<font color=\"red\">++</font>, <font color=\"red\">--</font>ła mu i <font color=\"red\">--</font>jęt<font color=\"red\">++</font> przywa<font color=\"red\">++</font>. to <font color=\"red\">--</font>win<font color=\"red\">++</font> czynia pob<font color=\"red\">++</font>, i \n",
              "<br/><font color=\"red\">--</font>dbatrzył <font color=\"red\">--</font>sób do<font color=\"red\">++</font> ca<font color=\"red\">++</font> na do <font color=\"red\">--</font>wy drze<font color=\"red\">++</font> <font color=\"red\">--</font>Ły o<font color=\"red\">++</font> \n",
              "<br/>\n",
              "<br/>\n",
              "<br/><font color=\"red\">--</font>wać <font color=\"red\">--</font>kaw<font color=\"red\">++</font> się się <font color=\"red\">--</font>wie <font color=\"red\">--</font>dzian<font color=\"red\">++</font>, nie<font color=\"red\">++</font> tydziena <font color=\"red\">--</font>Ła <font color=\"red\">--</font>kę I <font color=\"red\">--</font>nia. <font color=\"red\">--</font>ły się nie za<font color=\"red\">++</font> i <font color=\"red\">--</font>ło <font color=\"red\">--</font>Ły <font color=\"red\">--</font>czach <font color=\"red\">--</font>posu, <font color=\"red\">--</font>cję <font color=\"red\">--</font>sty<font color=\"red\">++</font> wściekle, <font color=\"red\">--</font>ro. Ową <font color=\"red\">--</font>nej ma się <font color=\"red\">--</font>łu ot<font color=\"red\">++</font> by<font color=\"red\">++</font> od powa<font color=\"red\">++</font> \n",
              "<br/><font color=\"red\">--</font>ni <font color=\"red\">--</font>nie jest <font color=\"red\">--</font>czej <font color=\"red\">--</font>nieszcie <font color=\"red\">--</font>mar<font color=\"red\">++</font> w <font color=\"red\">--</font>gobez<font color=\"red\">++</font>, – I i u<font color=\"red\">++</font> się tra<font color=\"red\">++</font> znie<font color=\"red\">++</font> scho<font color=\"red\">++</font> \n",
              "<br/>przez o \n",
              "<br/>do<font color=\"red\">++</font> się z czu<font color=\"red\">++</font>, <font color=\"red\">--</font>ra<font color=\"red\">++</font> zewać by<font color=\"red\">++</font> do <font color=\"red\">--</font>by naj<font color=\"red\">++</font> – Wy<font color=\"red\">++</font> \n",
              "<br/>Na dzień <font color=\"red\">--</font>nim Mia<font color=\"red\">++</font> O<font color=\"red\">++</font> <font color=\"red\">--</font>Go <font color=\"red\">--</font>bgę <font color=\"red\">--</font>cach \n",
              "<br/>ogo w <font color=\"red\">--</font>cet \n",
              "<br/><font color=\"red\">--</font>go się miał Ra<font color=\"red\">++</font> o<font color=\"red\">++</font>, \n",
              "<br/><font color=\"red\">--</font>ła ole \n",
              "<br/>dlanie zalanpie <font color=\"red\">--</font>bem \n",
              "<br/>jała, wy<font color=\"red\">++</font>, <font color=\"red\">--</font>jęt<font color=\"red\">++</font>, <font color=\"red\">--</font>ś<font color=\"red\">++</font> mó<font color=\"red\">++</font> z. zogo, rena <font color=\"red\">--</font>ku, <font color=\"red\">--</font>nia się, – <font color=\"red\">--</font>ry tam i <font color=\"red\">--</font>le – za<font color=\"red\">++</font> u<font color=\"red\">++</font> \n",
              "<br/>tewiezy<font color=\"red\">++</font> i <font color=\"red\">--</font>nej mnie <font color=\"red\">--</font>ś<font color=\"red\">++</font> po<font color=\"red\">++</font> wyza<font color=\"red\">++</font> wyczo! <font color=\"red\">--</font>łe<font color=\"red\">++</font> nic \n",
              "<br/>ugij<font color=\"red\">++</font> sto<font color=\"red\">++</font> za<font color=\"red\">++</font>, za<font color=\"red\">++</font> – <font color=\"red\">--</font>dzieć to <font color=\"red\">--</font>ła <font color=\"red\">--</font>na poja<font color=\"red\">++</font>. <font color=\"red\">--</font>ja<font color=\"red\">++</font>,, <font color=\"red\">--</font>ty<font color=\"red\">++</font>, no \n",
              "<br/>. nie<font color=\"red\">++</font>, <font color=\"red\">--</font>res, <font color=\"red\">--</font>ki Bo be<font color=\"red\">++</font> o<font color=\"red\">++</font> ła<font color=\"red\">++</font> – \n",
              "<br/>pły<font color=\"red\">++</font> na <font color=\"red\">--</font>cyjną <font color=\"red\">--</font>le przy od<font color=\"red\">++</font> po<font color=\"red\">++</font>! i <font color=\"red\">--</font>fią sie<font color=\"red\">++</font> żeka ona <font color=\"red\">--</font>żecz<font color=\"red\">++</font> ich \n",
              "<br/>i pięk<font color=\"red\">++</font> się <font color=\"red\">--</font>Dzianie re<font color=\"red\">++</font> się znie<font color=\"red\">++</font> – <font color=\"red\">--</font>rzy <font color=\"red\">--</font>my <font color=\"red\">--</font>na spo<font color=\"red\">++</font> i <font color=\"red\">--</font>ją <font color=\"red\">--</font>jąc po<font color=\"red\">++</font> <font color=\"red\">--</font>Ty<font color=\"red\">++</font>! <font color=\"red\">--</font>wa<font color=\"red\">++</font> jały pra<font color=\"red\">++</font>. \n",
              "<br/>się mo<font color=\"red\">++</font>. \n",
              "<br/>\n",
              "<br/><font color=\"red\">--</font>go <font color=\"red\">--</font>niu. \n",
              "<br/><font color=\"red\">--</font>cji \n",
              "<br/><font color=\"red\">--</font>raz uła <font color=\"red\">--</font>to<font color=\"red\">++</font> upińgowstę<font color=\"red\">++</font> u<font color=\"red\">++</font> onych nie się, nie tę Ja<font color=\"red\">++</font> \n",
              "<br/><font color=\"red\">--</font>miast ze to, <font color=\"red\">--</font>ki bu<font color=\"red\">++</font> ró<font color=\"red\">++</font> <font color=\"red\">--</font>Te<font color=\"red\">++</font> po<font color=\"red\">++</font> tam <font color=\"red\">--</font>nia nic, po<font color=\"red\">++</font> z Sy<font color=\"red\">++</font> przy<font color=\"red\">++</font>, <font color=\"red\">--</font>ko<font color=\"red\">++</font> w <font color=\"red\">--</font>Ty pa<font color=\"red\">++</font>, <font color=\"red\">--</font>cha<font color=\"red\">++</font> Na magki zniele <font color=\"red\">--</font>skać nania <font color=\"red\">--</font>ła zo<font color=\"red\">++</font> – \n",
              "<br/>przy <font color=\"red\">--</font>ło obki <font color=\"red\">--</font>mo<font color=\"red\">++</font> war<font color=\"red\">++</font> ża<font color=\"red\">++</font> \n",
              "<br/>– <font color=\"red\">--</font>cy <font color=\"red\">--</font>pości <font color=\"red\">--</font>ki \n",
              "<br/>\n",
              "<br/>myśl ra<font color=\"red\">++</font> tu..? ich – <font color=\"red\">--</font>go cał<font color=\"red\">++</font> Przy <font color=\"red\">--</font>cześci<font color=\"red\">++</font> <font color=\"red\">--</font>Ły nie<font color=\"red\">++</font> \n",
              "<br/>ko<font color=\"red\">++</font> i na rozją<font color=\"red\">++</font> szkod<font color=\"red\">++</font> naraz. o<font color=\"red\">++</font> to <font color=\"red\">--</font>wą po. <font color=\"red\">--</font>gle ciem<font color=\"red\">++</font> czu<font color=\"red\">++</font> móguś,. <font color=\"red\">--</font>wa<font color=\"red\">++</font> w <font color=\"red\">--</font>stępstw po<font color=\"red\">++</font> \n",
              "<br/>– po<font color=\"red\">++</font> \n",
              "<br/><font color=\"red\">--</font>łe<font color=\"red\">++</font>. <font color=\"red\">--</font>t<font color=\"red\">++</font> sierata aha. ta<font color=\"red\">++</font> \n",
              "<br/>o<font color=\"red\">++</font> \n",
              "<br/><font color=\"red\">--</font>wiąc czy do ko<font color=\"red\">++</font>. <font color=\"red\">--</font>pro<font color=\"red\">++</font> u<font color=\"red\">++</font>"
            ],
            "text/plain": [
              "<IPython.core.display.HTML object>"
            ]
          },
          "metadata": {
            "tags": []
          }
        },
        {
          "output_type": "stream",
          "text": [
            "\n"
          ],
          "name": "stdout"
        },
        {
          "output_type": "stream",
          "text": [
            " 90%|########9 | 2096/2330 [42:51<04:42,  1.21s/it, epoch=5/5, loss=6.56, bw=0.368]"
          ],
          "name": "stderr"
        },
        {
          "output_type": "stream",
          "text": [
            "\n",
            "[42m 51s (5 2097 90%) loss=6.5614 bw=0.4488]\n"
          ],
          "name": "stdout"
        },
        {
          "output_type": "display_data",
          "data": {
            "text/html": [
              "Nauka psa czystości – jak sprawnie nauczyć psa załatwiać się na dworze? <font color=\"red\">--</font>nia zo<font color=\"red\">++</font> \n",
              "<br/>Się <font color=\"red\">--</font>ka<font color=\"red\">++</font> –.. <font color=\"red\">--</font>go. <font color=\"red\">--</font>niotem sares<font color=\"red\">++</font> je<font color=\"red\">++</font> spo<font color=\"red\">++</font> \n",
              "<br/><font color=\"red\">--</font>dnię, <font color=\"red\">--</font>gę <font color=\"red\">--</font>pi<font color=\"red\">++</font> bra<font color=\"red\">++</font> te<font color=\"red\">++</font>. mocy \n",
              "<br/>.. kana <font color=\"red\">--</font>czas. po<font color=\"red\">++</font> i też, <font color=\"red\">--</font>nie <font color=\"red\">--</font>dy za<font color=\"red\">++</font> jest. <font color=\"red\">--</font>nie rzecia, <font color=\"red\">--</font>nasta<font color=\"red\">++</font>. \n",
              "<br/><font color=\"red\">--</font>pie<font color=\"red\">++</font> po do<font color=\"red\">++</font> Na i <font color=\"red\">--</font>go odda<font color=\"red\">++</font> ta<font color=\"red\">++</font> wz. <font color=\"red\">--</font>ca <font color=\"red\">--</font>kret<font color=\"red\">++</font> – <font color=\"red\">--</font>ta te<font color=\"red\">++</font>? naj<font color=\"red\">++</font> i nie<font color=\"red\">++</font> <font color=\"red\">--</font>Go <font color=\"red\">--</font>my. dotem. im za<font color=\"red\">++</font> dru<font color=\"red\">++</font> po<font color=\"red\">++</font> \n",
              "<br/><font color=\"red\">--</font>wy jate<font color=\"red\">++</font> na<font color=\"red\">++</font>, nie <font color=\"red\">--</font>niem,. rui<font color=\"red\">++</font> po<font color=\"red\">++</font> nie<font color=\"red\">++</font> <font color=\"red\">--</font>Do<font color=\"red\">++</font> <font color=\"red\">--</font>Ła. i <font color=\"red\">--</font>S<font color=\"red\">++</font>. \n",
              "<br/>\n",
              "<br/>mi. u<font color=\"red\">++</font>. – <font color=\"red\">--</font>łaś <font color=\"red\">--</font>wa<font color=\"red\">++</font> <font color=\"red\">--</font>Go <font color=\"red\">--</font>tych<font color=\"red\">++</font> tam wywią <font color=\"red\">--</font>ry <font color=\"red\">--</font>my, <font color=\"red\">--</font>le <font color=\"red\">--</font>sza ca<font color=\"red\">++</font> kielę nie ob<font color=\"red\">++</font> któną tra<font color=\"red\">++</font> – \n",
              "<br/><font color=\"red\">--</font>Ła do<font color=\"red\">++</font> Przy włat<font color=\"red\">++</font>.. <font color=\"red\">--</font>ła przy <font color=\"red\">--</font>sia<font color=\"red\">++</font> – <font color=\"red\">--</font>ście a \n",
              "<br/><font color=\"red\">--</font>ją, \n",
              "<br/>\n",
              "<br/>? w. te<font color=\"red\">++</font>. <font color=\"red\">--</font>ca trze<font color=\"red\">++</font> \n",
              "<br/><font color=\"red\">--</font>Wa<font color=\"red\">++</font>.,, <font color=\"red\">--</font>ka <font color=\"red\">--</font>cy kie<font color=\"red\">++</font>. <font color=\"red\">--</font>ły. <font color=\"red\">--</font>ły głup<font color=\"red\">++</font>, się. nie <font color=\"red\">--</font>Re<font color=\"red\">++</font> <font color=\"red\">--</font>Tem wi<font color=\"red\">++</font> W z i <font color=\"red\">--</font>ła Fia<font color=\"red\">++</font> do <font color=\"red\">--</font>dę <font color=\"red\">--</font>acz<font color=\"red\">++</font> \n",
              "<br/>i Krzywnokręt<font color=\"red\">++</font> to <font color=\"red\">--</font>Le<font color=\"red\">++</font> \n",
              "<br/><font color=\"red\">--</font>Ły i Się <font color=\"red\">--</font>go <font color=\"red\">--</font>go – <font color=\"red\">--</font>wym I <font color=\"red\">--</font>ła. – <font color=\"red\">--</font>dąc. <font color=\"red\">--</font>szej <font color=\"red\">--</font>My <font color=\"red\">--</font>mięsem. bygo <font color=\"red\">--</font>niunie, <font color=\"red\">--</font>wać <font color=\"red\">--</font>ła patrzo<font color=\"red\">++</font> zago<font color=\"red\">++</font> kla<font color=\"red\">++</font> zdzi<font color=\"red\">++</font> strote<font color=\"red\">++</font> <font color=\"red\">--</font>Li<font color=\"red\">++</font>, Prze<font color=\"red\">++</font> Skoka <font color=\"red\">--</font>We <font color=\"red\">--</font>siwo<font color=\"red\">++</font> <font color=\"red\">--</font>Zie w <font color=\"red\">--</font>cją. na zawa<font color=\"red\">++</font> – nie rę<font color=\"red\">++</font> i bę<font color=\"red\">++</font> Po<font color=\"red\">++</font> na – – <font color=\"red\">--</font>ła<font color=\"red\">++</font>, <font color=\"red\">--</font>lę <font color=\"red\">--</font>ba<font color=\"red\">++</font>. te<font color=\"red\">++</font> do <font color=\"red\">--</font>my <font color=\"red\">--</font>ko <font color=\"red\">--</font>go i <font color=\"red\">--</font>Go te<font color=\"red\">++</font> \n",
              "<br/>u<font color=\"red\">++</font> przy I. głonie <font color=\"red\">--</font>mal <font color=\"red\">--</font>ga <font color=\"red\">--</font>ła… by<font color=\"red\">++</font>. te<font color=\"red\">++</font> zały <font color=\"red\">--</font>dzie. jest to <font color=\"red\">--</font>chało \n",
              "<br/>so<font color=\"red\">++</font> wi<font color=\"red\">++</font>. ca<font color=\"red\">++</font> w. przez <font color=\"red\">--</font>Go <font color=\"red\">--</font>ły krwioła, chwi<font color=\"red\">++</font> <font color=\"red\">--</font>Ko na <font color=\"red\">--</font>ce. po<font color=\"red\">++</font> \n",
              "<br/>\n",
              "<br/>nic war<font color=\"red\">++</font> za<font color=\"red\">++</font> kro<font color=\"red\">++</font>. pabwa<font color=\"red\">++</font> \n",
              "<br/><font color=\"red\">--</font>czuł spowoniej a przy <font color=\"red\">--</font>piej kores<font color=\"red\">++</font> <font color=\"red\">--</font>Ro<font color=\"red\">++</font>. <font color=\"red\">--</font>praww<font color=\"red\">++</font> dores<font color=\"red\">++</font> danow<font color=\"red\">++</font>. \n",
              "<br/>. <font color=\"red\">--</font>dział. i <font color=\"red\">--</font>ha<font color=\"red\">++</font>? <font color=\"red\">--</font>dzi<font color=\"red\">++</font> po<font color=\"red\">++</font>.. <font color=\"red\">--</font>lgą w. i <font color=\"red\">--</font>te<font color=\"red\">++</font> w <font color=\"red\">--</font>le mi <font color=\"red\">--</font>łocie! pogo co jest <font color=\"red\">--</font>ła bar<font color=\"red\">++</font>. <font color=\"red\">--</font>ła, jak<font color=\"red\">++</font> Tasto nie<font color=\"red\">++</font> <font color=\"red\">--</font>Kojkiem <font color=\"red\">--</font>dźmy. <font color=\"red\">--</font>cie<font color=\"red\">++</font> \n",
              "<br/><font color=\"red\">--</font>li i po<font color=\"red\">++</font> że <font color=\"red\">--</font>ra <font color=\"red\">--</font>pa<font color=\"red\">++</font>. będarmi \n",
              "<br/><font color=\"red\">--</font>wna <font color=\"red\">--</font>ły <font color=\"red\">--</font>ła <font color=\"red\">--</font>ło <font color=\"red\">--</font>Ły o<font color=\"red\">++</font> że mo<font color=\"red\">++</font> księszy<font color=\"red\">++</font> – oj<font color=\"red\">++</font> do<font color=\"red\">++</font> <font color=\"red\">--</font>Cze<font color=\"red\">++</font>! \n",
              "<br/>po<font color=\"red\">++</font> \n",
              "<br/>\n",
              "<br/><font color=\"red\">--</font>wni<font color=\"red\">++</font> te<font color=\"red\">++</font> roz<font color=\"red\">++</font> ze <font color=\"red\">--</font>Ko skar<font color=\"red\">++</font> i <font color=\"red\">--</font>partrzebgo Za<font color=\"red\">++</font>! z. prze<font color=\"red\">++</font>,. jak Te<font color=\"red\">++</font> dzi<font color=\"red\">++</font>. ojąc <font color=\"red\">--</font>Speko te<font color=\"red\">++</font> \n",
              "<br/>do – – zag<font color=\"red\">++</font>. do wy<font color=\"red\">++</font> – <font color=\"red\">--</font>li<font color=\"red\">++</font> tewali<font color=\"red\">++</font>.,. \n",
              "<br/>w mówi<font color=\"red\">++</font> chce<font color=\"red\">++</font> u<font color=\"red\">++</font> patrz te<font color=\"red\">++</font> nie nie pierkoś zau<font color=\"red\">++</font> z dwagle <font color=\"red\">--</font>go <font color=\"red\">--</font>je<font color=\"red\">++</font> Teko <font color=\"red\">--</font>mal ob<font color=\"red\">++</font> pasów <font color=\"red\">--</font>nia <font color=\"red\">--</font>Ka <font color=\"red\">--</font>pe<font color=\"red\">++</font> – bra<font color=\"red\">++</font>, \n",
              "<br/>. <font color=\"red\">--</font>wi<font color=\"red\">++</font> glę<font color=\"red\">++</font>, <font color=\"red\">--</font>ko<font color=\"red\">++</font> że przeny <font color=\"red\">--</font>ło z – <font color=\"red\">--</font>na prali<font color=\"red\">++</font> do z. nie <font color=\"red\">--</font>to<font color=\"red\">++</font> <font color=\"red\">--</font>Cą! <font color=\"red\">--</font>ło \n",
              "<br/>\n",
              "<br/>ało <font color=\"red\">--</font>cha<font color=\"red\">++</font> się sabi<font color=\"red\">++</font> dla<font color=\"red\">++</font>, <font color=\"red\">--</font>sta<font color=\"red\">++</font> od<font color=\"red\">++</font> – <font color=\"red\">--</font>pie<font color=\"red\">++</font> doła <font color=\"red\">--</font>waby <font color=\"red\">--</font>czas <font color=\"red\">--</font>by sa<font color=\"red\">++</font> \n",
              "<br/>acz <font color=\"red\">--</font>my wy<font color=\"red\">++</font>, <font color=\"red\">--</font>bi<font color=\"red\">++</font> idę, <font color=\"red\">--</font>ną. do <font color=\"red\">--</font>dzie<font color=\"red\">++</font> – podzi<font color=\"red\">++</font> nie<font color=\"red\">++</font> nie <font color=\"red\">--</font>wi<font color=\"red\">++</font>. wre<font color=\"red\">++</font> czło<font color=\"red\">++</font> chosta<font color=\"red\">++</font> <font color=\"red\">--</font>Mo leła ma<font color=\"red\">++</font> \n",
              "<br/><font color=\"red\">--</font>wanedę <font color=\"red\">--</font>Sia, do <font color=\"red\">--</font>By<font color=\"red\">++</font>,, i ak<font color=\"red\">++</font> \n",
              "<br/>, <font color=\"red\">--</font>dzy to te<font color=\"red\">++</font> któ<font color=\"red\">++</font> po wcho<font color=\"red\">++</font> je<font color=\"red\">++</font> –. \n",
              "<br/><font color=\"red\">--</font>sta<font color=\"red\">++</font>! Nie <font color=\"red\">--</font>li \n",
              "<br/>\n",
              "<br/><font color=\"red\">--</font>ka <font color=\"red\">--</font>ka –, – o<font color=\"red\">++</font> utna <font color=\"red\">--</font>na po<font color=\"red\">++</font> \n",
              "<br/><font color=\"red\">--</font>wiebą <font color=\"red\">--</font>ła <font color=\"red\">--</font>cze te<font color=\"red\">++</font> \n",
              "<br/>Wy<font color=\"red\">++</font> te<font color=\"red\">++</font> to ale <font color=\"red\">--</font>teres<font color=\"red\">++</font> garresniem \n",
              "<br/>, \n",
              "<br/>– <font color=\"red\">--</font>wym pan ro<font color=\"red\">++</font> w oni. <font color=\"red\">--</font>dę dotar<font color=\"red\">++</font>, wy<font color=\"red\">++</font> \n",
              "<br/><font color=\"red\">--</font>ka Koń<font color=\"red\">++</font> nie wia<font color=\"red\">++</font> znasz <font color=\"red\">--</font>lę mo<font color=\"red\">++</font> \n",
              "<br/><font color=\"red\">--</font>je<font color=\"red\">++</font> krzy<font color=\"red\">++</font> z nie<font color=\"red\">++</font> krzyka \n",
              "<br/>wolle \n",
              "<br/>i <font color=\"red\">--</font>Go \n",
              "<br/>Nie Pier<font color=\"red\">++</font>. te<font color=\"red\">++</font> przy, – dwie <font color=\"red\">--</font>trzu, i ale \n",
              "<br/>\n",
              "<br/>zago<font color=\"red\">++</font> \n",
              "<br/>, – <font color=\"red\">--</font>dę <font color=\"red\">--</font>łores<font color=\"red\">++</font> choło <font color=\"red\">--</font>Dzie<font color=\"red\">++</font> na<font color=\"red\">++</font> na<font color=\"red\">++</font> któ<font color=\"red\">++</font>. <font color=\"red\">--</font>kiem poszłam. teło je<font color=\"red\">++</font> czy <font color=\"red\">--</font>Te<font color=\"red\">++</font> sza<font color=\"red\">++</font> za<font color=\"red\">++</font>. o<font color=\"red\">++</font>! <font color=\"red\">--</font>Go <font color=\"red\">--</font>twor<font color=\"red\">++</font>. <font color=\"red\">--</font>Ła tekim, <font color=\"red\">--</font>u<font color=\"red\">++</font> po<font color=\"red\">++</font>., <font color=\"red\">--</font>tryka<font color=\"red\">++</font> za<font color=\"red\">++</font> nie <font color=\"red\">--</font>nuje,,. <font color=\"red\">--</font>coły <font color=\"red\">--</font>ście zaku <font color=\"red\">--</font>wać! <font color=\"red\">--</font>niem je<font color=\"red\">++</font> pod<font color=\"red\">++</font> –, w mam. <font color=\"red\">--</font>restki <font color=\"red\">--</font>niem <font color=\"red\">--</font>bie<font color=\"red\">++</font> \n",
              "<br/>ja<font color=\"red\">++</font> nie <font color=\"red\">--</font>Ła,., <font color=\"red\">--</font>Kój – <font color=\"red\">--</font>By dość <font color=\"red\">--</font>nie<font color=\"red\">++</font>. <font color=\"red\">--</font>t<font color=\"red\">++</font> <font color=\"red\">--</font>Ko <font color=\"red\">--</font>nia tra<font color=\"red\">++</font> \n",
              "<br/>bóg <font color=\"red\">--</font>kój, <font color=\"red\">--</font>sia<font color=\"red\">++</font>? <font color=\"red\">--</font>na <font color=\"red\">--</font>li<font color=\"red\">++</font> na <font color=\"red\">--</font>nia – W <font color=\"red\">--</font>nę<font color=\"red\">++</font> nie \n",
              "<br/><font color=\"red\">--</font>cie<font color=\"red\">++</font>. \n",
              "<br/>prze<font color=\"red\">++</font>. zgo<font color=\"red\">++</font> u<font color=\"red\">++</font> nie<font color=\"red\">++</font> w Do.. nie za<font color=\"red\">++</font>. Tro<font color=\"red\">++</font> ży<font color=\"red\">++</font> \n",
              "<br/>nie <font color=\"red\">--</font>dziej <font color=\"red\">--</font>su po<font color=\"red\">++</font> z jeście nie mu<font color=\"red\">++</font> dele \n",
              "<br/>O<font color=\"red\">++</font>, Po<font color=\"red\">++</font>, <font color=\"red\">--</font>Dzia<font color=\"red\">++</font>. Co je<font color=\"red\">++</font> gło<font color=\"red\">++</font> \n",
              "<br/>na, <font color=\"red\">--</font>wa<font color=\"red\">++</font>. <font color=\"red\">--</font>go o mi<font color=\"red\">++</font>. <font color=\"red\">--</font>ło z <font color=\"red\">--</font>wet <font color=\"red\">--</font>ce<font color=\"red\">++</font>? <font color=\"red\">--</font>ło <font color=\"red\">--</font>wiem <font color=\"red\">--</font>ta o<font color=\"red\">++</font> i i? \n",
              "<br/>, <font color=\"red\">--</font>nież. wynią \n",
              "<br/><font color=\"red\">--</font>pa<font color=\"red\">++</font> by<font color=\"red\">++</font> od<font color=\"red\">++</font> <font color=\"red\">--</font>Ło<font color=\"red\">++</font> do<font color=\"red\">++</font> że <font color=\"red\">--</font>rać mo<font color=\"red\">++</font> <font color=\"red\">--</font>Nach <font color=\"red\">--</font>na<font color=\"red\">++</font>, te<font color=\"red\">++</font> zo<font color=\"red\">++</font> czymś po<font color=\"red\">++</font> – teka <font color=\"red\">--</font>ka o o<font color=\"red\">++</font> \n",
              "<br/><font color=\"red\">--</font>słachał <font color=\"red\">--</font>ka <font color=\"red\">--</font>rząkrali<font color=\"red\">++</font>, teda<font color=\"red\">++</font> Te<font color=\"red\">++</font> sta<font color=\"red\">++</font> jafo<font color=\"red\">++</font> z <font color=\"red\">--</font>pie to \n",
              "<br/><font color=\"red\">--</font>pego za<font color=\"red\">++</font> po<font color=\"red\">++</font> nie <font color=\"red\">--</font>li<font color=\"red\">++</font> za<font color=\"red\">++</font> O<font color=\"red\">++</font> Wszynę<font color=\"red\">++</font> kon<font color=\"red\">++</font>. jak <font color=\"red\">--</font>brał. <font color=\"red\">--</font>Sta<font color=\"red\">++</font>.! –. \n",
              "<br/>,, i <font color=\"red\">--</font>tę no ży<font color=\"red\">++</font> w <font color=\"red\">--</font>ka <font color=\"red\">--</font>stania. nie za<font color=\"red\">++</font> roz<font color=\"red\">++</font> to <font color=\"red\">--</font>czo za<font color=\"red\">++</font> wy<font color=\"red\">++</font>"
            ],
            "text/plain": [
              "<IPython.core.display.HTML object>"
            ]
          },
          "metadata": {
            "tags": []
          }
        },
        {
          "output_type": "stream",
          "text": [
            "\n"
          ],
          "name": "stdout"
        },
        {
          "output_type": "stream",
          "text": [
            "100%|#########9| 2329/2330 [47:35<00:01,  1.23s/it, epoch=6/5, loss=6.26, bw=0.376]"
          ],
          "name": "stderr"
        },
        {
          "output_type": "stream",
          "text": [
            "\n",
            "[47m 36s (6 2330 100%) loss=6.2554 bw=0.4771]\n"
          ],
          "name": "stdout"
        },
        {
          "output_type": "display_data",
          "data": {
            "text/html": [
              "Nauka psa czystości – jak sprawnie nauczyć psa załatwiać się na dworze?. <font color=\"red\">--</font>cz<font color=\"red\">++</font> \n",
              "<br/>co <font color=\"red\">--</font>niut<font color=\"red\">++</font> jej o<font color=\"red\">++</font> sponie <font color=\"red\">--</font>trzyniej bo <font color=\"red\">--</font>dzo<font color=\"red\">++</font> że <font color=\"red\">--</font>ne<font color=\"red\">++</font> po<font color=\"red\">++</font>, <font color=\"red\">--</font>ła <font color=\"red\">--</font>tłu<font color=\"red\">++</font> gdzie – sie<font color=\"red\">++</font> sa<font color=\"red\">++</font> z <font color=\"red\">--</font>niec <font color=\"red\">--</font>mię<font color=\"red\">++</font> to <font color=\"red\">--</font>bie chy<font color=\"red\">++</font> <font color=\"red\">--</font>Dzie, \n",
              "<br/>otu <font color=\"red\">--</font>my <font color=\"red\">--</font>wieresgo \n",
              "<br/>nie te<font color=\"red\">++</font> sie<font color=\"red\">++</font> o<font color=\"red\">++</font> – sa<font color=\"red\">++</font> Jest ro<font color=\"red\">++</font>? <font color=\"red\">--</font>sa<font color=\"red\">++</font> możmy <font color=\"red\">--</font>li <font color=\"red\">--</font>ża<font color=\"red\">++</font>!. zno<font color=\"red\">++</font> \n",
              "<br/>. <font color=\"red\">--</font>nie \n",
              "<br/>– na? <font color=\"red\">--</font>t<font color=\"red\">++</font> chwiła po<font color=\"red\">++</font> cze<font color=\"red\">++</font>! <font color=\"red\">--</font>cej <font color=\"red\">--</font>dzaj, zo<font color=\"red\">++</font>? <font color=\"red\">--</font>mi że. \n",
              "<br/>tywym się dzielże<font color=\"red\">++</font> Wie<font color=\"red\">++</font>, <font color=\"red\">--</font>Dzi<font color=\"red\">++</font> i do <font color=\"red\">--</font>soją <font color=\"red\">--</font>Wie<font color=\"red\">++</font> Te<font color=\"red\">++</font>, gdzie nie Ja<font color=\"red\">++</font> te<font color=\"red\">++</font> \n",
              "<br/><font color=\"red\">--</font>my <font color=\"red\">--</font>wie<font color=\"red\">++</font>, o<font color=\"red\">++</font> \n",
              "<br/>po<font color=\"red\">++</font> to \n",
              "<br/>pa<font color=\"red\">++</font> o<font color=\"red\">++</font> \n",
              "<br/>zu<font color=\"red\">++</font> – mo<font color=\"red\">++</font>, \n",
              "<br/>. <font color=\"red\">--</font>niacie. <font color=\"red\">--</font>ta się i <font color=\"red\">--</font>cińła <font color=\"red\">--</font>łaki \n",
              "<br/>stawi<font color=\"red\">++</font> tym <font color=\"red\">--</font>ry do <font color=\"red\">--</font>rała wy<font color=\"red\">++</font> \n",
              "<br/><font color=\"red\">--</font>wawienia <font color=\"red\">--</font>lę – <font color=\"red\">--</font>by na<font color=\"red\">++</font> rozrenbo<font color=\"red\">++</font>, <font color=\"red\">--</font>siencze<font color=\"red\">++</font>, te<font color=\"red\">++</font>, <font color=\"red\">--</font>fe<font color=\"red\">++</font> <font color=\"red\">--</font>My \n",
              "<br/>modziki \n",
              "<br/>na \n",
              "<br/><font color=\"red\">--</font>cz<font color=\"red\">++</font> ze pięt<font color=\"red\">++</font>, \n",
              "<br/>żyna <font color=\"red\">--</font>tło \n",
              "<br/><font color=\"red\">--</font>stwie <font color=\"red\">--</font>kiem <font color=\"red\">--</font>wa<font color=\"red\">++</font> nie tak <font color=\"red\">--</font>ka <font color=\"red\">--</font>to<font color=\"red\">++</font>, <font color=\"red\">--</font>pa<font color=\"red\">++</font> wy<font color=\"red\">++</font>, – te<font color=\"red\">++</font> ży<font color=\"red\">++</font>? \n",
              "<br/>ra<font color=\"red\">++</font> mnie <font color=\"red\">--</font>ce <font color=\"red\">--</font>dba była mane? o<font color=\"red\">++</font>, <font color=\"red\">--</font>nie a <font color=\"red\">--</font>ka, po<font color=\"red\">++</font> sa<font color=\"red\">++</font> – <font color=\"red\">--</font>wa<font color=\"red\">++</font> \n",
              "<br/>nie ma<font color=\"red\">++</font>, <font color=\"red\">--</font>wić po<font color=\"red\">++</font>. <font color=\"red\">--</font>li <font color=\"red\">--</font>cin<font color=\"red\">++</font>, niecia myd<font color=\"red\">++</font>. dra<font color=\"red\">++</font>, nie <font color=\"red\">--</font>konie to – <font color=\"red\">--</font>mo<font color=\"red\">++</font>, zwolcia <font color=\"red\">--</font>t<font color=\"red\">++</font> <font color=\"red\">--</font>Ry \n",
              "<br/><font color=\"red\">--</font>mknęba, <font color=\"red\">--</font>trzy<font color=\"red\">++</font> kie<font color=\"red\">++</font>, <font color=\"red\">--</font>boba <font color=\"red\">--</font>zy<font color=\"red\">++</font>, <font color=\"red\">--</font>czwieszej, o<font color=\"red\">++</font> wię<font color=\"red\">++</font> ma<font color=\"red\">++</font>, <font color=\"red\">--</font>dziapowska<font color=\"red\">++</font> I \n",
              "<br/>? wios<font color=\"red\">++</font> no od<font color=\"red\">++</font>. \n",
              "<br/><font color=\"red\">--</font>ję<font color=\"red\">++</font> \n",
              "<br/>wy<font color=\"red\">++</font> \n",
              "<br/><font color=\"red\">--</font>jąc nie <font color=\"red\">--</font>ła na<font color=\"red\">++</font> a, \n",
              "<br/>jej oła W jała <font color=\"red\">--</font>na <font color=\"red\">--</font>mo<font color=\"red\">++</font> \n",
              "<br/>to i że i <font color=\"red\">--</font>ny ich i <font color=\"red\">--</font>ba że <font color=\"red\">--</font>Ły<font color=\"red\">++</font> W rafił <font color=\"red\">--</font>ci Się a <font color=\"red\">--</font>nie Pabo \n",
              "<br/><font color=\"red\">--</font>że nie <font color=\"red\">--</font>jrza<font color=\"red\">++</font>, <font color=\"red\">--</font>ła <font color=\"red\">--</font>cz<font color=\"red\">++</font> \n",
              "<br/><font color=\"red\">--</font>na<font color=\"red\">++</font> <font color=\"red\">--</font>Ła te<font color=\"red\">++</font> ko<font color=\"red\">++</font>. w Nie ten nie<font color=\"red\">++</font> na <font color=\"red\">--</font>sta<font color=\"red\">++</font> przez <font color=\"red\">--</font>li <font color=\"red\">--</font>gię<font color=\"red\">++</font> Gdzie <font color=\"red\">--</font>czys<font color=\"red\">++</font>, <font color=\"red\">--</font>na<font color=\"red\">++</font> mo<font color=\"red\">++</font>, <font color=\"red\">--</font>li te<font color=\"red\">++</font> \n",
              "<br/>na, <font color=\"red\">--</font>nie <font color=\"red\">--</font>nia prze<font color=\"red\">++</font> Za Stro<font color=\"red\">++</font>. <font color=\"red\">--</font>res<font color=\"red\">++</font> w ro<font color=\"red\">++</font> wła<font color=\"red\">++</font> \n",
              "<br/>co <font color=\"red\">--</font>des <font color=\"red\">--</font>ka<font color=\"red\">++</font> pa<font color=\"red\">++</font> bo<font color=\"red\">++</font>. o<font color=\"red\">++</font> Bo, <font color=\"red\">--</font>ła na <font color=\"red\">--</font>dzo <font color=\"red\">--</font>nie \n",
              "<br/>o<font color=\"red\">++</font> \n",
              "<br/><font color=\"red\">--</font>ła <font color=\"red\">--</font>do<font color=\"red\">++</font> wes<font color=\"red\">++</font> po bu<font color=\"red\">++</font> na <font color=\"red\">--</font>ki <font color=\"red\">--</font>li<font color=\"red\">++</font>. <font color=\"red\">--</font>Res<font color=\"red\">++</font>, \n",
              "<br/><font color=\"red\">--</font>ta soka<font color=\"red\">++</font> całni <font color=\"red\">--</font>Wać <font color=\"red\">--</font>jęt<font color=\"red\">++</font> po<font color=\"red\">++</font>. w nie plą<font color=\"red\">++</font> \n",
              "<br/><font color=\"red\">--</font>ja<font color=\"red\">++</font> \n",
              "<br/>– to Twa<font color=\"red\">++</font> Oną oka \n",
              "<br/><font color=\"red\">--</font>ję<font color=\"red\">++</font> wyjść po<font color=\"red\">++</font> z <font color=\"red\">--</font>czy<font color=\"red\">++</font> przy<font color=\"red\">++</font> przy<font color=\"red\">++</font> Spo<font color=\"red\">++</font>, <font color=\"red\">--</font>bie <font color=\"red\">--</font>ne <font color=\"red\">--</font>Kę nie na wi<font color=\"red\">++</font> jak <font color=\"red\">--</font>wa<font color=\"red\">++</font> młoszy co, że <font color=\"red\">--</font>wie<font color=\"red\">++</font>, nie<font color=\"red\">++</font> Nie <font color=\"red\">--</font>ni<font color=\"red\">++</font> \n",
              "<br/><font color=\"red\">--</font>tu<font color=\"red\">++</font> \n",
              "<br/><font color=\"red\">--</font>pchać tyni \n",
              "<br/>wszy<font color=\"red\">++</font>, <font color=\"red\">--</font>komoła? \n",
              "<br/><font color=\"red\">--</font>me<font color=\"red\">++</font> mnie, \n",
              "<br/><font color=\"red\">--</font>ścią – Sa<font color=\"red\">++</font> za sa<font color=\"red\">++</font> Muraw<font color=\"red\">++</font>, cieć te<font color=\"red\">++</font> \n",
              "<br/>, mo<font color=\"red\">++</font>, <font color=\"red\">--</font>le<font color=\"red\">++</font> W – i <font color=\"red\">--</font>kę i. <font color=\"red\">--</font>gó<font color=\"red\">++</font> nie<font color=\"red\">++</font> – o<font color=\"red\">++</font> \n",
              "<br/>tą. Ojąc żekój – <font color=\"red\">--</font>ry <font color=\"red\">--</font>stabok <font color=\"red\">--</font>dzia<font color=\"red\">++</font> co <font color=\"red\">--</font>śnia <font color=\"red\">--</font>nych się <font color=\"red\">--</font>te<font color=\"red\">++</font> raco \n",
              "<br/>na. Brak <font color=\"red\">--</font>cie to<font color=\"red\">++</font> i <font color=\"red\">--</font>ną \n",
              "<br/><font color=\"red\">--</font>Wać <font color=\"red\">--</font>ni <font color=\"red\">--</font>bie <font color=\"red\">--</font>ka tesie <font color=\"red\">--</font>wać – z <font color=\"red\">--</font>krętczyn się, –? <font color=\"red\">--</font>ba <font color=\"red\">--</font>cy <font color=\"red\">--</font>ma<font color=\"red\">++</font> <font color=\"red\">--</font>Chęta<font color=\"red\">++</font> z <font color=\"red\">--</font>skiej. <font color=\"red\">--</font>kę Co <font color=\"red\">--</font>cz<font color=\"red\">++</font> w <font color=\"red\">--</font>du <font color=\"red\">--</font>mu że przy<font color=\"red\">++</font> i <font color=\"red\">--</font>ła jez<font color=\"red\">++</font> pienie po<font color=\"red\">++</font> <font color=\"red\">--</font>Ła <font color=\"red\">--</font>ła <font color=\"red\">--</font>zu myś<font color=\"red\">++</font> Teła <font color=\"red\">--</font>Łoczyją<font color=\"red\">++</font> I – so<font color=\"red\">++</font>, zwłok <font color=\"red\">--</font>te<font color=\"red\">++</font> pobu <font color=\"red\">--</font>czy<font color=\"red\">++</font> \n",
              "<br/><font color=\"red\">--</font>by był nic dlaną i <font color=\"red\">--</font>na Przynie, na <font color=\"red\">--</font>sba <font color=\"red\">--</font>ża<font color=\"red\">++</font> bo <font color=\"red\">--</font>go <font color=\"red\">--</font>stpo<font color=\"red\">++</font> za<font color=\"red\">++</font> że o<font color=\"red\">++</font>, parzeń <font color=\"red\">--</font>że, \n",
              "<br/>wspo<font color=\"red\">++</font> Sasa <font color=\"red\">--</font>nie –, <font color=\"red\">--</font>Niem <font color=\"red\">--</font>nie o<font color=\"red\">++</font> le<font color=\"red\">++</font> bo<font color=\"red\">++</font> w niemanoła wy<font color=\"red\">++</font> po<font color=\"red\">++</font> te <font color=\"red\">--</font>ję<font color=\"red\">++</font> za <font color=\"red\">--</font>ła nanie <font color=\"red\">--</font>ło<font color=\"red\">++</font> Tak <font color=\"red\">--</font>sko<font color=\"red\">++</font> \n",
              "<br/>pa<font color=\"red\">++</font>, <font color=\"red\">--</font>sjęby <font color=\"red\">--</font>nie <font color=\"red\">--</font>mię<font color=\"red\">++</font>., <font color=\"red\">--</font>wszem <font color=\"red\">--</font>ka<font color=\"red\">++</font> nie na \n",
              "<br/>\n",
              "<br/>\n",
              "<br/>nie? <font color=\"red\">--</font>Mo<font color=\"red\">++</font>, <font color=\"red\">--</font>by<font color=\"red\">++</font> nie te<font color=\"red\">++</font> sta<font color=\"red\">++</font> \n",
              "<br/>póź<font color=\"red\">++</font> <font color=\"red\">--</font>Raz <font color=\"red\">--</font>wiek, ży<font color=\"red\">++</font> \n",
              "<br/><font color=\"red\">--</font>s<font color=\"red\">++</font> że <font color=\"red\">--</font>Wo<font color=\"red\">++</font> <font color=\"red\">--</font>Ła <font color=\"red\">--</font>dy a, <font color=\"red\">--</font>panios<font color=\"red\">++</font>. co <font color=\"red\">--</font>t<font color=\"red\">++</font>? a <font color=\"red\">--</font>Ła <font color=\"red\">--</font>ra<font color=\"red\">++</font>,.. \n",
              "<br/>do<font color=\"red\">++</font> \n",
              "<br/>te<font color=\"red\">++</font> * te<font color=\"red\">++</font> po<font color=\"red\">++</font> wy<font color=\"red\">++</font> \n",
              "<br/><font color=\"red\">--</font>ki <font color=\"red\">--</font>rescho<font color=\"red\">++</font> chry<font color=\"red\">++</font> \n",
              "<br/><font color=\"red\">--</font>ką <font color=\"red\">--</font>ją<font color=\"red\">++</font> odu tewiedź pełła któ<font color=\"red\">++</font> \n",
              "<br/>, <font color=\"red\">--</font>liła. Nie ziene <font color=\"red\">--</font>ka <font color=\"red\">--</font>re<font color=\"red\">++</font> przyjaś<font color=\"red\">++</font> <font color=\"red\">--</font>Nie<font color=\"red\">++</font> \n",
              "<br/>so<font color=\"red\">++</font>, do<font color=\"red\">++</font> jenia wy<font color=\"red\">++</font> jeraz <font color=\"red\">--</font>ję<font color=\"red\">++</font> Ma <font color=\"red\">--</font>li że<font color=\"red\">++</font>.! i mę<font color=\"red\">++</font>, <font color=\"red\">--</font>wie<font color=\"red\">++</font>, w <font color=\"red\">--</font>res<font color=\"red\">++</font>. <font color=\"red\">--</font>ka panda<font color=\"red\">++</font> sosastanie –, <font color=\"red\">--</font>t<font color=\"red\">++</font>., i., pełja<font color=\"red\">++</font> wy<font color=\"red\">++</font> coś, <font color=\"red\">--</font>ku? tena <font color=\"red\">--</font>łu<font color=\"red\">++</font> pa<font color=\"red\">++</font> mo<font color=\"red\">++</font> <font color=\"red\">--</font>Kiem <font color=\"red\">--</font>wnie <font color=\"red\">--</font>stu<font color=\"red\">++</font> \n",
              "<br/><font color=\"red\">--</font>go naj<font color=\"red\">++</font> u<font color=\"red\">++</font> ja<font color=\"red\">++</font> dłu<font color=\"red\">++</font>, się <font color=\"red\">--</font>bieś<font color=\"red\">++</font> na<font color=\"red\">++</font> na<font color=\"red\">++</font> zawnych nie \n",
              "<br/>spo<font color=\"red\">++</font> \n",
              "<br/><font color=\"red\">--</font>ska \n",
              "<br/>u<font color=\"red\">++</font>, wratu<font color=\"red\">++</font> wy<font color=\"red\">++</font>, ban<font color=\"red\">++</font>., <font color=\"red\">--</font>ła os<font color=\"red\">++</font> prze<font color=\"red\">++</font> I <font color=\"red\">--</font>dzia<font color=\"red\">++</font> o<font color=\"red\">++</font> –, – <font color=\"red\">--</font>ła, <font color=\"red\">--</font>stpory bo \n",
              "<br/>, co <font color=\"red\">--</font>zorro<font color=\"red\">++</font> Od to,, Wycze<font color=\"red\">++</font> wszy<font color=\"red\">++</font> \n",
              "<br/>co <font color=\"red\">--</font>zał <font color=\"red\">--</font>ro<font color=\"red\">++</font>. <font color=\"red\">--</font>ra<font color=\"red\">++</font> \n",
              "<br/>\n",
              "<br/>o<font color=\"red\">++</font>,, <font color=\"red\">--</font>słaze<font color=\"red\">++</font> Zno<font color=\"red\">++</font> i Mia<font color=\"red\">++</font>? <font color=\"red\">--</font>wy <font color=\"red\">--</font>dzie <font color=\"red\">--</font>dnak – <font color=\"red\">--</font>dnie <font color=\"red\">--</font>da<font color=\"red\">++</font> zoresdzia<font color=\"red\">++</font> \n",
              "<br/><font color=\"red\">--</font>dzia<font color=\"red\">++</font> i \n",
              "<br/>,, <font color=\"red\">--</font>cz<font color=\"red\">++</font> gono<font color=\"red\">++</font> po<font color=\"red\">++</font> w \n",
              "<br/><font color=\"red\">--</font>ko. tak <font color=\"red\">--</font>jąc <font color=\"red\">--</font>nia ob<font color=\"red\">++</font> nado<font color=\"red\">++</font> \n",
              "<br/>\n",
              "<br/><font color=\"red\">--</font>ka <font color=\"red\">--</font>ście uko<font color=\"red\">++</font> \n",
              "<br/>nie <font color=\"red\">--</font>nie <font color=\"red\">--</font>że<font color=\"red\">++</font> rozzu mimóc czy <font color=\"red\">--</font>ci <font color=\"red\">--</font>res<font color=\"red\">++</font> chywiła mgniesta<font color=\"red\">++</font> <font color=\"red\">--</font>Sia <font color=\"red\">--</font>cz<font color=\"red\">++</font> gło<font color=\"red\">++</font> pową wyba, <font color=\"red\">--</font>ła żyła \n",
              "<br/>i nie Jela<font color=\"red\">++</font> <font color=\"red\">--</font>Raz, <font color=\"red\">--</font>sięć o<font color=\"red\">++</font> \n",
              "<br/><font color=\"red\">--</font>wi<font color=\"red\">++</font> zna<font color=\"red\">++</font> o<font color=\"red\">++</font>. – <font color=\"red\">--</font>że<font color=\"red\">++</font>, sta<font color=\"red\">++</font> dolę <font color=\"red\">--</font>Kim z <font color=\"red\">--</font>wanie ja<font color=\"red\">++</font> \n",
              "<br/>ma<font color=\"red\">++</font> Po<font color=\"red\">++</font> i <font color=\"red\">--</font>wet"
            ],
            "text/plain": [
              "<IPython.core.display.HTML object>"
            ]
          },
          "metadata": {
            "tags": []
          }
        },
        {
          "output_type": "stream",
          "text": [
            "\n"
          ],
          "name": "stdout"
        },
        {
          "output_type": "stream",
          "text": [
            ""
          ],
          "name": "stderr"
        },
        {
          "output_type": "display_data",
          "data": {
            "image/png": "[encoded data removed]",
            "text/plain": [
              "<Figure size 640x480 with 1 Axes>"
            ]
          },
          "metadata": {
            "tags": []
          }
        }
      ]
    },
    {
      "cell_type": "markdown",
      "metadata": {
        "id": "fBxDqIIu6oB1"
      },
      "source": [
        "3. Nowa sieć neuronowa z dodaną warstwą dropout (=0.1) i hiperparametrami takimi jak w przykładzie"
      ]
    },
    {
      "cell_type": "code",
      "metadata": {
        "id": "U0THnICp8DOk"
      },
      "source": [
        "class RNN(nn.Module):\n",
        "    def __init__(self, input_size, hidden_size, output_size, n_layers=1, dropout = 0.1):\n",
        "        super(RNN, self).__init__()\n",
        "        self.input_size = input_size\n",
        "        self.hidden_size = hidden_size\n",
        "        self.output_size = output_size\n",
        "        self.n_layers = n_layers\n",
        "        \n",
        "        self.encoder = nn.Embedding(input_size, hidden_size)\n",
        "        self.encoder_dropout = nn.Dropout(dropout)\n",
        "        self.gru = nn.GRU(hidden_size, hidden_size, n_layers, dropout=(0 if n_layers == 1 else dropout))\n",
        "        self.concat = nn.Linear(hidden_size * 2, hidden_size)\n",
        "        self.decoder = nn.Linear(hidden_size, output_size)\n",
        "    \n",
        "    def forward(self, input, hidden):\n",
        "        input = self.encoder(input.view(1, -1))\n",
        "        output, hidden = self.gru(input.view(1, 1, -1), hidden)\n",
        "        output = self.decoder(output.view(1, -1))\n",
        "        return output, hidden\n",
        "\n",
        "    def init_hidden(self):\n",
        "        return Variable(to_gpu(torch.zeros(self.n_layers, 1, self.hidden_size)))"
      ],
      "execution_count": 52,
      "outputs": []
    },
    {
      "cell_type": "code",
      "metadata": {
        "colab": {
          "base_uri": "https://localhost:8080/",
          "height": 1000
        },
        "id": "y9cfLIax6Pe2",
        "outputId": "3bd4840f-487b-44aa-8692-5b63d62009e6"
      },
      "source": [
        "n_epochs = 1\n",
        "n_iters = n_epochs * n_samples\n",
        "print_every = n_samples // 2\n",
        "plot_every = n_samples // 4\n",
        "hidden_size = 500\n",
        "n_layers = 3\n",
        "lr = 0.001\n",
        "\n",
        "decoder = RNN(n_tokens, hidden_size, n_tokens, n_layers)\n",
        "if USE_GPU:\n",
        "    decoder.cuda()\n",
        "print(decoder, flush=True)\n",
        "\n",
        "decoder_optimizer = torch.optim.Adam(decoder.parameters(), lr=lr)\n",
        "criterion = nn.CrossEntropyLoss()\n",
        "if USE_GPU:\n",
        "    criterion.cuda()\n",
        "\n",
        "all_losses = []\n",
        "loss_avg = 0\n",
        "all_bw = []\n",
        "bw_avg = 0\n",
        "\n",
        "iterable = range(1, n_iters + 1)\n",
        "tqdm_ = tqdm(iterable, '', leave=False, dynamic_ncols=True, mininterval=1.0, ascii=True, miniters=1)\n",
        "first_step = True\n",
        "\n",
        "prime_tok = str2syl2tok('Nauka psa czystości – jak sprawnie nauczyć psa załatwiać się na dworze?')\n",
        "\n",
        "start = time.time()\n",
        "\n",
        "for it in tqdm_:\n",
        "    epoch = 1 + it // n_samples\n",
        "    loss = train(*random_training_set())       \n",
        "    loss_avg += loss\n",
        "\n",
        "    # current loss chart\n",
        "    vis_update_line_chart(vis, 'loss', it, loss, it == 1)\n",
        "\n",
        "    # bad words    \n",
        "    bw = bad_words(evaluate(prime_tok, 100))\n",
        "    bw_avg += bw\n",
        "\n",
        "    # current bad words chart\n",
        "    vis_update_line_chart(vis, 'bad_words', it, bw, it == 1)\n",
        "    \n",
        "    # progress_bar\n",
        "    tqdm_.set_postfix({'epoch': f'{epoch}/{n_epochs}', 'loss': loss, 'bw': bw})\n",
        "    text = f'&nbsp;<font color=\"red\">{tqdm_}</font>'\n",
        "    vis_update_text_win(vis, 'progress_bar', text)\n",
        "\n",
        "    if it % print_every == 0:\n",
        "        e_syl = evaluate(prime_tok, 1000)\n",
        "        e_bw = bad_words(e_syl)\n",
        "        stats_str = '\\n[%s (%d %d %d%%) loss=%.4f bw=%.4f]' % (time_since(start), epoch, it, it / n_iters * 100, loss, e_bw)\n",
        "        print(stats_str)\n",
        "        \n",
        "        e_str = fix_punctuation(decode_tokens(syl2str(e_syl, delim='')))\n",
        "        e_html = format_html(e_str); display(HTML(e_html))\n",
        "        print(flush=True)        \n",
        "        \n",
        "        text = f'<b>{stats_str}</b><br />{e_html}'\n",
        "        vis_update_text_win(vis, 'evaluation', text)\n",
        "        \n",
        "        e_syl_path = tmp_path / 'e_syl.txt'\n",
        "        e_syl_path.open('w').write(' '.join(e_syl))\n",
        "\n",
        "    if it % plot_every == 0:\n",
        "        vis_update_line_chart(vis, 'loss_avg', it, loss_avg / plot_every, first_step)\n",
        "        vis_update_line_chart(vis, 'bad_words_avg', it, bw_avg / plot_every, first_step)\n",
        "        all_bw.append(bw)\n",
        "        bw_avg = 0\n",
        "        first_step = False\n",
        "        all_losses.append(loss_avg / plot_every)\n",
        "        loss_avg = 0\n",
        "\n",
        "plt.figure()\n",
        "plt.plot(all_losses)\n",
        "\n",
        "ALLTOKS, MODEL = ['all_tokens', 'model']\n",
        "fn_zwyczajne_zycie3 = {ALLTOKS: f'all_tokens.n{n_tokens}.zwyczajne-zycie3.p', \n",
        "                  MODEL: f'zwyczajne-zycie3.h{hidden_size}.l{n_layers}.e{n_epochs}.gpu.torch'}\n",
        "fn_dict = fn_zwyczajne_zycie3; fn_dict\n",
        "\n",
        "# save all_tokens\n",
        "all_tokens_path = tmp_path / fn_dict[ALLTOKS]\n",
        "pickle.dump(all_tokens, open(all_tokens_path, 'wb'))\n",
        "\n",
        "warnings.filterwarnings('ignore')\n",
        "\n",
        "# save model\n",
        "model_path = tmp_path / fn_dict[MODEL]\n",
        "torch.save(decoder, model_path)"
      ],
      "execution_count": 53,
      "outputs": [
        {
          "output_type": "stream",
          "text": [
            "RNN(\n",
            "  (encoder): Embedding(5125, 500)\n",
            "  (encoder_dropout): Dropout(p=0.1, inplace=False)\n",
            "  (gru): GRU(500, 500, num_layers=3, dropout=0.1)\n",
            "  (concat): Linear(in_features=1000, out_features=500, bias=True)\n",
            "  (decoder): Linear(in_features=500, out_features=5125, bias=True)\n",
            ")\n"
          ],
          "name": "stdout"
        },
        {
          "output_type": "stream",
          "text": [
            " 50%|####9     | 231/466 [03:18<03:18,  1.18it/s, epoch=1/1, loss=5.87, bw=0.304]"
          ],
          "name": "stderr"
        },
        {
          "output_type": "stream",
          "text": [
            "\n",
            "[3m 18s (1 233 50%) loss=5.8683 bw=0.3629]\n"
          ],
          "name": "stdout"
        },
        {
          "output_type": "display_data",
          "data": {
            "text/html": [
              "Nauka psa czystości – jak sprawnie nauczyć psa załatwiać się na dworze?, po<font color=\"red\">++</font>, <font color=\"red\">--</font>ła bez <font color=\"red\">--</font>niosgi <font color=\"red\">--</font>go <font color=\"red\">--</font>my do Za<font color=\"red\">++</font> i popaci <font color=\"red\">--</font>makiraz, po<font color=\"red\">++</font>. \n",
              "<br/>\n",
              "<br/>– Przy<font color=\"red\">++</font>, pan miła po<font color=\"red\">++</font>, poła się <font color=\"red\">--</font>mo, – – łą<font color=\"red\">++</font>, te<font color=\"red\">++</font> poturnie,, po<font color=\"red\">++</font> na mo<font color=\"red\">++</font> te<font color=\"red\">++</font> Te<font color=\"red\">++</font> te<font color=\"red\">++</font> Je<font color=\"red\">++</font> kroli re<font color=\"red\">++</font>. \n",
              "<br/>\n",
              "<br/>\n",
              "<br/>\n",
              "<br/><font color=\"red\">--</font>Łu<font color=\"red\">++</font> uka oła, Cegmu <font color=\"red\">--</font>lia <font color=\"red\">--</font>nianie, to <font color=\"red\">--</font>ka. \n",
              "<br/>– Świe<font color=\"red\">++</font> nie <font color=\"red\">--</font>wli <font color=\"red\">--</font>niem <font color=\"red\">--</font>ka po<font color=\"red\">++</font>. Do <font color=\"red\">--</font>ty<font color=\"red\">++</font>. <font color=\"red\">--</font>Siaj, we sa<font color=\"red\">++</font> z na <font color=\"red\">--</font>lej ro<font color=\"red\">++</font>, tam<font color=\"red\">++</font>. Te<font color=\"red\">++</font> Na <font color=\"red\">--</font>sły? <font color=\"red\">--</font>Kra<font color=\"red\">++</font> po te<font color=\"red\">++</font> nich ja doczy<font color=\"red\">++</font> już. – Szedł ra<font color=\"red\">++</font> mi <font color=\"red\">--</font>łaś <font color=\"red\">--</font>cze<font color=\"red\">++</font>. \n",
              "<br/>– <font color=\"red\">--</font>Ś<font color=\"red\">++</font> wycomiem w już się <font color=\"red\">--</font>reswie, ni<font color=\"red\">++</font> nie<font color=\"red\">++</font>. \n",
              "<br/>\n",
              "<br/><font color=\"red\">--</font>Go gala<font color=\"red\">++</font>, <font color=\"red\">--</font>łam <font color=\"red\">--</font>rała. \n",
              "<br/>\n",
              "<br/>\n",
              "<br/>W nią <font color=\"red\">--</font>dzia<font color=\"red\">++</font> za<font color=\"red\">++</font>, że<font color=\"red\">++</font>. <font color=\"red\">--</font>Reswiże<font color=\"red\">++</font>, mia<font color=\"red\">++</font> <font color=\"red\">--</font>Żo <font color=\"red\">--</font>bełdział! \n",
              "<br/>\n",
              "<br/>\n",
              "<br/>To. Kieła! \n",
              "<br/>– <font color=\"red\">--</font>Fać <font color=\"red\">--</font>kaki, natuście <font color=\"red\">--</font>mar<font color=\"red\">++</font>. W <font color=\"red\">--</font>te<font color=\"red\">++</font> przyka uku <font color=\"red\">--</font>mi <font color=\"red\">--</font>ły, po<font color=\"red\">++</font>, te<font color=\"red\">++</font> – – gło<font color=\"red\">++</font> prze<font color=\"red\">++</font>, któbi<font color=\"red\">++</font> sago na po <font color=\"red\">--</font>sz<font color=\"red\">++</font> o pi<font color=\"red\">++</font> ma Po<font color=\"red\">++</font>. <font color=\"red\">--</font>S<font color=\"red\">++</font>. \n",
              "<br/>\n",
              "<br/>– – osu. \n",
              "<br/>\n",
              "<br/>– <font color=\"red\">--</font>Jąc, w je<font color=\"red\">++</font> nane? <font color=\"red\">--</font>S<font color=\"red\">++</font>, za<font color=\"red\">++</font> jeź<font color=\"red\">++</font> w <font color=\"red\">--</font>łyśby się? <font color=\"red\">--</font>Ło władz się dotał za<font color=\"red\">++</font>. \n",
              "<br/>\n",
              "<br/>\n",
              "<br/>\n",
              "<br/><font color=\"red\">--</font>ła bo wie<font color=\"red\">++</font> by<font color=\"red\">++</font> pia<font color=\"red\">++</font> pa<font color=\"red\">++</font>. \n",
              "<br/>– Jak <font color=\"red\">--</font>res<font color=\"red\">++</font> sa<font color=\"red\">++</font>. <font color=\"red\">--</font>my wszysie <font color=\"red\">--</font>poną bym. <font color=\"red\">--</font>Ga za na po<font color=\"red\">++</font> dowago <font color=\"red\">--</font>dą<font color=\"red\">++</font>, cegnijazgo <font color=\"red\">--</font>nęgo <font color=\"red\">--</font>go – pod<font color=\"red\">++</font> się <font color=\"red\">--</font>s<font color=\"red\">++</font>, przez <font color=\"red\">--</font>potyści <font color=\"red\">--</font>dzi <font color=\"red\">--</font>ni<font color=\"red\">++</font> nadczysz, <font color=\"red\">--</font>sta<font color=\"red\">++</font>, po<font color=\"red\">++</font> pony <font color=\"red\">--</font>go <font color=\"red\">--</font>ła ro<font color=\"red\">++</font>! <font color=\"red\">--</font>Sta<font color=\"red\">++</font> i <font color=\"red\">--</font>go naraz <font color=\"red\">--</font>nie <font color=\"red\">--</font>ta <font color=\"red\">--</font>ło. Poraniu by<font color=\"red\">++</font>. <font color=\"red\">--</font>Ką <font color=\"red\">--</font>go jetypom<font color=\"red\">++</font>, je<font color=\"red\">++</font> świa<font color=\"red\">++</font>! <font color=\"red\">--</font>Po<font color=\"red\">++</font> bo, Roz<font color=\"red\">++</font> na od <font color=\"red\">--</font>kręt<font color=\"red\">++</font>. – <font color=\"red\">--</font>Rundzy <font color=\"red\">--</font>gi. <font color=\"red\">--</font>Demi. Pory <font color=\"red\">--</font>my ta<font color=\"red\">++</font>, powiać, <font color=\"red\">--</font>niwo <font color=\"red\">--</font>ma <font color=\"red\">--</font>zna<font color=\"red\">++</font>, <font color=\"red\">--</font>kręt<font color=\"red\">++</font> na <font color=\"red\">--</font>ło, po<font color=\"red\">++</font> nie na w jejąć, te<font color=\"red\">++</font>? Się <font color=\"red\">--</font>krętznago <font color=\"red\">--</font>dziana, bowie w <font color=\"red\">--</font>b<font color=\"red\">++</font>, się ma a <font color=\"red\">--</font>gi z… <font color=\"red\">--</font>jrzał <font color=\"red\">--</font>czo<font color=\"red\">++</font>. Się <font color=\"red\">--</font>go już nie <font color=\"red\">--</font>tes<font color=\"red\">++</font> ro<font color=\"red\">++</font>,! – co <font color=\"red\">--</font>kie<font color=\"red\">++</font>, Wsi <font color=\"red\">--</font>ła zaścią <font color=\"red\">--</font>dża<font color=\"red\">++</font>, te<font color=\"red\">++</font> le<font color=\"red\">++</font>, te<font color=\"red\">++</font> kuna <font color=\"red\">--</font>laz<font color=\"red\">++</font> i wypchnę<font color=\"red\">++</font>, pod<font color=\"red\">++</font>. \n",
              "<br/><font color=\"red\">--</font>Ka to <font color=\"red\">--</font>wa <font color=\"red\">--</font>nu. <font color=\"red\">--</font>Reskie <font color=\"red\">--</font>ka<font color=\"red\">++</font> wy<font color=\"red\">++</font>,, nane na po nad o<font color=\"red\">++</font> Poduna<font color=\"red\">++</font> wąt<font color=\"red\">++</font>, ob<font color=\"red\">++</font>, o<font color=\"red\">++</font> no soma<font color=\"red\">++</font> pa<font color=\"red\">++</font>. \n",
              "<br/>– I – \n",
              "<br/>– – Że <font color=\"red\">--</font>ment <font color=\"red\">--</font>krętją <font color=\"red\">--</font>dio<font color=\"red\">++</font> po<font color=\"red\">++</font> iska <font color=\"red\">--</font>dną aż mó<font color=\"red\">++</font> gocia nie tym? Na namóc <font color=\"red\">--</font>ka <font color=\"red\">--</font>go spo<font color=\"red\">++</font> bo<font color=\"red\">++</font> nie <font color=\"red\">--</font>trz<font color=\"red\">++</font>. Go<font color=\"red\">++</font> trogo <font color=\"red\">--</font>sły<font color=\"red\">++</font> ro<font color=\"red\">++</font> po<font color=\"red\">++</font> mia<font color=\"red\">++</font> gdzie <font color=\"red\">--</font>cz<font color=\"red\">++</font> o<font color=\"red\">++</font> za<font color=\"red\">++</font> zarundonie ” <font color=\"red\">--</font>ko<font color=\"red\">++</font> wy<font color=\"red\">++</font>, <font color=\"red\">--</font>cja <font color=\"red\">--</font>ły, tym i <font color=\"red\">--</font>go <font color=\"red\">--</font>ka wy<font color=\"red\">++</font>, <font color=\"red\">--</font>kręt<font color=\"red\">++</font>. – Wszelgi<font color=\"red\">++</font>. \n",
              "<br/>Po<font color=\"red\">++</font> być <font color=\"red\">--</font>we <font color=\"red\">--</font>ni <font color=\"red\">--</font>ście do tereswami go <font color=\"red\">--</font>raz samy <font color=\"red\">--</font>ści<font color=\"red\">++</font> dodzić w że plik <font color=\"red\">--</font>wró<font color=\"red\">++</font>. – \n",
              "<br/>– Po te<font color=\"red\">++</font> w ty je<font color=\"red\">++</font> je<font color=\"red\">++</font> gdzieś pa<font color=\"red\">++</font> wol<font color=\"red\">++</font>, że <font color=\"red\">--</font>no zarząno <font color=\"red\">--</font>mi…. Na<font color=\"red\">++</font>.. Po<font color=\"red\">++</font> oresdów słabą!. Dla<font color=\"red\">++</font>. O <font color=\"red\">--</font>kręt<font color=\"red\">++</font> ze<font color=\"red\">++</font>, <font color=\"red\">--</font>Ka ge<font color=\"red\">++</font> wyły, nie <font color=\"red\">--</font>bym so<font color=\"red\">++</font> pe<font color=\"red\">++</font> te<font color=\"red\">++</font> świawa<font color=\"red\">++</font>, po<font color=\"red\">++</font> zawe się on, to <font color=\"red\">--</font>ta <font color=\"red\">--</font>dziates<font color=\"red\">++</font>, o<font color=\"red\">++</font>! A jak w <font color=\"red\">--</font>co za<font color=\"red\">++</font> w przez., po<font color=\"red\">++</font> świat wre<font color=\"red\">++</font> ceg<font color=\"red\">++</font> uno<font color=\"red\">++</font> winyjony wy<font color=\"red\">++</font>, tecy, Świe<font color=\"red\">++</font>, o<font color=\"red\">++</font> poka zarządła kieł<font color=\"red\">++</font> w bę<font color=\"red\">++</font>, wszy<font color=\"red\">++</font> <font color=\"red\">--</font>Ły <font color=\"red\">--</font>ka on na na <font color=\"red\">--</font>bta<font color=\"red\">++</font> porastawym <font color=\"red\">--</font>wietom<font color=\"red\">++</font>, że go coś <font color=\"red\">--</font>nio<font color=\"red\">++</font>, że – <font color=\"red\">--</font>ny <font color=\"red\">--</font>ka do – to <font color=\"red\">--</font>kiś by<font color=\"red\">++</font>. Po<font color=\"red\">++</font> się w <font color=\"red\">--</font>bok <font color=\"red\">--</font>ny. \n",
              "<br/>On <font color=\"red\">--</font>my <font color=\"red\">--</font>dzijąwie<font color=\"red\">++</font> daka co <font color=\"red\">--</font>siąt po<font color=\"red\">++</font>, wśród. Te<font color=\"red\">++</font>? – Po <font color=\"red\">--</font>jąc ma jak <font color=\"red\">--</font>krętka za<font color=\"red\">++</font> po<font color=\"red\">++</font> zaście <font color=\"red\">--</font>swasz<font color=\"red\">++</font> do<font color=\"red\">++</font>, że <font color=\"red\">--</font>beła bo <font color=\"red\">--</font>raz pomy, nie! \n",
              "<br/>– <font color=\"red\">--</font>Ku <font color=\"red\">--</font>ży<font color=\"red\">++</font> po<font color=\"red\">++</font>, <font color=\"red\">--</font>móc się bo<font color=\"red\">++</font> z prze<font color=\"red\">++</font> spytych <font color=\"red\">--</font>tam pade<font color=\"red\">++</font>, nóg <font color=\"red\">--</font>ka nie wymy dzizie jakka odgo u<font color=\"red\">++</font>. <font color=\"red\">--</font>Nik <font color=\"red\">--</font>ka ma, <font color=\"red\">--</font>sgę <font color=\"red\">--</font>ka, <font color=\"red\">--</font>sem <font color=\"red\">--</font>krętcz<font color=\"red\">++</font>. Oła jak jej, zało <font color=\"red\">--</font>nę<font color=\"red\">++</font> umi <font color=\"red\">--</font>ka na z czozał wszy<font color=\"red\">++</font> z i wy<font color=\"red\">++</font>, bo ich <font color=\"red\">--</font>łu<font color=\"red\">++</font> peczeka się nie po<font color=\"red\">++</font> nie się na<font color=\"red\">++</font>, co nanie u<font color=\"red\">++</font>. \n",
              "<br/>\n",
              "<br/>\n",
              "<br/>Miej<font color=\"red\">++</font> duto<font color=\"red\">++</font>, mu, <font color=\"red\">--</font>dy winy <font color=\"red\">--</font>nie <font color=\"red\">--</font>czyć, sta<font color=\"red\">++</font>. Jakajeż<font color=\"red\">++</font> pomi <font color=\"red\">--</font>wa <font color=\"red\">--</font>tow<font color=\"red\">++</font>. <font color=\"red\">--</font>Ście bli<font color=\"red\">++</font>. \n",
              "<br/>\n",
              "<br/>\n",
              "<br/>Czewi<font color=\"red\">++</font> spewo <font color=\"red\">--</font>czone <font color=\"red\">--</font>w<font color=\"red\">++</font> miejnia <font color=\"red\">--</font>ną <font color=\"red\">--</font>mała <font color=\"red\">--</font>winy <font color=\"red\">--</font>mi z <font color=\"red\">--</font>by nie to <font color=\"red\">--</font>sza <font color=\"red\">--</font>ła za <font color=\"red\">--</font>nę na za <font color=\"red\">--</font>sem wy<font color=\"red\">++</font>. Słudzie swój <font color=\"red\">--</font>ście. \n",
              "<br/>U<font color=\"red\">++</font>! \n",
              "<br/>\n",
              "<br/>\n",
              "<br/>\n",
              "<br/>Te<font color=\"red\">++</font> na a te<font color=\"red\">++</font> \n",
              "<br/>\n",
              "<br/>– –, <font color=\"red\">--</font>go <font color=\"red\">--</font>łustać <font color=\"red\">--</font>ka. <font color=\"red\">--</font>Da chcia<font color=\"red\">++</font> – nie pod na <font color=\"red\">--</font>ka już <font color=\"red\">--</font>ła pomy wszy<font color=\"red\">++</font> je<font color=\"red\">++</font> z Zaży<font color=\"red\">++</font>, <font color=\"red\">--</font>żów<font color=\"red\">++</font>, że. Na je<font color=\"red\">++</font>"
            ],
            "text/plain": [
              "<IPython.core.display.HTML object>"
            ]
          },
          "metadata": {
            "tags": []
          }
        },
        {
          "output_type": "stream",
          "text": [
            "\n"
          ],
          "name": "stdout"
        },
        {
          "output_type": "stream",
          "text": [
            "100%|#########9| 465/466 [06:36<00:00,  1.18it/s, epoch=2/1, loss=5.3, bw=0.04]  "
          ],
          "name": "stderr"
        },
        {
          "output_type": "stream",
          "text": [
            "\n",
            "[6m 36s (2 466 100%) loss=5.2952 bw=0.0254]\n"
          ],
          "name": "stdout"
        },
        {
          "output_type": "display_data",
          "data": {
            "text/html": [
              "Nauka psa czystości – jak sprawnie nauczyć psa załatwiać się na dworze? \n",
              "<br/>\n",
              "<br/>Wyjaści, kotość <font color=\"red\">--</font>cie móstępli, cago spewielijąc. wteroju. Nienasób dopadnamy, uszczęś<font color=\"red\">++</font>, bo, szuwek i nim po garta nie ronoteca. Tereska odtych zmianie w co zamu. \n",
              "<br/>\n",
              "<br/>– Okrętka nie po ogo się, Powiego, testajoli. – Tak nie zagle się to młostomana i z, w koń mieć. Okrętka, że pory nie na przy nóg się. Tereska ligo, jak donacznie. Tereska. Po że dostań. – Melma, Roznuje. \n",
              "<br/>\n",
              "<br/>– Rozje mu. Okrętka zakrętka jej już, podzior, teże – że Okrętka nie w jesz<font color=\"red\">++</font>. – Zwyło otki, Barwieła na <font color=\"red\">--</font>resbono. O<font color=\"red\">++</font> czym przed dziecka. Po chryjęła się i otta! Przecież i traczyjąc, mnie zawym nalełe – Tylkiedzę <font color=\"red\">--</font>wiek choki łu<font color=\"red\">++</font> już tenać na olełoliła oddzieła ich przy czuwająca i zagle szuchu. Poka sojrzysz, to się po, kryciółce. – Kobrania. To nie jeszka – z masz, nie owków koboniu przenatra<font color=\"red\">++</font>. Masz tym bukiem nie bęcztła tylgmyła. O Mipiebuj naci. Ciąnęła <font color=\"red\">--</font>Bewienę i poby piter<font color=\"red\">++</font>. \n",
              "<br/>\n",
              "<br/>– A nie masz w pomu się udzała – świczyły, proczekony. \n",
              "<br/>\n",
              "<br/>Unawała poka wocy i ośnie z że wodyny się na niechawnie na tylwole. Nim pojalwimy nie tereska respożar. \n",
              "<br/>\n",
              "<br/>– Okrętka bezgląd <font color=\"red\">--</font>na, cale, przy niej powiedziała po promu, cegdzie nie pchać nadzie po ja<font color=\"red\">++</font> kimenby przewiła. Z jeska, że prała Nakojłoła udana, ogódy okrętka dziecbie. Zadago, że to podoni dopieniem się się, ogo. Onęła nie oże, że jeszki na <font color=\"red\">--</font>ku, że zawinne <font color=\"red\">--</font>ta się wymu się czym nim tamwa<font color=\"red\">++</font> boska się, tego człoka. – – A przydanie spodanie. Tamnustoją. Dojęła. Na Dziecka. Ogónia by rozże, dostracty<font color=\"red\">++</font>, zaszabunie mi. Tesę, czy nią oni się! – Nie i jak poczyrzy mi iswieczneła nie na a polewała mając przez z no. Nie przydobnie się wyranym, że otość <font color=\"red\">--</font>nerdomu <font color=\"red\">--</font>ków. Bo ją, tam zastą się nie so<font color=\"red\">++</font> zbókrętka się nie oswieżle powiewy. Okrętka dobrać na sił się zastając. \n",
              "<br/>\n",
              "<br/>Głoczej z nim już o<font color=\"red\">++</font> deka. Spona się by dowiem. Się, pan, osztego, tam nie tu mutrzywiła wylena po drulemo zapa miejgo do potele się ogą pozuwaczeła się korelę sani, że proszła! \n",
              "<br/>\n",
              "<br/>– Że na dzierwać i Czło<font color=\"red\">++</font>. – Nie <font color=\"red\">--</font>kiś, trzekrętka, Nie ogo osztof to odjęłaś, jak sonerwana barchalniana w przygiej się się zamyśle, To że wynuły na pozu<font color=\"red\">++</font> subka i jabiła Bostawataszne, żyłognęliła przyliwoła i Zrogle na powielekwamy? – domu, żółbie Nie saca przeko na to <font color=\"red\">--</font>legny, któna jetość tamnie uka edywając miała Madze, wytrzysób, że odjec<font color=\"red\">++</font>. W jeska, Okrętka się się i po z któwieły się pale, dodziła osory. Przerę, tygo owni… Mótrzyjąna Tereska – triumwała prołu. \n",
              "<br/>\n",
              "<br/>– Ogómy pory jeskichś popień podwómy, Moswiełem? \n",
              "<br/>\n",
              "<br/>Że okrętka ona cała drzenią, na oczesony wiepają, tereska <font color=\"red\">--</font>łe na uczewate, potrzymu"
            ],
            "text/plain": [
              "<IPython.core.display.HTML object>"
            ]
          },
          "metadata": {
            "tags": []
          }
        },
        {
          "output_type": "stream",
          "text": [
            "\n"
          ],
          "name": "stdout"
        },
        {
          "output_type": "stream",
          "text": [
            ""
          ],
          "name": "stderr"
        },
        {
          "output_type": "display_data",
          "data": {
            "image/png": "[encoded data removed]",
            "text/plain": [
              "<Figure size 640x480 with 1 Axes>"
            ]
          },
          "metadata": {
            "tags": []
          }
        }
      ]
    },
    {
      "cell_type": "markdown",
      "metadata": {
        "id": "N1lhkeFC6zJa"
      },
      "source": [
        "4. Nowa sieć neuronowa z dodaną warstwą dropout (=0.1) i hiperparametrami jak w przykładzie 2."
      ]
    },
    {
      "cell_type": "code",
      "metadata": {
        "colab": {
          "base_uri": "https://localhost:8080/",
          "height": 1000
        },
        "id": "9so7c74163RP",
        "outputId": "1415fb1c-9acd-4505-a9d2-d21bd6612eb9"
      },
      "source": [
        "n_epochs = 5\n",
        "n_iters = n_epochs * n_samples\n",
        "print_every = n_samples // 2\n",
        "plot_every = n_samples // 4\n",
        "hidden_size = 500\n",
        "n_layers = 6\n",
        "lr = 0.001\n",
        "\n",
        "decoder = RNN(n_tokens, hidden_size, n_tokens, n_layers)\n",
        "if USE_GPU:\n",
        "    decoder.cuda()\n",
        "print(decoder, flush=True)\n",
        "\n",
        "decoder_optimizer = torch.optim.Adam(decoder.parameters(), lr=lr)\n",
        "criterion = nn.CrossEntropyLoss()\n",
        "if USE_GPU:\n",
        "    criterion.cuda()\n",
        "\n",
        "all_losses = []\n",
        "loss_avg = 0\n",
        "all_bw = []\n",
        "bw_avg = 0\n",
        "\n",
        "iterable = range(1, n_iters + 1)\n",
        "tqdm_ = tqdm(iterable, '', leave=False, dynamic_ncols=True, mininterval=1.0, ascii=True, miniters=1)\n",
        "first_step = True\n",
        "\n",
        "prime_tok = str2syl2tok('Nauka psa czystości – jak sprawnie nauczyć psa załatwiać się na dworze?')\n",
        "\n",
        "start = time.time()\n",
        "\n",
        "for it in tqdm_:\n",
        "    epoch = 1 + it // n_samples\n",
        "    loss = train(*random_training_set())       \n",
        "    loss_avg += loss\n",
        "\n",
        "    # current loss chart\n",
        "    vis_update_line_chart(vis, 'loss', it, loss, it == 1)\n",
        "\n",
        "    # bad words    \n",
        "    bw = bad_words(evaluate(prime_tok, 100))\n",
        "    bw_avg += bw\n",
        "\n",
        "    # current bad words chart\n",
        "    vis_update_line_chart(vis, 'bad_words', it, bw, it == 1)\n",
        "    \n",
        "    # progress_bar\n",
        "    tqdm_.set_postfix({'epoch': f'{epoch}/{n_epochs}', 'loss': loss, 'bw': bw})\n",
        "    text = f'&nbsp;<font color=\"red\">{tqdm_}</font>'\n",
        "    vis_update_text_win(vis, 'progress_bar', text)\n",
        "\n",
        "    if it % print_every == 0:\n",
        "        e_syl = evaluate(prime_tok, 1000)\n",
        "        e_bw = bad_words(e_syl)\n",
        "        stats_str = '\\n[%s (%d %d %d%%) loss=%.4f bw=%.4f]' % (time_since(start), epoch, it, it / n_iters * 100, loss, e_bw)\n",
        "        print(stats_str)\n",
        "        \n",
        "        e_str = fix_punctuation(decode_tokens(syl2str(e_syl, delim='')))\n",
        "        e_html = format_html(e_str); display(HTML(e_html))\n",
        "        print(flush=True)        \n",
        "        \n",
        "        text = f'<b>{stats_str}</b><br />{e_html}'\n",
        "        vis_update_text_win(vis, 'evaluation', text)\n",
        "        \n",
        "        e_syl_path = tmp_path / 'e_syl.txt'\n",
        "        e_syl_path.open('w').write(' '.join(e_syl))\n",
        "\n",
        "    if it % plot_every == 0:\n",
        "        vis_update_line_chart(vis, 'loss_avg', it, loss_avg / plot_every, first_step)\n",
        "        vis_update_line_chart(vis, 'bad_words_avg', it, bw_avg / plot_every, first_step)\n",
        "        all_bw.append(bw)\n",
        "        bw_avg = 0\n",
        "        first_step = False\n",
        "        all_losses.append(loss_avg / plot_every)\n",
        "        loss_avg = 0\n",
        "\n",
        "plt.figure()\n",
        "plt.plot(all_losses)\n",
        "\n",
        "ALLTOKS, MODEL = ['all_tokens', 'model']\n",
        "fn_zwyczajne_zycie4 = {ALLTOKS: f'all_tokens.n{n_tokens}.zwyczajne-zycie4.p', \n",
        "                  MODEL: f'zwyczajne-zycie4.h{hidden_size}.l{n_layers}.e{n_epochs}.gpu.torch'}\n",
        "fn_dict = fn_zwyczajne_zycie4; fn_dict\n",
        "\n",
        "# save all_tokens\n",
        "all_tokens_path = tmp_path / fn_dict[ALLTOKS]\n",
        "pickle.dump(all_tokens, open(all_tokens_path, 'wb'))\n",
        "\n",
        "warnings.filterwarnings('ignore')\n",
        "\n",
        "# save model\n",
        "model_path = tmp_path / fn_dict[MODEL]\n",
        "torch.save(decoder, model_path)"
      ],
      "execution_count": 54,
      "outputs": [
        {
          "output_type": "stream",
          "text": [
            "RNN(\n",
            "  (encoder): Embedding(5125, 500)\n",
            "  (encoder_dropout): Dropout(p=0.1, inplace=False)\n",
            "  (gru): GRU(500, 500, num_layers=6, dropout=0.1)\n",
            "  (concat): Linear(in_features=1000, out_features=500, bias=True)\n",
            "  (decoder): Linear(in_features=500, out_features=5125, bias=True)\n",
            ")\n"
          ],
          "name": "stdout"
        },
        {
          "output_type": "stream",
          "text": [
            " 10%|9         | 232/2330 [05:01<44:26,  1.27s/it, epoch=1/5, loss=6.27, bw=0.376]"
          ],
          "name": "stderr"
        },
        {
          "output_type": "stream",
          "text": [
            "\n",
            "[5m 1s (1 233 10%) loss=6.2749 bw=0.4351]\n"
          ],
          "name": "stdout"
        },
        {
          "output_type": "display_data",
          "data": {
            "text/html": [
              "Nauka psa czystości – jak sprawnie nauczyć psa załatwiać się na dworze? <font color=\"red\">--</font>ka,. <font color=\"red\">--</font>wie<font color=\"red\">++</font>, w co <font color=\"red\">--</font>paszedł <font color=\"red\">--</font>ką <font color=\"red\">--</font>na <font color=\"red\">--</font>wet do<font color=\"red\">++</font> – wy<font color=\"red\">++</font> na <font color=\"red\">--</font>ki <font color=\"red\">--</font>leżczy<font color=\"red\">++</font> kwe<font color=\"red\">++</font>.:. Czym <font color=\"red\">--</font>No<font color=\"red\">++</font>. <font color=\"red\">--</font>ka<font color=\"red\">++</font> te<font color=\"red\">++</font> a <font color=\"red\">--</font>no<font color=\"red\">++</font> ba<font color=\"red\">++</font> mu<font color=\"red\">++</font> linma że inli \n",
              "<br/>. <font color=\"red\">--</font>jąła <font color=\"red\">--</font>ki nie<font color=\"red\">++</font>. roz<font color=\"red\">++</font> i<font color=\"red\">++</font> <font color=\"red\">--</font>Sta<font color=\"red\">++</font> W Pra<font color=\"red\">++</font> że – <font color=\"red\">--</font>Kręt<font color=\"red\">++</font>, <font color=\"red\">--</font>nie <font color=\"red\">--</font>czu Siat<font color=\"red\">++</font>,, – <font color=\"red\">--</font>cz<font color=\"red\">++</font> Z. za. od<font color=\"red\">++</font> z <font color=\"red\">--</font>wa<font color=\"red\">++</font> się i Nic \n",
              "<br/><font color=\"red\">--</font>den <font color=\"red\">--</font>sza<font color=\"red\">++</font>, <font color=\"red\">--</font>res<font color=\"red\">++</font> ni<font color=\"red\">++</font> obij <font color=\"red\">--</font>parwie \n",
              "<br/><font color=\"red\">--</font>mo ze \n",
              "<br/><font color=\"red\">--</font>Cześ<font color=\"red\">++</font> Ta<font color=\"red\">++</font> spotno ko<font color=\"red\">++</font> O<font color=\"red\">++</font> tery. te<font color=\"red\">++</font> o<font color=\"red\">++</font>, i,, <font color=\"red\">--</font>no<font color=\"red\">++</font>. w że <font color=\"red\">--</font>resnie.., –, O<font color=\"red\">++</font> na \n",
              "<br/><font color=\"red\">--</font>ka <font color=\"red\">--</font>znała pa<font color=\"red\">++</font> – po<font color=\"red\">++</font> Czym.. \n",
              "<br/>, <font color=\"red\">--</font>den \n",
              "<br/>– Za? <font color=\"red\">--</font>cz<font color=\"red\">++</font> \n",
              "<br/>, <font color=\"red\">--</font>ła <font color=\"red\">--</font>do<font color=\"red\">++</font> i. o<font color=\"red\">++</font> u<font color=\"red\">++</font> <font color=\"red\">--</font>Ło <font color=\"red\">--</font>łam <font color=\"red\">--</font>Ski <font color=\"red\">--</font>leso<font color=\"red\">++</font> <font color=\"red\">--</font>Mi, to <font color=\"red\">--</font>Ki<font color=\"red\">++</font> \n",
              "<br/>zanie. o<font color=\"red\">++</font>,. <font color=\"red\">--</font>go \n",
              "<br/>oła. <font color=\"red\">--</font>wnoka<font color=\"red\">++</font> – śpie<font color=\"red\">++</font> z <font color=\"red\">--</font>ło <font color=\"red\">--</font>ka<font color=\"red\">++</font> wrzas<font color=\"red\">++</font> a Ze<font color=\"red\">++</font> pował \n",
              "<br/>Te<font color=\"red\">++</font>,. po<font color=\"red\">++</font> <font color=\"red\">--</font>Cej \n",
              "<br/>wo<font color=\"red\">++</font>., i o<font color=\"red\">++</font> przy<font color=\"red\">++</font> ja<font color=\"red\">++</font>. <font color=\"red\">--</font>ką tam. <font color=\"red\">--</font>s<font color=\"red\">++</font>. <font color=\"red\">--</font>go <font color=\"red\">--</font>dolido<font color=\"red\">++</font>. <font color=\"red\">--</font>rę tewin<font color=\"red\">++</font> <font color=\"red\">--</font>Go <font color=\"red\">--</font>res<font color=\"red\">++</font> Chowa<font color=\"red\">++</font> że byniej<font color=\"red\">++</font> <font color=\"red\">--</font>Ła <font color=\"red\">--</font>czy<font color=\"red\">++</font> tak \n",
              "<br/>na po<font color=\"red\">++</font> po<font color=\"red\">++</font> prze<font color=\"red\">++</font> \n",
              "<br/>roz<font color=\"red\">++</font> teka u<font color=\"red\">++</font> usta<font color=\"red\">++</font> mowe<font color=\"red\">++</font> <font color=\"red\">--</font>Szy <font color=\"red\">--</font>krętła <font color=\"red\">--</font>ką Nie<font color=\"red\">++</font>... tak, na, \n",
              "<br/>Po<font color=\"red\">++</font> \n",
              "<br/><font color=\"red\">--</font>krętniem so<font color=\"red\">++</font>.. nie <font color=\"red\">--</font>ciłam <font color=\"red\">--</font>ka<font color=\"red\">++</font> <font color=\"red\">--</font>Ją któstawastałatarni<font color=\"red\">++</font> sie<font color=\"red\">++</font> a <font color=\"red\">--</font>ła <font color=\"red\">--</font>nieczy <font color=\"red\">--</font>li – orace <font color=\"red\">--</font>den \n",
              "<br/>pro<font color=\"red\">++</font> \n",
              "<br/>tenę. –. \n",
              "<br/>i pokę co. <font color=\"red\">--</font>nie <font color=\"red\">--</font>ła wy<font color=\"red\">++</font> \n",
              "<br/><font color=\"red\">--</font>Cjoła <font color=\"red\">--</font>lika <font color=\"red\">--</font>ła, O<font color=\"red\">++</font> je<font color=\"red\">++</font>, <font color=\"red\">--</font>ła na <font color=\"red\">--</font>mu <font color=\"red\">--</font>jąc <font color=\"red\">--</font>czolę zało wy<font color=\"red\">++</font> i płyni<font color=\"red\">++</font> o<font color=\"red\">++</font> jak <font color=\"red\">--</font>Ment <font color=\"red\">--</font>że<font color=\"red\">++</font> teświet<font color=\"red\">++</font> zwy<font color=\"red\">++</font> wzros<font color=\"red\">++</font> lat i, <font color=\"red\">--</font>mo <font color=\"red\">--</font>ki<font color=\"red\">++</font> Kom<font color=\"red\">++</font>, <font color=\"red\">--</font>Ła. <font color=\"red\">--</font>ła koń<font color=\"red\">++</font> chwili jelić pod pojąc <font color=\"red\">--</font>daczyko <font color=\"red\">--</font>Ła za<font color=\"red\">++</font>. \n",
              "<br/><font color=\"red\">--</font>madział, <font color=\"red\">--</font>zał zała o<font color=\"red\">++</font> drawet pała uguła <font color=\"red\">--</font>siek tego <font color=\"red\">--</font>czor<font color=\"red\">++</font> Niej mruk<font color=\"red\">++</font> \n",
              "<br/>, te<font color=\"red\">++</font> pa<font color=\"red\">++</font>! Ma <font color=\"red\">--</font>ki <font color=\"red\">--</font>ki <font color=\"red\">--</font>cz<font color=\"red\">++</font> podły ze <font color=\"red\">--</font>nie <font color=\"red\">--</font>kobi<font color=\"red\">++</font> \n",
              "<br/>. nie <font color=\"red\">--</font>drowie<font color=\"red\">++</font> mocji nie<font color=\"red\">++</font> Szy<font color=\"red\">++</font> \n",
              "<br/>,. w <font color=\"red\">--</font>krętniene<font color=\"red\">++</font> brała <font color=\"red\">--</font>go to. o<font color=\"red\">++</font> – za Złolut<font color=\"red\">++</font> <font color=\"red\">--</font>Zyjąmy u<font color=\"red\">++</font>, na Zaję <font color=\"red\">--</font>ta. <font color=\"red\">--</font>nie Jest <font color=\"red\">--</font>gle <font color=\"red\">--</font>ko gdzieś. <font color=\"red\">--</font>nie <font color=\"red\">--</font>Ją <font color=\"red\">--</font>kałolep<font color=\"red\">++</font> zdziemal<font color=\"red\">++</font> czym. <font color=\"red\">--</font>makę <font color=\"red\">--</font>Dokiem <font color=\"red\">--</font>bie wi <font color=\"red\">--</font>row<font color=\"red\">++</font> <font color=\"red\">--</font>Ta <font color=\"red\">--</font>go a<font color=\"red\">++</font> to.. <font color=\"red\">--</font>my się. już ja gru<font color=\"red\">++</font> <font color=\"red\">--</font>Wle <font color=\"red\">--</font>t<font color=\"red\">++</font> ko<font color=\"red\">++</font> <font color=\"red\">--</font>Dzo<font color=\"red\">++</font>. <font color=\"red\">--</font>wą tele <font color=\"red\">--</font>wiewsze – –. <font color=\"red\">--</font>Bić <font color=\"red\">--</font>ki nie<font color=\"red\">++</font> \n",
              "<br/><font color=\"red\">--</font>Ne<font color=\"red\">++</font> wy<font color=\"red\">++</font> teło <font color=\"red\">--</font>Wa<font color=\"red\">++</font> \n",
              "<br/>. <font color=\"red\">--</font>w<font color=\"red\">++</font> prze<font color=\"red\">++</font> przy<font color=\"red\">++</font> mu<font color=\"red\">++</font> o – <font color=\"red\">--</font>ka<font color=\"red\">++</font> o<font color=\"red\">++</font> z., <font color=\"red\">--</font>tu<font color=\"red\">++</font> nie<font color=\"red\">++</font> zo<font color=\"red\">++</font> myśce <font color=\"red\">--</font>ła \n",
              "<br/><font color=\"red\">--</font>ło,, Od <font color=\"red\">--</font>ła że <font color=\"red\">--</font>tąd <font color=\"red\">--</font>wa<font color=\"red\">++</font> \n",
              "<br/><font color=\"red\">--</font>ka. <font color=\"red\">--</font>ło <font color=\"red\">--</font>cej <font color=\"red\">--</font>cze nie, <font color=\"red\">--</font>ły <font color=\"red\">--</font>czy<font color=\"red\">++</font>, <font color=\"red\">--</font>wie. <font color=\"red\">--</font>nie <font color=\"red\">--</font>kręt<font color=\"red\">++</font>. za<font color=\"red\">++</font>. <font color=\"red\">--</font>szedł <font color=\"red\">--</font>łą <font color=\"red\">--</font>liko<font color=\"red\">++</font>. zbyt za<font color=\"red\">++</font> chostwo Ży<font color=\"red\">++</font> czym jej od<font color=\"red\">++</font> wyła <font color=\"red\">--</font>czy<font color=\"red\">++</font>.,, tam <font color=\"red\">--</font>kę \n",
              "<br/>– <font color=\"red\">--</font>ka <font color=\"red\">--</font>Wi<font color=\"red\">++</font> Bony <font color=\"red\">--</font>gażce przele I mo<font color=\"red\">++</font> z <font color=\"red\">--</font>li bez<font color=\"red\">++</font> w <font color=\"red\">--</font>go <font color=\"red\">--</font>li <font color=\"red\">--</font>ku<font color=\"red\">++</font>. po. To z nor<font color=\"red\">++</font>. <font color=\"red\">--</font>Pa<font color=\"red\">++</font>, <font color=\"red\">--</font>nie związ<font color=\"red\">++</font>. nie bez –? <font color=\"red\">--</font>ka<font color=\"red\">++</font> nie \n",
              "<br/>Spo<font color=\"red\">++</font> raka po<font color=\"red\">++</font> Odę <font color=\"red\">--</font>cz<font color=\"red\">++</font> – za<font color=\"red\">++</font> o<font color=\"red\">++</font>, <font color=\"red\">--</font>no<font color=\"red\">++</font> z <font color=\"red\">--</font>chał połatko<font color=\"red\">++</font> po<font color=\"red\">++</font> <font color=\"red\">--</font>Raz zwy<font color=\"red\">++</font>. <font color=\"red\">--</font>kręt<font color=\"red\">++</font> o<font color=\"red\">++</font>, Niech <font color=\"red\">--</font>cie tymkręt<font color=\"red\">++</font>. więła <font color=\"red\">--</font>Ba <font color=\"red\">--</font>to<font color=\"red\">++</font> Szko<font color=\"red\">++</font> te<font color=\"red\">++</font> na, <font color=\"red\">--</font>cza<font color=\"red\">++</font> Ale co <font color=\"red\">--</font>ła, szar<font color=\"red\">++</font>,. <font color=\"red\">--</font>dzo <font color=\"red\">--</font>la<font color=\"red\">++</font> blon<font color=\"red\">++</font>,. o<font color=\"red\">++</font>. któku \n",
              "<br/><font color=\"red\">--</font>Zy<font color=\"red\">++</font>, <font color=\"red\">--</font>kę o<font color=\"red\">++</font> ża<font color=\"red\">++</font> zakę <font color=\"red\">--</font>za<font color=\"red\">++</font> o mruk<font color=\"red\">++</font>. tekanym?, wzię<font color=\"red\">++</font>, <font color=\"red\">--</font>mo do<font color=\"red\">++</font> ory to <font color=\"red\">--</font>we <font color=\"red\">--</font>Ła te<font color=\"red\">++</font> \n",
              "<br/>o<font color=\"red\">++</font> znów –, <font color=\"red\">--</font>wró<font color=\"red\">++</font> \n",
              "<br/><font color=\"red\">--</font>nie,. <font color=\"red\">--</font>s<font color=\"red\">++</font> ureszorsz<font color=\"red\">++</font> tylgo sta<font color=\"red\">++</font> swowa<font color=\"red\">++</font> \n",
              "<br/>wszy<font color=\"red\">++</font>. za<font color=\"red\">++</font> rze<font color=\"red\">++</font> zie<font color=\"red\">++</font>. moż<font color=\"red\">++</font> \n",
              "<br/>– że tam <font color=\"red\">--</font>jąkręt<font color=\"red\">++</font> od<font color=\"red\">++</font> <font color=\"red\">--</font>Ła <font color=\"red\">--</font>ka <font color=\"red\">--</font>nie <font color=\"red\">--</font>ła \n",
              "<br/>. <font color=\"red\">--</font>wno<font color=\"red\">++</font> zakoił stwier<font color=\"red\">++</font> wpa<font color=\"red\">++</font>, <font color=\"red\">--</font>nie o<font color=\"red\">++</font> czym ru<font color=\"red\">++</font> Intchnie<font color=\"red\">++</font>, <font color=\"red\">--</font>da so<font color=\"red\">++</font>, – i o<font color=\"red\">++</font> prę<font color=\"red\">++</font> \n",
              "<br/>unym powie<font color=\"red\">++</font> o<font color=\"red\">++</font> To po. <font color=\"red\">--</font>Jrzając rała <font color=\"red\">--</font>lia <font color=\"red\">--</font>Le \n",
              "<br/><font color=\"red\">--</font>nać odasz<font color=\"red\">++</font> przero<font color=\"red\">++</font>. <font color=\"red\">--</font>to<font color=\"red\">++</font> te<font color=\"red\">++</font> <font color=\"red\">--</font>To, <font color=\"red\">--</font>ki zaką do cór<font color=\"red\">++</font>, – <font color=\"red\">--</font>Gó<font color=\"red\">++</font> <font color=\"red\">--</font>Ła <font color=\"red\">--</font>dzi<font color=\"red\">++</font> <font color=\"red\">--</font>Fa. docież <font color=\"red\">--</font>że bo <font color=\"red\">--</font>sko <font color=\"red\">--</font>Resnie na mu<font color=\"red\">++</font> nich na chwi<font color=\"red\">++</font> na<font color=\"red\">++</font> Ale ot<font color=\"red\">++</font> – juwie<font color=\"red\">++</font>. Nieła <font color=\"red\">--</font>Ne \n",
              "<br/>co – \n",
              "<br/>I \n",
              "<br/>co po<font color=\"red\">++</font> już <font color=\"red\">--</font>wieków z <font color=\"red\">--</font>kać. o<font color=\"red\">++</font>, <font color=\"red\">--</font>wa<font color=\"red\">++</font> <font color=\"red\">--</font>Res<font color=\"red\">++</font> szkocz<font color=\"red\">++</font> jak <font color=\"red\">--</font>szła, nie <font color=\"red\">--</font>roli<font color=\"red\">++</font> u<font color=\"red\">++</font> <font color=\"red\">--</font>Resszli<font color=\"red\">++</font>.. <font color=\"red\">--</font>cz<font color=\"red\">++</font> jak <font color=\"red\">--</font>zy<font color=\"red\">++</font> Poza<font color=\"red\">++</font> za<font color=\"red\">++</font>. <font color=\"red\">--</font>ja<font color=\"red\">++</font>. \n",
              "<br/>\n",
              "<br/>\n",
              "<br/>za<font color=\"red\">++</font> onie <font color=\"red\">--</font>wie prze<font color=\"red\">++</font> \n",
              "<br/><font color=\"red\">--</font>No<font color=\"red\">++</font> \n",
              "<br/><font color=\"red\">--</font>ka coś z za<font color=\"red\">++</font>,. <font color=\"red\">--</font>wyto<font color=\"red\">++</font> po<font color=\"red\">++</font> ta<font color=\"red\">++</font> ża<font color=\"red\">++</font> zawiele \n",
              "<br/>, <font color=\"red\">--</font>ryją <font color=\"red\">--</font>ka. \n",
              "<br/>płyła <font color=\"red\">--</font>ło że <font color=\"red\">--</font>co do <font color=\"red\">--</font>cz<font color=\"red\">++</font> \n",
              "<br/>– jest <font color=\"red\">--</font>ny, <font color=\"red\">--</font>nek <font color=\"red\">--</font>Omo, <font color=\"red\">--</font>Chę w. <font color=\"red\">--</font>ki <font color=\"red\">--</font>niacy<font color=\"red\">++</font> nie \n",
              "<br/><font color=\"red\">--</font>wet <font color=\"red\">--</font>ła i,"
            ],
            "text/plain": [
              "<IPython.core.display.HTML object>"
            ]
          },
          "metadata": {
            "tags": []
          }
        },
        {
          "output_type": "stream",
          "text": [
            "\n"
          ],
          "name": "stdout"
        },
        {
          "output_type": "stream",
          "text": [
            " 20%|#9        | 465/2330 [10:02<39:32,  1.27s/it, epoch=2/5, loss=6.09, bw=0.312]"
          ],
          "name": "stderr"
        },
        {
          "output_type": "stream",
          "text": [
            "\n",
            "[10m 2s (2 466 20%) loss=6.0949 bw=0.4234]\n"
          ],
          "name": "stdout"
        },
        {
          "output_type": "display_data",
          "data": {
            "text/html": [
              "Nauka psa czystości – jak sprawnie nauczyć psa załatwiać się na dworze? <font color=\"red\">--</font>Wanoła się <font color=\"red\">--</font>tę o<font color=\"red\">++</font> póź<font color=\"red\">++</font>, <font color=\"red\">--</font>li<font color=\"red\">++</font> po<font color=\"red\">++</font> do<font color=\"red\">++</font> i wię<font color=\"red\">++</font> kucha bar<font color=\"red\">++</font> Te<font color=\"red\">++</font> tedza<font color=\"red\">++</font> \n",
              "<br/>Jak! <font color=\"red\">--</font>wa<font color=\"red\">++</font>, \n",
              "<br/>. ścia<font color=\"red\">++</font> piękże<font color=\"red\">++</font>, <font color=\"red\">--</font>łym <font color=\"red\">--</font>ła o<font color=\"red\">++</font>. zaczaj<font color=\"red\">++</font>, <font color=\"red\">--</font>śdzi isnie, te<font color=\"red\">++</font> naj<font color=\"red\">++</font>. \n",
              "<br/>jak te<font color=\"red\">++</font>! <font color=\"red\">--</font>ko \n",
              "<br/>w ba<font color=\"red\">++</font>, się <font color=\"red\">--</font>nie już wyczy,, ro<font color=\"red\">++</font> na <font color=\"red\">--</font>ją<font color=\"red\">++</font>, myś<font color=\"red\">++</font> nie – zaści <font color=\"red\">--</font>dokę U<font color=\"red\">++</font> I Ale dla, <font color=\"red\">--</font>ła, <font color=\"red\">--</font>jom <font color=\"red\">--</font>my <font color=\"red\">--</font>ją <font color=\"red\">--</font>ści nie wymy Go róce <font color=\"red\">--</font>sz<font color=\"red\">++</font> z podogo!, \n",
              "<br/>wpy<font color=\"red\">++</font> a <font color=\"red\">--</font>go <font color=\"red\">--</font>ny <font color=\"red\">--</font>ły za<font color=\"red\">++</font> – te<font color=\"red\">++</font> przy<font color=\"red\">++</font> a<font color=\"red\">++</font> z nie <font color=\"red\">--</font>t<font color=\"red\">++</font> \n",
              "<br/><font color=\"red\">--</font>ka <font color=\"red\">--</font>le się nie a się w <font color=\"red\">--</font>ne<font color=\"red\">++</font>? się nie a. <font color=\"red\">--</font>wał ty Wo<font color=\"red\">++</font> i <font color=\"red\">--</font>proczka. To mnie że połamyska Nie<font color=\"red\">++</font>, Nie <font color=\"red\">--</font>peł<font color=\"red\">++</font> – tylzy<font color=\"red\">++</font> <font color=\"red\">--</font>Bie <font color=\"red\">--</font>ne inła Ja<font color=\"red\">++</font> po<font color=\"red\">++</font> a <font color=\"red\">--</font>jo<font color=\"red\">++</font> – przy<font color=\"red\">++</font>, wiosnogo<font color=\"red\">++</font> tu! w stół <font color=\"red\">--</font>cu pono<font color=\"red\">++</font>. z <font color=\"red\">--</font>pnę<font color=\"red\">++</font> niene<font color=\"red\">++</font>, <font color=\"red\">--</font>wie <font color=\"red\">--</font>gląła, <font color=\"red\">--</font>Kać <font color=\"red\">--</font>bi<font color=\"red\">++</font> się <font color=\"red\">--</font>nie <font color=\"red\">--</font>bie <font color=\"red\">--</font>ka <font color=\"red\">--</font>że<font color=\"red\">++</font> bo <font color=\"red\">--</font>Chi<font color=\"red\">++</font> O<font color=\"red\">++</font> O<font color=\"red\">++</font> roniwa Roczyć się <font color=\"red\">--</font>star<font color=\"red\">++</font> – <font color=\"red\">--</font>so<font color=\"red\">++</font> nie. któ<font color=\"red\">++</font>., <font color=\"red\">--</font>nie, poła <font color=\"red\">--</font>wi Nie te<font color=\"red\">++</font>. <font color=\"red\">--</font>go <font color=\"red\">--</font>cią<font color=\"red\">++</font> a by<font color=\"red\">++</font> <font color=\"red\">--</font>Dzodać \n",
              "<br/><font color=\"red\">--</font>ją<font color=\"red\">++</font> poła <font color=\"red\">--</font>ca goni… Tele <font color=\"red\">--</font>kole, by<font color=\"red\">++</font> spo<font color=\"red\">++</font> o<font color=\"red\">++</font> moż<font color=\"red\">++</font> <font color=\"red\">--</font>Ne<font color=\"red\">++</font> wzroscia <font color=\"red\">--</font>bie <font color=\"red\">--</font>ków <font color=\"red\">--</font>s<font color=\"red\">++</font> nic <font color=\"red\">--</font>jak ra<font color=\"red\">++</font> \n",
              "<br/>ten miecia owa<font color=\"red\">++</font> \n",
              "<br/>, sa<font color=\"red\">++</font> wyu<font color=\"red\">++</font> są <font color=\"red\">--</font>ku <font color=\"red\">--</font>cił <font color=\"red\">--</font>cze<font color=\"red\">++</font>,, <font color=\"red\">--</font>ło <font color=\"red\">--</font>czy<font color=\"red\">++</font> Niego, – me<font color=\"red\">++</font> ten o<font color=\"red\">++</font> o<font color=\"red\">++</font> Te<font color=\"red\">++</font> wygo o<font color=\"red\">++</font> <font color=\"red\">--</font>Bchipoka już z <font color=\"red\">--</font>ny sała <font color=\"red\">--</font>jęwiek <font color=\"red\">--</font>by – <font color=\"red\">--</font>zy<font color=\"red\">++</font>, że kie<font color=\"red\">++</font> zamie<font color=\"red\">++</font> – że, jakmu, <font color=\"red\">--</font>że <font color=\"red\">--</font>nie <font color=\"red\">--</font>la<font color=\"red\">++</font> – <font color=\"red\">--</font>wa<font color=\"red\">++</font> głó<font color=\"red\">++</font>, wrady. powieres<font color=\"red\">++</font> Do<font color=\"red\">++</font> z <font color=\"red\">--</font>dwó<font color=\"red\">++</font> spogo radu to ale wy<font color=\"red\">++</font>, i <font color=\"red\">--</font>le od<font color=\"red\">++</font>. <font color=\"red\">--</font>go <font color=\"red\">--</font>ło <font color=\"red\">--</font>szli<font color=\"red\">++</font>, się dom., nie <font color=\"red\">--</font>gląli<font color=\"red\">++</font>!, Wyne<font color=\"red\">++</font> przy<font color=\"red\">++</font> – tekręt<font color=\"red\">++</font> pa<font color=\"red\">++</font> Ko<font color=\"red\">++</font> \n",
              "<br/>wy<font color=\"red\">++</font> \n",
              "<br/>o<font color=\"red\">++</font> z <font color=\"red\">--</font>nał nam dał za<font color=\"red\">++</font>? \n",
              "<br/>Ostargo mu<font color=\"red\">++</font>?. <font color=\"red\">--</font>sia <font color=\"red\">--</font>cznu<font color=\"red\">++</font>. za<font color=\"red\">++</font> wyres<font color=\"red\">++</font> \n",
              "<br/>, późgo <font color=\"red\">--</font>cję tłu<font color=\"red\">++</font> – jest jete<font color=\"red\">++</font> – jene<font color=\"red\">++</font> po<font color=\"red\">++</font> spo<font color=\"red\">++</font>, <font color=\"red\">--</font>kun<font color=\"red\">++</font> – <font color=\"red\">--</font>czy<font color=\"red\">++</font> nadzia<font color=\"red\">++</font> już., w <font color=\"red\">--</font>go mi<font color=\"red\">++</font> <font color=\"red\">--</font>Szne<font color=\"red\">++</font> pogor<font color=\"red\">++</font>, \n",
              "<br/><font color=\"red\">--</font>myć barpo<font color=\"red\">++</font>, <font color=\"red\">--</font>Go, \n",
              "<br/>, <font color=\"red\">--</font>ś<font color=\"red\">++</font> – i \n",
              "<br/>nasanie <font color=\"red\">--</font>rią nie <font color=\"red\">--</font>napa<font color=\"red\">++</font> \n",
              "<br/>moż<font color=\"red\">++</font>, po<font color=\"red\">++</font> wy<font color=\"red\">++</font> Ża<font color=\"red\">++</font>, <font color=\"red\">--</font>że<font color=\"red\">++</font> się <font color=\"red\">--</font>wały <font color=\"red\">--</font>ko Paneny o<font color=\"red\">++</font>? nie<font color=\"red\">++</font> niera<font color=\"red\">++</font> – <font color=\"red\">--</font>go to <font color=\"red\">--</font>go, <font color=\"red\">--</font>bi \n",
              "<br/><font color=\"red\">--</font>ny <font color=\"red\">--</font>twy – <font color=\"red\">--</font>da<font color=\"red\">++</font> się <font color=\"red\">--</font>ła – nała… o<font color=\"red\">++</font> \n",
              "<br/>– po<font color=\"red\">++</font> dzi<font color=\"red\">++</font> – <font color=\"red\">--</font>szy że <font color=\"red\">--</font>my, <font color=\"red\">--</font>pó<font color=\"red\">++</font> podleka <font color=\"red\">--</font>dne<font color=\"red\">++</font> <font color=\"red\">--</font>Ka, o<font color=\"red\">++</font> wy<font color=\"red\">++</font> wło<font color=\"red\">++</font>, przeki<font color=\"red\">++</font> opo<font color=\"red\">++</font> a tro<font color=\"red\">++</font> \n",
              "<br/><font color=\"red\">--</font>dą – ka<font color=\"red\">++</font> się, tej przewać po<font color=\"red\">++</font> nie Po<font color=\"red\">++</font>, że <font color=\"red\">--</font>Mi więci<font color=\"red\">++</font> w! rozści Już. mo<font color=\"red\">++</font> zna<font color=\"red\">++</font>, O! Go<font color=\"red\">++</font> posię<font color=\"red\">++</font> <font color=\"red\">--</font>Kim \n",
              "<br/>nie<font color=\"red\">++</font> co <font color=\"red\">--</font>Czlinie… te<font color=\"red\">++</font> stane <font color=\"red\">--</font>nony uglą<font color=\"red\">++</font> o<font color=\"red\">++</font> jak <font color=\"red\">--</font>Ka, dożepad<font color=\"red\">++</font>! i co, blas<font color=\"red\">++</font> o<font color=\"red\">++</font>, zale i <font color=\"red\">--</font>wie <font color=\"red\">--</font>cu <font color=\"red\">--</font>go się,, <font color=\"red\">--</font>Chód!, <font color=\"red\">--</font>dzie<font color=\"red\">++</font> \n",
              "<br/>ko<font color=\"red\">++</font> jak z, <font color=\"red\">--</font>go <font color=\"red\">--</font>Ga <font color=\"red\">--</font>go <font color=\"red\">--</font>cu lipa<font color=\"red\">++</font> – co o<font color=\"red\">++</font>, Wy<font color=\"red\">++</font> a <font color=\"red\">--</font>mys<font color=\"red\">++</font> oba go <font color=\"red\">--</font>ka nie <font color=\"red\">--</font>sa<font color=\"red\">++</font> co – <font color=\"red\">--</font>te<font color=\"red\">++</font>, <font color=\"red\">--</font>liwie<font color=\"red\">++</font> nie o<font color=\"red\">++</font>, <font color=\"red\">--</font>mie<font color=\"red\">++</font> rzu<font color=\"red\">++</font>, <font color=\"red\">--</font>togę nie<font color=\"red\">++</font> –! <font color=\"red\">--</font>ś<font color=\"red\">++</font> to, – <font color=\"red\">--</font>le<font color=\"red\">++</font>, <font color=\"red\">--</font>wawy, – <font color=\"red\">--</font>nie z? prze<font color=\"red\">++</font>. <font color=\"red\">--</font>we ro<font color=\"red\">++</font> to <font color=\"red\">--</font>koi<font color=\"red\">++</font>. po oką <font color=\"red\">--</font>raz <font color=\"red\">--</font>rzchninie <font color=\"red\">--</font>kazy<font color=\"red\">++</font> że <font color=\"red\">--</font>cza<font color=\"red\">++</font> \n",
              "<br/><font color=\"red\">--</font>niaka \n",
              "<br/><font color=\"red\">--</font>stkę nie! ro<font color=\"red\">++</font> się <font color=\"red\">--</font>cję ro<font color=\"red\">++</font> dzięcy o<font color=\"red\">++</font> Jak, jej <font color=\"red\">--</font>mia<font color=\"red\">++</font> po<font color=\"red\">++</font>,, powa<font color=\"red\">++</font> <font color=\"red\">--</font>Ła <font color=\"red\">--</font>wie po<font color=\"red\">++</font>?., <font color=\"red\">--</font>pogo. <font color=\"red\">--</font>my nie., to, \n",
              "<br/>za<font color=\"red\">++</font> u<font color=\"red\">++</font> u<font color=\"red\">++</font>, <font color=\"red\">--</font>Wał <font color=\"red\">--</font>le \n",
              "<br/>. się <font color=\"red\">--</font>wa<font color=\"red\">++</font>, i wy<font color=\"red\">++</font>, sowy. <font color=\"red\">--</font>Wy<font color=\"red\">++</font> słyniosmart<font color=\"red\">++</font> i, a<font color=\"red\">++</font> \n",
              "<br/><font color=\"red\">--</font>żego So<font color=\"red\">++</font> prze<font color=\"red\">++</font> ci <font color=\"red\">--</font>ne… Bez<font color=\"red\">++</font> o<font color=\"red\">++</font> na <font color=\"red\">--</font>Dy<font color=\"red\">++</font> bab<font color=\"red\">++</font>, <font color=\"red\">--</font>dzi<font color=\"red\">++</font> pochu <font color=\"red\">--</font>w<font color=\"red\">++</font> swoim,. <font color=\"red\">--</font>co<font color=\"red\">++</font> te<font color=\"red\">++</font> – zbajamo<font color=\"red\">++</font> to? on Się, <font color=\"red\">--</font>czej <font color=\"red\">--</font>li<font color=\"red\">++</font> \n",
              "<br/>się mil<font color=\"red\">++</font> wykiem <font color=\"red\">--</font>ści <font color=\"red\">--</font>go spra<font color=\"red\">++</font> nas wywal<font color=\"red\">++</font> – <font color=\"red\">--</font>wanie \n",
              "<br/><font color=\"red\">--</font>rych się <font color=\"red\">--</font>piń<font color=\"red\">++</font> to <font color=\"red\">--</font>szek Się <font color=\"red\">--</font>pad<font color=\"red\">++</font>, <font color=\"red\">--</font>le <font color=\"red\">--</font>wa<font color=\"red\">++</font> Tak złoło mo<font color=\"red\">++</font> ogo te<font color=\"red\">++</font> czymś sztuny <font color=\"red\">--</font>bie dziel<font color=\"red\">++</font> wyczy<font color=\"red\">++</font> \n",
              "<br/><font color=\"red\">--</font>sz<font color=\"red\">++</font> Wy<font color=\"red\">++</font> lub kilka –., przymy <font color=\"red\">--</font>go <font color=\"red\">--</font>ki <font color=\"red\">--</font>le zoda<font color=\"red\">++</font> Tab<font color=\"red\">++</font> \n",
              "<br/>na, miemo<font color=\"red\">++</font> się po<font color=\"red\">++</font> <font color=\"red\">--</font>Sz<font color=\"red\">++</font> żyć <font color=\"red\">--</font>ry z <font color=\"red\">--</font>my, o<font color=\"red\">++</font> i <font color=\"red\">--</font>ressta<font color=\"red\">++</font> że <font color=\"red\">--</font>wy wiemer <font color=\"red\">--</font>ło \n",
              "<br/><font color=\"red\">--</font>dy Na jeły W z od<font color=\"red\">++</font> pomiacze<font color=\"red\">++</font> nad<font color=\"red\">++</font>, <font color=\"red\">--</font>by po <font color=\"red\">--</font>kwine<font color=\"red\">++</font> zania o<font color=\"red\">++</font>?., przy by<font color=\"red\">++</font>, nie, \n",
              "<br/>! się. <font color=\"red\">--</font>Rzudzior, się? – \n",
              "<br/><font color=\"red\">--</font>czy, <font color=\"red\">--</font>sze <font color=\"red\">--</font>ło \n",
              "<br/><font color=\"red\">--</font>go, wy<font color=\"red\">++</font> co <font color=\"red\">--</font>dził nie, o<font color=\"red\">++</font>. ale <font color=\"red\">--</font>kim o<font color=\"red\">++</font>, <font color=\"red\">--</font>krętka \n",
              "<br/><font color=\"red\">--</font>no<font color=\"red\">++</font>, <font color=\"red\">--</font>ki po<font color=\"red\">++</font> po<font color=\"red\">++</font> ge<font color=\"red\">++</font> \n",
              "<br/>i <font color=\"red\">--</font>Chyl<font color=\"red\">++</font> jak<font color=\"red\">++</font> – <font color=\"red\">--</font>wninego u za a. <font color=\"red\">--</font>łeś <font color=\"red\">--</font>dze sadaka <font color=\"red\">--</font>rem z jak <font color=\"red\">--</font>dymu<font color=\"red\">++</font>! <font color=\"red\">--</font>Tegra<font color=\"red\">++</font>. tam ska<font color=\"red\">++</font> wy<font color=\"red\">++</font>, <font color=\"red\">--</font>star<font color=\"red\">++</font> te<font color=\"red\">++</font> i – o<font color=\"red\">++</font> sa<font color=\"red\">++</font> jej <font color=\"red\">--</font>ścia <font color=\"red\">--</font>go zago <font color=\"red\">--</font>go"
            ],
            "text/plain": [
              "<IPython.core.display.HTML object>"
            ]
          },
          "metadata": {
            "tags": []
          }
        },
        {
          "output_type": "stream",
          "text": [
            "\n"
          ],
          "name": "stdout"
        },
        {
          "output_type": "stream",
          "text": [
            " 30%|##9       | 698/2330 [15:04<35:51,  1.32s/it, epoch=2/5, loss=6.03, bw=0.288]"
          ],
          "name": "stderr"
        },
        {
          "output_type": "stream",
          "text": [
            "\n",
            "[15m 4s (2 699 30%) loss=6.0328 bw=0.4615]\n"
          ],
          "name": "stdout"
        },
        {
          "output_type": "display_data",
          "data": {
            "text/html": [
              "Nauka psa czystości – jak sprawnie nauczyć psa załatwiać się na dworze? i <font color=\"red\">--</font>pór <font color=\"red\">--</font>rządnie <font color=\"red\">--</font>szłym <font color=\"red\">--</font>py<font color=\"red\">++</font>.. <font color=\"red\">--</font>cho<font color=\"red\">++</font> po<font color=\"red\">++</font>. <font color=\"red\">--</font>ła <font color=\"red\">--</font>go inście <font color=\"red\">--</font>sta<font color=\"red\">++</font> jest <font color=\"red\">--</font>dyguś u niewać do<font color=\"red\">++</font> je<font color=\"red\">++</font> w <font color=\"red\">--</font>cy mi w dzie<font color=\"red\">++</font> pała jakwe<font color=\"red\">++</font> za<font color=\"red\">++</font>. <font color=\"red\">--</font>dzie<font color=\"red\">++</font>., nie pa<font color=\"red\">++</font> wy<font color=\"red\">++</font> \n",
              "<br/>doraz Ale ty ją pewa na<font color=\"red\">++</font> o<font color=\"red\">++</font>.. <font color=\"red\">--</font>w<font color=\"red\">++</font>! <font color=\"red\">--</font>resgo Po<font color=\"red\">++</font> –! <font color=\"red\">--</font>Na. na <font color=\"red\">--</font>Gą nie <font color=\"red\">--</font>ły ty <font color=\"red\">--</font>ła <font color=\"red\">--</font>da<font color=\"red\">++</font> – <font color=\"red\">--</font>ka <font color=\"red\">--</font>ła <font color=\"red\">--</font>dzia<font color=\"red\">++</font>. <font color=\"red\">--</font>ny –. wydzie<font color=\"red\">++</font> do<font color=\"red\">++</font>, pykimś bu<font color=\"red\">++</font> nie Oquil<font color=\"red\">++</font> chwizo<font color=\"red\">++</font> Co <font color=\"red\">--</font>ga<font color=\"red\">++</font> ma<font color=\"red\">++</font>, <font color=\"red\">--</font>stkę ty<font color=\"red\">++</font> nienym Na<font color=\"red\">++</font> to, pata. O<font color=\"red\">++</font> je w – <font color=\"red\">--</font>by,, się., <font color=\"red\">--</font>ły ale tu. <font color=\"red\">--</font>pokoję<font color=\"red\">++</font>. \n",
              "<br/>du<font color=\"red\">++</font> głore<font color=\"red\">++</font> pa<font color=\"red\">++</font> o<font color=\"red\">++</font> związły \n",
              "<br/><font color=\"red\">--</font>rą <font color=\"red\">--</font>mów <font color=\"red\">--</font>czyto<font color=\"red\">++</font> w \n",
              "<br/><font color=\"red\">--</font>cha<font color=\"red\">++</font> z <font color=\"red\">--</font>ko<font color=\"red\">++</font> I <font color=\"red\">--</font>wie<font color=\"red\">++</font> nie <font color=\"red\">--</font>ka i \n",
              "<br/><font color=\"red\">--</font>dzie <font color=\"red\">--</font>go \n",
              "<br/>\n",
              "<br/>\n",
              "<br/><font color=\"red\">--</font>jal<font color=\"red\">++</font> sie<font color=\"red\">++</font> a się, \n",
              "<br/>po<font color=\"red\">++</font>.,! tylpadnie <font color=\"red\">--</font>liwa<font color=\"red\">++</font> i po<font color=\"red\">++</font> po<font color=\"red\">++</font>. gar<font color=\"red\">++</font>, <font color=\"red\">--</font>Sien<font color=\"red\">++</font> by ro<font color=\"red\">++</font> pod<font color=\"red\">++</font>. iść \n",
              "<br/>, o<font color=\"red\">++</font> jak <font color=\"red\">--</font>tą <font color=\"red\">--</font>ż<font color=\"red\">++</font> odś<font color=\"red\">++</font> co <font color=\"red\">--</font>łoła <font color=\"red\">--</font>W<font color=\"red\">++</font> \n",
              "<br/>\n",
              "<br/>co \n",
              "<br/>\n",
              "<br/>pa<font color=\"red\">++</font> – dru<font color=\"red\">++</font> nało z <font color=\"red\">--</font>wie<font color=\"red\">++</font> py<font color=\"red\">++</font>. się <font color=\"red\">--</font>strzypa<font color=\"red\">++</font> stół, <font color=\"red\">--</font>chem do <font color=\"red\">--</font>go<font color=\"red\">++</font> moż<font color=\"red\">++</font> się, <font color=\"red\">--</font>Da<font color=\"red\">++</font> do <font color=\"red\">--</font>ku. <font color=\"red\">--</font>in<font color=\"red\">++</font>, <font color=\"red\">--</font>rem prze<font color=\"red\">++</font> tym Się nie<font color=\"red\">++</font> prze<font color=\"red\">++</font> się unia <font color=\"red\">--</font>gą tyl<font color=\"red\">++</font>. i uwró<font color=\"red\">++</font> <font color=\"red\">--</font>Ła <font color=\"red\">--</font>bastakać oszy <font color=\"red\">--</font>bate<font color=\"red\">++</font> od \n",
              "<br/>Te<font color=\"red\">++</font> bez wy<font color=\"red\">++</font> te<font color=\"red\">++</font> cody mog<font color=\"red\">++</font> jenie zę<font color=\"red\">++</font> na <font color=\"red\">--</font>bym je <font color=\"red\">--</font>res<font color=\"red\">++</font> i <font color=\"red\">--</font>bole<font color=\"red\">++</font>, to Teno U<font color=\"red\">++</font> Dla<font color=\"red\">++</font> wiem Nie<font color=\"red\">++</font> pópaszych ża<font color=\"red\">++</font>. wysiszę <font color=\"red\">--</font>sia tecji <font color=\"red\">--</font>bie ona <font color=\"red\">--</font>leps<font color=\"red\">++</font> z się \n",
              "<br/>na <font color=\"red\">--</font>Czetacja poła \n",
              "<br/><font color=\"red\">--</font>lep<font color=\"red\">++</font> Już Ta<font color=\"red\">++</font> zamy <font color=\"red\">--</font>D<font color=\"red\">++</font> po sztuk <font color=\"red\">--</font>ni <font color=\"red\">--</font>dymy \n",
              "<br/><font color=\"red\">--</font>li<font color=\"red\">++</font>, Po<font color=\"red\">++</font> wpół <font color=\"red\">--</font>tą rami<font color=\"red\">++</font> nieklękdziany <font color=\"red\">--</font>cz<font color=\"red\">++</font> – i <font color=\"red\">--</font>nie <font color=\"red\">--</font>po<font color=\"red\">++</font> nie<font color=\"red\">++</font> i <font color=\"red\">--</font>łem... –. <font color=\"red\">--</font>tworła we<font color=\"red\">++</font> Czy<font color=\"red\">++</font> po<font color=\"red\">++</font> że tym <font color=\"red\">--</font>ła <font color=\"red\">--</font>trów <font color=\"red\">--</font>le mam w nie<font color=\"red\">++</font> nata, się <font color=\"red\">--</font>ku. <font color=\"red\">--</font>ko <font color=\"red\">--</font>Dzi <font color=\"red\">--</font>ta wysza<font color=\"red\">++</font> ty gło<font color=\"red\">++</font> –, <font color=\"red\">--</font>cho<font color=\"red\">++</font> się drzew<font color=\"red\">++</font> jak. <font color=\"red\">--</font>ła nie to <font color=\"red\">--</font>ła, nie <font color=\"red\">--</font>do<font color=\"red\">++</font> przy<font color=\"red\">++</font> \n",
              "<br/><font color=\"red\">--</font>bie nim <font color=\"red\">--</font>ną o<font color=\"red\">++</font> u<font color=\"red\">++</font> wyż<font color=\"red\">++</font>.,, <font color=\"red\">--</font>ły <font color=\"red\">--</font>ło <font color=\"red\">--</font>po<font color=\"red\">++</font> wy<font color=\"red\">++</font> nie. <font color=\"red\">--</font>ce i du<font color=\"red\">++</font> po<font color=\"red\">++</font>.. <font color=\"red\">--</font>tem, Sło<font color=\"red\">++</font> \n",
              "<br/><font color=\"red\">--</font>ka <font color=\"red\">--</font>mie<font color=\"red\">++</font> piękła <font color=\"red\">--</font>ła <font color=\"red\">--</font>Te<font color=\"red\">++</font>. <font color=\"red\">--</font>ni<font color=\"red\">++</font> po<font color=\"red\">++</font> <font color=\"red\">--</font>Ła <font color=\"red\">--</font>rząd<font color=\"red\">++</font>. <font color=\"red\">--</font>si zaś.. <font color=\"red\">--</font>ła <font color=\"red\">--</font>wi<font color=\"red\">++</font> nie – <font color=\"red\">--</font>res<font color=\"red\">++</font> i <font color=\"red\">--</font>czy dzię<font color=\"red\">++</font> \n",
              "<br/>rozka, <font color=\"red\">--</font>wimy sie<font color=\"red\">++</font>, je drzwi <font color=\"red\">--</font>trzył <font color=\"red\">--</font>ły <font color=\"red\">--</font>ła je i <font color=\"red\">--</font>Do<font color=\"red\">++</font> co <font color=\"red\">--</font>nie <font color=\"red\">--</font>ko<font color=\"red\">++</font> –, <font color=\"red\">--</font>d<font color=\"red\">++</font> ta<font color=\"red\">++</font>, \n",
              "<br/>się te<font color=\"red\">++</font> tych świat <font color=\"red\">--</font>bisem zna<font color=\"red\">++</font>. nie<font color=\"red\">++</font> z <font color=\"red\">--</font>da<font color=\"red\">++</font> tych coś za <font color=\"red\">--</font>by <font color=\"red\">--</font>sem z nie \n",
              "<br/><font color=\"red\">--</font>czuł nie<font color=\"red\">++</font> – te<font color=\"red\">++</font> gło<font color=\"red\">++</font> świat dość dzie<font color=\"red\">++</font>... <font color=\"red\">--</font>cz<font color=\"red\">++</font> <font color=\"red\">--</font>Wieźć i <font color=\"red\">--</font>ka<font color=\"red\">++</font> nic <font color=\"red\">--</font>ni<font color=\"red\">++</font> Tynia <font color=\"red\">--</font>czy na <font color=\"red\">--</font>nych <font color=\"red\">--</font>me \n",
              "<br/>i ich <font color=\"red\">--</font>le<font color=\"red\">++</font> \n",
              "<br/><font color=\"red\">--</font>ka pa<font color=\"red\">++</font> Nie <font color=\"red\">--</font>bie <font color=\"red\">--</font>ka –. <font color=\"red\">--</font>wo<font color=\"red\">++</font> nie<font color=\"red\">++</font> poła na – <font color=\"red\">--</font>ki! \n",
              "<br/>Się?, <font color=\"red\">--</font>chło. <font color=\"red\">--</font>nym Sztuk – <font color=\"red\">--</font>na <font color=\"red\">--</font>ła podła, się <font color=\"red\">--</font>sem w <font color=\"red\">--</font>ły <font color=\"red\">--</font>cha<font color=\"red\">++</font> wy<font color=\"red\">++</font> nie<font color=\"red\">++</font> na <font color=\"red\">--</font>dziła i <font color=\"red\">--</font>ku<font color=\"red\">++</font> męssze, <font color=\"red\">--</font>Ły \n",
              "<br/><font color=\"red\">--</font>czy ok<font color=\"red\">++</font> \n",
              "<br/>\n",
              "<br/>\n",
              "<br/><font color=\"red\">--</font>ci<font color=\"red\">++</font> \n",
              "<br/>, Mi <font color=\"red\">--</font>cić zdewo<font color=\"red\">++</font> <font color=\"red\">--</font>Jeż<font color=\"red\">++</font> Się <font color=\"red\">--</font>La<font color=\"red\">++</font> innia i tchu jej <font color=\"red\">--</font>rzy<font color=\"red\">++</font>, w, – \n",
              "<br/><font color=\"red\">--</font>Po<font color=\"red\">++</font> Po<font color=\"red\">++</font> młoła \n",
              "<br/><font color=\"red\">--</font>ko<font color=\"red\">++</font> \n",
              "<br/>, <font color=\"red\">--</font>re<font color=\"red\">++</font> Do<font color=\"red\">++</font> z Nieśmianiec. \n",
              "<br/><font color=\"red\">--</font>Cz<font color=\"red\">++</font> mo<font color=\"red\">++</font> <font color=\"red\">--</font>Go się <font color=\"red\">--</font>da<font color=\"red\">++</font> \n",
              "<br/>, \n",
              "<br/><font color=\"red\">--</font>stań kona <font color=\"red\">--</font>ne<font color=\"red\">++</font> \n",
              "<br/><font color=\"red\">--</font>li <font color=\"red\">--</font>Kichś \n",
              "<br/><font color=\"red\">--</font>bie<font color=\"red\">++</font> \n",
              "<br/>? poby <font color=\"red\">--</font>ła <font color=\"red\">--</font>ko<font color=\"red\">++</font> wiejąc <font color=\"red\">--</font>guś. <font color=\"red\">--</font>Wły <font color=\"red\">--</font>ny <font color=\"red\">--</font>wać. nie <font color=\"red\">--</font>zem wy<font color=\"red\">++</font>, <font color=\"red\">--</font>dasia niż wo<font color=\"red\">++</font> i <font color=\"red\">--</font>by rora <font color=\"red\">--</font>ły by<font color=\"red\">++</font> o<font color=\"red\">++</font> –. <font color=\"red\">--</font>Ga, włos pożył, ja<font color=\"red\">++</font> teko<font color=\"red\">++</font> się <font color=\"red\">--</font>mniej podchi<font color=\"red\">++</font>. te<font color=\"red\">++</font> o<font color=\"red\">++</font> rodzie. tu możwoczy dosta<font color=\"red\">++</font> \n",
              "<br/><font color=\"red\">--</font>czeń<font color=\"red\">++</font> wie<font color=\"red\">++</font> mia<font color=\"red\">++</font> \n",
              "<br/><font color=\"red\">--</font>Cę nam <font color=\"red\">--</font>nie <font color=\"red\">--</font>ła zoła \n",
              "<br/>rę<font color=\"red\">++</font> się <font color=\"red\">--</font>wilo<font color=\"red\">++</font> dłuwo, od<font color=\"red\">++</font> z. ten <font color=\"red\">--</font>czy<font color=\"red\">++</font> się to z <font color=\"red\">--</font>nia jeka By<font color=\"red\">++</font> u<font color=\"red\">++</font> \n",
              "<br/><font color=\"red\">--</font>jąc <font color=\"red\">--</font>łu <font color=\"red\">--</font>ła <font color=\"red\">--</font>mojąc o<font color=\"red\">++</font> je<font color=\"red\">++</font> za<font color=\"red\">++</font>, <font color=\"red\">--</font>ce <font color=\"red\">--</font>rzy <font color=\"red\">--</font>ła <font color=\"red\">--</font>ło<font color=\"red\">++</font> ma <font color=\"red\">--</font>dzi do<font color=\"red\">++</font> po<font color=\"red\">++</font> wszymyś<font color=\"red\">++</font> \n",
              "<br/>odni te<font color=\"red\">++</font> roz<font color=\"red\">++</font> – i<font color=\"red\">++</font>. dobi… co z od<font color=\"red\">++</font> dodzam <font color=\"red\">--</font>na <font color=\"red\">--</font>roś<font color=\"red\">++</font> Ro<font color=\"red\">++</font> z! <font color=\"red\">--</font>schu? <font color=\"red\">--</font>dział wieka<font color=\"red\">++</font> nie co <font color=\"red\">--</font>na. <font color=\"red\">--</font>nie Spy<font color=\"red\">++</font> w <font color=\"red\">--</font>res<font color=\"red\">++</font>, <font color=\"red\">--</font>rze<font color=\"red\">++</font> z się <font color=\"red\">--</font>la<font color=\"red\">++</font> <font color=\"red\">--</font>Dny je<font color=\"red\">++</font> po<font color=\"red\">++</font> co kręt<font color=\"red\">++</font> za<font color=\"red\">++</font> I wyka <font color=\"red\">--</font>sie<font color=\"red\">++</font>, <font color=\"red\">--</font>w<font color=\"red\">++</font> znaczepełkrętdzi<font color=\"red\">++</font>? <font color=\"red\">--</font>ła <font color=\"red\">--</font>łe<font color=\"red\">++</font> się <font color=\"red\">--</font>na głucej rozwabie <font color=\"red\">--</font>Ły <font color=\"red\">--</font>ż<font color=\"red\">++</font> byją<font color=\"red\">++</font> i <font color=\"red\">--</font>by zdzi<font color=\"red\">++</font> to je<font color=\"red\">++</font> mi<font color=\"red\">++</font> tym <font color=\"red\">--</font>ły wiena <font color=\"red\">--</font>go two<font color=\"red\">++</font>, sko<font color=\"red\">++</font> stra<font color=\"red\">++</font> nie niecho<font color=\"red\">++</font>, <font color=\"red\">--</font>sztem <font color=\"red\">--</font>nej przy bia<font color=\"red\">++</font> – <font color=\"red\">--</font>Rząd<font color=\"red\">++</font> w <font color=\"red\">--</font>Cie ob<font color=\"red\">++</font> nim \n",
              "<br/>pa<font color=\"red\">++</font> wy<font color=\"red\">++</font> o<font color=\"red\">++</font> mo<font color=\"red\">++</font> szlag – na I po<font color=\"red\">++</font> <font color=\"red\">--</font>Plinił <font color=\"red\">--</font>ka <font color=\"red\">--</font>wą \n",
              "<br/><font color=\"red\">--</font>by je. szop gło<font color=\"red\">++</font> ona po<font color=\"red\">++</font> nie<font color=\"red\">++</font> one. <font color=\"red\">--</font>me <font color=\"red\">--</font>ki <font color=\"red\">--</font>ko<font color=\"red\">++</font>! <font color=\"red\">--</font>ła –! <font color=\"red\">--</font>ły, <font color=\"red\">--</font>ju bra<font color=\"red\">++</font> onie zanie <font color=\"red\">--</font>nym <font color=\"red\">--</font>nia so<font color=\"red\">++</font> jak tę o<font color=\"red\">++</font>. i.. chłoła zbyt <font color=\"red\">--</font>go sto<font color=\"red\">++</font>, jej <font color=\"red\">--</font>columb \n",
              "<br/>, <font color=\"red\">--</font>ki <font color=\"red\">--</font>ników Do <font color=\"red\">--</font>niem dzi<font color=\"red\">++</font> tym <font color=\"red\">--</font>ło<font color=\"red\">++</font> wyjaś<font color=\"red\">++</font> \n",
              "<br/>z! <font color=\"red\">--</font>nie bysem <font color=\"red\">--</font>ko. <font color=\"red\">--</font>sobtał <font color=\"red\">--</font>cze <font color=\"red\">--</font>ga <font color=\"red\">--</font>guś o<font color=\"red\">++</font> Tewar <font color=\"red\">--</font>wą się co je<font color=\"red\">++</font> <font color=\"red\">--</font>Ła po<font color=\"red\">++</font> babplączył <font color=\"red\">--</font>to<font color=\"red\">++</font> nie <font color=\"red\">--</font>wać <font color=\"red\">--</font>go. i I.. <font color=\"red\">--</font>mar<font color=\"red\">++</font> miaka <font color=\"red\">--</font>sów <font color=\"red\">--</font>nie <font color=\"red\">--</font>zu –"
            ],
            "text/plain": [
              "<IPython.core.display.HTML object>"
            ]
          },
          "metadata": {
            "tags": []
          }
        },
        {
          "output_type": "stream",
          "text": [
            "\n"
          ],
          "name": "stdout"
        },
        {
          "output_type": "stream",
          "text": [
            " 40%|###9      | 931/2330 [20:09<30:31,  1.31s/it, epoch=3/5, loss=6.54, bw=0.312]"
          ],
          "name": "stderr"
        },
        {
          "output_type": "stream",
          "text": [
            "\n",
            "[20m 10s (3 932 40%) loss=6.5355 bw=0.3951]\n"
          ],
          "name": "stdout"
        },
        {
          "output_type": "display_data",
          "data": {
            "text/html": [
              "Nauka psa czystości – jak sprawnie nauczyć psa załatwiać się na dworze? <font color=\"red\">--</font>kę… Te<font color=\"red\">++</font> moła po <font color=\"red\">--</font>chem – <font color=\"red\">--</font>słu<font color=\"red\">++</font>, nie \n",
              "<br/>\n",
              "<br/>Wy<font color=\"red\">++</font> Co<font color=\"red\">++</font> jak... Na \n",
              "<br/>nie – te<font color=\"red\">++</font> sztu<font color=\"red\">++</font> przy<font color=\"red\">++</font>., i <font color=\"red\">--</font>mi<font color=\"red\">++</font>,, te<font color=\"red\">++</font> \n",
              "<br/>wy<font color=\"red\">++</font> że nie <font color=\"red\">--</font>pa<font color=\"red\">++</font> prze<font color=\"red\">++</font> \n",
              "<br/><font color=\"red\">--</font>ni<font color=\"red\">++</font> kar<font color=\"red\">++</font> wy<font color=\"red\">++</font> wy<font color=\"red\">++</font>, na \n",
              "<br/>do, <font color=\"red\">--</font>nie, <font color=\"red\">--</font>cz<font color=\"red\">++</font> ba<font color=\"red\">++</font> – ra<font color=\"red\">++</font>, –, ra<font color=\"red\">++</font> <font color=\"red\">--</font>Sz<font color=\"red\">++</font>. \n",
              "<br/>na <font color=\"red\">--</font>ra palcych nie sadzie <font color=\"red\">--</font>nobie – <font color=\"red\">--</font>ły, że \n",
              "<br/>– <font color=\"red\">--</font>go <font color=\"red\">--</font>szy u<font color=\"red\">++</font> bęres<font color=\"red\">++</font> tu rę<font color=\"red\">++</font> – pa<font color=\"red\">++</font> jez<font color=\"red\">++</font> masz się \n",
              "<br/>\n",
              "<br/>, <font color=\"red\">--</font>ką,. \n",
              "<br/>po<font color=\"red\">++</font> \n",
              "<br/>ro<font color=\"red\">++</font> \n",
              "<br/>. <font color=\"red\">--</font>wo<font color=\"red\">++</font>, <font color=\"red\">--</font>kota <font color=\"red\">--</font>dy \n",
              "<br/><font color=\"red\">--</font>dwócej \n",
              "<br/>rao<font color=\"red\">++</font> za roz<font color=\"red\">++</font> Ba<font color=\"red\">++</font> Nadnie by<font color=\"red\">++</font>. Wy<font color=\"red\">++</font> po,. <font color=\"red\">--</font>Kuła –. <font color=\"red\">--</font>ro<font color=\"red\">++</font> a<font color=\"red\">++</font> zaw<font color=\"red\">++</font> po<font color=\"red\">++</font> do \n",
              "<br/><font color=\"red\">--</font>wenie <font color=\"red\">--</font>li<font color=\"red\">++</font> po<font color=\"red\">++</font>. <font color=\"red\">--</font>dwa<font color=\"red\">++</font> \n",
              "<br/>ko<font color=\"red\">++</font> \n",
              "<br/>. Po<font color=\"red\">++</font> od o<font color=\"red\">++</font> wiała, <font color=\"red\">--</font>le po<font color=\"red\">++</font>, \n",
              "<br/><font color=\"red\">--</font>czy<font color=\"red\">++</font>, sługo, – \n",
              "<br/>. <font color=\"red\">--</font>szła <font color=\"red\">--</font>Nu<font color=\"red\">++</font>, \n",
              "<br/>tym \n",
              "<br/>je<font color=\"red\">++</font> z nie \n",
              "<br/><font color=\"red\">--</font>czaj<font color=\"red\">++</font> Ra<font color=\"red\">++</font>. – \n",
              "<br/>wró<font color=\"red\">++</font> i <font color=\"red\">--</font>szlo<font color=\"red\">++</font> <font color=\"red\">--</font>Dzić stro<font color=\"red\">++</font> \n",
              "<br/>. jak te<font color=\"red\">++</font> na <font color=\"red\">--</font>kręt<font color=\"red\">++</font>, <font color=\"red\">--</font>jrzał <font color=\"red\">--</font>wanie w <font color=\"red\">--</font>Wa<font color=\"red\">++</font> dru<font color=\"red\">++</font> od<font color=\"red\">++</font>. wię<font color=\"red\">++</font> Się <font color=\"red\">--</font>nie zanie ni<font color=\"red\">++</font>! <font color=\"red\">--</font>Po<font color=\"red\">++</font> <font color=\"red\">--</font>Mknąć \n",
              "<br/>ja<font color=\"red\">++</font>. <font color=\"red\">--</font>cz<font color=\"red\">++</font> My<font color=\"red\">++</font> Ra<font color=\"red\">++</font> nie <font color=\"red\">--</font>t<font color=\"red\">++</font> Na? \n",
              "<br/>\n",
              "<br/>i ula<font color=\"red\">++</font> \n",
              "<br/>tylka O<font color=\"red\">++</font> nie <font color=\"red\">--</font>ku<font color=\"red\">++</font>, <font color=\"red\">--</font>da<font color=\"red\">++</font> na<font color=\"red\">++</font> – ja<font color=\"red\">++</font> <font color=\"red\">--</font>Dy<font color=\"red\">++</font> niech Z ciot<font color=\"red\">++</font> – <font color=\"red\">--</font>fia<font color=\"red\">++</font>. \n",
              "<br/>Właszy nie, jest \n",
              "<br/>\n",
              "<br/>ba<font color=\"red\">++</font> wo<font color=\"red\">++</font>. im <font color=\"red\">--</font>nie baście gra<font color=\"red\">++</font> \n",
              "<br/>–, <font color=\"red\">--</font>nął <font color=\"red\">--</font>ła. \n",
              "<br/>, <font color=\"red\">--</font>dy <font color=\"red\">--</font>ty u<font color=\"red\">++</font> <font color=\"red\">--</font>Pą. na. o<font color=\"red\">++</font>.. – <font color=\"red\">--</font>b<font color=\"red\">++</font> wła<font color=\"red\">++</font>. <font color=\"red\">--</font>muj, wszyły <font color=\"red\">--</font>ża<font color=\"red\">++</font>, Dnia <font color=\"red\">--</font>ła <font color=\"red\">--</font>żykatców <font color=\"red\">--</font>nieło<font color=\"red\">++</font>,,? <font color=\"red\">--</font>nie. <font color=\"red\">--</font>Czy<font color=\"red\">++</font> Ale \n",
              "<br/>–, <font color=\"red\">--</font>dział <font color=\"red\">--</font>wadają<font color=\"red\">++</font> się \n",
              "<br/><font color=\"red\">--</font>Ny u<font color=\"red\">++</font>., że te<font color=\"red\">++</font>, jest – znów, <font color=\"red\">--</font>ku <font color=\"red\">--</font>jrzał, na słuza <font color=\"red\">--</font>bi.? <font color=\"red\">--</font>na <font color=\"red\">--</font>na \n",
              "<br/>ceg<font color=\"red\">++</font> \n",
              "<br/><font color=\"red\">--</font>jrza<font color=\"red\">++</font> –? on a – na<font color=\"red\">++</font> ich – zwa<font color=\"red\">++</font>. – <font color=\"red\">--</font>na <font color=\"red\">--</font>Sza<font color=\"red\">++</font> <font color=\"red\">--</font>Me na <font color=\"red\">--</font>zek \n",
              "<br/>knaj<font color=\"red\">++</font>. <font color=\"red\">--</font>ter<font color=\"red\">++</font> –, z <font color=\"red\">--</font>indzi<font color=\"red\">++</font> \n",
              "<br/><font color=\"red\">--</font>wiek roz<font color=\"red\">++</font> \n",
              "<br/>–. le<font color=\"red\">++</font> <font color=\"red\">--</font>Dział \n",
              "<br/>to <font color=\"red\">--</font>res<font color=\"red\">++</font> się? \n",
              "<br/><font color=\"red\">--</font>nia \n",
              "<br/><font color=\"red\">--</font>li <font color=\"red\">--</font>ła, pores<font color=\"red\">++</font> wywe. \n",
              "<br/>. <font color=\"red\">--</font>na.. na<font color=\"red\">++</font> któ<font color=\"red\">++</font> przyjść, wła<font color=\"red\">++</font> – <font color=\"red\">--</font>cę przez \n",
              "<br/>–? po \n",
              "<br/><font color=\"red\">--</font>pęli. <font color=\"red\">--</font>u<font color=\"red\">++</font> \n",
              "<br/><font color=\"red\">--</font>dzia<font color=\"red\">++</font> \n",
              "<br/>, <font color=\"red\">--</font>ci <font color=\"red\">--</font>siże. coś – Jak pola<font color=\"red\">++</font> – <font color=\"red\">--</font>bie <font color=\"red\">--</font>kę pa<font color=\"red\">++</font> na <font color=\"red\">--</font>czu <font color=\"red\">--</font>Sztof <font color=\"red\">--</font>róła<font color=\"red\">++</font>,! nine<font color=\"red\">++</font>. jest – <font color=\"red\">--</font>cy<font color=\"red\">++</font> rzecz za <font color=\"red\">--</font>ła skąd <font color=\"red\">--</font>Ra<font color=\"red\">++</font> u<font color=\"red\">++</font>. <font color=\"red\">--</font>lazjąc bywe \n",
              "<br/>ja<font color=\"red\">++</font> ta<font color=\"red\">++</font>,. <font color=\"red\">--</font>cz<font color=\"red\">++</font> \n",
              "<br/><font color=\"red\">--</font>t<font color=\"red\">++</font> Szewc i., wy<font color=\"red\">++</font>, \n",
              "<br/>ja \n",
              "<br/><font color=\"red\">--</font>krej ra<font color=\"red\">++</font>, o<font color=\"red\">++</font> pa<font color=\"red\">++</font> na <font color=\"red\">--</font>by \n",
              "<br/>że <font color=\"red\">--</font>ju <font color=\"red\">--</font>in<font color=\"red\">++</font> \n",
              "<br/><font color=\"red\">--</font>ło wystawieme<font color=\"red\">++</font> że, odziaka – ma<font color=\"red\">++</font> nie na – <font color=\"red\">--</font>ka \n",
              "<br/>. nie weźczach., coś ba<font color=\"red\">++</font> \n",
              "<br/><font color=\"red\">--</font>ki – –? <font color=\"red\">--</font>wy <font color=\"red\">--</font>ki. <font color=\"red\">--</font>T<font color=\"red\">++</font> <font color=\"red\">--</font>Ty te<font color=\"red\">++</font> cegna<font color=\"red\">++</font> <font color=\"red\">--</font>Nę<font color=\"red\">++</font>? <font color=\"red\">--</font>nie <font color=\"red\">--</font>cho<font color=\"red\">++</font> <font color=\"red\">--</font>Cać <font color=\"red\">--</font>ka \n",
              "<br/>ja<font color=\"red\">++</font> dzię<font color=\"red\">++</font> <font color=\"red\">--</font>Ju Pod<font color=\"red\">++</font> \n",
              "<br/><font color=\"red\">--</font>żesz <font color=\"red\">--</font>re<font color=\"red\">++</font>?, – na<font color=\"red\">++</font>. \n",
              "<br/>mam<font color=\"red\">++</font> – <font color=\"red\">--</font>ku<font color=\"red\">++</font>. <font color=\"red\">--</font>Wi<font color=\"red\">++</font> <font color=\"red\">--</font>Bo<font color=\"red\">++</font>! \n",
              "<br/>\n",
              "<br/>, <font color=\"red\">--</font>libie to Udzo – że \n",
              "<br/>. \n",
              "<br/>się w <font color=\"red\">--</font>nił, <font color=\"red\">--</font>li ty nie <font color=\"red\">--</font>Ście – <font color=\"red\">--</font>ka na od<font color=\"red\">++</font> że jeci, <font color=\"red\">--</font>ło przyła aż że i?. <font color=\"red\">--</font>co<font color=\"red\">++</font>, <font color=\"red\">--</font>gląwą <font color=\"red\">--</font>Jąc nie to się \n",
              "<br/><font color=\"red\">--</font>ła, pa<font color=\"red\">++</font>? <font color=\"red\">--</font>wie<font color=\"red\">++</font>, <font color=\"red\">--</font>dów \n",
              "<br/>– do<font color=\"red\">++</font>,,. żyna ja<font color=\"red\">++</font> za<font color=\"red\">++</font> Jej <font color=\"red\">--</font>czy<font color=\"red\">++</font> \n",
              "<br/>. osmarem <font color=\"red\">--</font>kiem <font color=\"red\">--</font>nie \n",
              "<br/>–. <font color=\"red\">--</font>rze <font color=\"red\">--</font>mię<font color=\"red\">++</font>,, zba<font color=\"red\">++</font> pan, to o<font color=\"red\">++</font>! <font color=\"red\">--</font>rało, mam \n",
              "<br/><font color=\"red\">--</font>dzi \n",
              "<br/>ca<font color=\"red\">++</font>, <font color=\"red\">--</font>Ki na chy<font color=\"red\">++</font> <font color=\"red\">--</font>Pa<font color=\"red\">++</font> – <font color=\"red\">--</font>ca Do<font color=\"red\">++</font>, – czy mnie \n",
              "<br/>w się <font color=\"red\">--</font>ju <font color=\"red\">--</font>nie mo<font color=\"red\">++</font> w barli <font color=\"red\">--</font>Pać <font color=\"red\">--</font>ku<font color=\"red\">++</font> <font color=\"red\">--</font>Lo<font color=\"red\">++</font> <font color=\"red\">--</font>D<font color=\"red\">++</font> Też, <font color=\"red\">--</font>cy z <font color=\"red\">--</font>ców jadał <font color=\"red\">--</font>Ny <font color=\"red\">--</font>go któ<font color=\"red\">++</font>,. Sie<font color=\"red\">++</font> po<font color=\"red\">++</font>? <font color=\"red\">--</font>ła \n",
              "<br/>zdebłą<font color=\"red\">++</font> – <font color=\"red\">--</font>dzie<font color=\"red\">++</font> –, ja<font color=\"red\">++</font> o<font color=\"red\">++</font> –, <font color=\"red\">--</font>my ma<font color=\"red\">++</font>. <font color=\"red\">--</font>li<font color=\"red\">++</font> to Z iła \n",
              "<br/>tekiem te<font color=\"red\">++</font> z – W ra<font color=\"red\">++</font>, – <font color=\"red\">--</font>ma, je<font color=\"red\">++</font> Oli<font color=\"red\">++</font> nie \n",
              "<br/>– – wibie ja<font color=\"red\">++</font>, – prze<font color=\"red\">++</font>. <font color=\"red\">--</font>li, <font color=\"red\">--</font>nie, <font color=\"red\">--</font>pa<font color=\"red\">++</font> <font color=\"red\">--</font>By bę<font color=\"red\">++</font> nachores<font color=\"red\">++</font>, \n",
              "<br/>jednie <font color=\"red\">--</font>forg<font color=\"red\">++</font>, le<font color=\"red\">++</font> <font color=\"red\">--</font>Bo<font color=\"red\">++</font> mu po<font color=\"red\">++</font> wła<font color=\"red\">++</font>., spo<font color=\"red\">++</font> Rodził przez Nią i \n",
              "<br/><font color=\"red\">--</font>ko <font color=\"red\">--</font>nuwe <font color=\"red\">--</font>raz ka<font color=\"red\">++</font>. przy<font color=\"red\">++</font> prze<font color=\"red\">++</font> \n",
              "<br/>się – –, <font color=\"red\">--</font>si. z służ<font color=\"red\">++</font> \n",
              "<br/>. <font color=\"red\">--</font>ra<font color=\"red\">++</font> na spoko<font color=\"red\">++</font> Za<font color=\"red\">++</font>, <font color=\"red\">--</font>ny tyl<font color=\"red\">++</font> <font color=\"red\">--</font>By dzia<font color=\"red\">++</font> Jaba Aż. \n",
              "<br/>.. <font color=\"red\">--</font>nie – – i czewar<font color=\"red\">++</font> <font color=\"red\">--</font>Kie, <font color=\"red\">--</font>radał. <font color=\"red\">--</font>dzie sta<font color=\"red\">++</font> wy<font color=\"red\">++</font> fiat <font color=\"red\">--</font>obbi<font color=\"red\">++</font> słu<font color=\"red\">++</font> Za is<font color=\"red\">++</font>,. <font color=\"red\">--</font>gi pa<font color=\"red\">++</font> Tenąć. <font color=\"red\">--</font>da<font color=\"red\">++</font> na. <font color=\"red\">--</font>Den \n",
              "<br/>krzyres<font color=\"red\">++</font> \n",
              "<br/>U<font color=\"red\">++</font> to \n",
              "<br/><font color=\"red\">--</font>Nie <font color=\"red\">--</font>Stago <font color=\"red\">--</font>nio <font color=\"red\">--</font>łą <font color=\"red\">--</font>wił dzie<font color=\"red\">++</font> Wró<font color=\"red\">++</font>,., o<font color=\"red\">++</font> two<font color=\"red\">++</font> – – \n",
              "<br/><font color=\"red\">--</font>kimś te<font color=\"red\">++</font> doli mog<font color=\"red\">++</font> z <font color=\"red\">--</font>ły <font color=\"red\">--</font>ka pa<font color=\"red\">++</font> Czar<font color=\"red\">++</font> spowa<font color=\"red\">++</font>, pu<font color=\"red\">++</font> że <font color=\"red\">--</font>d<font color=\"red\">++</font> sa<font color=\"red\">++</font> –, <font color=\"red\">--</font>nę<font color=\"red\">++</font> niech <font color=\"red\">--</font>ców, <font color=\"red\">--</font>styg<font color=\"red\">++</font> na <font color=\"red\">--</font>w<font color=\"red\">++</font>"
            ],
            "text/plain": [
              "<IPython.core.display.HTML object>"
            ]
          },
          "metadata": {
            "tags": []
          }
        },
        {
          "output_type": "stream",
          "text": [
            "\n"
          ],
          "name": "stdout"
        },
        {
          "output_type": "stream",
          "text": [
            " 50%|####9     | 1164/2330 [25:15<25:17,  1.30s/it, epoch=3/5, loss=6.66, bw=0.36] "
          ],
          "name": "stderr"
        },
        {
          "output_type": "stream",
          "text": [
            "\n",
            "[25m 15s (3 1165 50%) loss=6.6599 bw=0.4624]\n"
          ],
          "name": "stdout"
        },
        {
          "output_type": "display_data",
          "data": {
            "text/html": [
              "Nauka psa czystości – jak sprawnie nauczyć psa załatwiać się na dworze? <font color=\"red\">--</font>ło <font color=\"red\">--</font>łem <font color=\"red\">--</font>Go nie Zaś? ciwe <font color=\"red\">--</font>ciorzyni \n",
              "<br/>pie<font color=\"red\">++</font> \n",
              "<br/><font color=\"red\">--</font>by \n",
              "<br/>I pajęli<font color=\"red\">++</font>! unie, <font color=\"red\">--</font>wa<font color=\"red\">++</font> bez <font color=\"red\">--</font>ty<font color=\"red\">++</font> – <font color=\"red\">--</font>my co <font color=\"red\">--</font>K<font color=\"red\">++</font>, je<font color=\"red\">++</font>, ma<font color=\"red\">++</font> jak <font color=\"red\">--</font>pe<font color=\"red\">++</font>, z, i nad w a połem tenie mamie<font color=\"red\">++</font> \n",
              "<br/>po<font color=\"red\">++</font> i<font color=\"red\">++</font>, <font color=\"red\">--</font>dzie \n",
              "<br/><font color=\"red\">--</font>mi \n",
              "<br/>się mo<font color=\"red\">++</font>. że nam <font color=\"red\">--</font>ka O<font color=\"red\">++</font> sta<font color=\"red\">++</font> so<font color=\"red\">++</font> wyczczawa<font color=\"red\">++</font> ja<font color=\"red\">++</font> Ba<font color=\"red\">++</font> po<font color=\"red\">++</font> o<font color=\"red\">++</font>,, <font color=\"red\">--</font>nie \n",
              "<br/><font color=\"red\">--</font>szy <font color=\"red\">--</font>da<font color=\"red\">++</font>, <font color=\"red\">--</font>ciach <font color=\"red\">--</font>wa<font color=\"red\">++</font> \n",
              "<br/>? –. po <font color=\"red\">--</font>nia \n",
              "<br/>pałam, <font color=\"red\">--</font>sisz z na<font color=\"red\">++</font> O<font color=\"red\">++</font> o<font color=\"red\">++</font>. Zgo<font color=\"red\">++</font> uwi<font color=\"red\">++</font>, <font color=\"red\">--</font>czy, <font color=\"red\">--</font>chu <font color=\"red\">--</font>nie <font color=\"red\">--</font>stą po<font color=\"red\">++</font> tra<font color=\"red\">++</font>, to <font color=\"red\">--</font>cząć <font color=\"red\">--</font>ła<font color=\"red\">++</font> to<font color=\"red\">++</font> za<font color=\"red\">++</font>, nikt fak<font color=\"red\">++</font> że <font color=\"red\">--</font>li Pu<font color=\"red\">++</font> przed – nie po<font color=\"red\">++</font>, <font color=\"red\">--</font>to<font color=\"red\">++</font>, ku <font color=\"red\">--</font>ranie. im, <font color=\"red\">--</font>tyłe \n",
              "<br/>. jej <font color=\"red\">--</font>Ciu spra<font color=\"red\">++</font> wy<font color=\"red\">++</font> spo<font color=\"red\">++</font>,. <font color=\"red\">--</font>ła <font color=\"red\">--</font>nie we <font color=\"red\">--</font>we nażą<font color=\"red\">++</font> wywa<font color=\"red\">++</font> mu <font color=\"red\">--</font>pi<font color=\"red\">++</font> te<font color=\"red\">++</font> o<font color=\"red\">++</font> zro<font color=\"red\">++</font>,, <font color=\"red\">--</font>czek ta<font color=\"red\">++</font> że bę<font color=\"red\">++</font> się <font color=\"red\">--</font>Nie, <font color=\"red\">--</font>czy<font color=\"red\">++</font>, <font color=\"red\">--</font>nie. – <font color=\"red\">--</font>datwąt<font color=\"red\">++</font> nie szła, <font color=\"red\">--</font>ją<font color=\"red\">++</font> \n",
              "<br/>, <font color=\"red\">--</font>so<font color=\"red\">++</font> w po<font color=\"red\">++</font> spo<font color=\"red\">++</font> co biurkry<font color=\"red\">++</font> się przynę dru<font color=\"red\">++</font>, pod<font color=\"red\">++</font> przy<font color=\"red\">++</font> – <font color=\"red\">--</font>nym., \n",
              "<br/>na oki <font color=\"red\">--</font>resże te<font color=\"red\">++</font> ra<font color=\"red\">++</font>, <font color=\"red\">--</font>tel<font color=\"red\">++</font> ró<font color=\"red\">++</font> wyda – <font color=\"red\">--</font>cia, <font color=\"red\">--</font>czwró<font color=\"red\">++</font> – <font color=\"red\">--</font>łu<font color=\"red\">++</font> Je<font color=\"red\">++</font>, za<font color=\"red\">++</font> wy<font color=\"red\">++</font>, ru<font color=\"red\">++</font>. i \n",
              "<br/>Zacji. jej <font color=\"red\">--</font>stwo Kim <font color=\"red\">--</font>ka przy<font color=\"red\">++</font> nie<font color=\"red\">++</font> panie <font color=\"red\">--</font>cie i do zawcip… ot<font color=\"red\">++</font> wydziane – <font color=\"red\">--</font>li<font color=\"red\">++</font> cał<font color=\"red\">++</font> poki <font color=\"red\">--</font>ska <font color=\"red\">--</font>mie<font color=\"red\">++</font>., o<font color=\"red\">++</font> wy<font color=\"red\">++</font> z że \n",
              "<br/><font color=\"red\">--</font>mył<font color=\"red\">++</font>, <font color=\"red\">--</font>za<font color=\"red\">++</font> prze<font color=\"red\">++</font> przez namieka<font color=\"red\">++</font>, <font color=\"red\">--</font>ło <font color=\"red\">--</font>wnorzy<font color=\"red\">++</font>, <font color=\"red\">--</font>wił tera<font color=\"red\">++</font> je<font color=\"red\">++</font> \n",
              "<br/><font color=\"red\">--</font>nie <font color=\"red\">--</font>bie <font color=\"red\">--</font>ka <font color=\"red\">--</font>pi<font color=\"red\">++</font>, jeża<font color=\"red\">++</font> pro<font color=\"red\">++</font> mudzie <font color=\"red\">--</font>wra<font color=\"red\">++</font>,., <font color=\"red\">--</font>ła, soki \n",
              "<br/>dla Nie \n",
              "<br/><font color=\"red\">--</font>ka Na <font color=\"red\">--</font>nie, <font color=\"red\">--</font>re<font color=\"red\">++</font> mudzie <font color=\"red\">--</font>by <font color=\"red\">--</font>że<font color=\"red\">++</font> \n",
              "<br/>co wieno od<font color=\"red\">++</font>. <font color=\"red\">--</font>cia<font color=\"red\">++</font> o<font color=\"red\">++</font>! \n",
              "<br/>rę<font color=\"red\">++</font> praże<font color=\"red\">++</font> wy<font color=\"red\">++</font> o<font color=\"red\">++</font>, Sta<font color=\"red\">++</font> o<font color=\"red\">++</font> – je<font color=\"red\">++</font>. jak. gocepa<font color=\"red\">++</font> jej odła <font color=\"red\">--</font>T<font color=\"red\">++</font>, ci<font color=\"red\">++</font>. pierdwie <font color=\"red\">--</font>nie <font color=\"red\">--</font>ka <font color=\"red\">--</font>luwiła że <font color=\"red\">--</font>ba wy<font color=\"red\">++</font> o<font color=\"red\">++</font> się <font color=\"red\">--</font>gie i w ob<font color=\"red\">++</font> – <font color=\"red\">--</font>na.. <font color=\"red\">--</font>ka bywapa<font color=\"red\">++</font>. <font color=\"red\">--</font>kała pochą Na <font color=\"red\">--</font>łe<font color=\"red\">++</font> na<font color=\"red\">++</font> muła <font color=\"red\">--</font>nie <font color=\"red\">--</font>nym, <font color=\"red\">--</font>Nie, <font color=\"red\">--</font>ski te<font color=\"red\">++</font> mu<font color=\"red\">++</font> – <font color=\"red\">--</font>so<font color=\"red\">++</font> \n",
              "<br/>e<font color=\"red\">++</font> po<font color=\"red\">++</font> <font color=\"red\">--</font>Garta za<font color=\"red\">++</font> po<font color=\"red\">++</font> myd<font color=\"red\">++</font> dwa że <font color=\"red\">--</font>żory <font color=\"red\">--</font>ma<font color=\"red\">++</font> <font color=\"red\">--</font>Dnym <font color=\"red\">--</font>nych <font color=\"red\">--</font>zunie Ma<font color=\"red\">++</font> – fa<font color=\"red\">++</font> coś i <font color=\"red\">--</font>dt<font color=\"red\">++</font> \n",
              "<br/>od <font color=\"red\">--</font>ła <font color=\"red\">--</font>da<font color=\"red\">++</font>, <font color=\"red\">--</font>mi <font color=\"red\">--</font>sto<font color=\"red\">++</font> wre<font color=\"red\">++</font>, – pod<font color=\"red\">++</font> kumwie <font color=\"red\">--</font>nio. jakkować <font color=\"red\">--</font>go <font color=\"red\">--</font>sz<font color=\"red\">++</font> <font color=\"red\">--</font>Skiej, <font color=\"red\">--</font>kę, <font color=\"red\">--</font>go japu<font color=\"red\">++</font> <font color=\"red\">--</font>Wnie,, <font color=\"red\">--</font>to<font color=\"red\">++</font> wy<font color=\"red\">++</font>! <font color=\"red\">--</font>ły, Je<font color=\"red\">++</font> Pa<font color=\"red\">++</font>, \n",
              "<br/><font color=\"red\">--</font>nia rareskę <font color=\"red\">--</font>że <font color=\"red\">--</font>gij<font color=\"red\">++</font> \n",
              "<br/>, Zde<font color=\"red\">++</font> \n",
              "<br/><font color=\"red\">--</font>Go<font color=\"red\">++</font> ług <font color=\"red\">--</font>Nia<font color=\"red\">++</font> za<font color=\"red\">++</font> –. <font color=\"red\">--</font>nął <font color=\"red\">--</font>mi, <font color=\"red\">--</font>nym, <font color=\"red\">--</font>we<font color=\"red\">++</font> pa<font color=\"red\">++</font> nie \n",
              "<br/>Z <font color=\"red\">--</font>Rej. <font color=\"red\">--</font>nie <font color=\"red\">--</font>Rzyszę <font color=\"red\">--</font>Nia <font color=\"red\">--</font>cz<font color=\"red\">++</font> że<font color=\"red\">++</font> jak – <font color=\"red\">--</font>Je głune<font color=\"red\">++</font>. ner<font color=\"red\">++</font> przenie któw<font color=\"red\">++</font>. jak <font color=\"red\">--</font>ty <font color=\"red\">--</font>piewo<font color=\"red\">++</font> \n",
              "<br/>,, ni<font color=\"red\">++</font> sta<font color=\"red\">++</font> Ile odoło <font color=\"red\">--</font>bie <font color=\"red\">--</font>wa <font color=\"red\">--</font>Ka, \n",
              "<br/><font color=\"red\">--</font>sa<font color=\"red\">++</font> sipi<font color=\"red\">++</font> \n",
              "<br/>ra<font color=\"red\">++</font> międ<font color=\"red\">++</font>. Się. <font color=\"red\">--</font>dzie, <font color=\"red\">--</font>ca… <font color=\"red\">--</font>ko że naj<font color=\"red\">++</font>, <font color=\"red\">--</font>lodzie się <font color=\"red\">--</font>By, <font color=\"red\">--</font>Ły, <font color=\"red\">--</font>nie ab<font color=\"red\">++</font> tym <font color=\"red\">--</font>ciał. <font color=\"red\">--</font>go się śmie<font color=\"red\">++</font>,. w Teli<font color=\"red\">++</font> ka<font color=\"red\">++</font> nie przez to że <font color=\"red\">--</font>dzić <font color=\"red\">--</font>ca <font color=\"red\">--</font>ści a tena nie <font color=\"red\">--</font>żej. <font color=\"red\">--</font>łe <font color=\"red\">--</font>ka zdete w że, wyru<font color=\"red\">++</font>, \n",
              "<br/><font color=\"red\">--</font>zna<font color=\"red\">++</font> je<font color=\"red\">++</font> i star<font color=\"red\">++</font>, <font color=\"red\">--</font>lo<font color=\"red\">++</font> z. Wie<font color=\"red\">++</font> \n",
              "<br/><font color=\"red\">--</font>dać. <font color=\"red\">--</font>żecadnić <font color=\"red\">--</font>ne <font color=\"red\">--</font>da<font color=\"red\">++</font> Nam tecież. <font color=\"red\">--</font>strzegna <font color=\"red\">--</font>gól<font color=\"red\">++</font>, te<font color=\"red\">++</font>,,. i kon<font color=\"red\">++</font> ty<font color=\"red\">++</font>,, zo<font color=\"red\">++</font> \n",
              "<br/>obna <font color=\"red\">--</font>bić so<font color=\"red\">++</font>, <font color=\"red\">--</font>mystem tyl<font color=\"red\">++</font> <font color=\"red\">--</font>Zwyka, się że nie te<font color=\"red\">++</font>, wy<font color=\"red\">++</font> za <font color=\"red\">--</font>cze z zwa<font color=\"red\">++</font> onę się O ozbyt <font color=\"red\">--</font>wie<font color=\"red\">++</font> mogła nie bęnie \n",
              "<br/>, <font color=\"red\">--</font>proczek <font color=\"red\">--</font>Tą <font color=\"red\">--</font>by <font color=\"red\">--</font>res<font color=\"red\">++</font> miejleż cze<font color=\"red\">++</font> \n",
              "<br/>Ją <font color=\"red\">--</font>Ciciago<font color=\"red\">++</font> \n",
              "<br/>że <font color=\"red\">--</font>chęli<font color=\"red\">++</font>, świera<font color=\"red\">++</font> przewnia<font color=\"red\">++</font> się <font color=\"red\">--</font>pli<font color=\"red\">++</font>,, zazwy<font color=\"red\">++</font> – <font color=\"red\">--</font>ra<font color=\"red\">++</font> <font color=\"red\">--</font>Ni i <font color=\"red\">--</font>to<font color=\"red\">++</font> nie<font color=\"red\">++</font> w pale<font color=\"red\">++</font> że<font color=\"red\">++</font>. chwi<font color=\"red\">++</font> \n",
              "<br/><font color=\"red\">--</font>papi<font color=\"red\">++</font> są <font color=\"red\">--</font>ną <font color=\"red\">--</font>pi nie <font color=\"red\">--</font>da<font color=\"red\">++</font> nie<font color=\"red\">++</font>, <font color=\"red\">--</font>sza<font color=\"red\">++</font>. –. Miej<font color=\"red\">++</font> \n",
              "<br/>zareswisnie ta<font color=\"red\">++</font>, <font color=\"red\">--</font>li jak <font color=\"red\">--</font>nie <font color=\"red\">--</font>denje<font color=\"red\">++</font> wy<font color=\"red\">++</font> to czar<font color=\"red\">++</font> <font color=\"red\">--</font>Nie na<font color=\"red\">++</font> <font color=\"red\">--</font>Nie <font color=\"red\">--</font>ma<font color=\"red\">++</font>, <font color=\"red\">--</font>szy \n",
              "<br/><font color=\"red\">--</font>ca <font color=\"red\">--</font>wie<font color=\"red\">++</font> I <font color=\"red\">--</font>wonym wię<font color=\"red\">++</font>. i <font color=\"red\">--</font>bezny mydgo <font color=\"red\">--</font>dziew<font color=\"red\">++</font> wi<font color=\"red\">++</font> spocianym Do<font color=\"red\">++</font> zu<font color=\"red\">++</font> \n",
              "<br/>wy<font color=\"red\">++</font> po<font color=\"red\">++</font> w <font color=\"red\">--</font>nie <font color=\"red\">--</font>Ryła o<font color=\"red\">++</font> nadatśpie<font color=\"red\">++</font> zarestów \n",
              "<br/>o<font color=\"red\">++</font> \n",
              "<br/>,, <font color=\"red\">--</font>ła wia<font color=\"red\">++</font> po<font color=\"red\">++</font> \n",
              "<br/>, i <font color=\"red\">--</font>dzia<font color=\"red\">++</font> ró<font color=\"red\">++</font> W <font color=\"red\">--</font>Niu <font color=\"red\">--</font>to. <font color=\"red\">--</font>czła <font color=\"red\">--</font>czeca <font color=\"red\">--</font>nie z <font color=\"red\">--</font>wa<font color=\"red\">++</font> Za<font color=\"red\">++</font> wo<font color=\"red\">++</font>, na <font color=\"red\">--</font>ment <font color=\"red\">--</font>ka o<font color=\"red\">++</font> \n",
              "<br/>, <font color=\"red\">--</font>pe<font color=\"red\">++</font>, nie na<font color=\"red\">++</font> \n",
              "<br/><font color=\"red\">--</font>ła <font color=\"red\">--</font>dzia<font color=\"red\">++</font>,, krzy<font color=\"red\">++</font>, Je<font color=\"red\">++</font> – o<font color=\"red\">++</font> nie <font color=\"red\">--</font>Ty<font color=\"red\">++</font> \n",
              "<br/><font color=\"red\">--</font>ny<font color=\"red\">++</font> co. <font color=\"red\">--</font>Ry! dziel<font color=\"red\">++</font> <font color=\"red\">--</font>Nach nie ni O<font color=\"red\">++</font>, \n",
              "<br/>\n",
              "<br/>\n",
              "<br/><font color=\"red\">--</font>lę, świele <font color=\"red\">--</font>ka <font color=\"red\">--</font>sto<font color=\"red\">++</font> na \n",
              "<br/>zdąbie jak co na<font color=\"red\">++</font> – <font color=\"red\">--</font>własływ<font color=\"red\">++</font> Ty star<font color=\"red\">++</font> go <font color=\"red\">--</font>no<font color=\"red\">++</font> – <font color=\"red\">--</font>dnia <font color=\"red\">--</font>by, two<font color=\"red\">++</font> – w wan<font color=\"red\">++</font> za<font color=\"red\">++</font> \n",
              "<br/>się o<font color=\"red\">++</font> \n",
              "<br/>– <font color=\"red\">--</font>zygle<font color=\"red\">++</font> mo<font color=\"red\">++</font> trwa<font color=\"red\">++</font> się <font color=\"red\">--</font>mu <font color=\"red\">--</font>Ła,,,, Nie O<font color=\"red\">++</font> wy<font color=\"red\">++</font> że <font color=\"red\">--</font>wać <font color=\"red\">--</font>nie wy<font color=\"red\">++</font> gorko <font color=\"red\">--</font>brać <font color=\"red\">--</font>bie<font color=\"red\">++</font> wie<font color=\"red\">++</font>! Za <font color=\"red\">--</font>ta<font color=\"red\">++</font> \n",
              "<br/>, <font color=\"red\">--</font>sz<font color=\"red\">++</font> ugle <font color=\"red\">--</font>ne<font color=\"red\">++</font>, <font color=\"red\">--</font>nie<font color=\"red\">++</font> się nie po<font color=\"red\">++</font> ma<font color=\"red\">++</font> dzibie tym <font color=\"red\">--</font>womabie ra<font color=\"red\">++</font> wiem <font color=\"red\">--</font>li<font color=\"red\">++</font> po<font color=\"red\">++</font>, <font color=\"red\">--</font>ga<font color=\"red\">++</font>"
            ],
            "text/plain": [
              "<IPython.core.display.HTML object>"
            ]
          },
          "metadata": {
            "tags": []
          }
        },
        {
          "output_type": "stream",
          "text": [
            "\n"
          ],
          "name": "stdout"
        },
        {
          "output_type": "stream",
          "text": [
            " 60%|#####9    | 1397/2330 [30:19<20:20,  1.31s/it, epoch=4/5, loss=6.48, bw=0.36] "
          ],
          "name": "stderr"
        },
        {
          "output_type": "stream",
          "text": [
            "\n",
            "[30m 20s (4 1398 60%) loss=6.4841 bw=0.4205]\n"
          ],
          "name": "stdout"
        },
        {
          "output_type": "display_data",
          "data": {
            "text/html": [
              "Nauka psa czystości – jak sprawnie nauczyć psa załatwiać się na dworze? <font color=\"red\">--</font>tofcać Oczy<font color=\"red\">++</font> Zda<font color=\"red\">++</font> je<font color=\"red\">++</font> zabirze ukaj <font color=\"red\">--</font>na<font color=\"red\">++</font> Bo<font color=\"red\">++</font>. na zacześne <font color=\"red\">--</font>res<font color=\"red\">++</font> że \n",
              "<br/>co <font color=\"red\">--</font>ła. \n",
              "<br/><font color=\"red\">--</font>bra<font color=\"red\">++</font> na <font color=\"red\">--</font>nejąc <font color=\"red\">--</font>nie. <font color=\"red\">--</font>szago <font color=\"red\">--</font>so<font color=\"red\">++</font> tetual<font color=\"red\">++</font>. o<font color=\"red\">++</font> do <font color=\"red\">--</font>ci pogdy. <font color=\"red\">--</font>res \n",
              "<br/>nie? i <font color=\"red\">--</font>ła Na serśpie <font color=\"red\">--</font>res<font color=\"red\">++</font> ob<font color=\"red\">++</font> nanal<font color=\"red\">++</font> <font color=\"red\">--</font>Mu <font color=\"red\">--</font>by <font color=\"red\">--</font>peł<font color=\"red\">++</font> na<font color=\"red\">++</font>, nie<font color=\"red\">++</font> mo<font color=\"red\">++</font> i <font color=\"red\">--</font>ła <font color=\"red\">--</font>by <font color=\"red\">--</font>ka ba<font color=\"red\">++</font> a Że <font color=\"red\">--</font>wy <font color=\"red\">--</font>Jdzie koń<font color=\"red\">++</font> ma<font color=\"red\">++</font> z i <font color=\"red\">--</font>my. \n",
              "<br/>,, oj<font color=\"red\">++</font> się <font color=\"red\">--</font>Res<font color=\"red\">++</font> ktoś \n",
              "<br/>nanie <font color=\"red\">--</font>nie <font color=\"red\">--</font>Nie unie <font color=\"red\">--</font>kręt<font color=\"red\">++</font>, U<font color=\"red\">++</font> mo<font color=\"red\">++</font>,, to <font color=\"red\">--</font>da<font color=\"red\">++</font> \n",
              "<br/>to <font color=\"red\">--</font>wą a <font color=\"red\">--</font>go krzy<font color=\"red\">++</font> ja oszceno<font color=\"red\">++</font> Już <font color=\"red\">--</font>Da <font color=\"red\">--</font>za<font color=\"red\">++</font> myś<font color=\"red\">++</font> i w pier<font color=\"red\">++</font> amco <font color=\"red\">--</font>my paja<font color=\"red\">++</font>, mu<font color=\"red\">++</font> <font color=\"red\">--</font>Ny <font color=\"red\">--</font>nie po<font color=\"red\">++</font> z, in<font color=\"red\">++</font> czy. <font color=\"red\">--</font>sta<font color=\"red\">++</font> \n",
              "<br/>o<font color=\"red\">++</font> – Co <font color=\"red\">--</font>Nie <font color=\"red\">--</font>le wa<font color=\"red\">++</font>, roz<font color=\"red\">++</font> <font color=\"red\">--</font>Winęgo alstano<font color=\"red\">++</font> O<font color=\"red\">++</font>. <font color=\"red\">--</font>wa<font color=\"red\">++</font> prze<font color=\"red\">++</font> o<font color=\"red\">++</font> nie <font color=\"red\">--</font>resnym <font color=\"red\">--</font>tem <font color=\"red\">--</font>wiło –, w <font color=\"red\">--</font>na i w spo<font color=\"red\">++</font> na<font color=\"red\">++</font> nim <font color=\"red\">--</font>go, i <font color=\"red\">--</font>kręts<font color=\"red\">++</font> po<font color=\"red\">++</font> z <font color=\"red\">--</font>kalarze <font color=\"red\">--</font>ła – <font color=\"red\">--</font>wie<font color=\"red\">++</font> to. <font color=\"red\">--</font>No<font color=\"red\">++</font> chcę, <font color=\"red\">--</font>res<font color=\"red\">++</font> kar<font color=\"red\">++</font> wios<font color=\"red\">++</font> \n",
              "<br/>. – czas <font color=\"red\">--</font>jrza<font color=\"red\">++</font> że. <font color=\"red\">--</font>ła z <font color=\"red\">--</font>ta <font color=\"red\">--</font>jdą <font color=\"red\">--</font>nie wios<font color=\"red\">++</font>. <font color=\"red\">--</font>ka się przyna – w <font color=\"red\">--</font>ną \n",
              "<br/><font color=\"red\">--</font>winie, \n",
              "<br/>Sie<font color=\"red\">++</font> Do by<font color=\"red\">++</font> \n",
              "<br/><font color=\"red\">--</font>ce się te<font color=\"red\">++</font> podna prze<font color=\"red\">++</font> to się sie<font color=\"red\">++</font> pócze Też <font color=\"red\">--</font>le pod<font color=\"red\">++</font>. \n",
              "<br/><font color=\"red\">--</font>tytrzy<font color=\"red\">++</font> \n",
              "<br/>ale <font color=\"red\">--</font>cej – poło <font color=\"red\">--</font>win<font color=\"red\">++</font> cozwa<font color=\"red\">++</font> słumajściu <font color=\"red\">--</font>Glągar<font color=\"red\">++</font> i goczy<font color=\"red\">++</font>, \n",
              "<br/>na nich ba<font color=\"red\">++</font> na <font color=\"red\">--</font>ka <font color=\"red\">--</font>dodziejsko<font color=\"red\">++</font> \n",
              "<br/><font color=\"red\">--</font>sia<font color=\"red\">++</font> nie <font color=\"red\">--</font>su<font color=\"red\">++</font> Nie <font color=\"red\">--</font>Wo<font color=\"red\">++</font> i się \n",
              "<br/><font color=\"red\">--</font>trzo<font color=\"red\">++</font> <font color=\"red\">--</font>Dziel<font color=\"red\">++</font> \n",
              "<br/><font color=\"red\">--</font>mu <font color=\"red\">--</font>sobdu<font color=\"red\">++</font>, <font color=\"red\">--</font>cza na, <font color=\"red\">--</font>jąściło, ale Jadzą<font color=\"red\">++</font> moki <font color=\"red\">--</font>ka<font color=\"red\">++</font> bry<font color=\"red\">++</font> naj<font color=\"red\">++</font>.. tor<font color=\"red\">++</font> skłaresła prze<font color=\"red\">++</font> \n",
              "<br/>\n",
              "<br/><font color=\"red\">--</font>pom<font color=\"red\">++</font>, od i jest – w o<font color=\"red\">++</font> do<font color=\"red\">++</font> ta<font color=\"red\">++</font> z u<font color=\"red\">++</font> docić że i, <font color=\"red\">--</font>co. <font color=\"red\">--</font>ła <font color=\"red\">--</font>szoła przeży Że w jej ro<font color=\"red\">++</font> porzyją. – sołą <font color=\"red\">--</font>stores<font color=\"red\">++</font> in<font color=\"red\">++</font>. – ko<font color=\"red\">++</font> to Na u \n",
              "<br/>, <font color=\"red\">--</font>czy<font color=\"red\">++</font> w <font color=\"red\">--</font>nal<font color=\"red\">++</font> <font color=\"red\">--</font>Zie \n",
              "<br/>, <font color=\"red\">--</font>res<font color=\"red\">++</font> w – że <font color=\"red\">--</font>galła ma<font color=\"red\">++</font>, <font color=\"red\">--</font>na nią <font color=\"red\">--</font>tę. <font color=\"red\">--</font>że<font color=\"red\">++</font> przyle z soment nie i <font color=\"red\">--</font>Blond <font color=\"red\">--</font>cych <font color=\"red\">--</font>ca dzię<font color=\"red\">++</font> jej –, się – wi<font color=\"red\">++</font>,, <font color=\"red\">--</font>wo <font color=\"red\">--</font>ko i, że <font color=\"red\">--</font>nie <font color=\"red\">--</font>doszło <font color=\"red\">--</font>wa<font color=\"red\">++</font> ją, <font color=\"red\">--</font>ła <font color=\"red\">--</font>rzeń przenie <font color=\"red\">--</font>wa<font color=\"red\">++</font> na znów do<font color=\"red\">++</font> uły,, <font color=\"red\">--</font>nie <font color=\"red\">--</font>ła że <font color=\"red\">--</font>kowo<font color=\"red\">++</font> \n",
              "<br/><font color=\"red\">--</font>nieta <font color=\"red\">--</font>mai<font color=\"red\">++</font> po<font color=\"red\">++</font> po<font color=\"red\">++</font> mo<font color=\"red\">++</font> nie, \n",
              "<br/>,, lek<font color=\"red\">++</font> mu ta<font color=\"red\">++</font> <font color=\"red\">--</font>Docie <font color=\"red\">--</font>mu., <font color=\"red\">--</font>dzie któ<font color=\"red\">++</font> Sa<font color=\"red\">++</font> że <font color=\"red\">--</font>cze płać \n",
              "<br/><font color=\"red\">--</font>ce \n",
              "<br/>a o<font color=\"red\">++</font> bo<font color=\"red\">++</font>, u<font color=\"red\">++</font> i sa<font color=\"red\">++</font> czy <font color=\"red\">--</font>nę Osić <font color=\"red\">--</font>ło <font color=\"red\">--</font>cia na<font color=\"red\">++</font>, <font color=\"red\">--</font>ka ot<font color=\"red\">++</font> <font color=\"red\">--</font>Waką! <font color=\"red\">--</font>du<font color=\"red\">++</font> i <font color=\"red\">--</font>wo<font color=\"red\">++</font> luła <font color=\"red\">--</font>li<font color=\"red\">++</font> ty mo<font color=\"red\">++</font> <font color=\"red\">--</font>My Nie<font color=\"red\">++</font> ta<font color=\"red\">++</font> skłoka <font color=\"red\">--</font>ny <font color=\"red\">--</font>res<font color=\"red\">++</font> i <font color=\"red\">--</font>bi<font color=\"red\">++</font>, \n",
              "<br/>ba<font color=\"red\">++</font> i <font color=\"red\">--</font>Wy z <font color=\"red\">--</font>nio z <font color=\"red\">--</font>cze<font color=\"red\">++</font> zaco<font color=\"red\">++</font> je<font color=\"red\">++</font> otną w to <font color=\"red\">--</font>szyć <font color=\"red\">--</font>ze<font color=\"red\">++</font> \n",
              "<br/><font color=\"red\">--</font>wiemo<font color=\"red\">++</font>. wiosgo… <font color=\"red\">--</font>wa<font color=\"red\">++</font>. prze<font color=\"red\">++</font>. o<font color=\"red\">++</font> am<font color=\"red\">++</font> a Rzeź.. ją na Nie<font color=\"red\">++</font> czy?, się <font color=\"red\">--</font>ry <font color=\"red\">--</font>Nie. <font color=\"red\">--</font>czy<font color=\"red\">++</font> dzigo <font color=\"red\">--</font>rel. jeklas<font color=\"red\">++</font> nie la<font color=\"red\">++</font> \n",
              "<br/>, ry<font color=\"red\">++</font>, przy<font color=\"red\">++</font> re<font color=\"red\">++</font>, <font color=\"red\">--</font>kaj ale <font color=\"red\">--</font>ko ma – <font color=\"red\">--</font>ka <font color=\"red\">--</font>wokole <font color=\"red\">--</font>ła <font color=\"red\">--</font>Bie lu<font color=\"red\">++</font> a poły i, Roz<font color=\"red\">++</font> nada sową <font color=\"red\">--</font>ta <font color=\"red\">--</font>cze<font color=\"red\">++</font> w <font color=\"red\">--</font>czy<font color=\"red\">++</font> nie <font color=\"red\">--</font>na czy <font color=\"red\">--</font>ta paszę, <font color=\"red\">--</font>rzeń. wła<font color=\"red\">++</font> na<font color=\"red\">++</font> \n",
              "<br/>, orzyło ot<font color=\"red\">++</font> <font color=\"red\">--</font>Wy omiem. <font color=\"red\">--</font>rych gło<font color=\"red\">++</font>. o<font color=\"red\">++</font> świa<font color=\"red\">++</font>,, <font color=\"red\">--</font>jścia \n",
              "<br/><font color=\"red\">--</font>mier<font color=\"red\">++</font> \n",
              "<br/><font color=\"red\">--</font>ku je<font color=\"red\">++</font> u<font color=\"red\">++</font> \n",
              "<br/>\n",
              "<br/>prze<font color=\"red\">++</font>. <font color=\"red\">--</font>my za<font color=\"red\">++</font> szafnekiegim <font color=\"red\">--</font>bie <font color=\"red\">--</font>mu czy<font color=\"red\">++</font>, te<font color=\"red\">++</font> <font color=\"red\">--</font>Doła <font color=\"red\">--</font>wa<font color=\"red\">++</font> ab<font color=\"red\">++</font> nie mo<font color=\"red\">++</font> i <font color=\"red\">--</font>ka,? <font color=\"red\">--</font>ła – \n",
              "<br/><font color=\"red\">--</font>czo<font color=\"red\">++</font> ale podzy <font color=\"red\">--</font>ki., \n",
              "<br/>je<font color=\"red\">++</font> chwidzi <font color=\"red\">--</font>nym bania <font color=\"red\">--</font>leła, <font color=\"red\">--</font>za na się <font color=\"red\">--</font>Pacz ninie \n",
              "<br/>się <font color=\"red\">--</font>dzianędy bę<font color=\"red\">++</font> ja<font color=\"red\">++</font> <font color=\"red\">--</font>Ła., nie \n",
              "<br/><font color=\"red\">--</font>da<font color=\"red\">++</font>. <font color=\"red\">--</font>na prze<font color=\"red\">++</font> i w. u<font color=\"red\">++</font>. <font color=\"red\">--</font>wiepić soli<font color=\"red\">++</font> tastoły, <font color=\"red\">--</font>ra<font color=\"red\">++</font>, <font color=\"red\">--</font>li<font color=\"red\">++</font> mle<font color=\"red\">++</font> Tam Drzenia ma z <font color=\"red\">--</font>ka prze<font color=\"red\">++</font>, gi<font color=\"red\">++</font> <font color=\"red\">--</font>Cych bu<font color=\"red\">++</font> przy<font color=\"red\">++</font> – <font color=\"red\">--</font>kręt<font color=\"red\">++</font> stro<font color=\"red\">++</font>. postwa,, <font color=\"red\">--</font>rado<font color=\"red\">++</font> i Dłu<font color=\"red\">++</font> –. na <font color=\"red\">--</font>diów ja<font color=\"red\">++</font> \n",
              "<br/>! <font color=\"red\">--</font>Rzom teła \n",
              "<br/>– <font color=\"red\">--</font>cha<font color=\"red\">++</font> kodziel<font color=\"red\">++</font>, <font color=\"red\">--</font>No<font color=\"red\">++</font> u<font color=\"red\">++</font> Któbić roz<font color=\"red\">++</font> wy<font color=\"red\">++</font>, <font color=\"red\">--</font>ki, a,, wszypomdziapom<font color=\"red\">++</font>,, się <font color=\"red\">--</font>Ni<font color=\"red\">++</font> ma<font color=\"red\">++</font> z od<font color=\"red\">++</font> to nawa<font color=\"red\">++</font> też <font color=\"red\">--</font>ły nie re<font color=\"red\">++</font> jej ale i w nie<font color=\"red\">++</font>. <font color=\"red\">--</font>ła, jak jest <font color=\"red\">--</font>nę byd<font color=\"red\">++</font> na i <font color=\"red\">--</font>ła <font color=\"red\">--</font>Ka <font color=\"red\">--</font>ka, międwacznie <font color=\"red\">--</font>dzić <font color=\"red\">--</font>wa<font color=\"red\">++</font> \n",
              "<br/><font color=\"red\">--</font>nie, szkokręt<font color=\"red\">++</font> zygła <font color=\"red\">--</font>ła <font color=\"red\">--</font>wi<font color=\"red\">++</font> za<font color=\"red\">++</font> po<font color=\"red\">++</font> – nad<font color=\"red\">++</font> Onym Nie<font color=\"red\">++</font>.! <font color=\"red\">--</font>bo<font color=\"red\">++</font> spo<font color=\"red\">++</font> <font color=\"red\">--</font>Ciła… – luła \n",
              "<br/>mie<font color=\"red\">++</font> Sa<font color=\"red\">++</font> wykiety<font color=\"red\">++</font> to z zgrzyła na<font color=\"red\">++</font>. po<font color=\"red\">++</font> się \n",
              "<br/>trzech z jej Zda<font color=\"red\">++</font> – to Mi na <font color=\"red\">--</font>stką kokać ugo. <font color=\"red\">--</font>nie i u<font color=\"red\">++</font> <font color=\"red\">--</font>Raz <font color=\"red\">--</font>ny to to Odnie <font color=\"red\">--</font>nie chwirą. Się o<font color=\"red\">++</font> – jej <font color=\"red\">--</font>dziegar<font color=\"red\">++</font> nienie zami <font color=\"red\">--</font>ki nie<font color=\"red\">++</font> \n",
              "<br/><font color=\"red\">--</font>piaki <font color=\"red\">--</font>mekę <font color=\"red\">--</font>Wa<font color=\"red\">++</font> w się <font color=\"red\">--</font>na nie<font color=\"red\">++</font> mi <font color=\"red\">--</font>sto<font color=\"red\">++</font> z <font color=\"red\">--</font>ła ponia <font color=\"red\">--</font>Nie, <font color=\"red\">--</font>stwo z <font color=\"red\">--</font>ło zwasił <font color=\"red\">--</font>ju <font color=\"red\">--</font>wą Co Co te<font color=\"red\">++</font>, <font color=\"red\">--</font>ła <font color=\"red\">--</font>jęwka. i \n",
              "<br/>, cię nie u<font color=\"red\">++</font> \n",
              "<br/><font color=\"red\">--</font>na"
            ],
            "text/plain": [
              "<IPython.core.display.HTML object>"
            ]
          },
          "metadata": {
            "tags": []
          }
        },
        {
          "output_type": "stream",
          "text": [
            "\n"
          ],
          "name": "stdout"
        },
        {
          "output_type": "stream",
          "text": [
            " 70%|######9   | 1630/2330 [35:27<15:19,  1.31s/it, epoch=4/5, loss=6.05, bw=0.352]"
          ],
          "name": "stderr"
        },
        {
          "output_type": "stream",
          "text": [
            "\n",
            "[35m 27s (4 1631 70%) loss=6.0473 bw=0.4371]\n"
          ],
          "name": "stdout"
        },
        {
          "output_type": "display_data",
          "data": {
            "text/html": [
              "Nauka psa czystości – jak sprawnie nauczyć psa załatwiać się na dworze? sy<font color=\"red\">++</font> bę<font color=\"red\">++</font> się te<font color=\"red\">++</font> się powe<font color=\"red\">++</font> późła amię<font color=\"red\">++</font> wdzieci<font color=\"red\">++</font> – się <font color=\"red\">--</font>do<font color=\"red\">++</font> że \n",
              "<br/>kodzie <font color=\"red\">--</font>dzie o<font color=\"red\">++</font> Je przykę <font color=\"red\">--</font>ła <font color=\"red\">--</font>czy<font color=\"red\">++</font> ma, <font color=\"red\">--</font>Ty <font color=\"red\">--</font>wa<font color=\"red\">++</font> w te<font color=\"red\">++</font> si<font color=\"red\">++</font> z <font color=\"red\">--</font>ko <font color=\"red\">--</font>ta<font color=\"red\">++</font>. posi wy<font color=\"red\">++</font> jej <font color=\"red\">--</font>go <font color=\"red\">--</font>miar, <font color=\"red\">--</font>le i <font color=\"red\">--</font>go.. za go <font color=\"red\">--</font>le<font color=\"red\">++</font> to. omu <font color=\"red\">--</font>to<font color=\"red\">++</font> przez <font color=\"red\">--</font>czy<font color=\"red\">++</font> o<font color=\"red\">++</font> o<font color=\"red\">++</font> cawie<font color=\"red\">++</font>, <font color=\"red\">--</font>ło \n",
              "<br/><font color=\"red\">--</font>ła szo<font color=\"red\">++</font>; <font color=\"red\">--</font>miar, <font color=\"red\">--</font>dy <font color=\"red\">--</font>ła o<font color=\"red\">++</font> w na Nie<font color=\"red\">++</font> Zde<font color=\"red\">++</font> ży<font color=\"red\">++</font> \n",
              "<br/>li<font color=\"red\">++</font> Coś i <font color=\"red\">--</font>go <font color=\"red\">--</font>nie przez <font color=\"red\">--</font>ki \n",
              "<br/>o<font color=\"red\">++</font> się, <font color=\"red\">--</font>ła, <font color=\"red\">--</font>wowiewa<font color=\"red\">++</font> <font color=\"red\">--</font>Go \n",
              "<br/><font color=\"red\">--</font>cze<font color=\"red\">++</font> – i. nie z <font color=\"red\">--</font>ria <font color=\"red\">--</font>cze<font color=\"red\">++</font>, <font color=\"red\">--</font>dy<font color=\"red\">++</font> wydzia<font color=\"red\">++</font> i się z <font color=\"red\">--</font>wa<font color=\"red\">++</font> o<font color=\"red\">++</font> eka miejsc. wszel<font color=\"red\">++</font> ca<font color=\"red\">++</font> – <font color=\"red\">--</font>Ne <font color=\"red\">--</font>ła <font color=\"red\">--</font>dzi<font color=\"red\">++</font>,,! <font color=\"red\">--</font>dzie <font color=\"red\">--</font>leka,. <font color=\"red\">--</font>ty<font color=\"red\">++</font>, \n",
              "<br/>dla jej <font color=\"red\">--</font>nia <font color=\"red\">--</font>ła,. <font color=\"red\">--</font>ły <font color=\"red\">--</font>domo<font color=\"red\">++</font> wrała <font color=\"red\">--</font>tawli<font color=\"red\">++</font> miezu po<font color=\"red\">++</font> <font color=\"red\">--</font>Go nie<font color=\"red\">++</font> po<font color=\"red\">++</font> przy<font color=\"red\">++</font> po<font color=\"red\">++</font>. <font color=\"red\">--</font>po<font color=\"red\">++</font>, <font color=\"red\">--</font>by – się <font color=\"red\">--</font>Ka na<font color=\"red\">++</font> u<font color=\"red\">++</font> <font color=\"red\">--</font>Ge<font color=\"red\">++</font> się <font color=\"red\">--</font>ma<font color=\"red\">++</font>, te<font color=\"red\">++</font> mil<font color=\"red\">++</font> śpiekrętnie \n",
              "<br/><font color=\"red\">--</font>leć <font color=\"red\">--</font>de<font color=\"red\">++</font> trze<font color=\"red\">++</font>,? w <font color=\"red\">--</font>czy<font color=\"red\">++</font>, <font color=\"red\">--</font>ła,, <font color=\"red\">--</font>ści <font color=\"red\">--</font>Go <font color=\"red\">--</font>wa<font color=\"red\">++</font> doco<font color=\"red\">++</font> co się <font color=\"red\">--</font>s<font color=\"red\">++</font> nie<font color=\"red\">++</font>, <font color=\"red\">--</font>czra<font color=\"red\">++</font> <font color=\"red\">--</font>Stroż<font color=\"red\">++</font> <font color=\"red\">--</font>Ka li<font color=\"red\">++</font> wy<font color=\"red\">++</font>. błę<font color=\"red\">++</font> po<font color=\"red\">++</font> któnie pa<font color=\"red\">++</font> co \n",
              "<br/>\n",
              "<br/>się <font color=\"red\">--</font>res<font color=\"red\">++</font> I <font color=\"red\">--</font>do<font color=\"red\">++</font> pa<font color=\"red\">++</font> sta<font color=\"red\">++</font> \n",
              "<br/>w sa<font color=\"red\">++</font> już \n",
              "<br/><font color=\"red\">--</font>Nę<font color=\"red\">++</font> \n",
              "<br/>co za<font color=\"red\">++</font> \n",
              "<br/>– <font color=\"red\">--</font>ły niego zna<font color=\"red\">++</font> że jej, ko<font color=\"red\">++</font>, to <font color=\"red\">--</font>Mi w czy u<font color=\"red\">++</font> nie <font color=\"red\">--</font>sta<font color=\"red\">++</font> <font color=\"red\">--</font>Ło wybów <font color=\"red\">--</font>zul<font color=\"red\">++</font> się bu<font color=\"red\">++</font> chce nie <font color=\"red\">--</font>wą i <font color=\"red\">--</font>po<font color=\"red\">++</font> się się że i wyły <font color=\"red\">--</font>krad<font color=\"red\">++</font> i <font color=\"red\">--</font>sz<font color=\"red\">++</font> Osta<font color=\"red\">++</font>, po<font color=\"red\">++</font> ja<font color=\"red\">++</font> osi<font color=\"red\">++</font> przyniu że wy<font color=\"red\">++</font> jepa<font color=\"red\">++</font>. <font color=\"red\">--</font>si <font color=\"red\">--</font>dnia<font color=\"red\">++</font>,. <font color=\"red\">--</font>pa<font color=\"red\">++</font>. ja<font color=\"red\">++</font> <font color=\"red\">--</font>Wo. <font color=\"red\">--</font>ne <font color=\"red\">--</font>Ligo <font color=\"red\">--</font>w<font color=\"red\">++</font> wo<font color=\"red\">++</font> Tym, \n",
              "<br/>zaby <font color=\"red\">--</font>myśło Wie<font color=\"red\">++</font> Się \n",
              "<br/>do <font color=\"red\">--</font>ło <font color=\"red\">--</font>dział <font color=\"red\">--</font>ła do, mu<font color=\"red\">++</font> \n",
              "<br/><font color=\"red\">--</font>Szycze<font color=\"red\">++</font> wenia, <font color=\"red\">--</font>miar \n",
              "<br/><font color=\"red\">--</font>my? Ceże., W Po <font color=\"red\">--</font>ciół<font color=\"red\">++</font> \n",
              "<br/>się,. scho<font color=\"red\">++</font> w <font color=\"red\">--</font>trzynęby wy<font color=\"red\">++</font>. panie Onu spo<font color=\"red\">++</font>, – Nie <font color=\"red\">--</font>si nie umięszy za<font color=\"red\">++</font>. <font color=\"red\">--</font>Niso<font color=\"red\">++</font> \n",
              "<br/>posz<font color=\"red\">++</font>, za<font color=\"red\">++</font> w się <font color=\"red\">--</font>ne ko<font color=\"red\">++</font> o<font color=\"red\">++</font> <font color=\"red\">--</font>Nie, <font color=\"red\">--</font>ki <font color=\"red\">--</font>s<font color=\"red\">++</font>. <font color=\"red\">--</font>ły <font color=\"red\">--</font>nie, lire<font color=\"red\">++</font>? <font color=\"red\">--</font>wa<font color=\"red\">++</font> na<font color=\"red\">++</font> przy<font color=\"red\">++</font> z. – <font color=\"red\">--</font>na sześć roz<font color=\"red\">++</font> po<font color=\"red\">++</font> się <font color=\"red\">--</font>nia, z <font color=\"red\">--</font>kręt<font color=\"red\">++</font> oli<font color=\"red\">++</font>, w, <font color=\"red\">--</font>pli<font color=\"red\">++</font> o<font color=\"red\">++</font> nali! <font color=\"red\">--</font>tać <font color=\"red\">--</font>go –!, <font color=\"red\">--</font>wiek <font color=\"red\">--</font>wo <font color=\"red\">--</font>na. pa<font color=\"red\">++</font>,, <font color=\"red\">--</font>ba <font color=\"red\">--</font>nogo <font color=\"red\">--</font>ści <font color=\"red\">--</font>nie pręłe<font color=\"red\">++</font> <font color=\"red\">--</font>Resko<font color=\"red\">++</font> <font color=\"red\">--</font>Cież, \n",
              "<br/><font color=\"red\">--</font>staciu <font color=\"red\">--</font>tną ró<font color=\"red\">++</font> – <font color=\"red\">--</font>czty niewała. w <font color=\"red\">--</font>ką cabisztof <font color=\"red\">--</font>kę Mu<font color=\"red\">++</font> – <font color=\"red\">--</font>ła <font color=\"red\">--</font>nia <font color=\"red\">--</font>niem Z <font color=\"red\">--</font>miast <font color=\"red\">--</font>rze się do wy<font color=\"red\">++</font> w tami poka Co w, <font color=\"red\">--</font>ły <font color=\"red\">--</font>jała Wszys<font color=\"red\">++</font> mog<font color=\"red\">++</font> <font color=\"red\">--</font>Sta<font color=\"red\">++</font>. za<font color=\"red\">++</font>. i <font color=\"red\">--</font>ła <font color=\"red\">--</font>jdzie \n",
              "<br/>–!? <font color=\"red\">--</font>ne i nie <font color=\"red\">--</font>tawił <font color=\"red\">--</font>ła<font color=\"red\">++</font> za<font color=\"red\">++</font> z znikka z po<font color=\"red\">++</font>... wszywi<font color=\"red\">++</font> \n",
              "<br/>. jak u<font color=\"red\">++</font> u<font color=\"red\">++</font>! <font color=\"red\">--</font>Sz<font color=\"red\">++</font>. roz<font color=\"red\">++</font>! <font color=\"red\">--</font>kiem mi.. <font color=\"red\">--</font>go u<font color=\"red\">++</font> O<font color=\"red\">++</font> <font color=\"red\">--</font>Go Wy<font color=\"red\">++</font> ma <font color=\"red\">--</font>pi<font color=\"red\">++</font> brze<font color=\"red\">++</font> te<font color=\"red\">++</font> ci <font color=\"red\">--</font>bi <font color=\"red\">--</font>ła <font color=\"red\">--</font>go. Po po<font color=\"red\">++</font> Na, <font color=\"red\">--</font>go od<font color=\"red\">++</font> je <font color=\"red\">--</font>tworła <font color=\"red\">--</font>Go <font color=\"red\">--</font>da<font color=\"red\">++</font> onej, te<font color=\"red\">++</font>, U<font color=\"red\">++</font>. ko<font color=\"red\">++</font>. \n",
              "<br/>o<font color=\"red\">++</font> – tu. <font color=\"red\">--</font>pra<font color=\"red\">++</font>, on <font color=\"red\">--</font>de<font color=\"red\">++</font> <font color=\"red\">--</font>Ku. czy twoleć <font color=\"red\">--</font>Pa<font color=\"red\">++</font> po<font color=\"red\">++</font> z. przekiem o<font color=\"red\">++</font> nic Nilaz<font color=\"red\">++</font> i on kry<font color=\"red\">++</font> to<font color=\"red\">++</font> za<font color=\"red\">++</font>, po<font color=\"red\">++</font> przy<font color=\"red\">++</font> ją to, \n",
              "<br/>, przyniwsta<font color=\"red\">++</font> w pogdy <font color=\"red\">--</font>dzieczesz<font color=\"red\">++</font> ko<font color=\"red\">++</font> Ponia z z w \n",
              "<br/><font color=\"red\">--</font>go <font color=\"red\">--</font>szanie kur<font color=\"red\">++</font> po<font color=\"red\">++</font> \n",
              "<br/><font color=\"red\">--</font>by nie<font color=\"red\">++</font>. <font color=\"red\">--</font>D<font color=\"red\">++</font> u<font color=\"red\">++</font> \n",
              "<br/>– spo<font color=\"red\">++</font> Za<font color=\"red\">++</font> –, <font color=\"red\">--</font>dziejsty<font color=\"red\">++</font> oło <font color=\"red\">--</font>wa<font color=\"red\">++</font> <font color=\"red\">--</font>Nie,. po<font color=\"red\">++</font> ze <font color=\"red\">--</font>By,, z I, dzielcyry<font color=\"red\">++</font>. <font color=\"red\">--</font>my, –, to. z u<font color=\"red\">++</font> nie<font color=\"red\">++</font> wy<font color=\"red\">++</font> i do do na<font color=\"red\">++</font> Ca<font color=\"red\">++</font>! <font color=\"red\">--</font>Gi<font color=\"red\">++</font> wszywe<font color=\"red\">++</font> się <font color=\"red\">--</font>Gle, \n",
              "<br/>Wta<font color=\"red\">++</font> ma <font color=\"red\">--</font>dem <font color=\"red\">--</font>ficzeki służnę się poddzi <font color=\"red\">--</font>Le tym \n",
              "<br/>z <font color=\"red\">--</font>sz<font color=\"red\">++</font>, <font color=\"red\">--</font>nie tariat! <font color=\"red\">--</font>sęp<font color=\"red\">++</font> Z <font color=\"red\">--</font>sz<font color=\"red\">++</font>? bo<font color=\"red\">++</font> po<font color=\"red\">++</font>, <font color=\"red\">--</font>nie – <font color=\"red\">--</font>Maka \n",
              "<br/>, \n",
              "<br/>Się, <font color=\"red\">--</font>no<font color=\"red\">++</font> dzi<font color=\"red\">++</font> Powiery<font color=\"red\">++</font> był, <font color=\"red\">--</font>Piał i <font color=\"red\">--</font>cze. <font color=\"red\">--</font>cio<font color=\"red\">++</font> po<font color=\"red\">++</font> po<font color=\"red\">++</font>. za<font color=\"red\">++</font> do, te<font color=\"red\">++</font>.. do <font color=\"red\">--</font>ba <font color=\"red\">--</font>ka mi, w zaś <font color=\"red\">--</font>wonie <font color=\"red\">--</font>renie <font color=\"red\">--</font>Nia., konsy, <font color=\"red\">--</font>wamieżeki, Prę<font color=\"red\">++</font> <font color=\"red\">--</font>Czonie <font color=\"red\">--</font>coli jej.,, <font color=\"red\">--</font>gó<font color=\"red\">++</font>, <font color=\"red\">--</font>cjach, <font color=\"red\">--</font>ce za<font color=\"red\">++</font> dłuli<font color=\"red\">++</font>,, poso<font color=\"red\">++</font>. – <font color=\"red\">--</font>ję<font color=\"red\">++</font>. jej o<font color=\"red\">++</font> <font color=\"red\">--</font>Kie <font color=\"red\">--</font>nie <font color=\"red\">--</font>wić <font color=\"red\">--</font>dzie <font color=\"red\">--</font>Go <font color=\"red\">--</font>czy<font color=\"red\">++</font> wy<font color=\"red\">++</font> je<font color=\"red\">++</font>, – mnie <font color=\"red\">--</font>po<font color=\"red\">++</font> był \n",
              "<br/>roz<font color=\"red\">++</font> z w. moż<font color=\"red\">++</font> nie<font color=\"red\">++</font> \n",
              "<br/>Niemo<font color=\"red\">++</font>. Nieła zda<font color=\"red\">++</font> <font color=\"red\">--</font>Ski zdeby <font color=\"red\">--</font>do<font color=\"red\">++</font> <font color=\"red\">--</font>Mu<font color=\"red\">++</font> coś Że wy<font color=\"red\">++</font> wy<font color=\"red\">++</font> we do <font color=\"red\">--</font>ce \n",
              "<br/><font color=\"red\">--</font>nie chcia<font color=\"red\">++</font> coś, jeści bo \n",
              "<br/>Od<font color=\"red\">++</font>, <font color=\"red\">--</font>jąc z <font color=\"red\">--</font>ce… do., <font color=\"red\">--</font>li<font color=\"red\">++</font>, coś ty wyko <font color=\"red\">--</font>by, po<font color=\"red\">++</font> – <font color=\"red\">--</font>Ża<font color=\"red\">++</font> Ko<font color=\"red\">++</font> u<font color=\"red\">++</font>, do Z <font color=\"red\">--</font>ła, <font color=\"red\">--</font>ca<font color=\"red\">++</font> się <font color=\"red\">--</font>ro<font color=\"red\">++</font> co już <font color=\"red\">--</font>wszem, <font color=\"red\">--</font>wła na<font color=\"red\">++</font> W Wła<font color=\"red\">++</font>, <font color=\"red\">--</font>mie<font color=\"red\">++</font> w ułem \n",
              "<br/><font color=\"red\">--</font>go <font color=\"red\">--</font>wogo i \n",
              "<br/>o<font color=\"red\">++</font>, na o<font color=\"red\">++</font> w spo<font color=\"red\">++</font>, za<font color=\"red\">++</font>,?, po<font color=\"red\">++</font>. <font color=\"red\">--</font>wiel<font color=\"red\">++</font> któ<font color=\"red\">++</font> naj<font color=\"red\">++</font>, –! <font color=\"red\">--</font>le<font color=\"red\">++</font> nie <font color=\"red\">--</font>ło po<font color=\"red\">++</font> w onym <font color=\"red\">--</font>cze<font color=\"red\">++</font>"
            ],
            "text/plain": [
              "<IPython.core.display.HTML object>"
            ]
          },
          "metadata": {
            "tags": []
          }
        },
        {
          "output_type": "stream",
          "text": [
            "\n"
          ],
          "name": "stdout"
        },
        {
          "output_type": "stream",
          "text": [
            " 80%|#######9  | 1863/2330 [40:34<10:15,  1.32s/it, epoch=5/5, loss=6.48, bw=0.4]  "
          ],
          "name": "stderr"
        },
        {
          "output_type": "stream",
          "text": [
            "\n",
            "[40m 35s (5 1864 80%) loss=6.4788 bw=0.4195]\n"
          ],
          "name": "stdout"
        },
        {
          "output_type": "display_data",
          "data": {
            "text/html": [
              "Nauka psa czystości – jak sprawnie nauczyć psa załatwiać się na dworze? <font color=\"red\">--</font>My <font color=\"red\">--</font>ka, To o<font color=\"red\">++</font> teka oście ona Cze<font color=\"red\">++</font> na nie<font color=\"red\">++</font> o<font color=\"red\">++</font> że <font color=\"red\">--</font>wieza<font color=\"red\">++</font> Wszyreres<font color=\"red\">++</font> \n",
              "<br/>się <font color=\"red\">--</font>ki <font color=\"red\">--</font>wia<font color=\"red\">++</font> Nie <font color=\"red\">--</font>Koła –,,. \n",
              "<br/>jest. zażo<font color=\"red\">++</font> roz<font color=\"red\">++</font>. <font color=\"red\">--</font>poli<font color=\"red\">++</font>. – <font color=\"red\">--</font>kę <font color=\"red\">--</font>ła <font color=\"red\">--</font>łem nie <font color=\"red\">--</font>ła <font color=\"red\">--</font>nia do, <font color=\"red\">--</font>rzyspa<font color=\"red\">++</font>. Bez <font color=\"red\">--</font>la<font color=\"red\">++</font> te<font color=\"red\">++</font> któlesdje <font color=\"red\">--</font>by <font color=\"red\">--</font>pomyś<font color=\"red\">++</font>. <font color=\"red\">--</font>wo \n",
              "<br/><font color=\"red\">--</font>tem wszypodydzia<font color=\"red\">++</font> się skrędza palaście <font color=\"red\">--</font>go <font color=\"red\">--</font>łą <font color=\"red\">--</font>ne, po<font color=\"red\">++</font> te<font color=\"red\">++</font>,. <font color=\"red\">--</font>na <font color=\"red\">--</font>Ka \n",
              "<br/>obbie <font color=\"red\">--</font>w<font color=\"red\">++</font> zaści <font color=\"red\">--</font>tak<font color=\"red\">++</font> jewiectę<font color=\"red\">++</font> Doła za<font color=\"red\">++</font> z <font color=\"red\">--</font>dzty<font color=\"red\">++</font>, <font color=\"red\">--</font>ka nie o<font color=\"red\">++</font> Całwikrętciw<font color=\"red\">++</font> Kół<font color=\"red\">++</font> z \n",
              "<br/>ma na <font color=\"red\">--</font>Ka, <font color=\"red\">--</font>cha<font color=\"red\">++</font> \n",
              "<br/><font color=\"red\">--</font>zosa<font color=\"red\">++</font> <font color=\"red\">--</font>Na <font color=\"red\">--</font>by <font color=\"red\">--</font>dę. za<font color=\"red\">++</font> piątnie Wtrąki, <font color=\"red\">--</font>wieconaku. za<font color=\"red\">++</font>,. zała<font color=\"red\">++</font> nie, – <font color=\"red\">--</font>ci za Zawi po<font color=\"red\">++</font> stół sow<font color=\"red\">++</font> nie <font color=\"red\">--</font>ka <font color=\"red\">--</font>dzy <font color=\"red\">--</font>ka znów \n",
              "<br/>pa<font color=\"red\">++</font> w, <font color=\"red\">--</font>kę <font color=\"red\">--</font>ka<font color=\"red\">++</font> głu<font color=\"red\">++</font> je<font color=\"red\">++</font> <font color=\"red\">--</font>Ło<font color=\"red\">++</font>., <font color=\"red\">--</font>wy Stopadło <font color=\"red\">--</font>siadł <font color=\"red\">--</font>byś u<font color=\"red\">++</font> \n",
              "<br/>zda<font color=\"red\">++</font> całpchnę<font color=\"red\">++</font> \n",
              "<br/>o<font color=\"red\">++</font>,. ro<font color=\"red\">++</font> siresła na <font color=\"red\">--</font>lu<font color=\"red\">++</font>, <font color=\"red\">--</font>ka, <font color=\"red\">--</font>tro <font color=\"red\">--</font>cy?. zna<font color=\"red\">++</font> na <font color=\"red\">--</font>bie na<font color=\"red\">++</font>. To \n",
              "<br/>ulinie oro – <font color=\"red\">--</font>cję z gdy<font color=\"red\">++</font>. <font color=\"red\">--</font>szep<font color=\"red\">++</font>. <font color=\"red\">--</font>ci <font color=\"red\">--</font>Doła<font color=\"red\">++</font>, by <font color=\"red\">--</font>kręt<font color=\"red\">++</font> <font color=\"red\">--</font>Ka im tejrza<font color=\"red\">++</font> – tewa<font color=\"red\">++</font>. <font color=\"red\">--</font>res<font color=\"red\">++</font> patem świe<font color=\"red\">++</font>. pra<font color=\"red\">++</font> świa<font color=\"red\">++</font> coś. myś<font color=\"red\">++</font> \n",
              "<br/>\n",
              "<br/>poki <font color=\"red\">--</font>na<font color=\"red\">++</font> się \n",
              "<br/>–. <font color=\"red\">--</font>ła potu <font color=\"red\">--</font>cy <font color=\"red\">--</font>cze<font color=\"red\">++</font> i <font color=\"red\">--</font>Ściach <font color=\"red\">--</font>Wać <font color=\"red\">--</font>nym nie \n",
              "<br/>\n",
              "<br/><font color=\"red\">--</font>res<font color=\"red\">++</font> <font color=\"red\">--</font>Kręt<font color=\"red\">++</font> naj<font color=\"red\">++</font> sie<font color=\"red\">++</font> ale <font color=\"red\">--</font>ka ko<font color=\"red\">++</font> onie \n",
              "<br/><font color=\"red\">--</font>li <font color=\"red\">--</font>Jembie Orście <font color=\"red\">--</font>krętni<font color=\"red\">++</font> \n",
              "<br/><font color=\"red\">--</font>w<font color=\"red\">++</font> <font color=\"red\">--</font>Nej Gdzie <font color=\"red\">--</font>ce \n",
              "<br/>oło<font color=\"red\">++</font> o<font color=\"red\">++</font> na <font color=\"red\">--</font>nek <font color=\"red\">--</font>ła na kre<font color=\"red\">++</font> stro<font color=\"red\">++</font>, i. <font color=\"red\">--</font>j<font color=\"red\">++</font>, <font color=\"red\">--</font>dziej <font color=\"red\">--</font>ną. <font color=\"red\">--</font>rakie, <font color=\"red\">--</font>kręt<font color=\"red\">++</font>. – <font color=\"red\">--</font>Nek <font color=\"red\">--</font>Ża<font color=\"red\">++</font>., jął i, <font color=\"red\">--</font>wen<font color=\"red\">++</font> <font color=\"red\">--</font>Dząc z <font color=\"red\">--</font>ne <font color=\"red\">--</font>wia<font color=\"red\">++</font>, <font color=\"red\">--</font>ze<font color=\"red\">++</font>,,, \n",
              "<br/><font color=\"red\">--</font>ła <font color=\"red\">--</font>mu nakieki. <font color=\"red\">--</font>ło <font color=\"red\">--</font>kręt<font color=\"red\">++</font> –, \n",
              "<br/>któ<font color=\"red\">++</font>, <font color=\"red\">--</font>czece <font color=\"red\">--</font>zę <font color=\"red\">--</font>Cie <font color=\"red\">--</font>oki, \n",
              "<br/><font color=\"red\">--</font>na <font color=\"red\">--</font>ła <font color=\"red\">--</font>Ła <font color=\"red\">--</font>gu<font color=\"red\">++</font> i <font color=\"red\">--</font>ły – By<font color=\"red\">++</font> ra<font color=\"red\">++</font> \n",
              "<br/>co ze<font color=\"red\">++</font>. <font color=\"red\">--</font>wa<font color=\"red\">++</font> ze za<font color=\"red\">++</font> znów <font color=\"red\">--</font>nić i <font color=\"red\">--</font>Kę zgro<font color=\"red\">++</font> <font color=\"red\">--</font>Restrze – –, \n",
              "<br/>w <font color=\"red\">--</font>dzia<font color=\"red\">++</font> saki <font color=\"red\">--</font>nę i <font color=\"red\">--</font>sięka<font color=\"red\">++</font> i ją że <font color=\"red\">--</font>Cie, <font color=\"red\">--</font>Ło dorokę <font color=\"red\">--</font>lo<font color=\"red\">++</font> o<font color=\"red\">++</font> <font color=\"red\">--</font>Rem <font color=\"red\">--</font>nene<font color=\"red\">++</font> tym \n",
              "<br/>., teki <font color=\"red\">--</font>doli<font color=\"red\">++</font> \n",
              "<br/>cór<font color=\"red\">++</font>. potu<font color=\"red\">++</font> w <font color=\"red\">--</font>pieleka dro<font color=\"red\">++</font> go<font color=\"red\">++</font> \n",
              "<br/>\n",
              "<br/>. ich przepamieć nie<font color=\"red\">++</font> i <font color=\"red\">--</font>ją<font color=\"red\">++</font> wil<font color=\"red\">++</font> za<font color=\"red\">++</font> stał to <font color=\"red\">--</font>ce <font color=\"red\">--</font>le \n",
              "<br/>po<font color=\"red\">++</font> \n",
              "<br/><font color=\"red\">--</font>by ją <font color=\"red\">--</font>Sobła Oło o<font color=\"red\">++</font> roją po<font color=\"red\">++</font> zane <font color=\"red\">--</font>no<font color=\"red\">++</font> na<font color=\"red\">++</font> o<font color=\"red\">++</font> wszyzili<font color=\"red\">++</font> – ją Be<font color=\"red\">++</font>. <font color=\"red\">--</font>dzła!, dłudnak<font color=\"red\">++</font> <font color=\"red\">--</font>Stwo W <font color=\"red\">--</font>by<font color=\"red\">++</font>. <font color=\"red\">--</font>cze<font color=\"red\">++</font>.,. za<font color=\"red\">++</font> oleon, <font color=\"red\">--</font>go,. nie zanio zalocznia \n",
              "<br/>– i <font color=\"red\">--</font>żu do<font color=\"red\">++</font> się o tew<font color=\"red\">++</font> – sonie <font color=\"red\">--</font>ki Z <font color=\"red\">--</font>cho<font color=\"red\">++</font> z na <font color=\"red\">--</font>dziago <font color=\"red\">--</font>sczego <font color=\"red\">--</font>go <font color=\"red\">--</font>ś<font color=\"red\">++</font> wygiej że <font color=\"red\">--</font>ną z <font color=\"red\">--</font>ra<font color=\"red\">++</font> wy<font color=\"red\">++</font> za<font color=\"red\">++</font> się <font color=\"red\">--</font>je <font color=\"red\">--</font>ła się... <font color=\"red\">--</font>zunej, <font color=\"red\">--</font>ła Pakę, <font color=\"red\">--</font>zurze \n",
              "<br/><font color=\"red\">--</font>ści \n",
              "<br/>je<font color=\"red\">++</font> w wy<font color=\"red\">++</font> pa<font color=\"red\">++</font>.. się wy<font color=\"red\">++</font>, Na zaty<font color=\"red\">++</font>, <font color=\"red\">--</font>by tę war<font color=\"red\">++</font> a<font color=\"red\">++</font> się, na <font color=\"red\">--</font>chy, <font color=\"red\">--</font>ni<font color=\"red\">++</font> do w <font color=\"red\">--</font>res<font color=\"red\">++</font> nie <font color=\"red\">--</font>ki ozach bę<font color=\"red\">++</font> – <font color=\"red\">--</font>men<font color=\"red\">++</font> jest W. <font color=\"red\">--</font>Dział o<font color=\"red\">++</font> \n",
              "<br/><font color=\"red\">--</font>respomnę tekę z – bo<font color=\"red\">++</font> ja<font color=\"red\">++</font>. w przed <font color=\"red\">--</font>czy<font color=\"red\">++</font> \n",
              "<br/>te<font color=\"red\">++</font>, czy <font color=\"red\">--</font>niu męły, <font color=\"red\">--</font>lago <font color=\"red\">--</font>ku za<font color=\"red\">++</font> <font color=\"red\">--</font>Go by<font color=\"red\">++</font> Wiem że <font color=\"red\">--</font>cji na, mojrzał <font color=\"red\">--</font>biła. <font color=\"red\">--</font>cho<font color=\"red\">++</font> oną roka to w się się <font color=\"red\">--</font>noka. <font color=\"red\">--</font>wie tę<font color=\"red\">++</font> – w <font color=\"red\">--</font>by przez w to skrze<font color=\"red\">++</font>, go, <font color=\"red\">--</font>sz<font color=\"red\">++</font> sta<font color=\"red\">++</font>, do Zgo<font color=\"red\">++</font> je<font color=\"red\">++</font>. <font color=\"red\">--</font>ła. <font color=\"red\">--</font>myświa<font color=\"red\">++</font> Że się <font color=\"red\">--</font>wadzia<font color=\"red\">++</font> gdyła kofi<font color=\"red\">++</font> ży<font color=\"red\">++</font> nią byres<font color=\"red\">++</font>, Nie <font color=\"red\">--</font>byś<font color=\"red\">++</font> się? <font color=\"red\">--</font>te<font color=\"red\">++</font> dlakę <font color=\"red\">--</font>by \n",
              "<br/><font color=\"red\">--</font>Jecka<font color=\"red\">++</font>, <font color=\"red\">--</font>tknęnie się. <font color=\"red\">--</font>nia \n",
              "<br/>\n",
              "<br/>nie<font color=\"red\">++</font> i <font color=\"red\">--</font>now<font color=\"red\">++</font>, <font color=\"red\">--</font>sobma<font color=\"red\">++</font> i., <font color=\"red\">--</font>ła chwi<font color=\"red\">++</font>? <font color=\"red\">--</font>wy <font color=\"red\">--</font>le<font color=\"red\">++</font> mrzonła – pola<font color=\"red\">++</font> doka okakich <font color=\"red\">--</font>go – <font color=\"red\">--</font>gą go<font color=\"red\">++</font>, mi się te<font color=\"red\">++</font>., o<font color=\"red\">++</font> a Że <font color=\"red\">--</font>Ka <font color=\"red\">--</font>ki że <font color=\"red\">--</font>wa<font color=\"red\">++</font> u<font color=\"red\">++</font> krykie<font color=\"red\">++</font> \n",
              "<br/>że, się się tego <font color=\"red\">--</font>ła <font color=\"red\">--</font>cz<font color=\"red\">++</font> śmierdziewać <font color=\"red\">--</font>ła. <font color=\"red\">--</font>dał \n",
              "<br/><font color=\"red\">--</font>ki, <font color=\"red\">--</font>ki <font color=\"red\">--</font>ło <font color=\"red\">--</font>s<font color=\"red\">++</font> I. pa<font color=\"red\">++</font>. da<font color=\"red\">++</font> za<font color=\"red\">++</font>. \n",
              "<br/><font color=\"red\">--</font>ją i., o<font color=\"red\">++</font> chu<font color=\"red\">++</font>. <font color=\"red\">--</font>mi pu<font color=\"red\">++</font>. <font color=\"red\">--</font>tmu <font color=\"red\">--</font>na <font color=\"red\">--</font>żyć się <font color=\"red\">--</font>czerły przez sprzą<font color=\"red\">++</font> sa<font color=\"red\">++</font> grun<font color=\"red\">++</font> za<font color=\"red\">++</font>,. <font color=\"red\">--</font>Ka \n",
              "<br/><font color=\"red\">--</font>Siem. Bo<font color=\"red\">++</font> zała <font color=\"red\">--</font>ce <font color=\"red\">--</font>tej przyres<font color=\"red\">++</font>? <font color=\"red\">--</font>dziej, <font color=\"red\">--</font>lej. co się <font color=\"red\">--</font>re o<font color=\"red\">++</font> za<font color=\"red\">++</font> się <font color=\"red\">--</font>ty<font color=\"red\">++</font> \n",
              "<br/><font color=\"red\">--</font>koi<font color=\"red\">++</font> za<font color=\"red\">++</font> złocję <font color=\"red\">--</font>ły <font color=\"red\">--</font>lej <font color=\"red\">--</font>ka <font color=\"red\">--</font>ce <font color=\"red\">--</font>ko <font color=\"red\">--</font>koto<font color=\"red\">++</font> się Nie barła <font color=\"red\">--</font>to krzewi<font color=\"red\">++</font> się! <font color=\"red\">--</font>wie<font color=\"red\">++</font> \n",
              "<br/>do, <font color=\"red\">--</font>ce <font color=\"red\">--</font>jąc wy<font color=\"red\">++</font> ja <font color=\"red\">--</font>ka <font color=\"red\">--</font>miesów za \n",
              "<br/><font color=\"red\">--</font>ści. \n",
              "<br/><font color=\"red\">--</font>ku <font color=\"red\">--</font>ka. <font color=\"red\">--</font>res<font color=\"red\">++</font> się <font color=\"red\">--</font>szła o i mam \n",
              "<br/>. do <font color=\"red\">--</font>gijw<font color=\"red\">++</font> Sa<font color=\"red\">++</font> mania, <font color=\"red\">--</font>wo po. \n",
              "<br/><font color=\"red\">--</font>ła. <font color=\"red\">--</font>ła – <font color=\"red\">--</font>na Za<font color=\"red\">++</font> nie tecią<font color=\"red\">++</font> – <font color=\"red\">--</font>koi<font color=\"red\">++</font> <font color=\"red\">--</font>Zem po<font color=\"red\">++</font>, i <font color=\"red\">--</font>ki nie <font color=\"red\">--</font>nią<font color=\"red\">++</font> za<font color=\"red\">++</font> oła \n",
              "<br/><font color=\"red\">--</font>ły ro<font color=\"red\">++</font>. za<font color=\"red\">++</font> – <font color=\"red\">--</font>sta<font color=\"red\">++</font> \n",
              "<br/>.? – o<font color=\"red\">++</font>, co po<font color=\"red\">++</font>. o<font color=\"red\">++</font> na, na, poka <font color=\"red\">--</font>ce I że"
            ],
            "text/plain": [
              "<IPython.core.display.HTML object>"
            ]
          },
          "metadata": {
            "tags": []
          }
        },
        {
          "output_type": "stream",
          "text": [
            "\n"
          ],
          "name": "stdout"
        },
        {
          "output_type": "stream",
          "text": [
            " 90%|########9 | 2096/2330 [45:42<05:04,  1.30s/it, epoch=5/5, loss=6.48, bw=0.488]"
          ],
          "name": "stderr"
        },
        {
          "output_type": "stream",
          "text": [
            "\n",
            "[45m 43s (5 2097 90%) loss=6.4793 bw=0.4459]\n"
          ],
          "name": "stdout"
        },
        {
          "output_type": "display_data",
          "data": {
            "text/html": [
              "Nauka psa czystości – jak sprawnie nauczyć psa załatwiać się na dworze?, zmąbonie ca<font color=\"red\">++</font> się po <font color=\"red\">--</font>u<font color=\"red\">++</font> \n",
              "<br/>kwe<font color=\"red\">++</font> wra<font color=\"red\">++</font>, <font color=\"red\">--</font>rowę Na <font color=\"red\">--</font>kiem <font color=\"red\">--</font>res<font color=\"red\">++</font> i że <font color=\"red\">--</font>ko <font color=\"red\">--</font>cha<font color=\"red\">++</font> \n",
              "<br/>, tyl<font color=\"red\">++</font> – <font color=\"red\">--</font>ści za<font color=\"red\">++</font> i kwe<font color=\"red\">++</font> ju<font color=\"red\">++</font> o<font color=\"red\">++</font> to, po<font color=\"red\">++</font>. jerana na <font color=\"red\">--</font>bie <font color=\"red\">--</font>że<font color=\"red\">++</font> tak cha<font color=\"red\">++</font>, <font color=\"red\">--</font>basta<font color=\"red\">++</font>, się wie<font color=\"red\">++</font> – <font color=\"red\">--</font>czyń<font color=\"red\">++</font> <font color=\"red\">--</font>Nia, <font color=\"red\">--</font>kiejąc już. obczął <font color=\"red\">--</font>nach <font color=\"red\">--</font>na <font color=\"red\">--</font>Cz<font color=\"red\">++</font>. zako<font color=\"red\">++</font> <font color=\"red\">--</font>Kim. Nała <font color=\"red\">--</font>sztof a dena kieły go<font color=\"red\">++</font> brakiem któ<font color=\"red\">++</font>,, w przed, <font color=\"red\">--</font>szył do<font color=\"red\">++</font> mo<font color=\"red\">++</font> Na <font color=\"red\">--</font>Że po<font color=\"red\">++</font> dorę nie; donił, <font color=\"red\">--</font>ko doko <font color=\"red\">--</font>waż<font color=\"red\">++</font> o<font color=\"red\">++</font> te<font color=\"red\">++</font>, <font color=\"red\">--</font>s<font color=\"red\">++</font>, <font color=\"red\">--</font>go drudo<font color=\"red\">++</font> co nie<font color=\"red\">++</font> za i.., ty! <font color=\"red\">--</font>w<font color=\"red\">++</font> obu<font color=\"red\">++</font>,, <font color=\"red\">--</font>ła <font color=\"red\">--</font>trze, \n",
              "<br/>\n",
              "<br/><font color=\"red\">--</font>ła <font color=\"red\">--</font>ców na motem, gło<font color=\"red\">++</font>, ro<font color=\"red\">++</font> –, Za<font color=\"red\">++</font> po <font color=\"red\">--</font>kim <font color=\"red\">--</font>Li<font color=\"red\">++</font> cór<font color=\"red\">++</font> do <font color=\"red\">--</font>tual<font color=\"red\">++</font> ki<font color=\"red\">++</font>, <font color=\"red\">--</font>nie jej <font color=\"red\">--</font>dła z, <font color=\"red\">--</font>dzia<font color=\"red\">++</font> o<font color=\"red\">++</font> na Przefon <font color=\"red\">--</font>leć <font color=\"red\">--</font>wiewen<font color=\"red\">++</font>, <font color=\"red\">--</font>Ne<font color=\"red\">++</font> Podze <font color=\"red\">--</font>ła – jak w i rozmy <font color=\"red\">--</font>re<font color=\"red\">++</font> <font color=\"red\">--</font>Li<font color=\"red\">++</font> Nie<font color=\"red\">++</font>, nie <font color=\"red\">--</font>u<font color=\"red\">++</font>, i i? by<font color=\"red\">++</font> zde<font color=\"red\">++</font> w: je<font color=\"red\">++</font>,, nie<font color=\"red\">++</font>. po<font color=\"red\">++</font>. Z <font color=\"red\">--</font>kę na tłu<font color=\"red\">++</font> sie<font color=\"red\">++</font> w jej, <font color=\"red\">--</font>nia wi<font color=\"red\">++</font> – <font color=\"red\">--</font>zie <font color=\"red\">--</font>nasia <font color=\"red\">--</font>kiem Poła do <font color=\"red\">--</font>jąc <font color=\"red\">--</font>nie <font color=\"red\">--</font>nia <font color=\"red\">--</font>dzia<font color=\"red\">++</font> do<font color=\"red\">++</font> <font color=\"red\">--</font>Wie <font color=\"red\">--</font>ły <font color=\"red\">--</font>kosz<font color=\"red\">++</font>, <font color=\"red\">--</font>czy Uca Ja<font color=\"red\">++</font> nie <font color=\"red\">--</font>ląc, danie<font color=\"red\">++</font>, za<font color=\"red\">++</font> Pa<font color=\"red\">++</font> <font color=\"red\">--</font>Łam, się \n",
              "<br/>w <font color=\"red\">--</font>czy <font color=\"red\">--</font>Wut<font color=\"red\">++</font> sta<font color=\"red\">++</font> w tylwy <font color=\"red\">--</font>peł<font color=\"red\">++</font> ja<font color=\"red\">++</font> <font color=\"red\">--</font>Go <font color=\"red\">--</font>mę. <font color=\"red\">--</font>bie, – przet<font color=\"red\">++</font> przed Pa<font color=\"red\">++</font> wcho<font color=\"red\">++</font> i <font color=\"red\">--</font>ni i <font color=\"red\">--</font>ki <font color=\"red\">--</font>ła do<font color=\"red\">++</font> <font color=\"red\">--</font>Ła – <font color=\"red\">--</font>Łe<font color=\"red\">++</font> \n",
              "<br/>Nic że <font color=\"red\">--</font>dza, któny posz<font color=\"red\">++</font> <font color=\"red\">--</font>Nie <font color=\"red\">--</font>niem! <font color=\"red\">--</font>ła tak kwe<font color=\"red\">++</font> i <font color=\"red\">--</font>ce<font color=\"red\">++</font> do ko<font color=\"red\">++</font> <font color=\"red\">--</font>Ja<font color=\"red\">++</font> w, krzy<font color=\"red\">++</font>, krzy<font color=\"red\">++</font>, \n",
              "<br/><font color=\"red\">--</font>Go pomia<font color=\"red\">++</font> ci <font color=\"red\">--</font>dzia<font color=\"red\">++</font> kroczy<font color=\"red\">++</font> mo<font color=\"red\">++</font>, jej chwina \n",
              "<br/><font color=\"red\">--</font>la<font color=\"red\">++</font> u<font color=\"red\">++</font>, w <font color=\"red\">--</font>cyj<font color=\"red\">++</font> ci<font color=\"red\">++</font> nic wszy<font color=\"red\">++</font>, <font color=\"red\">--</font>sób w pan je<font color=\"red\">++</font> że <font color=\"red\">--</font>ni <font color=\"red\">--</font>ry <font color=\"red\">--</font>ła <font color=\"red\">--</font>ja <font color=\"red\">--</font>bakiej na<font color=\"red\">++</font>,. wyt<font color=\"red\">++</font> i krzy<font color=\"red\">++</font> ja wy<font color=\"red\">++</font>. ona Że nie Na zdu<font color=\"red\">++</font>, <font color=\"red\">--</font>kim <font color=\"red\">--</font>nu<font color=\"red\">++</font> w <font color=\"red\">--</font>łek <font color=\"red\">--</font>wnie <font color=\"red\">--</font>nie <font color=\"red\">--</font>ło wca<font color=\"red\">++</font> przez pra<font color=\"red\">++</font> prażu <font color=\"red\">--</font>Wie<font color=\"red\">++</font> że się <font color=\"red\">--</font>wy <font color=\"red\">--</font>na <font color=\"red\">--</font>człym po prze<font color=\"red\">++</font> w by<font color=\"red\">++</font> już te<font color=\"red\">++</font> prze<font color=\"red\">++</font> Nie <font color=\"red\">--</font>res<font color=\"red\">++</font> przed, się, \n",
              "<br/>że <font color=\"red\">--</font>ły <font color=\"red\">--</font>pomsięnia <font color=\"red\">--</font>cy <font color=\"red\">--</font>łość <font color=\"red\">--</font>nostruk<font color=\"red\">++</font> w <font color=\"red\">--</font>to <font color=\"red\">--</font>cze<font color=\"red\">++</font>, <font color=\"red\">--</font>ny <font color=\"red\">--</font>naniu \n",
              "<br/><font color=\"red\">--</font>ło <font color=\"red\">--</font>Wen<font color=\"red\">++</font> że rzeła i. <font color=\"red\">--</font>Wo<font color=\"red\">++</font>. się, <font color=\"red\">--</font>nej <font color=\"red\">--</font>wiecych <font color=\"red\">--</font>tem, <font color=\"red\">--</font>sządzia<font color=\"red\">++</font> wy<font color=\"red\">++</font> oka o<font color=\"red\">++</font> wy<font color=\"red\">++</font> ma<font color=\"red\">++</font>. do<font color=\"red\">++</font> donę<font color=\"red\">++</font> – <font color=\"red\">--</font>bie krzyczas – druła <font color=\"red\">--</font>na <font color=\"red\">--</font>mi sapa<font color=\"red\">++</font>, <font color=\"red\">--</font>kiej… \n",
              "<br/><font color=\"red\">--</font>liju po<font color=\"red\">++</font> się Moży<font color=\"red\">++</font> kiecą… <font color=\"red\">--</font>ku<font color=\"red\">++</font> \n",
              "<br/>w <font color=\"red\">--</font>Ne<font color=\"red\">++</font>. <font color=\"red\">--</font>my w przy<font color=\"red\">++</font> I i <font color=\"red\">--</font>toła<font color=\"red\">++</font>. <font color=\"red\">--</font>nidyli<font color=\"red\">++</font> na się pomy <font color=\"red\">--</font>ła <font color=\"red\">--</font>ły nie \n",
              "<br/>w <font color=\"red\">--</font>dy <font color=\"red\">--</font>da<font color=\"red\">++</font>, <font color=\"red\">--</font>nia Tknę<font color=\"red\">++</font> ani ce<font color=\"red\">++</font> od<font color=\"red\">++</font> \n",
              "<br/>. <font color=\"red\">--</font>Że <font color=\"red\">--</font>nowie, – \n",
              "<br/>, <font color=\"red\">--</font>ją <font color=\"red\">--</font>modatach <font color=\"red\">--</font>bo <font color=\"red\">--</font>Lipom<font color=\"red\">++</font> po<font color=\"red\">++</font>, kie<font color=\"red\">++</font> ojmo <font color=\"red\">--</font>Bie ten. <font color=\"red\">--</font>zwo<font color=\"red\">++</font> w <font color=\"red\">--</font>jdzie, Poły <font color=\"red\">--</font>nia:, <font color=\"red\">--</font>gona <font color=\"red\">--</font>wa<font color=\"red\">++</font> z pod<font color=\"red\">++</font> był ry<font color=\"red\">++</font> roz<font color=\"red\">++</font> Z to<font color=\"red\">++</font> niej u<font color=\"red\">++</font>. jej wi<font color=\"red\">++</font> do to zekrętje <font color=\"red\">--</font>kręt<font color=\"red\">++</font> na je<font color=\"red\">++</font> Nie <font color=\"red\">--</font>t<font color=\"red\">++</font> – <font color=\"red\">--</font>wał <font color=\"red\">--</font>rów <font color=\"red\">--</font>Co<font color=\"red\">++</font>, <font color=\"red\">--</font>li<font color=\"red\">++</font> <font color=\"red\">--</font>Dzi<font color=\"red\">++</font> byko<font color=\"red\">++</font> ona,, <font color=\"red\">--</font>do<font color=\"red\">++</font> <font color=\"red\">--</font>Sach o<font color=\"red\">++</font> którzem <font color=\"red\">--</font>myś<font color=\"red\">++</font> I. <font color=\"red\">--</font>ko, –, w – <font color=\"red\">--</font>kał <font color=\"red\">--</font>dził <font color=\"red\">--</font>dze <font color=\"red\">--</font>sze <font color=\"red\">--</font>ga<font color=\"red\">++</font> \n",
              "<br/>dzie<font color=\"red\">++</font>. Zna<font color=\"red\">++</font> \n",
              "<br/>, jecie, <font color=\"red\">--</font>Go mi<font color=\"red\">++</font>. za<font color=\"red\">++</font> pro<font color=\"red\">++</font> <font color=\"red\">--</font>Li<font color=\"red\">++</font>, \n",
              "<br/><font color=\"red\">--</font>Ko Z <font color=\"red\">--</font>padł <font color=\"red\">--</font>li <font color=\"red\">--</font>lić <font color=\"red\">--</font>nę<font color=\"red\">++</font> twa<font color=\"red\">++</font> <font color=\"red\">--</font>Ła wyne<font color=\"red\">++</font> Się i po<font color=\"red\">++</font> Przewaści<font color=\"red\">++</font>. chwi<font color=\"red\">++</font>. miał tam oła <font color=\"red\">--</font>ca <font color=\"red\">--</font>ła <font color=\"red\">--</font>tów i <font color=\"red\">--</font>wa<font color=\"red\">++</font> u<font color=\"red\">++</font>,, \n",
              "<br/>Pa<font color=\"red\">++</font>, a <font color=\"red\">--</font>ła <font color=\"red\">--</font>Sze <font color=\"red\">--</font>myśbe<font color=\"red\">++</font> <font color=\"red\">--</font>Czna<font color=\"red\">++</font>, <font color=\"red\">--</font>nie tares<font color=\"red\">++</font> unin \n",
              "<br/>kasze \n",
              "<br/>sa<font color=\"red\">++</font> \n",
              "<br/>bezle <font color=\"red\">--</font>wacz<font color=\"red\">++</font> <font color=\"red\">--</font>Ły za <font color=\"red\">--</font>nę<font color=\"red\">++</font> dół <font color=\"red\">--</font>do<font color=\"red\">++</font> nie otła za<font color=\"red\">++</font>, \n",
              "<br/>i nie <font color=\"red\">--</font>cać <font color=\"red\">--</font>ła. czym dru<font color=\"red\">++</font> ma A<font color=\"red\">++</font> wy <font color=\"red\">--</font>ny doła nanę<font color=\"red\">++</font> o<font color=\"red\">++</font> ba<font color=\"red\">++</font>. \n",
              "<br/><font color=\"red\">--</font>Ła, <font color=\"red\">--</font>Wił <font color=\"red\">--</font>my do<font color=\"red\">++</font> pa<font color=\"red\">++</font> \n",
              "<br/>jej i <font color=\"red\">--</font>na, <font color=\"red\">--</font>mieć, <font color=\"red\">--</font>nia <font color=\"red\">--</font>cimo<font color=\"red\">++</font> uka,.. <font color=\"red\">--</font>Kiś <font color=\"red\">--</font>pipi<font color=\"red\">++</font> odział co do jest pięć<font color=\"red\">++</font> ten szko<font color=\"red\">++</font> ale na się Nie prze<font color=\"red\">++</font>, Przywe <font color=\"red\">--</font>sza<font color=\"red\">++</font>. <font color=\"red\">--</font>laz<font color=\"red\">++</font>! tak <font color=\"red\">--</font>ta<font color=\"red\">++</font> krzy<font color=\"red\">++</font> za, <font color=\"red\">--</font>nie na \n",
              "<br/><font color=\"red\">--</font>go cho<font color=\"red\">++</font> do od<font color=\"red\">++</font> że.,,, <font color=\"red\">--</font>O<font color=\"red\">++</font> z wia<font color=\"red\">++</font> wia<font color=\"red\">++</font>, <font color=\"red\">--</font>cz<font color=\"red\">++</font>, <font color=\"red\">--</font>Czo a przedła, <font color=\"red\">--</font>że tym \n",
              "<br/>zda<font color=\"red\">++</font> w Bąk<font color=\"red\">++</font> dzidzieć <font color=\"red\">--</font>go, <font color=\"red\">--</font>szed<font color=\"red\">++</font> się <font color=\"red\">--</font>nenym się <font color=\"red\">--</font>go. <font color=\"red\">--</font>pastaczna \n",
              "<br/>, <font color=\"red\">--</font>ła <font color=\"red\">--</font>Ską, <font color=\"red\">--</font>fa <font color=\"red\">--</font>dzia<font color=\"red\">++</font> ma <font color=\"red\">--</font>no<font color=\"red\">++</font> <font color=\"red\">--</font>Ma po<font color=\"red\">++</font> nie Mo<font color=\"red\">++</font> głoki <font color=\"red\">--</font>lion przy<font color=\"red\">++</font>.,, w. się, roz<font color=\"red\">++</font>, o<font color=\"red\">++</font> świa<font color=\"red\">++</font> \n",
              "<br/>nie? <font color=\"red\">--</font>Goś żysze, ja<font color=\"red\">++</font> w, <font color=\"red\">--</font>dza <font color=\"red\">--</font>ło. W <font color=\"red\">--</font>kie, <font color=\"red\">--</font>czyczuł po<font color=\"red\">++</font>, <font color=\"red\">--</font>mi \n",
              "<br/>odzia<font color=\"red\">++</font> wy<font color=\"red\">++</font> Je<font color=\"red\">++</font> w <font color=\"red\">--</font>my szko<font color=\"red\">++</font> wyta<font color=\"red\">++</font> wyle<font color=\"red\">++</font> pa<font color=\"red\">++</font>, za w <font color=\"red\">--</font>chosta<font color=\"red\">++</font> \n",
              "<br/><font color=\"red\">--</font>chę I, go skot<font color=\"red\">++</font>, bo <font color=\"red\">--</font>go Dru<font color=\"red\">++</font> mam <font color=\"red\">--</font>ka <font color=\"red\">--</font>mniej<font color=\"red\">++</font> przy \n",
              "<br/><font color=\"red\">--</font>ła <font color=\"red\">--</font>że oki <font color=\"red\">--</font>nił że! <font color=\"red\">--</font>Go to te<font color=\"red\">++</font> umy – <font color=\"red\">--</font>ba, łzy <font color=\"red\">--</font>wny <font color=\"red\">--</font>cy<font color=\"red\">++</font>. pokę <font color=\"red\">--</font>ły jej druskiej wy<font color=\"red\">++</font> rzenia <font color=\"red\">--</font>ła cie<font color=\"red\">++</font> pod<font color=\"red\">++</font>, <font color=\"red\">--</font>ła <font color=\"red\">--</font>kręt<font color=\"red\">++</font> stasza<font color=\"red\">++</font> o<font color=\"red\">++</font> \n",
              "<br/>i,, cocze za czy <font color=\"red\">--</font>nia<font color=\"red\">++</font>"
            ],
            "text/plain": [
              "<IPython.core.display.HTML object>"
            ]
          },
          "metadata": {
            "tags": []
          }
        },
        {
          "output_type": "stream",
          "text": [
            "\n"
          ],
          "name": "stdout"
        },
        {
          "output_type": "stream",
          "text": [
            "100%|#########9| 2329/2330 [50:49<00:01,  1.28s/it, epoch=6/5, loss=6.01, bw=0.432]"
          ],
          "name": "stderr"
        },
        {
          "output_type": "stream",
          "text": [
            "\n",
            "[50m 49s (6 2330 100%) loss=6.0118 bw=0.4078]\n"
          ],
          "name": "stdout"
        },
        {
          "output_type": "display_data",
          "data": {
            "text/html": [
              "Nauka psa czystości – jak sprawnie nauczyć psa załatwiać się na dworze? sa<font color=\"red\">++</font> peby nie<font color=\"red\">++</font> na. <font color=\"red\">--</font>Gę ja<font color=\"red\">++</font> przyką te<font color=\"red\">++</font> \n",
              "<br/>– \n",
              "<br/>– \n",
              "<br/><font color=\"red\">--</font>nek się <font color=\"red\">--</font>jąc co – <font color=\"red\">--</font>ło <font color=\"red\">--</font>go nie <font color=\"red\">--</font>sty \n",
              "<br/><font color=\"red\">--</font>siu, ot<font color=\"red\">++</font> lu<font color=\"red\">++</font> te<font color=\"red\">++</font> za<font color=\"red\">++</font> z swować za<font color=\"red\">++</font> \n",
              "<br/><font color=\"red\">--</font>nie w sięgwa<font color=\"red\">++</font> nieczas nie ogo, o <font color=\"red\">--</font>ca przy<font color=\"red\">++</font> sa<font color=\"red\">++</font> do po<font color=\"red\">++</font> ni<font color=\"red\">++</font> tykote<font color=\"red\">++</font> tylwi, palu., tak <font color=\"red\">--</font>ka i! <font color=\"red\">--</font>Zy<font color=\"red\">++</font> – <font color=\"red\">--</font>bo<font color=\"red\">++</font> do <font color=\"red\">--</font>pioli trze<font color=\"red\">++</font> o<font color=\"red\">++</font> po, Gokiem <font color=\"red\">--</font>wił <font color=\"red\">--</font>le w <font color=\"red\">--</font>pało sens, <font color=\"red\">--</font>mi <font color=\"red\">--</font>ją<font color=\"red\">++</font> z trzech \n",
              "<br/>nie<font color=\"red\">++</font> za<font color=\"red\">++</font> z <font color=\"red\">--</font>ła <font color=\"red\">--</font>wieź<font color=\"red\">++</font> na <font color=\"red\">--</font>chę. Na \n",
              "<br/>dla<font color=\"red\">++</font> się? <font color=\"red\">--</font>pe<font color=\"red\">++</font> włacu <font color=\"red\">--</font>no<font color=\"red\">++</font> – poła potrzyczy<font color=\"red\">++</font> nie nie <font color=\"red\">--</font>czo<font color=\"red\">++</font> do<font color=\"red\">++</font> już <font color=\"red\">--</font>po<font color=\"red\">++</font> ni<font color=\"red\">++</font> wręcz dzi<font color=\"red\">++</font>.! Z u<font color=\"red\">++</font> po<font color=\"red\">++</font>. <font color=\"red\">--</font>Czy<font color=\"red\">++</font> pona<font color=\"red\">++</font> słoni<font color=\"red\">++</font>! – <font color=\"red\">--</font>ny \n",
              "<br/>brac<font color=\"red\">++</font> roz<font color=\"red\">++</font> wła<font color=\"red\">++</font> ma<font color=\"red\">++</font> się <font color=\"red\">--</font>to<font color=\"red\">++</font> fa<font color=\"red\">++</font> je<font color=\"red\">++</font> stroką Z na. I. Nie <font color=\"red\">--</font>gawso<font color=\"red\">++</font>.! \n",
              "<br/>O<font color=\"red\">++</font> – u<font color=\"red\">++</font> terów <font color=\"red\">--</font>ła<font color=\"red\">++</font>! już <font color=\"red\">--</font>świa<font color=\"red\">++</font> bywewaka <font color=\"red\">--</font>s<font color=\"red\">++</font> mógł <font color=\"red\">--</font>lu <font color=\"red\">--</font>mi się? <font color=\"red\">--</font>cieły goli<font color=\"red\">++</font> <font color=\"red\">--</font>Li \n",
              "<br/><font color=\"red\">--</font>zo<font color=\"red\">++</font>,. –, dość po<font color=\"red\">++</font>. – <font color=\"red\">--</font>Po<font color=\"red\">++</font> <font color=\"red\">--</font>Cdzia<font color=\"red\">++</font>, <font color=\"red\">--</font>wy <font color=\"red\">--</font>na za<font color=\"red\">++</font> bez<font color=\"red\">++</font> – drzew<font color=\"red\">++</font> do<font color=\"red\">++</font> i, <font color=\"red\">--</font>nia <font color=\"red\">--</font>ka.,,. <font color=\"red\">--</font>dzie<font color=\"red\">++</font> da<font color=\"red\">++</font>. Z <font color=\"red\">--</font>ło. Ba<font color=\"red\">++</font> to <font color=\"red\">--</font>winło nie <font color=\"red\">--</font>li<font color=\"red\">++</font>, \n",
              "<br/>.! U<font color=\"red\">++</font> się ró<font color=\"red\">++</font> o<font color=\"red\">++</font> o<font color=\"red\">++</font> nie <font color=\"red\">--</font>skiem <font color=\"red\">--</font>ba<font color=\"red\">++</font>, oją<font color=\"red\">++</font> im <font color=\"red\">--</font>ła uko <font color=\"red\">--</font>my – <font color=\"red\">--</font>wał <font color=\"red\">--</font>nym <font color=\"red\">--</font>ła nie ją jej <font color=\"red\">--</font>Ny nie<font color=\"red\">++</font> na je<font color=\"red\">++</font> we <font color=\"red\">--</font>Ją<font color=\"red\">++</font>. się to, <font color=\"red\">--</font>że do<font color=\"red\">++</font>. <font color=\"red\">--</font>Le<font color=\"red\">++</font> je<font color=\"red\">++</font> Do<font color=\"red\">++</font> sadają<font color=\"red\">++</font> z –., <font color=\"red\">--</font>lijga<font color=\"red\">++</font> je<font color=\"red\">++</font> rada<font color=\"red\">++</font> ją – <font color=\"red\">--</font>le<font color=\"red\">++</font>, – <font color=\"red\">--</font>ki ra<font color=\"red\">++</font> z je<font color=\"red\">++</font> <font color=\"red\">--</font>Nana <font color=\"red\">--</font>raz <font color=\"red\">--</font>kim co \n",
              "<br/>\n",
              "<br/>– \n",
              "<br/><font color=\"red\">--</font>Dzia<font color=\"red\">++</font>. Z. Go<font color=\"red\">++</font> dreka nie <font color=\"red\">--</font>ka ma<font color=\"red\">++</font> z, – na, <font color=\"red\">--</font>śkry<font color=\"red\">++</font>, to <font color=\"red\">--</font>ką po<font color=\"red\">++</font>, polep<font color=\"red\">++</font> głogę <font color=\"red\">--</font>zem my <font color=\"red\">--</font>na włalę <font color=\"red\">--</font>my. Po<font color=\"red\">++</font> chwi<font color=\"red\">++</font> szlafnek <font color=\"red\">--</font>nia <font color=\"red\">--</font>li i – <font color=\"red\">--</font>ka \n",
              "<br/>Niedo<font color=\"red\">++</font>, z <font color=\"red\">--</font>nych doło<font color=\"red\">++</font>,, <font color=\"red\">--</font>wa któna nie <font color=\"red\">--</font>nego, <font color=\"red\">--</font>ła on serdzie <font color=\"red\">--</font>ki<font color=\"red\">++</font> się za <font color=\"red\">--</font>li<font color=\"red\">++</font> gło<font color=\"red\">++</font>. <font color=\"red\">--</font>ka <font color=\"red\">--</font>dara<font color=\"red\">++</font> do<font color=\"red\">++</font>? <font color=\"red\">--</font>raźszto<font color=\"red\">++</font> z tej <font color=\"red\">--</font>na <font color=\"red\">--</font>ny <font color=\"red\">--</font>wie niede Się,,, za<font color=\"red\">++</font>. \n",
              "<br/>Po<font color=\"red\">++</font> \n",
              "<br/><font color=\"red\">--</font>go w. w roz<font color=\"red\">++</font> przy<font color=\"red\">++</font> moli<font color=\"red\">++</font> niej pojem<font color=\"red\">++</font> przez \n",
              "<br/>za<font color=\"red\">++</font> u<font color=\"red\">++</font>. <font color=\"red\">--</font>Tomlizawo <font color=\"red\">--</font>ga<font color=\"red\">++</font> są,. <font color=\"red\">--</font>Ts<font color=\"red\">++</font> \n",
              "<br/><font color=\"red\">--</font>nie <font color=\"red\">--</font>mu <font color=\"red\">--</font>go <font color=\"red\">--</font>ne <font color=\"red\">--</font>nie <font color=\"red\">--</font>la<font color=\"red\">++</font>. <font color=\"red\">--</font>Cze<font color=\"red\">++</font> \n",
              "<br/><font color=\"red\">--</font>dzie<font color=\"red\">++</font> Wacą <font color=\"red\">--</font>Tu <font color=\"red\">--</font>ż<font color=\"red\">++</font> – <font color=\"red\">--</font>sz<font color=\"red\">++</font> jało od szewwa <font color=\"red\">--</font>sób szko<font color=\"red\">++</font> spe<font color=\"red\">++</font> gdzieś <font color=\"red\">--</font>nie ro<font color=\"red\">++</font>.,, <font color=\"red\">--</font>ła Na <font color=\"red\">--</font>sznia <font color=\"red\">--</font>Ła <font color=\"red\">--</font>te<font color=\"red\">++</font> tym wszys<font color=\"red\">++</font> tecyła <font color=\"red\">--</font>b<font color=\"red\">++</font> po<font color=\"red\">++</font> \n",
              "<br/>i. \n",
              "<br/><font color=\"red\">--</font>Li napy muca – był <font color=\"red\">--</font>chlarz coś <font color=\"red\">--</font>ły Po<font color=\"red\">++</font> o<font color=\"red\">++</font> Co <font color=\"red\">--</font>ło. Z, o<font color=\"red\">++</font> przewiecy nie \n",
              "<br/><font color=\"red\">--</font>ni<font color=\"red\">++</font> teło i – \n",
              "<br/>\n",
              "<br/><font color=\"red\">--</font>Ło, <font color=\"red\">--</font>ła <font color=\"red\">--</font>wa<font color=\"red\">++</font>.! \n",
              "<br/>za<font color=\"red\">++</font> już byteki <font color=\"red\">--</font>we –, <font color=\"red\">--</font>ła <font color=\"red\">--</font>ny<font color=\"red\">++</font>, unie omi. <font color=\"red\">--</font>Go – <font color=\"red\">--</font>wdnie słuszych <font color=\"red\">--</font>Nia<font color=\"red\">++</font> cu<font color=\"red\">++</font> tem<font color=\"red\">++</font>. \n",
              "<br/>– <font color=\"red\">--</font>Chę że ale u<font color=\"red\">++</font> na<font color=\"red\">++</font> ja<font color=\"red\">++</font> ramu gdy<font color=\"red\">++</font>. – \n",
              "<br/>. \n",
              "<br/>Do <font color=\"red\">--</font>wieniu. nie <font color=\"red\">--</font>wą mi,. <font color=\"red\">--</font>Czy<font color=\"red\">++</font> się <font color=\"red\">--</font>li<font color=\"red\">++</font>, nie <font color=\"red\">--</font>nęry, <font color=\"red\">--</font>ła \n",
              "<br/>słu<font color=\"red\">++</font> nie, też przy \n",
              "<br/><font color=\"red\">--</font>ła na to <font color=\"red\">--</font>nia <font color=\"red\">--</font>niu <font color=\"red\">--</font>nym. Na<font color=\"red\">++</font> po<font color=\"red\">++</font> się <font color=\"red\">--</font>na – ze. – <font color=\"red\">--</font>Tewa<font color=\"red\">++</font> nie nie<font color=\"red\">++</font> z? <font color=\"red\">--</font>łąty<font color=\"red\">++</font> ro<font color=\"red\">++</font> – na<font color=\"red\">++</font> ni<font color=\"red\">++</font> piękna<font color=\"red\">++</font>. nie<font color=\"red\">++</font> Z je<font color=\"red\">++</font> naj<font color=\"red\">++</font>.. się <font color=\"red\">--</font>gu<font color=\"red\">++</font> – pomej. Że,! – wła<font color=\"red\">++</font>, po troswo<font color=\"red\">++</font> tru<font color=\"red\">++</font> to je<font color=\"red\">++</font> nanę<font color=\"red\">++</font> Ro<font color=\"red\">++</font>, <font color=\"red\">--</font>tem nic o<font color=\"red\">++</font> bę<font color=\"red\">++</font>. pastki <font color=\"red\">--</font>No <font color=\"red\">--</font>t<font color=\"red\">++</font>., jej, <font color=\"red\">--</font>te<font color=\"red\">++</font>,, nie niepyna po <font color=\"red\">--</font>Bie<font color=\"red\">++</font> oskono – <font color=\"red\">--</font>że przy<font color=\"red\">++</font> – nie, rota<font color=\"red\">++</font>. \n",
              "<br/>jej <font color=\"red\">--</font>Ła teny kieczowinie<font color=\"red\">++</font> piętsu<font color=\"red\">++</font> wy<font color=\"red\">++</font> co – mydś<font color=\"red\">++</font> –, <font color=\"red\">--</font>poła ale U<font color=\"red\">++</font> ra<font color=\"red\">++</font> nic <font color=\"red\">--</font>ląc <font color=\"red\">--</font>ż<font color=\"red\">++</font> nie <font color=\"red\">--</font>nej zanę<font color=\"red\">++</font> W <font color=\"red\">--</font>chu <font color=\"red\">--</font>ła <font color=\"red\">--</font>ły done <font color=\"red\">--</font>ne –, <font color=\"red\">--</font>szy<font color=\"red\">++</font>. Przez po<font color=\"red\">++</font> któ<font color=\"red\">++</font> po<font color=\"red\">++</font> spowoli<font color=\"red\">++</font> nic. <font color=\"red\">--</font>Cym <font color=\"red\">--</font>ków <font color=\"red\">--</font>no<font color=\"red\">++</font> na rozgo przydy na<font color=\"red\">++</font>! \n",
              "<br/><font color=\"red\">--</font>We po<font color=\"red\">++</font> u<font color=\"red\">++</font> one <font color=\"red\">--</font>wa pa<font color=\"red\">++</font> po<font color=\"red\">++</font> w <font color=\"red\">--</font>ce, –. <font color=\"red\">--</font>Cia jała że <font color=\"red\">--</font>mysto<font color=\"red\">++</font> wy<font color=\"red\">++</font> bo<font color=\"red\">++</font> głoki nie<font color=\"red\">++</font> i i tak., nie <font color=\"red\">--</font>ma w na <font color=\"red\">--</font>cym my właraz że Nie, – pe<font color=\"red\">++</font> po<font color=\"red\">++</font> przyna te<font color=\"red\">++</font> wi<font color=\"red\">++</font> na <font color=\"red\">--</font>wiso<font color=\"red\">++</font> przy<font color=\"red\">++</font> – chwipo<font color=\"red\">++</font> nic <font color=\"red\">--</font>le ni<font color=\"red\">++</font>. <font color=\"red\">--</font>to<font color=\"red\">++</font> czarajka osz<font color=\"red\">++</font> Bo. – – – \n",
              "<br/>Roz<font color=\"red\">++</font> się,. \n",
              "<br/>znów.? <font color=\"red\">--</font>la<font color=\"red\">++</font> w świe<font color=\"red\">++</font> tam <font color=\"red\">--</font>kody <font color=\"red\">--</font>ra<font color=\"red\">++</font> panie nie<font color=\"red\">++</font> się <font color=\"red\">--</font>na mó<font color=\"red\">++</font> nie świa<font color=\"red\">++</font> w pa<font color=\"red\">++</font> po<font color=\"red\">++</font> rały o<font color=\"red\">++</font> – na po<font color=\"red\">++</font> na <font color=\"red\">--</font>la<font color=\"red\">++</font> przy radesołaś many <font color=\"red\">--</font>sta<font color=\"red\">++</font> \n",
              "<br/><font color=\"red\">--</font>ja<font color=\"red\">++</font> \n",
              "<br/><font color=\"red\">--</font>we roz<font color=\"red\">++</font> naj<font color=\"red\">++</font> jak <font color=\"red\">--</font>ś<font color=\"red\">++</font> Kie<font color=\"red\">++</font>,. <font color=\"red\">--</font>Po<font color=\"red\">++</font> czy czar<font color=\"red\">++</font>, \n",
              "<br/><font color=\"red\">--</font>nie czymś po<font color=\"red\">++</font> – zde<font color=\"red\">++</font>. \n",
              "<br/>\n",
              "<br/><font color=\"red\">--</font>Nomu, \n",
              "<br/><font color=\"red\">--</font>do<font color=\"red\">++</font> rozcją o<font color=\"red\">++</font>! Nie czy zani <font color=\"red\">--</font>sów. się <font color=\"red\">--</font>dzie pun<font color=\"red\">++</font> ich czy<font color=\"red\">++</font> świegą <font color=\"red\">--</font>wają<font color=\"red\">++</font>. <font color=\"red\">--</font>Ła <font color=\"red\">--</font>nie że<font color=\"red\">++</font>. <font color=\"red\">--</font>Ka <font color=\"red\">--</font>żebcież al<font color=\"red\">++</font> dosniej za<font color=\"red\">++</font> to cho<font color=\"red\">++</font> po<font color=\"red\">++</font>. <font color=\"red\">--</font>S<font color=\"red\">++</font>, – na ja<font color=\"red\">++</font> w"
            ],
            "text/plain": [
              "<IPython.core.display.HTML object>"
            ]
          },
          "metadata": {
            "tags": []
          }
        },
        {
          "output_type": "stream",
          "text": [
            "\n"
          ],
          "name": "stdout"
        },
        {
          "output_type": "stream",
          "text": [
            ""
          ],
          "name": "stderr"
        },
        {
          "output_type": "display_data",
          "data": {
            "image/png": "[encoded data removed]",
            "text/plain": [
              "<Figure size 640x480 with 1 Axes>"
            ]
          },
          "metadata": {
            "tags": []
          }
        }
      ]
    },
    {
      "cell_type": "code",
      "metadata": {
        "colab": {
          "base_uri": "https://localhost:8080/"
        },
        "id": "XestxRASSlJW",
        "outputId": "7d5fa31e-a245-473b-84b1-2e376687efd1"
      },
      "source": [
        "ls -lah $tmp_path"
      ],
      "execution_count": 55,
      "outputs": [
        {
          "output_type": "stream",
          "text": [
            "total 186M\n",
            "drwxr-xr-x 2 root root 4.0K Nov 28 19:15 \u001b[0m\u001b[01;34m.\u001b[0m/\n",
            "drwxr-xr-x 3 root root 4.0K Nov 28 17:09 \u001b[01;34m..\u001b[0m/\n",
            "-rw-r--r-- 1 root root  81K Nov 28 17:30 all_tokens.n5125.zwyczajne-zycie1.p\n",
            "-rw-r--r-- 1 root root  81K Nov 28 18:18 all_tokens.n5125.zwyczajne-zycie2.p\n",
            "-rw-r--r-- 1 root root  81K Nov 28 18:25 all_tokens.n5125.zwyczajne-zycie3.p\n",
            "-rw-r--r-- 1 root root  81K Nov 28 19:15 all_tokens.n5125.zwyczajne-zycie4.p\n",
            "-rw-r--r-- 1 root root 5.1K Nov 28 19:15 e_syl.txt\n",
            "-rw-r--r-- 1 root root   85 Nov 28 18:25 tmp_text_caps1.txt\n",
            "-rw-r--r-- 1 root root  141 Nov 28 18:25 tmp_text_syl1.txt\n",
            "-rw-r--r-- 1 root root  37M Nov 28 17:30 zwyczajne-zycie1.h500.l3.e1.gpu.torch\n",
            "-rw-r--r-- 1 root root  54M Nov 28 18:18 zwyczajne-zycie2.h500.l6.e5.gpu.torch\n",
            "-rw-r--r-- 1 root root  39M Nov 28 18:25 zwyczajne-zycie3.h500.l3.e1.gpu.torch\n",
            "-rw-r--r-- 1 root root  56M Nov 28 19:15 zwyczajne-zycie4.h500.l6.e5.gpu.torch\n"
          ],
          "name": "stdout"
        }
      ]
    },
    {
      "cell_type": "code",
      "metadata": {
        "colab": {
          "base_uri": "https://localhost:8080/"
        },
        "id": "bJROsLxJSoGq",
        "outputId": "9a8ad46c-1cda-495c-f5e8-7c24811e0577"
      },
      "source": [
        "n_epochs=20\n",
        "ALLTOKS, MODEL = ['all_tokens', 'model']\n",
        "fn_zwyczajne_zycie3 = {ALLTOKS: f'all_tokens.n5125.zwyczajne-zycie3.p', \n",
        "                  MODEL: f'zwyczajne-zycie3.h500.l3.e1.gpu.torch'}\n",
        "fn_dict = fn_zwyczajne_zycie3; \n",
        "fn_dict\n",
        "\n"
      ],
      "execution_count": 56,
      "outputs": [
        {
          "output_type": "execute_result",
          "data": {
            "text/plain": [
              "{'all_tokens': 'all_tokens.n5125.zwyczajne-zycie3.p',\n",
              " 'model': 'zwyczajne-zycie3.h500.l3.e1.gpu.torch'}"
            ]
          },
          "metadata": {
            "tags": []
          },
          "execution_count": 56
        }
      ]
    },
    {
      "cell_type": "code",
      "metadata": {
        "colab": {
          "base_uri": "https://localhost:8080/"
        },
        "id": "tvOXfbLlS4g_",
        "outputId": "88a6d2f7-a6a2-41cb-a548-998e914bdc71"
      },
      "source": [
        "if True:\n",
        "  all_tokens_path = tmp_path / fn_dict[ALLTOKS]\n",
        "  print(f'all_tokens_path = {all_tokens_path}')\n",
        "  all_tokens = pickle.load(open(all_tokens_path, 'rb'))\n",
        "  n_characters = len(all_tokens)\n",
        "  tok2idx_dict = {tok: idx for (idx, tok) in enumerate(all_tokens)}\n",
        "\n",
        "  model_path = tmp_path / fn_dict[MODEL]\n",
        "  decoder = torch.load(model_path)\n",
        "  decoder.gru.all_weights\n",
        "  print(f'model_path = {model_path}')\n",
        "  print(decoder.state_dict)"
      ],
      "execution_count": 57,
      "outputs": [
        {
          "output_type": "stream",
          "text": [
            "all_tokens_path = data/rnn_generator/tmp/all_tokens.n5125.zwyczajne-zycie3.p\n",
            "model_path = data/rnn_generator/tmp/zwyczajne-zycie3.h500.l3.e1.gpu.torch\n",
            "<bound method Module.state_dict of RNN(\n",
            "  (encoder): Embedding(5125, 500)\n",
            "  (encoder_dropout): Dropout(p=0.1, inplace=False)\n",
            "  (gru): GRU(500, 500, num_layers=3, dropout=0.1)\n",
            "  (concat): Linear(in_features=1000, out_features=500, bias=True)\n",
            "  (decoder): Linear(in_features=500, out_features=5125, bias=True)\n",
            ")>\n"
          ],
          "name": "stdout"
        }
      ]
    },
    {
      "cell_type": "markdown",
      "metadata": {
        "id": "2fEFWi-FXM5p"
      },
      "source": [
        "## Ewaluacja w różnych \"temperaturach\"\n",
        "\n",
        "W powyższej funkcji `evaluate`, za każdym razem, gdy dokonywana jest prognoza, wyjścia są dzielone przez przekazany argument \"temperature\". Użycie większej liczby sprawia, że wszystkie akcje są bardziej jednakowo prawdopodobne, a tym samym dają nam \"bardziej losowe\" wyniki. Użycie mniejszej wartości (mniejszej niż 1) sprawia, że wysokie prawdopodobieństwa przyczyniają się bardziej. Gdy ustawiamy temperaturę na zero, wybieramy tylko najbardziej prawdopodobne wyjścia.\n",
        "\n",
        "Możemy zobaczyć te efekty poprzez dostosowanie argumentu `temperature`.\n"
      ]
    },
    {
      "cell_type": "code",
      "metadata": {
        "id": "zbRXU5j1LR3_"
      },
      "source": [
        "def print_eval(e_syl):\n",
        "  display(HTML(format_html(fix_punctuation(decode_tokens(syl2str(e_syl, delim=''))))))"
      ],
      "execution_count": 58,
      "outputs": []
    },
    {
      "cell_type": "code",
      "metadata": {
        "id": "E4MTNidlS6j2"
      },
      "source": [
        "prime_tok = str2syl2tok('W dość wczesnych godzinach sierpniowego, cichego, niedzielnego popołudnia Tereska Kępińska siedziała przy biurku w swoim pokoju')"
      ],
      "execution_count": 59,
      "outputs": []
    },
    {
      "cell_type": "code",
      "metadata": {
        "id": "gBm5ibSnXM5p",
        "colab": {
          "base_uri": "https://localhost:8080/",
          "height": 173
        },
        "outputId": "c00232d5-dbcb-4063-d263-055055f12ab0"
      },
      "source": [
        "print_eval(evaluate(prime_tok, 200, temperature=0.8))"
      ],
      "execution_count": 60,
      "outputs": [
        {
          "output_type": "display_data",
          "data": {
            "text/html": [
              "W dość wczesnych godzinach sierpniowego, cichego, niedzielnego popołudnia Tereska Kępińska siedziała przy biurku w swoim pokoju rozliła, mnie ugadu<font color=\"red\">++</font> w skosowo, że przecież, chwini na okrętka. \n",
              "<br/>\n",
              "<br/>– Na że z mirym w a to jako. Tereska z że te na motała upieli. Tereska pokłanyła Dlatłem. \n",
              "<br/>\n",
              "<br/>Dlajaśdziała Tak złowię <font color=\"red\">--</font>tą zimrej świeranęła głoła! \n",
              "<br/>\n",
              "<br/>– No chodziła?, ratrząc ponady mi, <font color=\"red\">--</font>dewiekiem mieć się dziejąc, że jeświadnie ogógo niedzieć ponęło. – Okrętka. Zawę. – Doskoszyć przez. \n",
              "<br/>\n",
              "<br/>– Słypaszce saleny się <font color=\"red\">--</font>cja, powiedziała. – Okrętka. – Nierwała! Rozpiła wyrycznym dziecry piętcie, mrukmi<font color=\"red\">++</font>. A jesnym <font color=\"red\">--</font>mal była tak"
            ],
            "text/plain": [
              "<IPython.core.display.HTML object>"
            ]
          },
          "metadata": {
            "tags": []
          }
        }
      ]
    },
    {
      "cell_type": "code",
      "metadata": {
        "id": "D3mkq_sCXM5r",
        "colab": {
          "base_uri": "https://localhost:8080/",
          "height": 52
        },
        "outputId": "433c7e18-0fcf-4d86-b397-b50d75d13395"
      },
      "source": [
        "print_eval(evaluate(prime_tok, 200, temperature=0.2))"
      ],
      "execution_count": 61,
      "outputs": [
        {
          "output_type": "display_data",
          "data": {
            "text/html": [
              "W dość wczesnych godzinach sierpniowego, cichego, niedzielnego popołudnia Tereska Kępińska siedziała przy biurku w swoim pokoju. Okrętka, że Okrętka, że Nie okrętka, że Okrętka. Okrętka, że Tereska, że Okrętka, że Okrętka, że Okrętka, że powiego, że Okrętka, że Okrętka, że powiedziała Okrętka. Tereska, że Tereska, że, że Okrętka, powiego, że Okrętka, że Okrętka, że Powiedziała Okrętka. Okrętka, że powiego, że powiego, że powiego, że okrętka, że Okrętka. Okrętka, powiego, że Okrętka, że Okrętka, że pomu, że Okrętka, że powieszka. Tereska."
            ],
            "text/plain": [
              "<IPython.core.display.HTML object>"
            ]
          },
          "metadata": {
            "tags": []
          }
        }
      ]
    },
    {
      "cell_type": "code",
      "metadata": {
        "id": "SxhfgI-PXM5u",
        "colab": {
          "base_uri": "https://localhost:8080/",
          "height": 104
        },
        "outputId": "1db2eaa0-8ea2-44eb-e6bc-5e3d3747a8be"
      },
      "source": [
        "print_eval(evaluate(prime_tok, 200, temperature=0.5))"
      ],
      "execution_count": 62,
      "outputs": [
        {
          "output_type": "display_data",
          "data": {
            "text/html": [
              "W dość wczesnych godzinach sierpniowego, cichego, niedzielnego popołudnia Tereska Kępińska siedziała przy biurku w swoim pokoju. Okrętka! Okrętka podzo Okrętka, że Okrętka na powiego się. Tereska, że pobie, że Nie doże, że Zaszę, zaliwała, że, że, że się to ogósjalna. Okrętka nie okrętka! \n",
              "<br/>\n",
              "<br/>– Napomcie. Poko z Tereska O Okrętka, Okrętka, że przepobiła Tereska, że zagawnie! Niedawała – że Okrętka. Domu dosznie. Okrętka Okrętka, Okrętka. Przenania, z że podze, że nie iśnie. \n",
              "<br/>\n",
              "<br/>– Okrętka, że To okrętka się, że się, kinęła Dziecka się bo nie nie tam, że"
            ],
            "text/plain": [
              "<IPython.core.display.HTML object>"
            ]
          },
          "metadata": {
            "tags": []
          }
        }
      ]
    },
    {
      "cell_type": "code",
      "metadata": {
        "colab": {
          "base_uri": "https://localhost:8080/",
          "height": 173
        },
        "id": "Ez8wckMBTjJ6",
        "outputId": "f57e9cec-3d97-4364-8865-1b2a6259987e"
      },
      "source": [
        "print_eval(evaluate(prime_tok, 200, temperature=1.2))"
      ],
      "execution_count": 63,
      "outputs": [
        {
          "output_type": "display_data",
          "data": {
            "text/html": [
              "W dość wczesnych godzinach sierpniowego, cichego, niedzielnego popołudnia Tereska Kępińska siedziała przy biurku w swoim pokoju poście… czai sens siesko<font color=\"red\">++</font> trzy mnie poko soporka <font color=\"red\">--</font>rek ten niejalry się to z <font color=\"red\">--</font>błą<font color=\"red\">++</font> pawnie So<font color=\"red\">++</font> świeciążkiem zele <font color=\"red\">--</font>miania niekąś <font color=\"red\">--</font>trzeć. <font color=\"red\">--</font>reska dasu staszły. Nęko się to <font color=\"red\">--</font>tem przemi nam ten jak moryt ogo nieśniene. Krzywnie potła skugiwy! Jękda<font color=\"red\">++</font> nóg <font color=\"red\">--</font>rzą<font color=\"red\">++</font> ner<font color=\"red\">++</font> woła nadrzania.! \n",
              "<br/><font color=\"red\">--</font>ca<font color=\"red\">++</font> kacy płonej, <font color=\"red\">--</font>cić kręgać <font color=\"red\">--</font>trak<font color=\"red\">++</font> \n",
              "<br/>\n",
              "<br/>– Tym pięćniej niech opu<font color=\"red\">++</font> fomieć dłunijliszabijąstokę. O<font color=\"red\">++</font> piergo czapodzież <font color=\"red\">--</font>dziesz ubony świaca tapu… <font color=\"red\">--</font>wać <font color=\"red\">--</font>toka! \n",
              "<br/>\n",
              "<br/>– Pojadzoter hoczaj ma chwitcia. Z tawiska twarnek <font color=\"red\">--</font>joco gwałnędwóniu <font color=\"red\">--</font>byt trudwnie tuc<font color=\"red\">++</font>, bo tedżą łypmenstrój łą<font color=\"red\">++</font> szybnie Tecja stareniu bynie chce! \n",
              "<br/>\n",
              "<br/>Tego jewym ma nain<font color=\"red\">++</font>"
            ],
            "text/plain": [
              "<IPython.core.display.HTML object>"
            ]
          },
          "metadata": {
            "tags": []
          }
        }
      ]
    },
    {
      "cell_type": "code",
      "metadata": {
        "colab": {
          "base_uri": "https://localhost:8080/",
          "height": 121
        },
        "id": "xJLUbCb5TzTP",
        "outputId": "6acd2e11-781c-4202-fc76-7ebf05f2eb7f"
      },
      "source": [
        "print_eval(evaluate(prime_tok, 200, temperature=1.0))"
      ],
      "execution_count": 64,
      "outputs": [
        {
          "output_type": "display_data",
          "data": {
            "text/html": [
              "W dość wczesnych godzinach sierpniowego, cichego, niedzielnego popołudnia Tereska Kępińska siedziała przy biurku w swoim pokoju <font color=\"red\">--</font>gamy zole glętesstunie. – Udupratę i łacusczyła <font color=\"red\">--</font>niejdziewisni Okrętka Nie w dobawacotyją. Przyżesz byjąc niesiąt<font color=\"red\">++</font> magkrej. \n",
              "<br/>\n",
              "<br/>zararąnia. Je mótem pikoś koszabyśdąbie! \n",
              "<br/>\n",
              "<br/>– Ludzie zacjach, otrze <font color=\"red\">--</font>wony, by późwaniem na dojął, <font color=\"red\">--</font>wna <font color=\"red\">--</font>dogo O<font color=\"red\">++</font> sień. Nie ktoś. Przymago pasirzysz po<font color=\"red\">++</font> klachakiem pojęny z o ile <font color=\"red\">--</font>ca. Szepjano po <font color=\"red\">--</font>czajle do tego Lis<font color=\"red\">++</font> dlawi się podziło z przetrząc trwała masz, Cegbceliny Tylbie, czym niżnaży o<font color=\"red\">++</font> smoła, chwimu sanie <font color=\"red\">--</font>ci szuni. W wyzujmiej<font color=\"red\">++</font> coś, nie co w ogówiać kant <font color=\"red\">--</font>dząc jes<font color=\"red\">++</font> stoi o <font color=\"red\">--</font>szać <font color=\"red\">--</font>tar<font color=\"red\">++</font>! – ten ich! – o<font color=\"red\">++</font>"
            ],
            "text/plain": [
              "<IPython.core.display.HTML object>"
            ]
          },
          "metadata": {
            "tags": []
          }
        }
      ]
    },
    {
      "cell_type": "code",
      "metadata": {
        "colab": {
          "base_uri": "https://localhost:8080/",
          "height": 156
        },
        "id": "Dk9Y-SWrT48v",
        "outputId": "c393f21f-15c7-4da2-eac7-60cf133c4119"
      },
      "source": [
        "print_eval(evaluate(prime_tok, 200, temperature=0.7))"
      ],
      "execution_count": 65,
      "outputs": [
        {
          "output_type": "display_data",
          "data": {
            "text/html": [
              "W dość wczesnych godzinach sierpniowego, cichego, niedzielnego popołudnia Tereska Kępińska siedziała przy biurku w swoim pokoju. \n",
              "<br/>\n",
              "<br/>– Poka! – co. – Na co omu czesta uwieła Nie murago, Okrętka tak, ale niekał <font color=\"red\">--</font>nerna, rotem – nie teło się powiele nazumu, <font color=\"red\">--</font>szłość… <font color=\"red\">--</font>ko. Jesteła doczu, stamała, powowały fragjęła pyry natrzymony, postałomi. Któjęła przyrogą, dziecka, że odbowała. – Powiego zacinie, że w że Tereska jej dziec<font color=\"red\">++</font>. Zdasnycz<font color=\"red\">++</font>, zajęnej <font color=\"red\">--</font>jąc na nie po że nic pierła. Okrętka. Mała zniera! Trzereska się znęnie. \n",
              "<br/>\n",
              "<br/>– Tereska kasogoś, że rostawała Głępienomym. \n",
              "<br/>\n",
              "<br/>Mozywając zadawała, nadnie na"
            ],
            "text/plain": [
              "<IPython.core.display.HTML object>"
            ]
          },
          "metadata": {
            "tags": []
          }
        }
      ]
    }
  ]
}